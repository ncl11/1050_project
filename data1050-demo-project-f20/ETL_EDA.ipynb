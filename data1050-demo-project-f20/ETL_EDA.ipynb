{
 "cells": [
  {
   "cell_type": "markdown",
   "metadata": {},
   "source": [
    "# ETL_EDA\n",
    "This file records the process of acquiring raw data, traforming them, and loading them into a MongoDB. The data are store (almost) in their raw form."
   ]
  },
  {
   "cell_type": "markdown",
   "metadata": {},
   "source": [
    "## 1. Raw Data from BPA \n",
    "The [dataset](https://transmission.bpa.gov/business/operations/Wind/baltwg.txt) is a continuously updated txt file in csv format. It contains the energy producation and load in the last 5 days. There will be some blank lines at the end for today. It can be retrieved simply by making `requests` without parameters. For more complicated API call, you may need to add query parameters."
   ]
  },
  {
   "cell_type": "code",
   "execution_count": 19,
   "metadata": {},
   "outputs": [
    {
     "name": "stdout",
     "output_type": "stream",
     "text": [
      "BPA Balancing Authority Load & Total Wind Generation\r\n",
      "at 5-minute intervals, last 7 days\r\n",
      "Dates: 19Nov2019 - 26Nov2019 (last updated 25Nov2019 17:15:47) Pacific Time\r\n",
      "Based on 5-min MW readings from the BPA SCADA system for points 45583, 79687, 79682, 164377, 70681\r\n",
      "\r\n",
      "This represents loads and resources in BPA's Balancing Authority (BA) including some that are not BPA's.\r\n",
      "It does not include BPA loads served by transfer, scheduled out of region,\r\n",
      "or scheduled to customers with their own BAs such as Seattle and Tacoma\r\n",
      "\r\n",
      "BPA/Technical Operations (TOT-OpInfo@bpa.gov)\r\n",
      "\r\n",
      "Date/Time       \tLoad\tWind\tHydro\tFossil/Biomass\tNuclear\r\n",
      "11/19/2019 00:00\t5391\t710\t5149\t970\t1165\r\n",
      "11/19/2019 00:05\t5318\t791\t4958\t970\t1160\r\n",
      "11/19/2019 00:10\t5305\t861\t4803\t972\t1160\r\n",
      "11/19/2019 00:15\t5255\t910\t4736\t974\t1160\r\n",
      "11/19/2019 00:20\t5261\t908\t4715\t971\t1160\r\n",
      "11/19/2019 00:25\t5245\t928\t4680\t972\t1160\r\n",
      "11/19/2019 00:30\t5241\t914\t4646\t971\t1161\r\n",
      "11/19/2019 00:35\t5246\t930\t4668\t968\t1159\r\n",
      "11/19/2019 00:40\t5317\t909\t4672\t968\t1161\r\n",
      "...\n",
      "2019 22:10\t\t\t\t\t\r\n",
      "11/25/2019 22:15\t\t\t\t\t\r\n",
      "11/25/2019 22:20\t\t\t\t\t\r\n",
      "11/25/2019 22:25\t\t\t\t\t\r\n",
      "11/25/2019 22:30\t\t\t\t\t\r\n",
      "11/25/2019 22:35\t\t\t\t\t\r\n",
      "11/25/2019 22:40\t\t\t\t\t\r\n",
      "11/25/2019 22:45\t\t\t\t\t\r\n",
      "11/25/2019 22:50\t\t\t\t\t\r\n",
      "11/25/2019 22:55\t\t\t\t\t\r\n",
      "11/25/2019 23:00\t\t\t\t\t\r\n",
      "11/25/2019 23:05\t\t\t\t\t\r\n",
      "11/25/2019 23:10\t\t\t\t\t\r\n",
      "11/25/2019 23:15\t\t\t\t\t\r\n",
      "11/25/2019 23:20\t\t\t\t\t\r\n",
      "11/25/2019 23:25\t\t\t\t\t\r\n",
      "11/25/2019 23:30\t\t\t\t\t\r\n",
      "11/25/2019 23:35\t\t\t\t\t\r\n",
      "11/25/2019 23:40\t\t\t\t\t\r\n",
      "11/25/2019 23:45\t\t\t\t\t\r\n",
      "11/25/2019 23:50\t\t\t\t\t\r\n",
      "11/25/2019 23:55\t\t\t\t\t\r\n",
      "\n"
     ]
    }
   ],
   "source": [
    "import requests\n",
    "\n",
    "url = \"https://transmission.bpa.gov/business/operations/Wind/baltwg.txt\"\n",
    "req = requests.get(url, timeout=0.5)\n",
    "req.raise_for_status()\n",
    "text = req.text\n",
    "print(text[:1000])\n",
    "print('...')\n",
    "print(text[-500:])"
   ]
  },
  {
   "cell_type": "markdown",
   "metadata": {},
   "source": [
    "## 2. Raw Data to Documents/Dicts\n",
    "Using pandas, it is simple to parse a in-memory string. The first few lines of description need to be skipped. Datetime conversion is made and blank lines are dropped. Now the data can be easily converted to a list of dicts which is what we want for the MongoDB."
   ]
  },
  {
   "cell_type": "code",
   "execution_count": 20,
   "metadata": {},
   "outputs": [
    {
     "data": {
      "text/html": [
       "<div>\n",
       "<style scoped>\n",
       "    .dataframe tbody tr th:only-of-type {\n",
       "        vertical-align: middle;\n",
       "    }\n",
       "\n",
       "    .dataframe tbody tr th {\n",
       "        vertical-align: top;\n",
       "    }\n",
       "\n",
       "    .dataframe thead th {\n",
       "        text-align: right;\n",
       "    }\n",
       "</style>\n",
       "<table border=\"1\" class=\"dataframe\">\n",
       "  <thead>\n",
       "    <tr style=\"text-align: right;\">\n",
       "      <th></th>\n",
       "      <th>Load</th>\n",
       "      <th>Wind</th>\n",
       "      <th>Hydro</th>\n",
       "      <th>Fossil/Biomass</th>\n",
       "      <th>Nuclear</th>\n",
       "      <th>Datetime</th>\n",
       "    </tr>\n",
       "  </thead>\n",
       "  <tbody>\n",
       "    <tr>\n",
       "      <td>0</td>\n",
       "      <td>5391.0</td>\n",
       "      <td>710.0</td>\n",
       "      <td>5149.0</td>\n",
       "      <td>970.0</td>\n",
       "      <td>1165.0</td>\n",
       "      <td>2019-11-19 00:00:00</td>\n",
       "    </tr>\n",
       "    <tr>\n",
       "      <td>1</td>\n",
       "      <td>5318.0</td>\n",
       "      <td>791.0</td>\n",
       "      <td>4958.0</td>\n",
       "      <td>970.0</td>\n",
       "      <td>1160.0</td>\n",
       "      <td>2019-11-19 00:05:00</td>\n",
       "    </tr>\n",
       "    <tr>\n",
       "      <td>2</td>\n",
       "      <td>5305.0</td>\n",
       "      <td>861.0</td>\n",
       "      <td>4803.0</td>\n",
       "      <td>972.0</td>\n",
       "      <td>1160.0</td>\n",
       "      <td>2019-11-19 00:10:00</td>\n",
       "    </tr>\n",
       "    <tr>\n",
       "      <td>3</td>\n",
       "      <td>5255.0</td>\n",
       "      <td>910.0</td>\n",
       "      <td>4736.0</td>\n",
       "      <td>974.0</td>\n",
       "      <td>1160.0</td>\n",
       "      <td>2019-11-19 00:15:00</td>\n",
       "    </tr>\n",
       "    <tr>\n",
       "      <td>4</td>\n",
       "      <td>5261.0</td>\n",
       "      <td>908.0</td>\n",
       "      <td>4715.0</td>\n",
       "      <td>971.0</td>\n",
       "      <td>1160.0</td>\n",
       "      <td>2019-11-19 00:20:00</td>\n",
       "    </tr>\n",
       "  </tbody>\n",
       "</table>\n",
       "</div>"
      ],
      "text/plain": [
       "     Load   Wind   Hydro  Fossil/Biomass  Nuclear            Datetime\n",
       "0  5391.0  710.0  5149.0           970.0   1165.0 2019-11-19 00:00:00\n",
       "1  5318.0  791.0  4958.0           970.0   1160.0 2019-11-19 00:05:00\n",
       "2  5305.0  861.0  4803.0           972.0   1160.0 2019-11-19 00:10:00\n",
       "3  5255.0  910.0  4736.0           974.0   1160.0 2019-11-19 00:15:00\n",
       "4  5261.0  908.0  4715.0           971.0   1160.0 2019-11-19 00:20:00"
      ]
     },
     "execution_count": 20,
     "metadata": {},
     "output_type": "execute_result"
    }
   ],
   "source": [
    "import pandas\n",
    "from io import StringIO\n",
    "\n",
    "df = pandas.read_csv(StringIO(text), skiprows=11, delimiter='\\t')\n",
    "df.columns = df.columns.str.strip()             # remove space in columns name\n",
    "df['Datetime'] = pandas.to_datetime(df['Date/Time'])\n",
    "df.drop(columns=['Date/Time'], axis=1, inplace=True)\n",
    "df.dropna(inplace=True)  \n",
    "df.head()"
   ]
  },
  {
   "cell_type": "markdown",
   "metadata": {},
   "source": [
    "## 3. Upsert MongoDB\n",
    "If we fetch the data frequently, there are lots of duplicate data entry between each run. The de-duplication happens at insertion. The MongoDB API to use is `collection.replace_one(filter=..., replacement=..., upsert=True)`. The statement matches a document in MongoDB with `filter`, replaces it with `replacement` if the document exists or inserts `replacement` into the database if `filter` matches nothing. "
   ]
  },
  {
   "cell_type": "code",
   "execution_count": 14,
   "metadata": {},
   "outputs": [],
   "source": [
    "import pymongo\n",
    "\n",
    "client = pymongo.MongoClient()"
   ]
  },
  {
   "cell_type": "code",
   "execution_count": 21,
   "metadata": {},
   "outputs": [
    {
     "name": "stdout",
     "output_type": "stream",
     "text": [
      "rows=1936, update=1928, insert=8\n"
     ]
    }
   ],
   "source": [
    "db = client.get_database(\"energy\")\n",
    "collection = db.get_collection(\"energy\")\n",
    "update_count = 0\n",
    "for record in df.to_dict('records'):\n",
    "    result = collection.replace_one(\n",
    "        filter={'Datetime': record['Datetime']},    # locate the document if exists\n",
    "        replacement=record,                         # latest document\n",
    "        upsert=True)                                # update if exists, insert if not\n",
    "    if result.matched_count > 0:\n",
    "        update_count += 1\n",
    "print(f\"rows={df.shape[0]}, update={update_count}, \"\n",
    "      f\"insert={df.shape[0]-update_count}\")"
   ]
  }
 ],
 "metadata": {
  "kernelspec": {
   "display_name": "Python 3",
   "language": "python",
   "name": "python3"
  },
  "language_info": {
   "codemirror_mode": {
    "name": "ipython",
    "version": 3
   },
   "file_extension": ".py",
   "mimetype": "text/x-python",
   "name": "python",
   "nbconvert_exporter": "python",
   "pygments_lexer": "ipython3",
   "version": "3.7.3"
  }
 },
 "nbformat": 4,
 "nbformat_minor": 1
}
