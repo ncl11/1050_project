{
 "cells": [
  {
   "cell_type": "code",
   "execution_count": 37,
   "metadata": {},
   "outputs": [
    {
     "name": "stdout",
     "output_type": "stream",
     "text": [
      "Alpha -10\n",
      "train RMSE: 119662.16154608905\n",
      "train R2 0.9596427474343802\n",
      "test RMSE: 246239.39492141476\n",
      "test R2 0.7275983828230363\n"
     ]
    },
    {
     "data": {
      "image/png": "[encoded data removed]",
      "text/plain": [
       "<Figure size 432x288 with 1 Axes>"
      ]
     },
     "metadata": {
      "needs_background": "light"
     },
     "output_type": "display_data"
    },
    {
     "data": {
      "image/png": "[encoded data removed]",
      "text/plain": [
       "<Figure size 432x288 with 1 Axes>"
      ]
     },
     "metadata": {
      "needs_background": "light"
     },
     "output_type": "display_data"
    }
   ],
   "source": [
    "from sklearn.linear_model import LinearRegression\n",
    "from sklearn.linear_model import Ridge\n",
    "from sklearn.metrics import mean_squared_error, r2_score\n",
    "from sklearn.preprocessing import StandardScaler\n",
    "import numpy as np\n",
    "from matplotlib import pyplot as plt\n",
    "\n",
    "df_weekly = pd.read_csv('6_mo_weekly.csv', sep='\\t')\n",
    "\n",
    "train = df_weekly[df_weekly['Date'] <= '2020-10-15']\n",
    "train = train.drop(['Date', 'Release', 'Y', 'Unnamed: 0'],axis=1)\n",
    "y_train = train['Week + 1']\n",
    "X_train = train.drop('Week + 1', axis = 1)\n",
    "\n",
    "test = df_weekly[df_weekly['Date'] > '2020-10-15']\n",
    "test = test.drop(['Date', 'Release', 'Y', 'Unnamed: 0'],axis=1)\n",
    "y_test = test['Week + 1']\n",
    "X_test = test.drop('Week + 1', axis=1)\n",
    "\n",
    "        \n",
    "#scaler = StandardScaler()\n",
    "#train_t = scaler.fit_transform(X_train)\n",
    "#val_t = scaler.transform(X_test)\n",
    "\n",
    "#X_train = pd.DataFrame(train_t)\n",
    "#X_test = pd.DataFrame(val_t)\n",
    "\n",
    "\n",
    "train_rmse_list = []\n",
    "train_r2_list = []\n",
    "test_rmse_list = []\n",
    "test_r2_list = []\n",
    "\n",
    "alphas = [-10] #[2**k for k in range(-10,10)]\n",
    "for alpha in alphas:\n",
    "    linreg = Ridge(alpha = alpha, fit_intercept=True)\n",
    "    linreg.fit(X_train, y_train)\n",
    "#    print('intercept:',linreg.intercept_)\n",
    "#    print('theta:',linreg.coef_)\n",
    "        \n",
    "    mean = np.mean(y_train)\n",
    "\n",
    "    y_train_pred = linreg.predict(X_train)\n",
    "    y_test_pred = linreg.predict(X_test)\n",
    "\n",
    "    train_rmse = mean_squared_error(y_train, y_train_pred,squared = False)\n",
    "    train_r2 = r2_score(y_train,y_train_pred)\n",
    "\n",
    "    test_rmse = mean_squared_error(y_test, y_test_pred, squared = False)\n",
    "    test_r2 = r2_score(y_test, y_test_pred)\n",
    "\n",
    "    print('Alpha', alpha)\n",
    "    print('train RMSE:',(train_rmse))\n",
    "    print('train R2', train_r2)\n",
    "    print('test RMSE:',(test_rmse))\n",
    "    print('test R2', test_r2)\n",
    "    train_rmse_list.append(train_rmse)\n",
    "\n",
    "    train_r2_list.append(train_r2)\n",
    "    test_rmse_list.append(test_rmse)\n",
    "    test_r2_list.append(test_r2)\n",
    "plt.plot(alphas, train_rmse_list, label='Train RMSE')\n",
    "plt.plot(alphas, test_rmse_list, label='Test RMSE')\n",
    "plt.legend()\n",
    "plt.show()\n",
    "plt.plot(alphas, train_r2_list, label='Train R2')\n",
    "plt.plot(alphas, test_r2_list, label='Test R2')\n",
    "plt.legend()\n",
    "plt.show()"
   ]
  },
  {
   "cell_type": "code",
   "execution_count": 254,
   "metadata": {
    "scrolled": false
   },
   "outputs": [
    {
     "data": {
      "text/html": [
       "<div>\n",
       "<style scoped>\n",
       "    .dataframe tbody tr th:only-of-type {\n",
       "        vertical-align: middle;\n",
       "    }\n",
       "\n",
       "    .dataframe tbody tr th {\n",
       "        vertical-align: top;\n",
       "    }\n",
       "\n",
       "    .dataframe thead th {\n",
       "        text-align: right;\n",
       "    }\n",
       "</style>\n",
       "<table border=\"1\" class=\"dataframe\">\n",
       "  <thead>\n",
       "    <tr style=\"text-align: right;\">\n",
       "      <th></th>\n",
       "      <th>Release</th>\n",
       "      <th>Date</th>\n",
       "      <th>%+-YD</th>\n",
       "      <th>%+-LW</th>\n",
       "      <th>Days</th>\n",
       "      <th>google trends</th>\n",
       "      <th>Avg TD</th>\n",
       "      <th>Avg YD</th>\n",
       "      <th>Weekly</th>\n",
       "      <th>Weekly %+-YD</th>\n",
       "      <th>Weekly %+-LW</th>\n",
       "      <th>Avg Theatre</th>\n",
       "      <th>Avg per Theatre Avg</th>\n",
       "      <th>Avg To Date</th>\n",
       "      <th>Y</th>\n",
       "      <th>Week + 1</th>\n",
       "    </tr>\n",
       "  </thead>\n",
       "  <tbody>\n",
       "    <tr>\n",
       "      <th>0</th>\n",
       "      <td>The Fighting Preacher</td>\n",
       "      <td>2019-12-02</td>\n",
       "      <td>197.0</td>\n",
       "      <td>-436.8</td>\n",
       "      <td>813.0</td>\n",
       "      <td>0.004805</td>\n",
       "      <td>45.285714</td>\n",
       "      <td>44.857143</td>\n",
       "      <td>439.0</td>\n",
       "      <td>197.0</td>\n",
       "      <td>-436.8</td>\n",
       "      <td>1.714286</td>\n",
       "      <td>37.142857</td>\n",
       "      <td>8.180209e+05</td>\n",
       "      <td>2019-12-09</td>\n",
       "      <td>145.0</td>\n",
       "    </tr>\n",
       "    <tr>\n",
       "      <th>1</th>\n",
       "      <td>Ford v Ferrari</td>\n",
       "      <td>2019-12-02</td>\n",
       "      <td>182.9</td>\n",
       "      <td>-338.7</td>\n",
       "      <td>129.0</td>\n",
       "      <td>2.472222</td>\n",
       "      <td>3.428571</td>\n",
       "      <td>3.714286</td>\n",
       "      <td>9447970.0</td>\n",
       "      <td>182.9</td>\n",
       "      <td>-338.7</td>\n",
       "      <td>3141.857143</td>\n",
       "      <td>364.571429</td>\n",
       "      <td>7.405716e+07</td>\n",
       "      <td>2019-12-09</td>\n",
       "      <td>6957054.0</td>\n",
       "    </tr>\n",
       "    <tr>\n",
       "      <th>2</th>\n",
       "      <td>Dark Waters</td>\n",
       "      <td>2019-12-02</td>\n",
       "      <td>2583.5</td>\n",
       "      <td>2311.6</td>\n",
       "      <td>87.0</td>\n",
       "      <td>4.126984</td>\n",
       "      <td>10.857143</td>\n",
       "      <td>12.857143</td>\n",
       "      <td>4168500.0</td>\n",
       "      <td>2583.5</td>\n",
       "      <td>2311.6</td>\n",
       "      <td>902.571429</td>\n",
       "      <td>545.142857</td>\n",
       "      <td>2.188831e+06</td>\n",
       "      <td>2019-12-09</td>\n",
       "      <td>3605800.0</td>\n",
       "    </tr>\n",
       "    <tr>\n",
       "      <th>3</th>\n",
       "      <td>Promare</td>\n",
       "      <td>2019-12-02</td>\n",
       "      <td>0.0</td>\n",
       "      <td>0.0</td>\n",
       "      <td>83.0</td>\n",
       "      <td>1.176471</td>\n",
       "      <td>1.428571</td>\n",
       "      <td>0.000000</td>\n",
       "      <td>525543.0</td>\n",
       "      <td>0.0</td>\n",
       "      <td>0.0</td>\n",
       "      <td>87.428571</td>\n",
       "      <td>122.571429</td>\n",
       "      <td>2.777394e+05</td>\n",
       "      <td>2019-12-09</td>\n",
       "      <td>329380.0</td>\n",
       "    </tr>\n",
       "    <tr>\n",
       "      <th>4</th>\n",
       "      <td>Once Upon a Time... In Hollywood</td>\n",
       "      <td>2019-12-02</td>\n",
       "      <td>118.8</td>\n",
       "      <td>-178.4</td>\n",
       "      <td>801.0</td>\n",
       "      <td>0.034070</td>\n",
       "      <td>31.000000</td>\n",
       "      <td>30.142857</td>\n",
       "      <td>27109.0</td>\n",
       "      <td>118.8</td>\n",
       "      <td>-178.4</td>\n",
       "      <td>46.714286</td>\n",
       "      <td>73.571429</td>\n",
       "      <td>1.208696e+08</td>\n",
       "      <td>2019-12-09</td>\n",
       "      <td>19063.0</td>\n",
       "    </tr>\n",
       "    <tr>\n",
       "      <th>...</th>\n",
       "      <td>...</td>\n",
       "      <td>...</td>\n",
       "      <td>...</td>\n",
       "      <td>...</td>\n",
       "      <td>...</td>\n",
       "      <td>...</td>\n",
       "      <td>...</td>\n",
       "      <td>...</td>\n",
       "      <td>...</td>\n",
       "      <td>...</td>\n",
       "      <td>...</td>\n",
       "      <td>...</td>\n",
       "      <td>...</td>\n",
       "      <td>...</td>\n",
       "      <td>...</td>\n",
       "      <td>...</td>\n",
       "    </tr>\n",
       "    <tr>\n",
       "      <th>1550</th>\n",
       "      <td>The New Mutants</td>\n",
       "      <td>2020-11-30</td>\n",
       "      <td>-92.9</td>\n",
       "      <td>-269.7</td>\n",
       "      <td>386.0</td>\n",
       "      <td>0.000000</td>\n",
       "      <td>7.000000</td>\n",
       "      <td>8.142857</td>\n",
       "      <td>2128.0</td>\n",
       "      <td>-92.9</td>\n",
       "      <td>-269.7</td>\n",
       "      <td>22.857143</td>\n",
       "      <td>7.285714</td>\n",
       "      <td>1.361620e+07</td>\n",
       "      <td>2020-12-07</td>\n",
       "      <td>0.0</td>\n",
       "    </tr>\n",
       "    <tr>\n",
       "      <th>1551</th>\n",
       "      <td>Stardust</td>\n",
       "      <td>2020-11-30</td>\n",
       "      <td>-42.2</td>\n",
       "      <td>-88.9</td>\n",
       "      <td>30.0</td>\n",
       "      <td>0.000000</td>\n",
       "      <td>7.285714</td>\n",
       "      <td>8.571429</td>\n",
       "      <td>1749.0</td>\n",
       "      <td>-42.2</td>\n",
       "      <td>-88.9</td>\n",
       "      <td>25.142857</td>\n",
       "      <td>5.285714</td>\n",
       "      <td>4.037571e+03</td>\n",
       "      <td>2020-12-07</td>\n",
       "      <td>0.0</td>\n",
       "    </tr>\n",
       "    <tr>\n",
       "      <th>1552</th>\n",
       "      <td>Embattled</td>\n",
       "      <td>2020-11-30</td>\n",
       "      <td>209.0</td>\n",
       "      <td>-262.6</td>\n",
       "      <td>50.0</td>\n",
       "      <td>0.000000</td>\n",
       "      <td>8.428571</td>\n",
       "      <td>9.714286</td>\n",
       "      <td>1197.0</td>\n",
       "      <td>209.0</td>\n",
       "      <td>-262.6</td>\n",
       "      <td>26.285714</td>\n",
       "      <td>3.428571</td>\n",
       "      <td>1.517814e+04</td>\n",
       "      <td>2020-12-07</td>\n",
       "      <td>0.0</td>\n",
       "    </tr>\n",
       "    <tr>\n",
       "      <th>1553</th>\n",
       "      <td>Let Him Go</td>\n",
       "      <td>2020-11-30</td>\n",
       "      <td>-45.0</td>\n",
       "      <td>-250.5</td>\n",
       "      <td>106.0</td>\n",
       "      <td>0.000000</td>\n",
       "      <td>1.714286</td>\n",
       "      <td>1.857143</td>\n",
       "      <td>109275.0</td>\n",
       "      <td>-45.0</td>\n",
       "      <td>-250.5</td>\n",
       "      <td>1089.714286</td>\n",
       "      <td>7.857143</td>\n",
       "      <td>5.014729e+06</td>\n",
       "      <td>2020-12-07</td>\n",
       "      <td>0.0</td>\n",
       "    </tr>\n",
       "    <tr>\n",
       "      <th>1554</th>\n",
       "      <td>Buddy Games</td>\n",
       "      <td>2020-11-30</td>\n",
       "      <td>-44.9</td>\n",
       "      <td>-167.6</td>\n",
       "      <td>50.0</td>\n",
       "      <td>0.000000</td>\n",
       "      <td>5.142857</td>\n",
       "      <td>6.000000</td>\n",
       "      <td>36914.0</td>\n",
       "      <td>-44.9</td>\n",
       "      <td>-167.6</td>\n",
       "      <td>226.857143</td>\n",
       "      <td>13.142857</td>\n",
       "      <td>1.984281e+05</td>\n",
       "      <td>2020-12-07</td>\n",
       "      <td>0.0</td>\n",
       "    </tr>\n",
       "  </tbody>\n",
       "</table>\n",
       "<p>1555 rows × 16 columns</p>\n",
       "</div>"
      ],
      "text/plain": [
       "                               Release        Date   %+-YD   %+-LW   Days  \\\n",
       "0                The Fighting Preacher  2019-12-02   197.0  -436.8  813.0   \n",
       "1                       Ford v Ferrari  2019-12-02   182.9  -338.7  129.0   \n",
       "2                          Dark Waters  2019-12-02  2583.5  2311.6   87.0   \n",
       "3                              Promare  2019-12-02     0.0     0.0   83.0   \n",
       "4     Once Upon a Time... In Hollywood  2019-12-02   118.8  -178.4  801.0   \n",
       "...                                ...         ...     ...     ...    ...   \n",
       "1550                   The New Mutants  2020-11-30   -92.9  -269.7  386.0   \n",
       "1551                          Stardust  2020-11-30   -42.2   -88.9   30.0   \n",
       "1552                         Embattled  2020-11-30   209.0  -262.6   50.0   \n",
       "1553                        Let Him Go  2020-11-30   -45.0  -250.5  106.0   \n",
       "1554                       Buddy Games  2020-11-30   -44.9  -167.6   50.0   \n",
       "\n",
       "      google trends     Avg TD     Avg YD     Weekly  Weekly %+-YD  \\\n",
       "0          0.004805  45.285714  44.857143      439.0         197.0   \n",
       "1          2.472222   3.428571   3.714286  9447970.0         182.9   \n",
       "2          4.126984  10.857143  12.857143  4168500.0        2583.5   \n",
       "3          1.176471   1.428571   0.000000   525543.0           0.0   \n",
       "4          0.034070  31.000000  30.142857    27109.0         118.8   \n",
       "...             ...        ...        ...        ...           ...   \n",
       "1550       0.000000   7.000000   8.142857     2128.0         -92.9   \n",
       "1551       0.000000   7.285714   8.571429     1749.0         -42.2   \n",
       "1552       0.000000   8.428571   9.714286     1197.0         209.0   \n",
       "1553       0.000000   1.714286   1.857143   109275.0         -45.0   \n",
       "1554       0.000000   5.142857   6.000000    36914.0         -44.9   \n",
       "\n",
       "      Weekly %+-LW  Avg Theatre  Avg per Theatre Avg   Avg To Date  \\\n",
       "0           -436.8     1.714286            37.142857  8.180209e+05   \n",
       "1           -338.7  3141.857143           364.571429  7.405716e+07   \n",
       "2           2311.6   902.571429           545.142857  2.188831e+06   \n",
       "3              0.0    87.428571           122.571429  2.777394e+05   \n",
       "4           -178.4    46.714286            73.571429  1.208696e+08   \n",
       "...            ...          ...                  ...           ...   \n",
       "1550        -269.7    22.857143             7.285714  1.361620e+07   \n",
       "1551         -88.9    25.142857             5.285714  4.037571e+03   \n",
       "1552        -262.6    26.285714             3.428571  1.517814e+04   \n",
       "1553        -250.5  1089.714286             7.857143  5.014729e+06   \n",
       "1554        -167.6   226.857143            13.142857  1.984281e+05   \n",
       "\n",
       "               Y   Week + 1  \n",
       "0     2019-12-09      145.0  \n",
       "1     2019-12-09  6957054.0  \n",
       "2     2019-12-09  3605800.0  \n",
       "3     2019-12-09   329380.0  \n",
       "4     2019-12-09    19063.0  \n",
       "...          ...        ...  \n",
       "1550  2020-12-07        0.0  \n",
       "1551  2020-12-07        0.0  \n",
       "1552  2020-12-07        0.0  \n",
       "1553  2020-12-07        0.0  \n",
       "1554  2020-12-07        0.0  \n",
       "\n",
       "[1555 rows x 16 columns]"
      ]
     },
     "execution_count": 254,
     "metadata": {},
     "output_type": "execute_result"
    }
   ],
   "source": [
    "df = pd.read_csv('1_year_weekly.csv', sep='\\t')"
   ]
  },
  {
   "cell_type": "code",
   "execution_count": 243,
   "metadata": {
    "scrolled": true
   },
   "outputs": [
    {
     "data": {
      "text/plain": [
       "array([113816.44683073])"
      ]
     },
     "execution_count": 243,
     "metadata": {},
     "output_type": "execute_result"
    }
   ],
   "source": [
    "#linreg.predict(df.drop(['Release', 'Date', 'Y', 'Week + 1', ], axis=1))\n",
    "linreg.predict([df.drop(['Release', 'Date', 'Y', 'Week + 1'], axis=1).iloc[-1]])"
   ]
  },
  {
   "cell_type": "code",
   "execution_count": 49,
   "metadata": {},
   "outputs": [
    {
     "name": "stdout",
     "output_type": "stream",
     "text": [
      "2020-12-07 00:00:00 [3691985.95374302]\n"
     ]
    },
    {
     "data": {
      "application/vnd.plotly.v1+json": {
       "config": {
        "plotlyServerURL": "https://plot.ly"
       },
       "data": [
        {
         "line": {
          "color": "orange",
          "width": 2
         },
         "mode": "lines",
         "name": "Gross",
         "type": "scatter",
         "x": [
          "2020-11-23T00:00:00",
          "2020-11-30T00:00:00"
         ],
         "y": [
          14274455,
          4785955
         ]
        },
        {
         "line": {
          "color": "red",
          "width": 2
         },
         "mode": "markers",
         "name": "Google Trends",
         "type": "scatter",
         "x": [
          "2020-12-07T00:00:00"
         ],
         "y": [
          3691985.953743021
         ]
        }
       ],
       "layout": {
        "paper_bgcolor": "#23272c",
        "plot_bgcolor": "#23272c",
        "template": {
         "data": {
          "bar": [
           {
            "error_x": {
             "color": "#f2f5fa"
            },
            "error_y": {
             "color": "#f2f5fa"
            },
            "marker": {
             "line": {
              "color": "rgb(17,17,17)",
              "width": 0.5
             }
            },
            "type": "bar"
           }
          ],
          "barpolar": [
           {
            "marker": {
             "line": {
              "color": "rgb(17,17,17)",
              "width": 0.5
             }
            },
            "type": "barpolar"
           }
          ],
          "carpet": [
           {
            "aaxis": {
             "endlinecolor": "#A2B1C6",
             "gridcolor": "#506784",
             "linecolor": "#506784",
             "minorgridcolor": "#506784",
             "startlinecolor": "#A2B1C6"
            },
            "baxis": {
             "endlinecolor": "#A2B1C6",
             "gridcolor": "#506784",
             "linecolor": "#506784",
             "minorgridcolor": "#506784",
             "startlinecolor": "#A2B1C6"
            },
            "type": "carpet"
           }
          ],
          "choropleth": [
           {
            "colorbar": {
             "outlinewidth": 0,
             "ticks": ""
            },
            "type": "choropleth"
           }
          ],
          "contour": [
           {
            "colorbar": {
             "outlinewidth": 0,
             "ticks": ""
            },
            "colorscale": [
             [
              0,
              "#0d0887"
             ],
             [
              0.1111111111111111,
              "#46039f"
             ],
             [
              0.2222222222222222,
              "#7201a8"
             ],
             [
              0.3333333333333333,
              "#9c179e"
             ],
             [
              0.4444444444444444,
              "#bd3786"
             ],
             [
              0.5555555555555556,
              "#d8576b"
             ],
             [
              0.6666666666666666,
              "#ed7953"
             ],
             [
              0.7777777777777778,
              "#fb9f3a"
             ],
             [
              0.8888888888888888,
              "#fdca26"
             ],
             [
              1,
              "#f0f921"
             ]
            ],
            "type": "contour"
           }
          ],
          "contourcarpet": [
           {
            "colorbar": {
             "outlinewidth": 0,
             "ticks": ""
            },
            "type": "contourcarpet"
           }
          ],
          "heatmap": [
           {
            "colorbar": {
             "outlinewidth": 0,
             "ticks": ""
            },
            "colorscale": [
             [
              0,
              "#0d0887"
             ],
             [
              0.1111111111111111,
              "#46039f"
             ],
             [
              0.2222222222222222,
              "#7201a8"
             ],
             [
              0.3333333333333333,
              "#9c179e"
             ],
             [
              0.4444444444444444,
              "#bd3786"
             ],
             [
              0.5555555555555556,
              "#d8576b"
             ],
             [
              0.6666666666666666,
              "#ed7953"
             ],
             [
              0.7777777777777778,
              "#fb9f3a"
             ],
             [
              0.8888888888888888,
              "#fdca26"
             ],
             [
              1,
              "#f0f921"
             ]
            ],
            "type": "heatmap"
           }
          ],
          "heatmapgl": [
           {
            "colorbar": {
             "outlinewidth": 0,
             "ticks": ""
            },
            "colorscale": [
             [
              0,
              "#0d0887"
             ],
             [
              0.1111111111111111,
              "#46039f"
             ],
             [
              0.2222222222222222,
              "#7201a8"
             ],
             [
              0.3333333333333333,
              "#9c179e"
             ],
             [
              0.4444444444444444,
              "#bd3786"
             ],
             [
              0.5555555555555556,
              "#d8576b"
             ],
             [
              0.6666666666666666,
              "#ed7953"
             ],
             [
              0.7777777777777778,
              "#fb9f3a"
             ],
             [
              0.8888888888888888,
              "#fdca26"
             ],
             [
              1,
              "#f0f921"
             ]
            ],
            "type": "heatmapgl"
           }
          ],
          "histogram": [
           {
            "marker": {
             "colorbar": {
              "outlinewidth": 0,
              "ticks": ""
             }
            },
            "type": "histogram"
           }
          ],
          "histogram2d": [
           {
            "colorbar": {
             "outlinewidth": 0,
             "ticks": ""
            },
            "colorscale": [
             [
              0,
              "#0d0887"
             ],
             [
              0.1111111111111111,
              "#46039f"
             ],
             [
              0.2222222222222222,
              "#7201a8"
             ],
             [
              0.3333333333333333,
              "#9c179e"
             ],
             [
              0.4444444444444444,
              "#bd3786"
             ],
             [
              0.5555555555555556,
              "#d8576b"
             ],
             [
              0.6666666666666666,
              "#ed7953"
             ],
             [
              0.7777777777777778,
              "#fb9f3a"
             ],
             [
              0.8888888888888888,
              "#fdca26"
             ],
             [
              1,
              "#f0f921"
             ]
            ],
            "type": "histogram2d"
           }
          ],
          "histogram2dcontour": [
           {
            "colorbar": {
             "outlinewidth": 0,
             "ticks": ""
            },
            "colorscale": [
             [
              0,
              "#0d0887"
             ],
             [
              0.1111111111111111,
              "#46039f"
             ],
             [
              0.2222222222222222,
              "#7201a8"
             ],
             [
              0.3333333333333333,
              "#9c179e"
             ],
             [
              0.4444444444444444,
              "#bd3786"
             ],
             [
              0.5555555555555556,
              "#d8576b"
             ],
             [
              0.6666666666666666,
              "#ed7953"
             ],
             [
              0.7777777777777778,
              "#fb9f3a"
             ],
             [
              0.8888888888888888,
              "#fdca26"
             ],
             [
              1,
              "#f0f921"
             ]
            ],
            "type": "histogram2dcontour"
           }
          ],
          "mesh3d": [
           {
            "colorbar": {
             "outlinewidth": 0,
             "ticks": ""
            },
            "type": "mesh3d"
           }
          ],
          "parcoords": [
           {
            "line": {
             "colorbar": {
              "outlinewidth": 0,
              "ticks": ""
             }
            },
            "type": "parcoords"
           }
          ],
          "pie": [
           {
            "automargin": true,
            "type": "pie"
           }
          ],
          "scatter": [
           {
            "marker": {
             "line": {
              "color": "#283442"
             }
            },
            "type": "scatter"
           }
          ],
          "scatter3d": [
           {
            "line": {
             "colorbar": {
              "outlinewidth": 0,
              "ticks": ""
             }
            },
            "marker": {
             "colorbar": {
              "outlinewidth": 0,
              "ticks": ""
             }
            },
            "type": "scatter3d"
           }
          ],
          "scattercarpet": [
           {
            "marker": {
             "colorbar": {
              "outlinewidth": 0,
              "ticks": ""
             }
            },
            "type": "scattercarpet"
           }
          ],
          "scattergeo": [
           {
            "marker": {
             "colorbar": {
              "outlinewidth": 0,
              "ticks": ""
             }
            },
            "type": "scattergeo"
           }
          ],
          "scattergl": [
           {
            "marker": {
             "line": {
              "color": "#283442"
             }
            },
            "type": "scattergl"
           }
          ],
          "scattermapbox": [
           {
            "marker": {
             "colorbar": {
              "outlinewidth": 0,
              "ticks": ""
             }
            },
            "type": "scattermapbox"
           }
          ],
          "scatterpolar": [
           {
            "marker": {
             "colorbar": {
              "outlinewidth": 0,
              "ticks": ""
             }
            },
            "type": "scatterpolar"
           }
          ],
          "scatterpolargl": [
           {
            "marker": {
             "colorbar": {
              "outlinewidth": 0,
              "ticks": ""
             }
            },
            "type": "scatterpolargl"
           }
          ],
          "scatterternary": [
           {
            "marker": {
             "colorbar": {
              "outlinewidth": 0,
              "ticks": ""
             }
            },
            "type": "scatterternary"
           }
          ],
          "surface": [
           {
            "colorbar": {
             "outlinewidth": 0,
             "ticks": ""
            },
            "colorscale": [
             [
              0,
              "#0d0887"
             ],
             [
              0.1111111111111111,
              "#46039f"
             ],
             [
              0.2222222222222222,
              "#7201a8"
             ],
             [
              0.3333333333333333,
              "#9c179e"
             ],
             [
              0.4444444444444444,
              "#bd3786"
             ],
             [
              0.5555555555555556,
              "#d8576b"
             ],
             [
              0.6666666666666666,
              "#ed7953"
             ],
             [
              0.7777777777777778,
              "#fb9f3a"
             ],
             [
              0.8888888888888888,
              "#fdca26"
             ],
             [
              1,
              "#f0f921"
             ]
            ],
            "type": "surface"
           }
          ],
          "table": [
           {
            "cells": {
             "fill": {
              "color": "#506784"
             },
             "line": {
              "color": "rgb(17,17,17)"
             }
            },
            "header": {
             "fill": {
              "color": "#2a3f5f"
             },
             "line": {
              "color": "rgb(17,17,17)"
             }
            },
            "type": "table"
           }
          ]
         },
         "layout": {
          "annotationdefaults": {
           "arrowcolor": "#f2f5fa",
           "arrowhead": 0,
           "arrowwidth": 1
          },
          "coloraxis": {
           "colorbar": {
            "outlinewidth": 0,
            "ticks": ""
           }
          },
          "colorscale": {
           "diverging": [
            [
             0,
             "#8e0152"
            ],
            [
             0.1,
             "#c51b7d"
            ],
            [
             0.2,
             "#de77ae"
            ],
            [
             0.3,
             "#f1b6da"
            ],
            [
             0.4,
             "#fde0ef"
            ],
            [
             0.5,
             "#f7f7f7"
            ],
            [
             0.6,
             "#e6f5d0"
            ],
            [
             0.7,
             "#b8e186"
            ],
            [
             0.8,
             "#7fbc41"
            ],
            [
             0.9,
             "#4d9221"
            ],
            [
             1,
             "#276419"
            ]
           ],
           "sequential": [
            [
             0,
             "#0d0887"
            ],
            [
             0.1111111111111111,
             "#46039f"
            ],
            [
             0.2222222222222222,
             "#7201a8"
            ],
            [
             0.3333333333333333,
             "#9c179e"
            ],
            [
             0.4444444444444444,
             "#bd3786"
            ],
            [
             0.5555555555555556,
             "#d8576b"
            ],
            [
             0.6666666666666666,
             "#ed7953"
            ],
            [
             0.7777777777777778,
             "#fb9f3a"
            ],
            [
             0.8888888888888888,
             "#fdca26"
            ],
            [
             1,
             "#f0f921"
            ]
           ],
           "sequentialminus": [
            [
             0,
             "#0d0887"
            ],
            [
             0.1111111111111111,
             "#46039f"
            ],
            [
             0.2222222222222222,
             "#7201a8"
            ],
            [
             0.3333333333333333,
             "#9c179e"
            ],
            [
             0.4444444444444444,
             "#bd3786"
            ],
            [
             0.5555555555555556,
             "#d8576b"
            ],
            [
             0.6666666666666666,
             "#ed7953"
            ],
            [
             0.7777777777777778,
             "#fb9f3a"
            ],
            [
             0.8888888888888888,
             "#fdca26"
            ],
            [
             1,
             "#f0f921"
            ]
           ]
          },
          "colorway": [
           "#636efa",
           "#EF553B",
           "#00cc96",
           "#ab63fa",
           "#FFA15A",
           "#19d3f3",
           "#FF6692",
           "#B6E880",
           "#FF97FF",
           "#FECB52"
          ],
          "font": {
           "color": "#f2f5fa"
          },
          "geo": {
           "bgcolor": "rgb(17,17,17)",
           "lakecolor": "rgb(17,17,17)",
           "landcolor": "rgb(17,17,17)",
           "showlakes": true,
           "showland": true,
           "subunitcolor": "#506784"
          },
          "hoverlabel": {
           "align": "left"
          },
          "hovermode": "closest",
          "mapbox": {
           "style": "dark"
          },
          "paper_bgcolor": "rgb(17,17,17)",
          "plot_bgcolor": "rgb(17,17,17)",
          "polar": {
           "angularaxis": {
            "gridcolor": "#506784",
            "linecolor": "#506784",
            "ticks": ""
           },
           "bgcolor": "rgb(17,17,17)",
           "radialaxis": {
            "gridcolor": "#506784",
            "linecolor": "#506784",
            "ticks": ""
           }
          },
          "scene": {
           "xaxis": {
            "backgroundcolor": "rgb(17,17,17)",
            "gridcolor": "#506784",
            "gridwidth": 2,
            "linecolor": "#506784",
            "showbackground": true,
            "ticks": "",
            "zerolinecolor": "#C8D4E3"
           },
           "yaxis": {
            "backgroundcolor": "rgb(17,17,17)",
            "gridcolor": "#506784",
            "gridwidth": 2,
            "linecolor": "#506784",
            "showbackground": true,
            "ticks": "",
            "zerolinecolor": "#C8D4E3"
           },
           "zaxis": {
            "backgroundcolor": "rgb(17,17,17)",
            "gridcolor": "#506784",
            "gridwidth": 2,
            "linecolor": "#506784",
            "showbackground": true,
            "ticks": "",
            "zerolinecolor": "#C8D4E3"
           }
          },
          "shapedefaults": {
           "line": {
            "color": "#f2f5fa"
           }
          },
          "sliderdefaults": {
           "bgcolor": "#C8D4E3",
           "bordercolor": "rgb(17,17,17)",
           "borderwidth": 1,
           "tickwidth": 0
          },
          "ternary": {
           "aaxis": {
            "gridcolor": "#506784",
            "linecolor": "#506784",
            "ticks": ""
           },
           "baxis": {
            "gridcolor": "#506784",
            "linecolor": "#506784",
            "ticks": ""
           },
           "bgcolor": "rgb(17,17,17)",
           "caxis": {
            "gridcolor": "#506784",
            "linecolor": "#506784",
            "ticks": ""
           }
          },
          "title": {
           "x": 0.05
          },
          "updatemenudefaults": {
           "bgcolor": "#506784",
           "borderwidth": 0
          },
          "xaxis": {
           "automargin": true,
           "gridcolor": "#283442",
           "linecolor": "#506784",
           "ticks": "",
           "title": {
            "standoff": 15
           },
           "zerolinecolor": "#283442",
           "zerolinewidth": 2
          },
          "yaxis": {
           "automargin": true,
           "gridcolor": "#283442",
           "linecolor": "#506784",
           "ticks": "",
           "title": {
            "standoff": 15
           },
           "zerolinecolor": "#283442",
           "zerolinewidth": 2
          }
         }
        },
        "title": {
         "text": "Weekly Revenue and Trends for The Croods: A New Age"
        },
        "xaxis": {
         "range": [
          "2020-11-23T00:00:00",
          "2020-12-08T00:00:00"
         ],
         "title": {
          "text": "Date/Time"
         }
        },
        "yaxis": {
         "range": [
          0,
          17129346
         ],
         "title": {
          "text": "Normalized Rev and Trends"
         }
        }
       }
      },
      "text/html": [
       "<div>                            <div id=\"129e3c7e-f7a7-4430-8e66-903c3f1203d3\" class=\"plotly-graph-div\" style=\"height:525px; width:100%;\"></div>            <script type=\"text/javascript\">                require([\"plotly\"], function(Plotly) {                    window.PLOTLYENV=window.PLOTLYENV || {};                                    if (document.getElementById(\"129e3c7e-f7a7-4430-8e66-903c3f1203d3\")) {                    Plotly.newPlot(                        \"129e3c7e-f7a7-4430-8e66-903c3f1203d3\",                        [{\"line\": {\"color\": \"orange\", \"width\": 2}, \"mode\": \"lines\", \"name\": \"Gross\", \"type\": \"scatter\", \"x\": [\"2020-11-23T00:00:00\", \"2020-11-30T00:00:00\"], \"y\": [14274455.0, 4785955.0]}, {\"line\": {\"color\": \"red\", \"width\": 2}, \"mode\": \"markers\", \"name\": \"Google Trends\", \"type\": \"scatter\", \"x\": [\"2020-12-07T00:00:00\"], \"y\": [3691985.953743021]}],                        {\"paper_bgcolor\": \"#23272c\", \"plot_bgcolor\": \"#23272c\", \"template\": {\"data\": {\"bar\": [{\"error_x\": {\"color\": \"#f2f5fa\"}, \"error_y\": {\"color\": \"#f2f5fa\"}, \"marker\": {\"line\": {\"color\": \"rgb(17,17,17)\", \"width\": 0.5}}, \"type\": \"bar\"}], \"barpolar\": [{\"marker\": {\"line\": {\"color\": \"rgb(17,17,17)\", \"width\": 0.5}}, \"type\": \"barpolar\"}], \"carpet\": [{\"aaxis\": {\"endlinecolor\": \"#A2B1C6\", \"gridcolor\": \"#506784\", \"linecolor\": \"#506784\", \"minorgridcolor\": \"#506784\", \"startlinecolor\": \"#A2B1C6\"}, \"baxis\": {\"endlinecolor\": \"#A2B1C6\", \"gridcolor\": \"#506784\", \"linecolor\": \"#506784\", \"minorgridcolor\": \"#506784\", \"startlinecolor\": \"#A2B1C6\"}, \"type\": \"carpet\"}], \"choropleth\": [{\"colorbar\": {\"outlinewidth\": 0, \"ticks\": \"\"}, \"type\": \"choropleth\"}], \"contour\": [{\"colorbar\": {\"outlinewidth\": 0, \"ticks\": \"\"}, \"colorscale\": [[0.0, \"#0d0887\"], [0.1111111111111111, \"#46039f\"], [0.2222222222222222, \"#7201a8\"], [0.3333333333333333, \"#9c179e\"], [0.4444444444444444, \"#bd3786\"], [0.5555555555555556, \"#d8576b\"], [0.6666666666666666, \"#ed7953\"], [0.7777777777777778, \"#fb9f3a\"], [0.8888888888888888, \"#fdca26\"], [1.0, \"#f0f921\"]], \"type\": \"contour\"}], \"contourcarpet\": [{\"colorbar\": {\"outlinewidth\": 0, \"ticks\": \"\"}, \"type\": \"contourcarpet\"}], \"heatmap\": [{\"colorbar\": {\"outlinewidth\": 0, \"ticks\": \"\"}, \"colorscale\": [[0.0, \"#0d0887\"], [0.1111111111111111, \"#46039f\"], [0.2222222222222222, \"#7201a8\"], [0.3333333333333333, \"#9c179e\"], [0.4444444444444444, \"#bd3786\"], [0.5555555555555556, \"#d8576b\"], [0.6666666666666666, \"#ed7953\"], [0.7777777777777778, \"#fb9f3a\"], [0.8888888888888888, \"#fdca26\"], [1.0, \"#f0f921\"]], \"type\": \"heatmap\"}], \"heatmapgl\": [{\"colorbar\": {\"outlinewidth\": 0, \"ticks\": \"\"}, \"colorscale\": [[0.0, \"#0d0887\"], [0.1111111111111111, \"#46039f\"], [0.2222222222222222, \"#7201a8\"], [0.3333333333333333, \"#9c179e\"], [0.4444444444444444, \"#bd3786\"], [0.5555555555555556, \"#d8576b\"], [0.6666666666666666, \"#ed7953\"], [0.7777777777777778, \"#fb9f3a\"], [0.8888888888888888, \"#fdca26\"], [1.0, \"#f0f921\"]], \"type\": \"heatmapgl\"}], \"histogram\": [{\"marker\": {\"colorbar\": {\"outlinewidth\": 0, \"ticks\": \"\"}}, \"type\": \"histogram\"}], \"histogram2d\": [{\"colorbar\": {\"outlinewidth\": 0, \"ticks\": \"\"}, \"colorscale\": [[0.0, \"#0d0887\"], [0.1111111111111111, \"#46039f\"], [0.2222222222222222, \"#7201a8\"], [0.3333333333333333, \"#9c179e\"], [0.4444444444444444, \"#bd3786\"], [0.5555555555555556, \"#d8576b\"], [0.6666666666666666, \"#ed7953\"], [0.7777777777777778, \"#fb9f3a\"], [0.8888888888888888, \"#fdca26\"], [1.0, \"#f0f921\"]], \"type\": \"histogram2d\"}], \"histogram2dcontour\": [{\"colorbar\": {\"outlinewidth\": 0, \"ticks\": \"\"}, \"colorscale\": [[0.0, \"#0d0887\"], [0.1111111111111111, \"#46039f\"], [0.2222222222222222, \"#7201a8\"], [0.3333333333333333, \"#9c179e\"], [0.4444444444444444, \"#bd3786\"], [0.5555555555555556, \"#d8576b\"], [0.6666666666666666, \"#ed7953\"], [0.7777777777777778, \"#fb9f3a\"], [0.8888888888888888, \"#fdca26\"], [1.0, \"#f0f921\"]], \"type\": \"histogram2dcontour\"}], \"mesh3d\": [{\"colorbar\": {\"outlinewidth\": 0, \"ticks\": \"\"}, \"type\": \"mesh3d\"}], \"parcoords\": [{\"line\": {\"colorbar\": {\"outlinewidth\": 0, \"ticks\": \"\"}}, \"type\": \"parcoords\"}], \"pie\": [{\"automargin\": true, \"type\": \"pie\"}], \"scatter\": [{\"marker\": {\"line\": {\"color\": \"#283442\"}}, \"type\": \"scatter\"}], \"scatter3d\": [{\"line\": {\"colorbar\": {\"outlinewidth\": 0, \"ticks\": \"\"}}, \"marker\": {\"colorbar\": {\"outlinewidth\": 0, \"ticks\": \"\"}}, \"type\": \"scatter3d\"}], \"scattercarpet\": [{\"marker\": {\"colorbar\": {\"outlinewidth\": 0, \"ticks\": \"\"}}, \"type\": \"scattercarpet\"}], \"scattergeo\": [{\"marker\": {\"colorbar\": {\"outlinewidth\": 0, \"ticks\": \"\"}}, \"type\": \"scattergeo\"}], \"scattergl\": [{\"marker\": {\"line\": {\"color\": \"#283442\"}}, \"type\": \"scattergl\"}], \"scattermapbox\": [{\"marker\": {\"colorbar\": {\"outlinewidth\": 0, \"ticks\": \"\"}}, \"type\": \"scattermapbox\"}], \"scatterpolar\": [{\"marker\": {\"colorbar\": {\"outlinewidth\": 0, \"ticks\": \"\"}}, \"type\": \"scatterpolar\"}], \"scatterpolargl\": [{\"marker\": {\"colorbar\": {\"outlinewidth\": 0, \"ticks\": \"\"}}, \"type\": \"scatterpolargl\"}], \"scatterternary\": [{\"marker\": {\"colorbar\": {\"outlinewidth\": 0, \"ticks\": \"\"}}, \"type\": \"scatterternary\"}], \"surface\": [{\"colorbar\": {\"outlinewidth\": 0, \"ticks\": \"\"}, \"colorscale\": [[0.0, \"#0d0887\"], [0.1111111111111111, \"#46039f\"], [0.2222222222222222, \"#7201a8\"], [0.3333333333333333, \"#9c179e\"], [0.4444444444444444, \"#bd3786\"], [0.5555555555555556, \"#d8576b\"], [0.6666666666666666, \"#ed7953\"], [0.7777777777777778, \"#fb9f3a\"], [0.8888888888888888, \"#fdca26\"], [1.0, \"#f0f921\"]], \"type\": \"surface\"}], \"table\": [{\"cells\": {\"fill\": {\"color\": \"#506784\"}, \"line\": {\"color\": \"rgb(17,17,17)\"}}, \"header\": {\"fill\": {\"color\": \"#2a3f5f\"}, \"line\": {\"color\": \"rgb(17,17,17)\"}}, \"type\": \"table\"}]}, \"layout\": {\"annotationdefaults\": {\"arrowcolor\": \"#f2f5fa\", \"arrowhead\": 0, \"arrowwidth\": 1}, \"coloraxis\": {\"colorbar\": {\"outlinewidth\": 0, \"ticks\": \"\"}}, \"colorscale\": {\"diverging\": [[0, \"#8e0152\"], [0.1, \"#c51b7d\"], [0.2, \"#de77ae\"], [0.3, \"#f1b6da\"], [0.4, \"#fde0ef\"], [0.5, \"#f7f7f7\"], [0.6, \"#e6f5d0\"], [0.7, \"#b8e186\"], [0.8, \"#7fbc41\"], [0.9, \"#4d9221\"], [1, \"#276419\"]], \"sequential\": [[0.0, \"#0d0887\"], [0.1111111111111111, \"#46039f\"], [0.2222222222222222, \"#7201a8\"], [0.3333333333333333, \"#9c179e\"], [0.4444444444444444, \"#bd3786\"], [0.5555555555555556, \"#d8576b\"], [0.6666666666666666, \"#ed7953\"], [0.7777777777777778, \"#fb9f3a\"], [0.8888888888888888, \"#fdca26\"], [1.0, \"#f0f921\"]], \"sequentialminus\": [[0.0, \"#0d0887\"], [0.1111111111111111, \"#46039f\"], [0.2222222222222222, \"#7201a8\"], [0.3333333333333333, \"#9c179e\"], [0.4444444444444444, \"#bd3786\"], [0.5555555555555556, \"#d8576b\"], [0.6666666666666666, \"#ed7953\"], [0.7777777777777778, \"#fb9f3a\"], [0.8888888888888888, \"#fdca26\"], [1.0, \"#f0f921\"]]}, \"colorway\": [\"#636efa\", \"#EF553B\", \"#00cc96\", \"#ab63fa\", \"#FFA15A\", \"#19d3f3\", \"#FF6692\", \"#B6E880\", \"#FF97FF\", \"#FECB52\"], \"font\": {\"color\": \"#f2f5fa\"}, \"geo\": {\"bgcolor\": \"rgb(17,17,17)\", \"lakecolor\": \"rgb(17,17,17)\", \"landcolor\": \"rgb(17,17,17)\", \"showlakes\": true, \"showland\": true, \"subunitcolor\": \"#506784\"}, \"hoverlabel\": {\"align\": \"left\"}, \"hovermode\": \"closest\", \"mapbox\": {\"style\": \"dark\"}, \"paper_bgcolor\": \"rgb(17,17,17)\", \"plot_bgcolor\": \"rgb(17,17,17)\", \"polar\": {\"angularaxis\": {\"gridcolor\": \"#506784\", \"linecolor\": \"#506784\", \"ticks\": \"\"}, \"bgcolor\": \"rgb(17,17,17)\", \"radialaxis\": {\"gridcolor\": \"#506784\", \"linecolor\": \"#506784\", \"ticks\": \"\"}}, \"scene\": {\"xaxis\": {\"backgroundcolor\": \"rgb(17,17,17)\", \"gridcolor\": \"#506784\", \"gridwidth\": 2, \"linecolor\": \"#506784\", \"showbackground\": true, \"ticks\": \"\", \"zerolinecolor\": \"#C8D4E3\"}, \"yaxis\": {\"backgroundcolor\": \"rgb(17,17,17)\", \"gridcolor\": \"#506784\", \"gridwidth\": 2, \"linecolor\": \"#506784\", \"showbackground\": true, \"ticks\": \"\", \"zerolinecolor\": \"#C8D4E3\"}, \"zaxis\": {\"backgroundcolor\": \"rgb(17,17,17)\", \"gridcolor\": \"#506784\", \"gridwidth\": 2, \"linecolor\": \"#506784\", \"showbackground\": true, \"ticks\": \"\", \"zerolinecolor\": \"#C8D4E3\"}}, \"shapedefaults\": {\"line\": {\"color\": \"#f2f5fa\"}}, \"sliderdefaults\": {\"bgcolor\": \"#C8D4E3\", \"bordercolor\": \"rgb(17,17,17)\", \"borderwidth\": 1, \"tickwidth\": 0}, \"ternary\": {\"aaxis\": {\"gridcolor\": \"#506784\", \"linecolor\": \"#506784\", \"ticks\": \"\"}, \"baxis\": {\"gridcolor\": \"#506784\", \"linecolor\": \"#506784\", \"ticks\": \"\"}, \"bgcolor\": \"rgb(17,17,17)\", \"caxis\": {\"gridcolor\": \"#506784\", \"linecolor\": \"#506784\", \"ticks\": \"\"}}, \"title\": {\"x\": 0.05}, \"updatemenudefaults\": {\"bgcolor\": \"#506784\", \"borderwidth\": 0}, \"xaxis\": {\"automargin\": true, \"gridcolor\": \"#283442\", \"linecolor\": \"#506784\", \"ticks\": \"\", \"title\": {\"standoff\": 15}, \"zerolinecolor\": \"#283442\", \"zerolinewidth\": 2}, \"yaxis\": {\"automargin\": true, \"gridcolor\": \"#283442\", \"linecolor\": \"#506784\", \"ticks\": \"\", \"title\": {\"standoff\": 15}, \"zerolinecolor\": \"#283442\", \"zerolinewidth\": 2}}}, \"title\": {\"text\": \"Weekly Revenue and Trends for The Croods: A New Age\"}, \"xaxis\": {\"range\": [\"2020-11-23T00:00:00\", \"2020-12-08T00:00:00\"], \"title\": {\"text\": \"Date/Time\"}}, \"yaxis\": {\"range\": [0, 17129346.0], \"title\": {\"text\": \"Normalized Rev and Trends\"}}},                        {\"responsive\": true}                    ).then(function(){\n",
       "                            \n",
       "var gd = document.getElementById('129e3c7e-f7a7-4430-8e66-903c3f1203d3');\n",
       "var x = new MutationObserver(function (mutations, observer) {{\n",
       "        var display = window.getComputedStyle(gd).display;\n",
       "        if (!display || display === 'none') {{\n",
       "            console.log([gd, 'removed!']);\n",
       "            Plotly.purge(gd);\n",
       "            observer.disconnect();\n",
       "        }}\n",
       "}});\n",
       "\n",
       "// Listen for the removal of the full notebook cells\n",
       "var notebookContainer = gd.closest('#notebook-container');\n",
       "if (notebookContainer) {{\n",
       "    x.observe(notebookContainer, {childList: true});\n",
       "}}\n",
       "\n",
       "// Listen for the clearing of the current output cell\n",
       "var outputEl = gd.closest('.output');\n",
       "if (outputEl) {{\n",
       "    x.observe(outputEl, {childList: true});\n",
       "}}\n",
       "\n",
       "                        })                };                });            </script>        </div>"
      ]
     },
     "metadata": {},
     "output_type": "display_data"
    }
   ],
   "source": [
    "import plotly.graph_objects as go\n",
    "import pandas as pd\n",
    "from datetime import timedelta\n",
    "import dash\n",
    "import dash_core_components as dcc\n",
    "import dash_html_components as html\n",
    "import numpy as np\n",
    "import plotly.graph_objects as go\n",
    "from database import fetch_all_bpa_as_df\n",
    "\n",
    "\n",
    "COLORS = ['rgb(67,67,67)', 'rgb(115,115,115)', 'rgb(49,130,189)', 'rgb(189,189,189)']\n",
    "def static_stacked_trend_graph(stack=False):\n",
    "    \"\"\"\n",
    "    Returns scatter line plot of all power sources and power load.\n",
    "    If `stack` is `True`, the 4 power sources are stacked together to show the overall power\n",
    "    production.\n",
    "    \"\"\"\n",
    "    i=0\n",
    "    df = pd.read_csv('2_mo_weekly.csv', sep='\\t')\n",
    "    df['Date_dt'] = df['Date'].astype('datetime64[ns]')\n",
    "    date = df['Date_dt'].iloc[-1]\n",
    "    #movie_list = df[df['Date_dt'] == date].sort_values(by=['Weekly'], ascending=False)['Release'][0:4]\n",
    "    \n",
    "    df_test = df.groupby('Release').filter(lambda x : x['Release'].shape[0]>=2)\n",
    "    movie_list = df_test[df_test['Date_dt'] == date].sort_values(by=['Weekly'], ascending=False)['Release']\n",
    "\n",
    "    df = df[df['Release'] == movie_list.iloc[i]]\n",
    "    if df is None:\n",
    "        return go.Figure()\n",
    "    \n",
    "    x = df['Date_dt'] \n",
    "    \n",
    "    predict_date = df['Date_dt'].iloc[-1]  + timedelta(days=7)\n",
    "    \n",
    "    y_pred = linreg.predict([df.drop(['Release', 'Date', 'Y', 'Week + 1', 'Date_dt'], axis=1).iloc[-1]])\n",
    "    trends = df['google trends']/np.sum(df['google trends'])\n",
    "    rev = df['Weekly']/np.sum(df['Weekly'])\n",
    "    \n",
    "    fig = go.Figure()\n",
    "    \n",
    "    print(predict_date, y_pred)\n",
    "    \n",
    "    fig.add_trace(go.Scatter(x=x, y=df['Weekly'], mode='lines', name='Gross',\n",
    "                             line={'width': 2, 'color': 'orange'},\n",
    "                             stackgroup='stack' if stack else None))\n",
    "    fig.add_trace(go.Scatter(x=[predict_date], y=y_pred, mode='markers', name='Google Trends',\n",
    "                             line={'width': 2, 'color': 'red'},\n",
    "                             stackgroup='stack' if stack else None))\n",
    "    fig.update_layout(yaxis=dict(range=[0, 1.2*df['Weekly'].max()]), xaxis=dict(range=[x.iloc[0], predict_date+timedelta(days=1)]))\n",
    "\n",
    "    title = f'Weekly Revenue and Trends for {movie_list.iloc[i]}'\n",
    "    if stack:\n",
    "        title += ' [Stacked]'\n",
    "    fig.update_layout(template='plotly_dark',\n",
    "                      title=title,\n",
    "                      plot_bgcolor='#23272c',\n",
    "                      paper_bgcolor='#23272c',\n",
    "                      yaxis_title='Normalized Rev and Trends',\n",
    "                      xaxis_title='Date/Time')\n",
    "    return fig\n",
    "static_stacked_trend_graph()"
   ]
  },
  {
   "cell_type": "code",
   "execution_count": 401,
   "metadata": {
    "scrolled": true
   },
   "outputs": [
    {
     "ename": "TypeError",
     "evalue": "sort_values() got an unexpected keyword argument 'by'",
     "output_type": "error",
     "traceback": [
      "\u001b[1;31m---------------------------------------------------------------------------\u001b[0m",
      "\u001b[1;31mTypeError\u001b[0m                                 Traceback (most recent call last)",
      "\u001b[1;32m<ipython-input-401-ff4ed51927c4>\u001b[0m in \u001b[0;36m<module>\u001b[1;34m\u001b[0m\n\u001b[0;32m      2\u001b[0m \u001b[1;31m#df.groupby('Release').agg('count')['Date']\u001b[0m\u001b[1;33m\u001b[0m\u001b[1;33m\u001b[0m\u001b[1;33m\u001b[0m\u001b[0m\n\u001b[0;32m      3\u001b[0m \u001b[0mdf_test\u001b[0m \u001b[1;33m=\u001b[0m \u001b[0mdf\u001b[0m\u001b[1;33m.\u001b[0m\u001b[0mgroupby\u001b[0m\u001b[1;33m(\u001b[0m\u001b[1;34m'Release'\u001b[0m\u001b[1;33m)\u001b[0m\u001b[1;33m.\u001b[0m\u001b[0mfilter\u001b[0m\u001b[1;33m(\u001b[0m\u001b[1;32mlambda\u001b[0m \u001b[0mx\u001b[0m \u001b[1;33m:\u001b[0m \u001b[0mx\u001b[0m\u001b[1;33m[\u001b[0m\u001b[1;34m'Release'\u001b[0m\u001b[1;33m]\u001b[0m\u001b[1;33m.\u001b[0m\u001b[0mshape\u001b[0m\u001b[1;33m[\u001b[0m\u001b[1;36m0\u001b[0m\u001b[1;33m]\u001b[0m\u001b[1;33m>=\u001b[0m\u001b[1;36m2\u001b[0m\u001b[1;33m)\u001b[0m\u001b[1;33m\u001b[0m\u001b[1;33m\u001b[0m\u001b[0m\n\u001b[1;32m----> 4\u001b[1;33m \u001b[0mmovie_list\u001b[0m \u001b[1;33m=\u001b[0m \u001b[0mdf_test\u001b[0m\u001b[1;33m[\u001b[0m\u001b[0mdf_test\u001b[0m\u001b[1;33m[\u001b[0m\u001b[1;34m'Date_dt'\u001b[0m\u001b[1;33m]\u001b[0m \u001b[1;33m==\u001b[0m \u001b[0mdate\u001b[0m\u001b[1;33m]\u001b[0m\u001b[1;33m[\u001b[0m\u001b[1;34m'Release'\u001b[0m\u001b[1;33m]\u001b[0m\u001b[1;33m.\u001b[0m\u001b[0msort_values\u001b[0m\u001b[1;33m(\u001b[0m\u001b[0mby\u001b[0m\u001b[1;33m=\u001b[0m\u001b[1;33m[\u001b[0m\u001b[1;34m'Weekly'\u001b[0m\u001b[1;33m]\u001b[0m\u001b[1;33m,\u001b[0m \u001b[0mascending\u001b[0m\u001b[1;33m=\u001b[0m\u001b[1;32mFalse\u001b[0m\u001b[1;33m)\u001b[0m\u001b[1;33m[\u001b[0m\u001b[1;34m'Release'\u001b[0m\u001b[1;33m]\u001b[0m\u001b[1;33m\u001b[0m\u001b[1;33m\u001b[0m\u001b[0m\n\u001b[0m",
      "\u001b[1;31mTypeError\u001b[0m: sort_values() got an unexpected keyword argument 'by'"
     ]
    }
   ],
   "source": [
    "#df_test = df[df['Date_dt'] == date]['Release'].sort_values(by=['Weekly'], ascending=False)['Release']\n",
    "#df.groupby('Release').agg('count')['Date']\n",
    "df_test = df.groupby('Release').filter(lambda x : x['Release'].shape[0]>=2)\n",
    "movie_list = df_test[df_test['Date_dt'] == date]['Release'].sort_values(by=['Weekly'], ascending=False)['Release']"
   ]
  },
  {
   "cell_type": "code",
   "execution_count": 328,
   "metadata": {},
   "outputs": [
    {
     "data": {
      "text/plain": [
       "['The Fighting Preacher',\n",
       " 'Ford v Ferrari',\n",
       " 'Dark Waters',\n",
       " 'Promare',\n",
       " 'Once Upon a Time... In Hollywood',\n",
       " 'Linda Ronstadt: The Sound of My Voice',\n",
       " 'The Lighthouse',\n",
       " 'Toy Story 4',\n",
       " 'Countdown',\n",
       " 'Last Christmas',\n",
       " 'Frozen II',\n",
       " 'The Addams Family',\n",
       " 'Motherless Brooklyn',\n",
       " 'Overcomer',\n",
       " 'Knives Out',\n",
       " 'Black and Blue',\n",
       " 'Making Waves: The Art of Cinematic Sound',\n",
       " 'Doctor Sleep',\n",
       " 'Abominable',\n",
       " 'Maleficent: Mistress of Evil',\n",
       " 'Mr. KleinRe-release',\n",
       " 'Arctic Dogs',\n",
       " \"Charlie's Angels\",\n",
       " 'Midway',\n",
       " 'Portrait of a Lady on Fire',\n",
       " 'The Star2019 Re-release',\n",
       " 'Midnight Family',\n",
       " 'Waves',\n",
       " 'No Safe Spaces',\n",
       " 'Meet Me in St. Louis75th Anniversary',\n",
       " 'The Perfect Race',\n",
       " 'Matthias & Maxime',\n",
       " 'The Peanut Butter Falcon',\n",
       " 'Terminator: Dark Fate',\n",
       " 'Ad Astra',\n",
       " 'The Lion King',\n",
       " 'The Whistleblower',\n",
       " 'Panipat',\n",
       " 'Queen & Slim',\n",
       " 'Downton Abbey',\n",
       " 'Zombieland: Double Tap',\n",
       " 'White Snake',\n",
       " 'When Harry Met Sally...30th Anniversary',\n",
       " 'Western Stars',\n",
       " 'Gemini Man',\n",
       " 'Joker',\n",
       " 'Playing with Fire',\n",
       " 'Citizen K',\n",
       " 'Sympathy for the Devil',\n",
       " 'Judy',\n",
       " '21 Bridges',\n",
       " 'The Good Liar',\n",
       " 'Honey Boy',\n",
       " 'The Kindness of Strangers',\n",
       " \"The Current War: Director's Cut\",\n",
       " 'It Chapter Two',\n",
       " 'The Kingmaker',\n",
       " 'Parasite',\n",
       " 'Kind Hearts and Coronets2019 Re-release',\n",
       " 'Harriet',\n",
       " 'Playmobil: The Movie',\n",
       " 'A Beautiful Day in the Neighborhood',\n",
       " 'Jojo Rabbit',\n",
       " 'Killing Sarai',\n",
       " 'Hustlers',\n",
       " \"Charlie's Angels\",\n",
       " 'Motherless Brooklyn',\n",
       " 'Playmobil: The Movie',\n",
       " 'Christ Stopped at Eboli',\n",
       " 'Mr. KleinRe-release',\n",
       " 'The Good Liar',\n",
       " 'Chinese Portrait',\n",
       " 'Panipat',\n",
       " 'The Peanut Butter Falcon',\n",
       " 'Parasite',\n",
       " 'The Addams Family',\n",
       " 'Play the Flute',\n",
       " 'Once Upon a Time... In Hollywood',\n",
       " 'The Kingmaker',\n",
       " 'Countdown',\n",
       " 'No Safe Spaces',\n",
       " 'The Kindness of Strangers',\n",
       " \"The Current War: Director's Cut\",\n",
       " 'Citizen K',\n",
       " 'Dark Waters',\n",
       " 'Terminator: Dark Fate',\n",
       " 'Playing with Fire',\n",
       " 'Hustlers',\n",
       " 'The Lighthouse',\n",
       " 'Doctor Sleep',\n",
       " 'Bombshell',\n",
       " 'Bolshoi Ballet: The Nutcracker',\n",
       " 'Waves',\n",
       " 'Kind Hearts and Coronets2019 Re-release',\n",
       " 'Gift',\n",
       " 'Black and Blue',\n",
       " 'Killing Sarai',\n",
       " 'A Beautiful Day in the Neighborhood',\n",
       " 'Harriet',\n",
       " 'Queen & Slim',\n",
       " 'Jumanji: The Next Level',\n",
       " 'Downton Abbey',\n",
       " 'Richard Jewell',\n",
       " 'Judy',\n",
       " 'Sympathy for the Devil',\n",
       " 'Joker',\n",
       " 'Western Stars',\n",
       " 'White Snake',\n",
       " 'Honey Boy',\n",
       " 'Zombieland: Double Tap',\n",
       " 'Jojo Rabbit',\n",
       " 'INXS: Baby Live at Wembly Stadium',\n",
       " '21 Bridges',\n",
       " 'Frozen II',\n",
       " 'Knives Out',\n",
       " 'Uncut Gems',\n",
       " 'Arctic Dogs',\n",
       " 'Midway',\n",
       " 'Midnight Family',\n",
       " 'Meet Me in St. Louis75th Anniversary',\n",
       " 'The Whistleblower',\n",
       " 'Faustina: Love and Mercy',\n",
       " 'Portrait of a Lady on Fire',\n",
       " 'The Fighting Preacher',\n",
       " 'Last Christmas',\n",
       " 'Maleficent: Mistress of Evil',\n",
       " 'Ad Astra',\n",
       " 'A Hidden Life',\n",
       " 'Promare',\n",
       " 'Linda Ronstadt: The Sound of My Voice',\n",
       " 'Ford v Ferrari',\n",
       " 'Black Christmas',\n",
       " 'Matthias & Maxime',\n",
       " 'Making Waves: The Art of Cinematic Sound',\n",
       " 'Abominable',\n",
       " 'Queen & Slim',\n",
       " 'Chinese Portrait',\n",
       " 'Richard Jewell',\n",
       " 'Playmobil: The Movie',\n",
       " 'Star Wars: Episode IX - The Rise of Skywalker',\n",
       " 'Promare',\n",
       " \"Charlie's Angels\",\n",
       " 'Cats',\n",
       " 'Motherless Brooklyn',\n",
       " 'Invisible Life',\n",
       " 'Jojo Rabbit',\n",
       " 'Honey Boy',\n",
       " 'Joker',\n",
       " 'Judy',\n",
       " 'Jumanji: The Next Level',\n",
       " 'Harriet',\n",
       " 'Killing Sarai',\n",
       " 'Kind Hearts and Coronets2019 Re-release',\n",
       " 'Knives Out',\n",
       " 'Frozen II',\n",
       " 'Last Christmas',\n",
       " 'Ford v Ferrari',\n",
       " 'Playing with Fire',\n",
       " 'Linda Ronstadt: The Sound of My Voice',\n",
       " 'Maleficent: Mistress of Evil',\n",
       " 'Matthias & Maxime',\n",
       " 'Midnight Family',\n",
       " 'Midway',\n",
       " 'Mr. KleinRe-release',\n",
       " 'No Safe Spaces',\n",
       " 'Doctor Sleep',\n",
       " 'Dark Waters',\n",
       " 'Countdown',\n",
       " 'Once Upon a Time... In Hollywood',\n",
       " 'Parasite',\n",
       " 'Making Waves: The Art of Cinematic Sound',\n",
       " 'Downton Abbey',\n",
       " 'Hustlers',\n",
       " 'Black Christmas',\n",
       " 'Black and Blue',\n",
       " 'A Hidden Life',\n",
       " 'Abominable',\n",
       " 'The Whistleblower',\n",
       " 'Sympathy for the Devil',\n",
       " 'The Tale of The Princess Kaguya2019 Re-release',\n",
       " 'Bombshell',\n",
       " 'Arctic Dogs',\n",
       " 'Ashfall',\n",
       " 'The Peanut Butter Falcon',\n",
       " 'Terminator: Dark Fate',\n",
       " 'The Lighthouse',\n",
       " \"The Current War: Director's Cut\",\n",
       " 'Be Natural: The Untold Story of Alice Guy-Blaché',\n",
       " 'The Kingmaker',\n",
       " 'The Kindness of Strangers',\n",
       " 'Uncut Gems',\n",
       " 'Waves',\n",
       " 'The Good Liar',\n",
       " 'White Snake',\n",
       " '21 Bridges',\n",
       " 'Zombieland: Double Tap',\n",
       " 'A Beautiful Day in the Neighborhood',\n",
       " 'White Snake',\n",
       " 'Honey Boy',\n",
       " 'Doctor Sleep',\n",
       " 'Dark Waters',\n",
       " 'The Lighthouse',\n",
       " 'Dabangg 3',\n",
       " 'No Safe Spaces',\n",
       " 'Jojo Rabbit',\n",
       " 'Killing Sarai',\n",
       " 'Once Upon a Time... In Hollywood',\n",
       " 'Zombieland: Double Tap',\n",
       " 'The Kingmaker',\n",
       " 'Invisible Life',\n",
       " 'Parasite',\n",
       " 'Clemency',\n",
       " '1917',\n",
       " 'Hustlers',\n",
       " 'Ashfall',\n",
       " 'Countdown',\n",
       " 'Arctic Dogs',\n",
       " 'Joker',\n",
       " 'Kind Hearts and Coronets2019 Re-release',\n",
       " 'Knives Out',\n",
       " 'Frozen II',\n",
       " 'Uncut Gems',\n",
       " 'A Beautiful Day in the Neighborhood',\n",
       " 'Last Christmas',\n",
       " 'Just Mercy',\n",
       " 'A Hidden Life',\n",
       " 'Ford v Ferrari',\n",
       " 'Linda Ronstadt: The Sound of My Voice',\n",
       " 'Little Women',\n",
       " 'Harriet',\n",
       " 'Abominable',\n",
       " 'Maleficent: Mistress of Evil',\n",
       " 'The Good Liar',\n",
       " 'The White Sheik2019 re-release',\n",
       " 'Jumanji: The Next Level',\n",
       " '21 Bridges',\n",
       " 'Merci pour tout',\n",
       " 'Judy',\n",
       " 'Midnight Family',\n",
       " 'Midway',\n",
       " 'Waves',\n",
       " 'Bombshell',\n",
       " \"Charlie's Angels\",\n",
       " \"The Current War: Director's Cut\",\n",
       " 'Black and Blue',\n",
       " 'Queen & Slim',\n",
       " 'Promare',\n",
       " 'Playing with Fire',\n",
       " 'Terminator: Dark Fate',\n",
       " 'Black Christmas',\n",
       " 'Richard Jewell',\n",
       " 'Playmobil: The Movie',\n",
       " 'Spies in Disguise',\n",
       " 'Cats',\n",
       " 'Sympathy for the Devil',\n",
       " 'Star Wars: Episode IX - The Rise of Skywalker',\n",
       " 'Chinese Portrait',\n",
       " 'Linda Ronstadt: The Sound of My Voice',\n",
       " 'Doctor Who Live Q&A And Screening',\n",
       " 'Playmobil: The Movie',\n",
       " 'Promare',\n",
       " 'Little Women',\n",
       " 'Ashfall',\n",
       " 'Sympathy for the Devil',\n",
       " 'Midway',\n",
       " 'Abominable',\n",
       " 'Maleficent: Mistress of Evil',\n",
       " 'The White Sheik2019 re-release',\n",
       " 'Cats',\n",
       " 'Merci pour tout',\n",
       " 'Midnight Family',\n",
       " 'The Good Liar',\n",
       " 'Ford v Ferrari',\n",
       " 'Bombshell',\n",
       " 'Hustlers',\n",
       " '1917',\n",
       " 'Invisible Life',\n",
       " 'Zombieland: Double Tap',\n",
       " 'Star Wars: Episode IX - The Rise of Skywalker',\n",
       " 'Jojo Rabbit',\n",
       " 'Honey Boy',\n",
       " 'Joker',\n",
       " 'Spies in Disguise',\n",
       " 'Judy',\n",
       " '21 Bridges',\n",
       " 'A Hidden Life',\n",
       " 'Jumanji: The Next Level',\n",
       " 'Waves',\n",
       " 'Just Mercy',\n",
       " 'Richard Jewell',\n",
       " 'A Beautiful Day in the Neighborhood',\n",
       " 'Killing Sarai',\n",
       " 'Black and Blue',\n",
       " 'Kind Hearts and Coronets2019 Re-release',\n",
       " 'Frozen II',\n",
       " 'Uncut Gems',\n",
       " 'Knives Out',\n",
       " 'Queen & Slim',\n",
       " 'Doctor Sleep',\n",
       " 'Harriet',\n",
       " 'Last Christmas',\n",
       " 'Black Christmas',\n",
       " 'Countdown',\n",
       " 'The Kingmaker',\n",
       " 'Once Upon a Time... In Hollywood',\n",
       " 'The Grudge',\n",
       " 'Chinese Portrait',\n",
       " 'Playing with Fire',\n",
       " 'Be Natural: The Untold Story of Alice Guy-Blaché',\n",
       " 'Clemency',\n",
       " 'The Lighthouse',\n",
       " \"Charlie's Angels\",\n",
       " 'No Safe Spaces',\n",
       " 'Dark Waters',\n",
       " 'Parasite',\n",
       " 'Christ Stopped at Eboli',\n",
       " 'Be Natural: The Untold Story of Alice Guy-Blaché',\n",
       " 'Harriet',\n",
       " 'Little Women',\n",
       " 'Jumanji: The Next Level',\n",
       " 'Three Christs',\n",
       " 'Once Upon a Time... In Hollywood',\n",
       " 'Uncut Gems',\n",
       " 'Underwater',\n",
       " 'Sarileru Neekevvaru',\n",
       " 'The Kingmaker',\n",
       " 'Maleficent: Mistress of Evil',\n",
       " 'Queen & Slim',\n",
       " 'Judy',\n",
       " 'The White Sheik2019 re-release',\n",
       " '21 Bridges',\n",
       " 'Parasite',\n",
       " 'The Lighthouse',\n",
       " 'Clemency',\n",
       " 'Les Misérables',\n",
       " 'Like a Boss',\n",
       " 'A Beautiful Day in the Neighborhood',\n",
       " 'Black Christmas',\n",
       " 'Linda Ronstadt: The Sound of My Voice',\n",
       " 'Richard Jewell',\n",
       " 'Just Mercy',\n",
       " 'Knives Out',\n",
       " 'A Hidden Life',\n",
       " 'Playing with Fire',\n",
       " 'Promare',\n",
       " 'Ford v Ferrari',\n",
       " 'Spies in Disguise',\n",
       " 'Frozen II',\n",
       " 'Matthias & Maxime',\n",
       " 'Star Wars: Episode IX - The Rise of Skywalker',\n",
       " 'Waves',\n",
       " 'Midway',\n",
       " 'Chhapaak',\n",
       " '1917',\n",
       " 'Sympathy for the Devil',\n",
       " \"Charlie's Angels\",\n",
       " 'Ashfall',\n",
       " 'Invisible Life',\n",
       " 'Playmobil: The Movie',\n",
       " 'Mystify: Michael Hutchence',\n",
       " 'Bombshell',\n",
       " 'Hustlers',\n",
       " 'Doctor Sleep',\n",
       " 'Dark Waters',\n",
       " 'The Good Liar',\n",
       " 'Zombieland: Double Tap',\n",
       " 'Jojo Rabbit',\n",
       " 'No Safe Spaces',\n",
       " 'Honey Boy',\n",
       " 'Midnight Family',\n",
       " 'The Grudge',\n",
       " 'Countdown',\n",
       " 'Cats',\n",
       " 'Merci pour tout',\n",
       " 'Joker',\n",
       " 'Bombshell',\n",
       " 'Citizen K',\n",
       " '21 Bridges',\n",
       " 'Judy',\n",
       " 'Underwater',\n",
       " 'Joker',\n",
       " 'Queen & Slim',\n",
       " 'Waves',\n",
       " 'Kind Hearts and Coronets2019 Re-release',\n",
       " 'Spies in Disguise',\n",
       " 'A Beautiful Day in the Neighborhood',\n",
       " 'Honey Boy',\n",
       " 'Jojo Rabbit',\n",
       " 'Invisible Life',\n",
       " 'Star Wars: Episode IX - The Rise of Skywalker',\n",
       " 'Just Mercy',\n",
       " 'The Grudge',\n",
       " '1917',\n",
       " 'The Good Liar',\n",
       " 'Jumanji: The Next Level',\n",
       " 'Harriet',\n",
       " 'Richard Jewell',\n",
       " 'Weathering with You',\n",
       " 'The Lighthouse',\n",
       " 'Be Natural: The Untold Story of Alice Guy-Blaché',\n",
       " 'Clemency',\n",
       " 'A Hidden Life',\n",
       " 'Three Christs',\n",
       " 'Linda Ronstadt: The Sound of My Voice',\n",
       " 'No Safe Spaces',\n",
       " 'Once Upon a Time... In Hollywood',\n",
       " 'Little Women',\n",
       " 'Midnight Family',\n",
       " 'The Kingmaker',\n",
       " 'Maleficent: Mistress of Evil',\n",
       " 'The White Sheik2019 re-release',\n",
       " 'Frozen II',\n",
       " 'Chhapaak',\n",
       " 'Matthias & Maxime',\n",
       " 'An American in Paris2020 Re-release',\n",
       " 'Ford v Ferrari',\n",
       " 'Cats',\n",
       " \"Charlie's Angels\",\n",
       " 'Uncut Gems',\n",
       " 'Parasite',\n",
       " 'Dark Waters',\n",
       " 'Knives Out',\n",
       " 'Dolittle',\n",
       " 'Midway',\n",
       " 'Les Misérables',\n",
       " 'Merci pour tout',\n",
       " 'Like a Boss',\n",
       " 'Bad Boys for Life',\n",
       " 'Ashfall',\n",
       " 'Zombieland: Double Tap',\n",
       " 'Merci pour tout',\n",
       " 'Weathering with You',\n",
       " 'The Lighthouse',\n",
       " 'Jojo Rabbit',\n",
       " 'Invisible Life',\n",
       " 'Spies in Disguise',\n",
       " 'Spiral Farm',\n",
       " 'The Man Standing Next',\n",
       " 'Sympathy for the Devil',\n",
       " 'No Safe Spaces',\n",
       " 'Play the Flute',\n",
       " 'Midnight Family',\n",
       " 'Waves',\n",
       " 'The Kingmaker',\n",
       " 'The Turning',\n",
       " 'Uncut Gems',\n",
       " 'Kind Hearts and Coronets2019 Re-release',\n",
       " 'Knives Out',\n",
       " 'Three Christs',\n",
       " 'Queen & Slim',\n",
       " 'Underwater',\n",
       " 'Star Wars: Episode IX - The Rise of Skywalker',\n",
       " 'Les Misérables',\n",
       " 'Like a Boss',\n",
       " 'Parasite',\n",
       " 'The Gentlemen',\n",
       " 'The Gliksmans',\n",
       " 'Just Mercy',\n",
       " 'Panga',\n",
       " 'Linda Ronstadt: The Sound of My Voice',\n",
       " 'Richard Jewell',\n",
       " 'Once Upon a Time... In Hollywood',\n",
       " 'Jumanji: The Next Level',\n",
       " 'Little Women',\n",
       " 'Lore',\n",
       " 'The Wonderland',\n",
       " 'The White Sheik2019 re-release',\n",
       " 'Judy',\n",
       " 'Maleficent: Mistress of Evil',\n",
       " 'The Last Full Measure',\n",
       " 'Joker',\n",
       " 'Matthias & Maxime',\n",
       " 'The Grudge',\n",
       " 'Midway',\n",
       " 'Zombieland: Double Tap',\n",
       " 'Citizen K',\n",
       " 'Be Natural: The Untold Story of Alice Guy-Blaché',\n",
       " 'Clemency',\n",
       " 'Bad Boys for Life',\n",
       " 'Chhapaak',\n",
       " 'End of the Century',\n",
       " 'Chinese Portrait',\n",
       " 'Frozen II',\n",
       " 'A Hidden Life',\n",
       " 'A Beautiful Day in the Neighborhood',\n",
       " '21 Bridges',\n",
       " 'Harriet',\n",
       " 'Ashfall',\n",
       " 'An American in Paris2020 Re-release',\n",
       " 'Cats',\n",
       " 'Dolittle',\n",
       " 'Ford v Ferrari',\n",
       " '1917',\n",
       " 'Christ Stopped at Eboli',\n",
       " 'Bombshell',\n",
       " 'Blood Widow',\n",
       " 'Blind Eyes Opened',\n",
       " 'The Perfect Race',\n",
       " 'Cats',\n",
       " 'Just Mercy',\n",
       " 'The Turning',\n",
       " 'The Lighthouse',\n",
       " 'Chhapaak',\n",
       " 'Chinese Portrait',\n",
       " 'Judy',\n",
       " 'Joker',\n",
       " 'José',\n",
       " 'The Rhythm Section',\n",
       " 'Christ Stopped at Eboli',\n",
       " 'Jumanji: The Next Level',\n",
       " 'Bad Boys for Life',\n",
       " 'Ashfall',\n",
       " 'Mr. KleinRe-release',\n",
       " 'The Man Standing Next',\n",
       " 'Once Upon a Time... In Hollywood',\n",
       " 'The Last Full Measure',\n",
       " 'Bombshell',\n",
       " 'Little Women',\n",
       " 'Sympathy for the Devil',\n",
       " 'Spies in Disguise',\n",
       " 'Linda Ronstadt: The Sound of My Voice',\n",
       " 'Maleficent: Mistress of Evil',\n",
       " 'The Assistant',\n",
       " 'Ford v Ferrari',\n",
       " 'Like a Boss',\n",
       " 'Les Misérables',\n",
       " 'Matthias & Maxime',\n",
       " 'The Gentlemen',\n",
       " 'Queen & Slim',\n",
       " 'Knives Out',\n",
       " 'The Grudge',\n",
       " 'Frozen II',\n",
       " 'End of the Century',\n",
       " 'Promare',\n",
       " 'Merci pour tout',\n",
       " 'Gretel & Hansel',\n",
       " 'Play the Flute',\n",
       " 'Midnight Family',\n",
       " 'Richard Jewell',\n",
       " 'Star Wars: Episode IX - The Rise of Skywalker',\n",
       " 'The White Sheik2019 re-release',\n",
       " 'Waves',\n",
       " 'Incitement',\n",
       " 'Weathering with You',\n",
       " 'Invisible Life',\n",
       " 'The Wonderland',\n",
       " 'A Hidden Life',\n",
       " 'A Beautiful Day in the Neighborhood',\n",
       " 'Dolittle',\n",
       " 'Panga',\n",
       " 'Three Christs',\n",
       " 'Clemency',\n",
       " 'Honeyland',\n",
       " 'Jojo Rabbit',\n",
       " 'Citizen K',\n",
       " 'Underwater',\n",
       " '1917',\n",
       " 'Parasite',\n",
       " 'Uncut Gems',\n",
       " 'Frozen II',\n",
       " 'Bad Boys for Life',\n",
       " 'Incitement',\n",
       " 'Promare',\n",
       " 'Jojo Rabbit',\n",
       " 'Be Natural: The Untold Story of Alice Guy-Blaché',\n",
       " 'The Last Full Measure',\n",
       " 'Clemency',\n",
       " 'Gretel & Hansel',\n",
       " 'Midnight Family',\n",
       " 'Underwater',\n",
       " 'A Beautiful Day in the Neighborhood',\n",
       " 'Merci pour tout',\n",
       " 'Knives Out',\n",
       " '1917',\n",
       " 'Bombshell',\n",
       " 'Love Story50th Anniversary',\n",
       " 'Spies in Disguise',\n",
       " 'Little Women',\n",
       " 'Sympathy for the Devil',\n",
       " 'Linda Ronstadt: The Sound of My Voice',\n",
       " 'Birds of Prey: And the Fantabulous Emancipation of One Harley Quinn',\n",
       " 'The Assistant',\n",
       " 'Maleficent: Mistress of Evil',\n",
       " 'Like a Boss',\n",
       " 'Dolittle',\n",
       " 'Ford v Ferrari',\n",
       " 'Once Upon a Time... In Hollywood',\n",
       " 'Les Misérables',\n",
       " 'Panga',\n",
       " 'Richard Jewell',\n",
       " 'The Gentlemen',\n",
       " 'Weathering with You',\n",
       " 'Parasite',\n",
       " 'The Grudge',\n",
       " 'Cats',\n",
       " 'The Lodge',\n",
       " 'Just Mercy',\n",
       " 'Play the Flute',\n",
       " 'The Man Standing Next',\n",
       " 'The Rhythm Section',\n",
       " 'A Hidden Life',\n",
       " 'Jumanji: The Next Level',\n",
       " 'Judy',\n",
       " 'Honeyland',\n",
       " 'Three Christs',\n",
       " 'Uncut Gems',\n",
       " 'Chinese Portrait',\n",
       " 'Citizen K',\n",
       " 'José',\n",
       " 'The Turning',\n",
       " 'Joker',\n",
       " 'Star Wars: Episode IX - The Rise of Skywalker',\n",
       " 'The Assistant',\n",
       " 'Les Misérables',\n",
       " 'Honeyland',\n",
       " 'Sonic the Hedgehog',\n",
       " 'Ford v Ferrari',\n",
       " 'Citizen K',\n",
       " 'Panga',\n",
       " 'Play the Flute',\n",
       " 'The Cordillera of Dreams',\n",
       " 'Like a Boss',\n",
       " 'First Lady',\n",
       " 'Maleficent: Mistress of Evil',\n",
       " 'Ordinary Love',\n",
       " 'Foosballers',\n",
       " 'Star Wars: Episode IX - The Rise of Skywalker',\n",
       " 'The Turning',\n",
       " 'Bombshell',\n",
       " 'I Was at Home But...',\n",
       " 'Love Story50th Anniversary',\n",
       " 'Once Upon a Time... In Hollywood',\n",
       " 'Mafia Inc',\n",
       " 'Spies in Disguise',\n",
       " 'Joker',\n",
       " 'Little Women',\n",
       " 'Birds of Prey: And the Fantabulous Emancipation of One Harley Quinn',\n",
       " '1917',\n",
       " 'Sympathy for the Devil',\n",
       " 'Linda Ronstadt: The Sound of My Voice',\n",
       " 'The Times of Bill Cunningham',\n",
       " 'Olympic Dreams',\n",
       " 'Just Mercy',\n",
       " 'The Rhythm Section',\n",
       " 'Mr. KleinRe-release',\n",
       " 'Downhill',\n",
       " 'Jojo Rabbit',\n",
       " 'Merci pour tout',\n",
       " 'Jumanji: The Next Level',\n",
       " 'Incitement',\n",
       " 'Midnight Family',\n",
       " 'The Last Full Measure',\n",
       " 'Clemency',\n",
       " 'Kind Hearts and Coronets2019 Re-release',\n",
       " 'Frozen II',\n",
       " 'A Beautiful Day in the Neighborhood',\n",
       " 'Weathering with You',\n",
       " 'Bad Boys for Life',\n",
       " 'The Lodge',\n",
       " 'Underwater',\n",
       " 'Portrait of a Lady on Fire',\n",
       " 'Uncut Gems',\n",
       " 'The White Sheik2019 re-release',\n",
       " 'The Grudge',\n",
       " 'The Gentlemen',\n",
       " 'The Photograph',\n",
       " 'Dolittle',\n",
       " 'After Parkland',\n",
       " 'Cats',\n",
       " 'Promare',\n",
       " 'Parasite',\n",
       " 'Gretel & Hansel',\n",
       " 'Knives Out',\n",
       " 'Fantasy Island',\n",
       " 'Judy',\n",
       " 'Mr. KleinRe-release',\n",
       " \"My Boyfriend's Meds\",\n",
       " 'Parasite',\n",
       " 'Once Upon a Time... In Hollywood',\n",
       " 'Portrait of a Lady on Fire',\n",
       " 'National Theater Live: Cyrano de Bergerac2020 Re-release',\n",
       " 'Bombshell',\n",
       " 'Mafia Inc',\n",
       " 'Downhill',\n",
       " 'Brahms: The Boy II',\n",
       " 'Matthias & Maxime',\n",
       " 'Promare',\n",
       " 'Fantasy Island',\n",
       " 'Seberg',\n",
       " 'First Lady',\n",
       " 'Olympic Dreams',\n",
       " 'Citizen K',\n",
       " 'Patterns of Evidence: The Red Sea Miracle',\n",
       " 'Ordinary Love',\n",
       " 'Dolittle',\n",
       " 'Sonic the Hedgehog',\n",
       " 'Merci pour tout',\n",
       " 'Premature',\n",
       " 'Emma.',\n",
       " 'Clemency',\n",
       " 'Ride Your Wave',\n",
       " 'Spies in Disguise',\n",
       " 'Les Misérables',\n",
       " 'The Call of the Wild',\n",
       " 'Honeyland',\n",
       " 'The Cordillera of Dreams',\n",
       " 'The Gentlemen',\n",
       " 'The Turning',\n",
       " 'The Times of Bill Cunningham',\n",
       " 'Knives Out',\n",
       " 'The Rhythm Section',\n",
       " 'The Grudge',\n",
       " 'Joker',\n",
       " 'The White Sheik2019 re-release',\n",
       " 'Kind Hearts and Coronets2019 Re-release',\n",
       " 'The Photograph',\n",
       " 'Judy',\n",
       " 'Jumanji: The Next Level',\n",
       " 'Gretel & Hansel',\n",
       " 'The Lodge',\n",
       " 'Bad Boys for Life',\n",
       " 'The Last Full Measure',\n",
       " 'Just Mercy',\n",
       " 'Frozen II',\n",
       " 'Uncut Gems',\n",
       " 'Jojo Rabbit',\n",
       " 'Star Wars: Episode IX - The Rise of Skywalker',\n",
       " 'Linda Ronstadt: The Sound of My Voice',\n",
       " 'Weathering with You',\n",
       " 'Incitement',\n",
       " 'Impractical Jokers: The Movie',\n",
       " 'Sympathy for the Devil',\n",
       " 'Underwater',\n",
       " 'A Beautiful Day in the Neighborhood',\n",
       " 'Birds of Prey: And the Fantabulous Emancipation of One Harley Quinn',\n",
       " 'Little Women',\n",
       " 'Ford v Ferrari',\n",
       " '1917',\n",
       " 'The Assistant',\n",
       " 'Like a Boss',\n",
       " 'I Was at Home But...',\n",
       " 'Downhill',\n",
       " 'Play the Flute',\n",
       " 'The Perfect Race',\n",
       " 'Ordinary Love',\n",
       " 'The Lodge',\n",
       " 'Impractical Jokers: The Movie',\n",
       " 'Olympic Dreams',\n",
       " 'Judy',\n",
       " '1917',\n",
       " 'Jumanji: The Next Level',\n",
       " 'Chinese Portrait',\n",
       " 'I Was at Home But...',\n",
       " 'Uncut Gems',\n",
       " 'Wendy',\n",
       " 'My Hero Academia: Heroes Rising',\n",
       " 'Parasite',\n",
       " 'The White Sheik2019 re-release',\n",
       " 'Citizen K',\n",
       " 'Just Mercy',\n",
       " 'Jojo Rabbit',\n",
       " 'Underwater',\n",
       " \"My Boyfriend's Meds\",\n",
       " 'The Turning',\n",
       " 'Incitement',\n",
       " 'The Times of Bill Cunningham',\n",
       " 'Clemency',\n",
       " 'Dolittle',\n",
       " 'A Beautiful Day in the Neighborhood',\n",
       " 'Joker',\n",
       " 'The Photograph',\n",
       " 'Weathering with You',\n",
       " 'Star Wars: Episode IX - The Rise of Skywalker',\n",
       " 'The Last Full Measure',\n",
       " 'Knives Out',\n",
       " 'Promare',\n",
       " 'The Gentlemen',\n",
       " 'The Cordillera of Dreams',\n",
       " 'The Call of the Wild',\n",
       " 'Ford v Ferrari',\n",
       " 'Seberg',\n",
       " 'The Assistant',\n",
       " 'First Lady',\n",
       " 'Sympathy for the Devil',\n",
       " 'Sonic the Hedgehog',\n",
       " 'Brahms: The Boy II',\n",
       " 'Bombshell',\n",
       " 'Little Women',\n",
       " 'Spies in Disguise',\n",
       " 'Mafia Inc',\n",
       " 'Birds of Prey: And the Fantabulous Emancipation of One Harley Quinn',\n",
       " 'Fantasy Island',\n",
       " 'The Grudge',\n",
       " 'Ride Your Wave',\n",
       " 'Kind Hearts and Coronets2019 Re-release',\n",
       " 'The Invisible Man',\n",
       " 'Frozen II',\n",
       " 'Premature',\n",
       " 'Merci pour tout',\n",
       " 'Portrait of a Lady on Fire',\n",
       " 'Bad Boys for Life',\n",
       " 'Burden',\n",
       " 'Emma.',\n",
       " 'Gretel & Hansel',\n",
       " 'Sonic the Hedgehog',\n",
       " 'Brahms: The Boy II',\n",
       " 'Bombshell',\n",
       " 'Weathering with You',\n",
       " 'The Lodge',\n",
       " '1917',\n",
       " 'Ordinary Love',\n",
       " 'Bad Boys for Life',\n",
       " 'Baaghi 3',\n",
       " 'Spies in Disguise',\n",
       " 'Birds of Prey: And the Fantabulous Emancipation of One Harley Quinn',\n",
       " 'Onward',\n",
       " 'Swallow',\n",
       " 'Star Wars: Episode IX - The Rise of Skywalker',\n",
       " 'Wendy',\n",
       " 'Portrait of a Lady on Fire',\n",
       " 'Citizen K',\n",
       " 'Sympathy for the Devil',\n",
       " 'The Photograph',\n",
       " 'The Times of Bill Cunningham',\n",
       " 'The Gentlemen',\n",
       " 'The Invisible Man',\n",
       " 'The Call of the Wild',\n",
       " 'The Turning',\n",
       " 'The Way Back',\n",
       " 'Play the Flute',\n",
       " 'Burden',\n",
       " 'Ride Your Wave',\n",
       " 'Parasite',\n",
       " 'The Booksellers',\n",
       " 'Premature',\n",
       " 'Seberg',\n",
       " 'The Assistant',\n",
       " 'Uncut Gems',\n",
       " 'A Beautiful Day in the Neighborhood',\n",
       " 'Underwater',\n",
       " 'The Last Full Measure',\n",
       " '14 Days 12 Nights',\n",
       " 'Little Women',\n",
       " 'Kind Hearts and Coronets2019 Re-release',\n",
       " 'Judy',\n",
       " 'Joker',\n",
       " 'Fantasy Island',\n",
       " 'My Hero Academia: Heroes Rising',\n",
       " 'Mafia Inc',\n",
       " 'Jojo Rabbit',\n",
       " 'First Cow',\n",
       " 'Hope Gap',\n",
       " 'First Lady',\n",
       " \"My Boyfriend's Meds\",\n",
       " 'Dolittle',\n",
       " 'Knives Out',\n",
       " 'Downhill',\n",
       " 'Jumanji: The Next Level',\n",
       " 'Frozen II',\n",
       " 'Incitement',\n",
       " 'Ford v Ferrari',\n",
       " 'Impractical Jokers: The Movie',\n",
       " 'Gretel & Hansel',\n",
       " 'Emma.',\n",
       " 'Just Mercy',\n",
       " 'Merci pour tout',\n",
       " 'I Was at Home But...',\n",
       " 'Olympic Dreams',\n",
       " 'The Way Back',\n",
       " 'Gretel & Hansel',\n",
       " 'Seberg',\n",
       " 'Hope Gap',\n",
       " 'Heart of Africa',\n",
       " 'Baaghi 3',\n",
       " 'Emma.',\n",
       " 'Knives Out',\n",
       " 'Swallow',\n",
       " 'The Lodge',\n",
       " 'The Gentlemen',\n",
       " 'Jojo Rabbit',\n",
       " 'Just Mercy',\n",
       " 'Frozen II',\n",
       " 'The Invisible Man',\n",
       " 'Bad Boys for Life',\n",
       " 'The Photograph',\n",
       " 'Premature',\n",
       " 'The Roads Not Taken',\n",
       " 'Ford v Ferrari',\n",
       " 'Burden',\n",
       " 'The Hunt',\n",
       " 'The Times of Bill Cunningham',\n",
       " 'Fantasy Island',\n",
       " 'Ride Your Wave',\n",
       " 'Brahms: The Boy II',\n",
       " 'The Last Full Measure',\n",
       " 'Portrait of a Lady on Fire',\n",
       " 'Human Nature',\n",
       " 'The Call of the Wild',\n",
       " 'Jumanji: The Next Level',\n",
       " 'The Booksellers',\n",
       " 'Onward',\n",
       " 'Spies in Disguise',\n",
       " 'Star Wars: Episode IX - The Rise of Skywalker',\n",
       " 'The Assistant',\n",
       " 'A Beautiful Day in the Neighborhood',\n",
       " 'Uncut Gems',\n",
       " 'Little Women',\n",
       " 'Incitement',\n",
       " 'Underwater',\n",
       " 'Wendy',\n",
       " 'Bloodshot',\n",
       " 'Birds of Prey: And the Fantabulous Emancipation of One Harley Quinn',\n",
       " 'Impractical Jokers: The Movie',\n",
       " 'Ordinary Love',\n",
       " 'Tokyo Godfathers2020 Re-release',\n",
       " 'Never Rarely Sometimes Always',\n",
       " 'First Lady',\n",
       " 'Downhill',\n",
       " '14 Days 12 Nights',\n",
       " 'I Still Believe',\n",
       " 'First Cow',\n",
       " 'Dolittle',\n",
       " \"My Boyfriend's Meds\",\n",
       " 'My Hero Academia: Heroes Rising',\n",
       " 'Weathering with You',\n",
       " 'I Was at Home But...',\n",
       " 'Mafia Inc',\n",
       " 'Parasite',\n",
       " '1917',\n",
       " 'Sonic the Hedgehog',\n",
       " 'Gretel & Hansel',\n",
       " 'Swallow',\n",
       " 'Jumanji: The Next Level',\n",
       " 'Birds of Prey: And the Fantabulous Emancipation of One Harley Quinn',\n",
       " 'Just Mercy',\n",
       " 'The Last Full Measure',\n",
       " 'Baaghi 3',\n",
       " 'Star Wars: Episode IX - The Rise of Skywalker',\n",
       " 'Ford v Ferrari',\n",
       " 'Frozen II',\n",
       " 'The Call of the Wild',\n",
       " 'Knives Out',\n",
       " 'The Gentlemen',\n",
       " 'Sonic the Hedgehog',\n",
       " 'The Booksellers',\n",
       " 'Fantasy Island',\n",
       " 'Be Natural: The Untold Story of Alice Guy-Blaché',\n",
       " 'Human Nature',\n",
       " 'Brahms: The Boy II',\n",
       " 'Spies in Disguise',\n",
       " 'The Assistant',\n",
       " 'Little Women',\n",
       " 'Bloodshot',\n",
       " 'The Invisible Man',\n",
       " 'Bad Boys for Life',\n",
       " 'The Hunt',\n",
       " 'Emma.',\n",
       " 'Dolittle',\n",
       " \"My Boyfriend's Meds\",\n",
       " 'Chal Mera Putt 2',\n",
       " 'The Way Back',\n",
       " 'Jojo Rabbit',\n",
       " 'Burden',\n",
       " 'Never Rarely Sometimes Always',\n",
       " 'Tokyo Godfathers2020 Re-release',\n",
       " 'Hope Gap',\n",
       " 'Incitement',\n",
       " 'Ordinary Love',\n",
       " 'Wendy',\n",
       " 'The Roads Not Taken',\n",
       " 'The Photograph',\n",
       " 'Play the Flute',\n",
       " 'The Times of Bill Cunningham',\n",
       " 'Downhill',\n",
       " 'Premature',\n",
       " 'Onward',\n",
       " '1917',\n",
       " 'Heart of Africa',\n",
       " 'I Still Believe',\n",
       " 'Be Natural: The Untold Story of Alice Guy-Blaché',\n",
       " 'The Gentlemen',\n",
       " 'The Other Lamb',\n",
       " 'Swallow',\n",
       " 'The Other Lamb',\n",
       " 'Resistance',\n",
       " 'Swallow',\n",
       " 'The Other Lamb',\n",
       " 'True History of the Kelly Gang',\n",
       " 'Swallow',\n",
       " 'Resistance',\n",
       " 'True History of the Kelly Gang',\n",
       " 'Resistance',\n",
       " 'The Wretched',\n",
       " 'First Lady',\n",
       " 'The Wretched',\n",
       " 'True History of the Kelly Gang',\n",
       " 'How to Build a Girl',\n",
       " 'How to Build a Girl',\n",
       " 'The Wretched',\n",
       " 'First Lady',\n",
       " ...]"
      ]
     },
     "execution_count": 328,
     "metadata": {},
     "output_type": "execute_result"
    }
   ],
   "source": [
    "df['Release'].tolist()"
   ]
  },
  {
   "cell_type": "code",
   "execution_count": 309,
   "metadata": {},
   "outputs": [
    {
     "name": "stdout",
     "output_type": "stream",
     "text": [
      "0.0 1625955.0\n",
      "0.0 238585.0\n",
      "0.0 109275.0\n",
      "0.0 98917.0\n",
      "0.0 90832.0\n"
     ]
    }
   ],
   "source": [
    "df = pd.read_csv('1_year_weekly.csv', sep='\\t')\n",
    "df['Date_dt'] = df['Date'].astype('datetime64[ns]')\n",
    "date = df['Date_dt'].iloc[-1]\n",
    "\n",
    "movie_list = df[df['Date_dt'] == date].sort_values(by=['Weekly'], ascending=False)['Release'][0:5]\n",
    "#movie = movie_list.iloc[0]\n",
    "for movie in movie_list:\n",
    "    date = df['Date_dt'].iloc[-1]\n",
    "   # print(movie, date)\n",
    "    trend = df[(df['Release'] == movie) & (df['Date_dt'] == date)]['google trends'].iloc[0]\n",
    "    rev = df[(df['Release'] == movie) & (df['Date_dt'] == date)]['Weekly'].iloc[0]\n",
    "\n",
    "    print(trend, rev)"
   ]
  },
  {
   "cell_type": "code",
   "execution_count": 38,
   "metadata": {},
   "outputs": [
    {
     "name": "stdout",
     "output_type": "stream",
     "text": [
      "19.84126984126985 2053090.0\n",
      "6.349206349206351 1110540.0\n",
      "3.014084507042253 973453.0\n",
      "18.095238095238102 777275.0\n",
      "5.526315789473684 642302.0\n",
      "0.0 461000.0\n",
      "19.463340891912328 380428.0\n",
      "0.19 237863.0\n",
      "1.72 225691.0\n",
      "0.0 200000.0\n",
      "0.0 180000.0\n",
      "1.2 161016.0\n",
      "1.46 150497.0\n",
      "0.0 136000.0\n",
      "0.07032479999999999 103393.0\n",
      "16.23791278963693 73449.0\n",
      "6.867924528301888 59472.0\n",
      "1.3333333333333337 44281.0\n",
      "2.263157894736842 37442.0\n",
      "1.7254901960784312 23383.0\n"
     ]
    },
    {
     "data": {
      "application/vnd.plotly.v1+json": {
       "config": {
        "plotlyServerURL": "https://plot.ly"
       },
       "data": [
        {
         "line": {
          "color": "orange",
          "width": 2
         },
         "mode": "markers",
         "name": "Freaky",
         "type": "scatter",
         "x": [
          19.84126984126985
         ],
         "y": [
          2053090
         ]
        },
        {
         "line": {
          "color": "orange",
          "width": 2
         },
         "mode": "markers",
         "name": "Let Him Go",
         "type": "scatter",
         "x": [
          6.349206349206351
         ],
         "y": [
          1110540
         ]
        },
        {
         "line": {
          "color": "orange",
          "width": 2
         },
         "mode": "markers",
         "name": "The War with Grandpa",
         "type": "scatter",
         "x": [
          3.014084507042253
         ],
         "y": [
          973453
         ]
        },
        {
         "line": {
          "color": "orange",
          "width": 2
         },
         "mode": "markers",
         "name": "Come Play",
         "type": "scatter",
         "x": [
          18.095238095238102
         ],
         "y": [
          777275
         ]
        },
        {
         "line": {
          "color": "orange",
          "width": 2
         },
         "mode": "markers",
         "name": "Honest Thief",
         "type": "scatter",
         "x": [
          5.526315789473684
         ],
         "y": [
          642302
         ]
        },
        {
         "line": {
          "color": "orange",
          "width": 2
         },
         "mode": "markers",
         "name": "The Santa Clause2020 Re-release",
         "type": "scatter",
         "x": [
          0
         ],
         "y": [
          461000
         ]
        },
        {
         "line": {
          "color": "orange",
          "width": 2
         },
         "mode": "markers",
         "name": "Vanguard",
         "type": "scatter",
         "x": [
          19.463340891912328
         ],
         "y": [
          380428
         ]
        },
        {
         "line": {
          "color": "orange",
          "width": 2
         },
         "mode": "markers",
         "name": "The Last Shift",
         "type": "scatter",
         "x": [
          0.19
         ],
         "y": [
          237863
         ]
        },
        {
         "line": {
          "color": "orange",
          "width": 2
         },
         "mode": "markers",
         "name": "The Last Vermeer",
         "type": "scatter",
         "x": [
          1.72
         ],
         "y": [
          225691
         ]
        },
        {
         "line": {
          "color": "orange",
          "width": 2
         },
         "mode": "markers",
         "name": "Gekijouban Fate/Stay Night: Heaven's Feel - III. Spring Song",
         "type": "scatter",
         "x": [
          0
         ],
         "y": [
          200000
         ]
        },
        {
         "line": {
          "color": "orange",
          "width": 2
         },
         "mode": "markers",
         "name": "Elf2020 Re-release",
         "type": "scatter",
         "x": [
          0
         ],
         "y": [
          180000
         ]
        },
        {
         "line": {
          "color": "orange",
          "width": 2
         },
         "mode": "markers",
         "name": "True to the Game 2",
         "type": "scatter",
         "x": [
          1.2
         ],
         "y": [
          161016
         ]
        },
        {
         "line": {
          "color": "orange",
          "width": 2
         },
         "mode": "markers",
         "name": "Buddy Games",
         "type": "scatter",
         "x": [
          1.46
         ],
         "y": [
          150497
         ]
        },
        {
         "line": {
          "color": "orange",
          "width": 2
         },
         "mode": "markers",
         "name": "Guardians of the Galaxy2020 Re-release",
         "type": "scatter",
         "x": [
          0
         ],
         "y": [
          136000
         ]
        },
        {
         "line": {
          "color": "orange",
          "width": 2
         },
         "mode": "markers",
         "name": "The Forgotten Carols",
         "type": "scatter",
         "x": [
          0.07032479999999999
         ],
         "y": [
          103393
         ]
        },
        {
         "line": {
          "color": "orange",
          "width": 2
         },
         "mode": "markers",
         "name": "The New Mutants",
         "type": "scatter",
         "x": [
          16.23791278963693
         ],
         "y": [
          73449
         ]
        },
        {
         "line": {
          "color": "orange",
          "width": 2
         },
         "mode": "markers",
         "name": "Come Away",
         "type": "scatter",
         "x": [
          6.867924528301888
         ],
         "y": [
          59472
         ]
        },
        {
         "line": {
          "color": "orange",
          "width": 2
         },
         "mode": "markers",
         "name": "The Empty Man",
         "type": "scatter",
         "x": [
          1.3333333333333337
         ],
         "y": [
          44281
         ]
        },
        {
         "line": {
          "color": "orange",
          "width": 2
         },
         "mode": "markers",
         "name": "The Informer",
         "type": "scatter",
         "x": [
          2.263157894736842
         ],
         "y": [
          37442
         ]
        },
        {
         "line": {
          "color": "orange",
          "width": 2
         },
         "mode": "markers",
         "name": "Ammonite",
         "type": "scatter",
         "x": [
          1.7254901960784312
         ],
         "y": [
          23383
         ]
        }
       ],
       "layout": {
        "paper_bgcolor": "#23272c",
        "plot_bgcolor": "#23272c",
        "template": {
         "data": {
          "bar": [
           {
            "error_x": {
             "color": "#f2f5fa"
            },
            "error_y": {
             "color": "#f2f5fa"
            },
            "marker": {
             "line": {
              "color": "rgb(17,17,17)",
              "width": 0.5
             }
            },
            "type": "bar"
           }
          ],
          "barpolar": [
           {
            "marker": {
             "line": {
              "color": "rgb(17,17,17)",
              "width": 0.5
             }
            },
            "type": "barpolar"
           }
          ],
          "carpet": [
           {
            "aaxis": {
             "endlinecolor": "#A2B1C6",
             "gridcolor": "#506784",
             "linecolor": "#506784",
             "minorgridcolor": "#506784",
             "startlinecolor": "#A2B1C6"
            },
            "baxis": {
             "endlinecolor": "#A2B1C6",
             "gridcolor": "#506784",
             "linecolor": "#506784",
             "minorgridcolor": "#506784",
             "startlinecolor": "#A2B1C6"
            },
            "type": "carpet"
           }
          ],
          "choropleth": [
           {
            "colorbar": {
             "outlinewidth": 0,
             "ticks": ""
            },
            "type": "choropleth"
           }
          ],
          "contour": [
           {
            "colorbar": {
             "outlinewidth": 0,
             "ticks": ""
            },
            "colorscale": [
             [
              0,
              "#0d0887"
             ],
             [
              0.1111111111111111,
              "#46039f"
             ],
             [
              0.2222222222222222,
              "#7201a8"
             ],
             [
              0.3333333333333333,
              "#9c179e"
             ],
             [
              0.4444444444444444,
              "#bd3786"
             ],
             [
              0.5555555555555556,
              "#d8576b"
             ],
             [
              0.6666666666666666,
              "#ed7953"
             ],
             [
              0.7777777777777778,
              "#fb9f3a"
             ],
             [
              0.8888888888888888,
              "#fdca26"
             ],
             [
              1,
              "#f0f921"
             ]
            ],
            "type": "contour"
           }
          ],
          "contourcarpet": [
           {
            "colorbar": {
             "outlinewidth": 0,
             "ticks": ""
            },
            "type": "contourcarpet"
           }
          ],
          "heatmap": [
           {
            "colorbar": {
             "outlinewidth": 0,
             "ticks": ""
            },
            "colorscale": [
             [
              0,
              "#0d0887"
             ],
             [
              0.1111111111111111,
              "#46039f"
             ],
             [
              0.2222222222222222,
              "#7201a8"
             ],
             [
              0.3333333333333333,
              "#9c179e"
             ],
             [
              0.4444444444444444,
              "#bd3786"
             ],
             [
              0.5555555555555556,
              "#d8576b"
             ],
             [
              0.6666666666666666,
              "#ed7953"
             ],
             [
              0.7777777777777778,
              "#fb9f3a"
             ],
             [
              0.8888888888888888,
              "#fdca26"
             ],
             [
              1,
              "#f0f921"
             ]
            ],
            "type": "heatmap"
           }
          ],
          "heatmapgl": [
           {
            "colorbar": {
             "outlinewidth": 0,
             "ticks": ""
            },
            "colorscale": [
             [
              0,
              "#0d0887"
             ],
             [
              0.1111111111111111,
              "#46039f"
             ],
             [
              0.2222222222222222,
              "#7201a8"
             ],
             [
              0.3333333333333333,
              "#9c179e"
             ],
             [
              0.4444444444444444,
              "#bd3786"
             ],
             [
              0.5555555555555556,
              "#d8576b"
             ],
             [
              0.6666666666666666,
              "#ed7953"
             ],
             [
              0.7777777777777778,
              "#fb9f3a"
             ],
             [
              0.8888888888888888,
              "#fdca26"
             ],
             [
              1,
              "#f0f921"
             ]
            ],
            "type": "heatmapgl"
           }
          ],
          "histogram": [
           {
            "marker": {
             "colorbar": {
              "outlinewidth": 0,
              "ticks": ""
             }
            },
            "type": "histogram"
           }
          ],
          "histogram2d": [
           {
            "colorbar": {
             "outlinewidth": 0,
             "ticks": ""
            },
            "colorscale": [
             [
              0,
              "#0d0887"
             ],
             [
              0.1111111111111111,
              "#46039f"
             ],
             [
              0.2222222222222222,
              "#7201a8"
             ],
             [
              0.3333333333333333,
              "#9c179e"
             ],
             [
              0.4444444444444444,
              "#bd3786"
             ],
             [
              0.5555555555555556,
              "#d8576b"
             ],
             [
              0.6666666666666666,
              "#ed7953"
             ],
             [
              0.7777777777777778,
              "#fb9f3a"
             ],
             [
              0.8888888888888888,
              "#fdca26"
             ],
             [
              1,
              "#f0f921"
             ]
            ],
            "type": "histogram2d"
           }
          ],
          "histogram2dcontour": [
           {
            "colorbar": {
             "outlinewidth": 0,
             "ticks": ""
            },
            "colorscale": [
             [
              0,
              "#0d0887"
             ],
             [
              0.1111111111111111,
              "#46039f"
             ],
             [
              0.2222222222222222,
              "#7201a8"
             ],
             [
              0.3333333333333333,
              "#9c179e"
             ],
             [
              0.4444444444444444,
              "#bd3786"
             ],
             [
              0.5555555555555556,
              "#d8576b"
             ],
             [
              0.6666666666666666,
              "#ed7953"
             ],
             [
              0.7777777777777778,
              "#fb9f3a"
             ],
             [
              0.8888888888888888,
              "#fdca26"
             ],
             [
              1,
              "#f0f921"
             ]
            ],
            "type": "histogram2dcontour"
           }
          ],
          "mesh3d": [
           {
            "colorbar": {
             "outlinewidth": 0,
             "ticks": ""
            },
            "type": "mesh3d"
           }
          ],
          "parcoords": [
           {
            "line": {
             "colorbar": {
              "outlinewidth": 0,
              "ticks": ""
             }
            },
            "type": "parcoords"
           }
          ],
          "pie": [
           {
            "automargin": true,
            "type": "pie"
           }
          ],
          "scatter": [
           {
            "marker": {
             "line": {
              "color": "#283442"
             }
            },
            "type": "scatter"
           }
          ],
          "scatter3d": [
           {
            "line": {
             "colorbar": {
              "outlinewidth": 0,
              "ticks": ""
             }
            },
            "marker": {
             "colorbar": {
              "outlinewidth": 0,
              "ticks": ""
             }
            },
            "type": "scatter3d"
           }
          ],
          "scattercarpet": [
           {
            "marker": {
             "colorbar": {
              "outlinewidth": 0,
              "ticks": ""
             }
            },
            "type": "scattercarpet"
           }
          ],
          "scattergeo": [
           {
            "marker": {
             "colorbar": {
              "outlinewidth": 0,
              "ticks": ""
             }
            },
            "type": "scattergeo"
           }
          ],
          "scattergl": [
           {
            "marker": {
             "line": {
              "color": "#283442"
             }
            },
            "type": "scattergl"
           }
          ],
          "scattermapbox": [
           {
            "marker": {
             "colorbar": {
              "outlinewidth": 0,
              "ticks": ""
             }
            },
            "type": "scattermapbox"
           }
          ],
          "scatterpolar": [
           {
            "marker": {
             "colorbar": {
              "outlinewidth": 0,
              "ticks": ""
             }
            },
            "type": "scatterpolar"
           }
          ],
          "scatterpolargl": [
           {
            "marker": {
             "colorbar": {
              "outlinewidth": 0,
              "ticks": ""
             }
            },
            "type": "scatterpolargl"
           }
          ],
          "scatterternary": [
           {
            "marker": {
             "colorbar": {
              "outlinewidth": 0,
              "ticks": ""
             }
            },
            "type": "scatterternary"
           }
          ],
          "surface": [
           {
            "colorbar": {
             "outlinewidth": 0,
             "ticks": ""
            },
            "colorscale": [
             [
              0,
              "#0d0887"
             ],
             [
              0.1111111111111111,
              "#46039f"
             ],
             [
              0.2222222222222222,
              "#7201a8"
             ],
             [
              0.3333333333333333,
              "#9c179e"
             ],
             [
              0.4444444444444444,
              "#bd3786"
             ],
             [
              0.5555555555555556,
              "#d8576b"
             ],
             [
              0.6666666666666666,
              "#ed7953"
             ],
             [
              0.7777777777777778,
              "#fb9f3a"
             ],
             [
              0.8888888888888888,
              "#fdca26"
             ],
             [
              1,
              "#f0f921"
             ]
            ],
            "type": "surface"
           }
          ],
          "table": [
           {
            "cells": {
             "fill": {
              "color": "#506784"
             },
             "line": {
              "color": "rgb(17,17,17)"
             }
            },
            "header": {
             "fill": {
              "color": "#2a3f5f"
             },
             "line": {
              "color": "rgb(17,17,17)"
             }
            },
            "type": "table"
           }
          ]
         },
         "layout": {
          "annotationdefaults": {
           "arrowcolor": "#f2f5fa",
           "arrowhead": 0,
           "arrowwidth": 1
          },
          "coloraxis": {
           "colorbar": {
            "outlinewidth": 0,
            "ticks": ""
           }
          },
          "colorscale": {
           "diverging": [
            [
             0,
             "#8e0152"
            ],
            [
             0.1,
             "#c51b7d"
            ],
            [
             0.2,
             "#de77ae"
            ],
            [
             0.3,
             "#f1b6da"
            ],
            [
             0.4,
             "#fde0ef"
            ],
            [
             0.5,
             "#f7f7f7"
            ],
            [
             0.6,
             "#e6f5d0"
            ],
            [
             0.7,
             "#b8e186"
            ],
            [
             0.8,
             "#7fbc41"
            ],
            [
             0.9,
             "#4d9221"
            ],
            [
             1,
             "#276419"
            ]
           ],
           "sequential": [
            [
             0,
             "#0d0887"
            ],
            [
             0.1111111111111111,
             "#46039f"
            ],
            [
             0.2222222222222222,
             "#7201a8"
            ],
            [
             0.3333333333333333,
             "#9c179e"
            ],
            [
             0.4444444444444444,
             "#bd3786"
            ],
            [
             0.5555555555555556,
             "#d8576b"
            ],
            [
             0.6666666666666666,
             "#ed7953"
            ],
            [
             0.7777777777777778,
             "#fb9f3a"
            ],
            [
             0.8888888888888888,
             "#fdca26"
            ],
            [
             1,
             "#f0f921"
            ]
           ],
           "sequentialminus": [
            [
             0,
             "#0d0887"
            ],
            [
             0.1111111111111111,
             "#46039f"
            ],
            [
             0.2222222222222222,
             "#7201a8"
            ],
            [
             0.3333333333333333,
             "#9c179e"
            ],
            [
             0.4444444444444444,
             "#bd3786"
            ],
            [
             0.5555555555555556,
             "#d8576b"
            ],
            [
             0.6666666666666666,
             "#ed7953"
            ],
            [
             0.7777777777777778,
             "#fb9f3a"
            ],
            [
             0.8888888888888888,
             "#fdca26"
            ],
            [
             1,
             "#f0f921"
            ]
           ]
          },
          "colorway": [
           "#636efa",
           "#EF553B",
           "#00cc96",
           "#ab63fa",
           "#FFA15A",
           "#19d3f3",
           "#FF6692",
           "#B6E880",
           "#FF97FF",
           "#FECB52"
          ],
          "font": {
           "color": "#f2f5fa"
          },
          "geo": {
           "bgcolor": "rgb(17,17,17)",
           "lakecolor": "rgb(17,17,17)",
           "landcolor": "rgb(17,17,17)",
           "showlakes": true,
           "showland": true,
           "subunitcolor": "#506784"
          },
          "hoverlabel": {
           "align": "left"
          },
          "hovermode": "closest",
          "mapbox": {
           "style": "dark"
          },
          "paper_bgcolor": "rgb(17,17,17)",
          "plot_bgcolor": "rgb(17,17,17)",
          "polar": {
           "angularaxis": {
            "gridcolor": "#506784",
            "linecolor": "#506784",
            "ticks": ""
           },
           "bgcolor": "rgb(17,17,17)",
           "radialaxis": {
            "gridcolor": "#506784",
            "linecolor": "#506784",
            "ticks": ""
           }
          },
          "scene": {
           "xaxis": {
            "backgroundcolor": "rgb(17,17,17)",
            "gridcolor": "#506784",
            "gridwidth": 2,
            "linecolor": "#506784",
            "showbackground": true,
            "ticks": "",
            "zerolinecolor": "#C8D4E3"
           },
           "yaxis": {
            "backgroundcolor": "rgb(17,17,17)",
            "gridcolor": "#506784",
            "gridwidth": 2,
            "linecolor": "#506784",
            "showbackground": true,
            "ticks": "",
            "zerolinecolor": "#C8D4E3"
           },
           "zaxis": {
            "backgroundcolor": "rgb(17,17,17)",
            "gridcolor": "#506784",
            "gridwidth": 2,
            "linecolor": "#506784",
            "showbackground": true,
            "ticks": "",
            "zerolinecolor": "#C8D4E3"
           }
          },
          "shapedefaults": {
           "line": {
            "color": "#f2f5fa"
           }
          },
          "sliderdefaults": {
           "bgcolor": "#C8D4E3",
           "bordercolor": "rgb(17,17,17)",
           "borderwidth": 1,
           "tickwidth": 0
          },
          "ternary": {
           "aaxis": {
            "gridcolor": "#506784",
            "linecolor": "#506784",
            "ticks": ""
           },
           "baxis": {
            "gridcolor": "#506784",
            "linecolor": "#506784",
            "ticks": ""
           },
           "bgcolor": "rgb(17,17,17)",
           "caxis": {
            "gridcolor": "#506784",
            "linecolor": "#506784",
            "ticks": ""
           }
          },
          "title": {
           "x": 0.05
          },
          "updatemenudefaults": {
           "bgcolor": "#506784",
           "borderwidth": 0
          },
          "xaxis": {
           "automargin": true,
           "gridcolor": "#283442",
           "linecolor": "#506784",
           "ticks": "",
           "title": {
            "standoff": 15
           },
           "zerolinecolor": "#283442",
           "zerolinewidth": 2
          },
          "yaxis": {
           "automargin": true,
           "gridcolor": "#283442",
           "linecolor": "#506784",
           "ticks": "",
           "title": {
            "standoff": 15
           },
           "zerolinecolor": "#283442",
           "zerolinewidth": 2
          }
         }
        },
        "title": {
         "text": "Revenue and trends"
        },
        "xaxis": {
         "title": {
          "text": "Date/Time"
         }
        },
        "yaxis": {
         "title": {
          "text": "MW"
         }
        }
       }
      },
      "text/html": [
       "<div>                            <div id=\"4dd5d714-d6d2-441d-ad7c-fb1f23086b69\" class=\"plotly-graph-div\" style=\"height:525px; width:100%;\"></div>            <script type=\"text/javascript\">                require([\"plotly\"], function(Plotly) {                    window.PLOTLYENV=window.PLOTLYENV || {};                                    if (document.getElementById(\"4dd5d714-d6d2-441d-ad7c-fb1f23086b69\")) {                    Plotly.newPlot(                        \"4dd5d714-d6d2-441d-ad7c-fb1f23086b69\",                        [{\"line\": {\"color\": \"orange\", \"width\": 2}, \"mode\": \"markers\", \"name\": \"Freaky\", \"type\": \"scatter\", \"x\": [19.84126984126985], \"y\": [2053090.0]}, {\"line\": {\"color\": \"orange\", \"width\": 2}, \"mode\": \"markers\", \"name\": \"Let Him Go\", \"type\": \"scatter\", \"x\": [6.349206349206351], \"y\": [1110540.0]}, {\"line\": {\"color\": \"orange\", \"width\": 2}, \"mode\": \"markers\", \"name\": \"The War with Grandpa\", \"type\": \"scatter\", \"x\": [3.014084507042253], \"y\": [973453.0]}, {\"line\": {\"color\": \"orange\", \"width\": 2}, \"mode\": \"markers\", \"name\": \"Come Play\", \"type\": \"scatter\", \"x\": [18.095238095238102], \"y\": [777275.0]}, {\"line\": {\"color\": \"orange\", \"width\": 2}, \"mode\": \"markers\", \"name\": \"Honest Thief\", \"type\": \"scatter\", \"x\": [5.526315789473684], \"y\": [642302.0]}, {\"line\": {\"color\": \"orange\", \"width\": 2}, \"mode\": \"markers\", \"name\": \"The Santa Clause2020 Re-release\", \"type\": \"scatter\", \"x\": [0.0], \"y\": [461000.0]}, {\"line\": {\"color\": \"orange\", \"width\": 2}, \"mode\": \"markers\", \"name\": \"Vanguard\", \"type\": \"scatter\", \"x\": [19.463340891912328], \"y\": [380428.0]}, {\"line\": {\"color\": \"orange\", \"width\": 2}, \"mode\": \"markers\", \"name\": \"The Last Shift\", \"type\": \"scatter\", \"x\": [0.19], \"y\": [237863.0]}, {\"line\": {\"color\": \"orange\", \"width\": 2}, \"mode\": \"markers\", \"name\": \"The Last Vermeer\", \"type\": \"scatter\", \"x\": [1.72], \"y\": [225691.0]}, {\"line\": {\"color\": \"orange\", \"width\": 2}, \"mode\": \"markers\", \"name\": \"Gekijouban Fate/Stay Night: Heaven's Feel - III. Spring Song\", \"type\": \"scatter\", \"x\": [0.0], \"y\": [200000.0]}, {\"line\": {\"color\": \"orange\", \"width\": 2}, \"mode\": \"markers\", \"name\": \"Elf2020 Re-release\", \"type\": \"scatter\", \"x\": [0.0], \"y\": [180000.0]}, {\"line\": {\"color\": \"orange\", \"width\": 2}, \"mode\": \"markers\", \"name\": \"True to the Game 2\", \"type\": \"scatter\", \"x\": [1.2], \"y\": [161016.0]}, {\"line\": {\"color\": \"orange\", \"width\": 2}, \"mode\": \"markers\", \"name\": \"Buddy Games\", \"type\": \"scatter\", \"x\": [1.46], \"y\": [150497.0]}, {\"line\": {\"color\": \"orange\", \"width\": 2}, \"mode\": \"markers\", \"name\": \"Guardians of the Galaxy2020 Re-release\", \"type\": \"scatter\", \"x\": [0.0], \"y\": [136000.0]}, {\"line\": {\"color\": \"orange\", \"width\": 2}, \"mode\": \"markers\", \"name\": \"The Forgotten Carols\", \"type\": \"scatter\", \"x\": [0.07032479999999999], \"y\": [103393.0]}, {\"line\": {\"color\": \"orange\", \"width\": 2}, \"mode\": \"markers\", \"name\": \"The New Mutants\", \"type\": \"scatter\", \"x\": [16.23791278963693], \"y\": [73449.0]}, {\"line\": {\"color\": \"orange\", \"width\": 2}, \"mode\": \"markers\", \"name\": \"Come Away\", \"type\": \"scatter\", \"x\": [6.867924528301888], \"y\": [59472.0]}, {\"line\": {\"color\": \"orange\", \"width\": 2}, \"mode\": \"markers\", \"name\": \"The Empty Man\", \"type\": \"scatter\", \"x\": [1.3333333333333337], \"y\": [44281.0]}, {\"line\": {\"color\": \"orange\", \"width\": 2}, \"mode\": \"markers\", \"name\": \"The Informer\", \"type\": \"scatter\", \"x\": [2.263157894736842], \"y\": [37442.0]}, {\"line\": {\"color\": \"orange\", \"width\": 2}, \"mode\": \"markers\", \"name\": \"Ammonite\", \"type\": \"scatter\", \"x\": [1.7254901960784312], \"y\": [23383.0]}],                        {\"paper_bgcolor\": \"#23272c\", \"plot_bgcolor\": \"#23272c\", \"template\": {\"data\": {\"bar\": [{\"error_x\": {\"color\": \"#f2f5fa\"}, \"error_y\": {\"color\": \"#f2f5fa\"}, \"marker\": {\"line\": {\"color\": \"rgb(17,17,17)\", \"width\": 0.5}}, \"type\": \"bar\"}], \"barpolar\": [{\"marker\": {\"line\": {\"color\": \"rgb(17,17,17)\", \"width\": 0.5}}, \"type\": \"barpolar\"}], \"carpet\": [{\"aaxis\": {\"endlinecolor\": \"#A2B1C6\", \"gridcolor\": \"#506784\", \"linecolor\": \"#506784\", \"minorgridcolor\": \"#506784\", \"startlinecolor\": \"#A2B1C6\"}, \"baxis\": {\"endlinecolor\": \"#A2B1C6\", \"gridcolor\": \"#506784\", \"linecolor\": \"#506784\", \"minorgridcolor\": \"#506784\", \"startlinecolor\": \"#A2B1C6\"}, \"type\": \"carpet\"}], \"choropleth\": [{\"colorbar\": {\"outlinewidth\": 0, \"ticks\": \"\"}, \"type\": \"choropleth\"}], \"contour\": [{\"colorbar\": {\"outlinewidth\": 0, \"ticks\": \"\"}, \"colorscale\": [[0.0, \"#0d0887\"], [0.1111111111111111, \"#46039f\"], [0.2222222222222222, \"#7201a8\"], [0.3333333333333333, \"#9c179e\"], [0.4444444444444444, \"#bd3786\"], [0.5555555555555556, \"#d8576b\"], [0.6666666666666666, \"#ed7953\"], [0.7777777777777778, \"#fb9f3a\"], [0.8888888888888888, \"#fdca26\"], [1.0, \"#f0f921\"]], \"type\": \"contour\"}], \"contourcarpet\": [{\"colorbar\": {\"outlinewidth\": 0, \"ticks\": \"\"}, \"type\": \"contourcarpet\"}], \"heatmap\": [{\"colorbar\": {\"outlinewidth\": 0, \"ticks\": \"\"}, \"colorscale\": [[0.0, \"#0d0887\"], [0.1111111111111111, \"#46039f\"], [0.2222222222222222, \"#7201a8\"], [0.3333333333333333, \"#9c179e\"], [0.4444444444444444, \"#bd3786\"], [0.5555555555555556, \"#d8576b\"], [0.6666666666666666, \"#ed7953\"], [0.7777777777777778, \"#fb9f3a\"], [0.8888888888888888, \"#fdca26\"], [1.0, \"#f0f921\"]], \"type\": \"heatmap\"}], \"heatmapgl\": [{\"colorbar\": {\"outlinewidth\": 0, \"ticks\": \"\"}, \"colorscale\": [[0.0, \"#0d0887\"], [0.1111111111111111, \"#46039f\"], [0.2222222222222222, \"#7201a8\"], [0.3333333333333333, \"#9c179e\"], [0.4444444444444444, \"#bd3786\"], [0.5555555555555556, \"#d8576b\"], [0.6666666666666666, \"#ed7953\"], [0.7777777777777778, \"#fb9f3a\"], [0.8888888888888888, \"#fdca26\"], [1.0, \"#f0f921\"]], \"type\": \"heatmapgl\"}], \"histogram\": [{\"marker\": {\"colorbar\": {\"outlinewidth\": 0, \"ticks\": \"\"}}, \"type\": \"histogram\"}], \"histogram2d\": [{\"colorbar\": {\"outlinewidth\": 0, \"ticks\": \"\"}, \"colorscale\": [[0.0, \"#0d0887\"], [0.1111111111111111, \"#46039f\"], [0.2222222222222222, \"#7201a8\"], [0.3333333333333333, \"#9c179e\"], [0.4444444444444444, \"#bd3786\"], [0.5555555555555556, \"#d8576b\"], [0.6666666666666666, \"#ed7953\"], [0.7777777777777778, \"#fb9f3a\"], [0.8888888888888888, \"#fdca26\"], [1.0, \"#f0f921\"]], \"type\": \"histogram2d\"}], \"histogram2dcontour\": [{\"colorbar\": {\"outlinewidth\": 0, \"ticks\": \"\"}, \"colorscale\": [[0.0, \"#0d0887\"], [0.1111111111111111, \"#46039f\"], [0.2222222222222222, \"#7201a8\"], [0.3333333333333333, \"#9c179e\"], [0.4444444444444444, \"#bd3786\"], [0.5555555555555556, \"#d8576b\"], [0.6666666666666666, \"#ed7953\"], [0.7777777777777778, \"#fb9f3a\"], [0.8888888888888888, \"#fdca26\"], [1.0, \"#f0f921\"]], \"type\": \"histogram2dcontour\"}], \"mesh3d\": [{\"colorbar\": {\"outlinewidth\": 0, \"ticks\": \"\"}, \"type\": \"mesh3d\"}], \"parcoords\": [{\"line\": {\"colorbar\": {\"outlinewidth\": 0, \"ticks\": \"\"}}, \"type\": \"parcoords\"}], \"pie\": [{\"automargin\": true, \"type\": \"pie\"}], \"scatter\": [{\"marker\": {\"line\": {\"color\": \"#283442\"}}, \"type\": \"scatter\"}], \"scatter3d\": [{\"line\": {\"colorbar\": {\"outlinewidth\": 0, \"ticks\": \"\"}}, \"marker\": {\"colorbar\": {\"outlinewidth\": 0, \"ticks\": \"\"}}, \"type\": \"scatter3d\"}], \"scattercarpet\": [{\"marker\": {\"colorbar\": {\"outlinewidth\": 0, \"ticks\": \"\"}}, \"type\": \"scattercarpet\"}], \"scattergeo\": [{\"marker\": {\"colorbar\": {\"outlinewidth\": 0, \"ticks\": \"\"}}, \"type\": \"scattergeo\"}], \"scattergl\": [{\"marker\": {\"line\": {\"color\": \"#283442\"}}, \"type\": \"scattergl\"}], \"scattermapbox\": [{\"marker\": {\"colorbar\": {\"outlinewidth\": 0, \"ticks\": \"\"}}, \"type\": \"scattermapbox\"}], \"scatterpolar\": [{\"marker\": {\"colorbar\": {\"outlinewidth\": 0, \"ticks\": \"\"}}, \"type\": \"scatterpolar\"}], \"scatterpolargl\": [{\"marker\": {\"colorbar\": {\"outlinewidth\": 0, \"ticks\": \"\"}}, \"type\": \"scatterpolargl\"}], \"scatterternary\": [{\"marker\": {\"colorbar\": {\"outlinewidth\": 0, \"ticks\": \"\"}}, \"type\": \"scatterternary\"}], \"surface\": [{\"colorbar\": {\"outlinewidth\": 0, \"ticks\": \"\"}, \"colorscale\": [[0.0, \"#0d0887\"], [0.1111111111111111, \"#46039f\"], [0.2222222222222222, \"#7201a8\"], [0.3333333333333333, \"#9c179e\"], [0.4444444444444444, \"#bd3786\"], [0.5555555555555556, \"#d8576b\"], [0.6666666666666666, \"#ed7953\"], [0.7777777777777778, \"#fb9f3a\"], [0.8888888888888888, \"#fdca26\"], [1.0, \"#f0f921\"]], \"type\": \"surface\"}], \"table\": [{\"cells\": {\"fill\": {\"color\": \"#506784\"}, \"line\": {\"color\": \"rgb(17,17,17)\"}}, \"header\": {\"fill\": {\"color\": \"#2a3f5f\"}, \"line\": {\"color\": \"rgb(17,17,17)\"}}, \"type\": \"table\"}]}, \"layout\": {\"annotationdefaults\": {\"arrowcolor\": \"#f2f5fa\", \"arrowhead\": 0, \"arrowwidth\": 1}, \"coloraxis\": {\"colorbar\": {\"outlinewidth\": 0, \"ticks\": \"\"}}, \"colorscale\": {\"diverging\": [[0, \"#8e0152\"], [0.1, \"#c51b7d\"], [0.2, \"#de77ae\"], [0.3, \"#f1b6da\"], [0.4, \"#fde0ef\"], [0.5, \"#f7f7f7\"], [0.6, \"#e6f5d0\"], [0.7, \"#b8e186\"], [0.8, \"#7fbc41\"], [0.9, \"#4d9221\"], [1, \"#276419\"]], \"sequential\": [[0.0, \"#0d0887\"], [0.1111111111111111, \"#46039f\"], [0.2222222222222222, \"#7201a8\"], [0.3333333333333333, \"#9c179e\"], [0.4444444444444444, \"#bd3786\"], [0.5555555555555556, \"#d8576b\"], [0.6666666666666666, \"#ed7953\"], [0.7777777777777778, \"#fb9f3a\"], [0.8888888888888888, \"#fdca26\"], [1.0, \"#f0f921\"]], \"sequentialminus\": [[0.0, \"#0d0887\"], [0.1111111111111111, \"#46039f\"], [0.2222222222222222, \"#7201a8\"], [0.3333333333333333, \"#9c179e\"], [0.4444444444444444, \"#bd3786\"], [0.5555555555555556, \"#d8576b\"], [0.6666666666666666, \"#ed7953\"], [0.7777777777777778, \"#fb9f3a\"], [0.8888888888888888, \"#fdca26\"], [1.0, \"#f0f921\"]]}, \"colorway\": [\"#636efa\", \"#EF553B\", \"#00cc96\", \"#ab63fa\", \"#FFA15A\", \"#19d3f3\", \"#FF6692\", \"#B6E880\", \"#FF97FF\", \"#FECB52\"], \"font\": {\"color\": \"#f2f5fa\"}, \"geo\": {\"bgcolor\": \"rgb(17,17,17)\", \"lakecolor\": \"rgb(17,17,17)\", \"landcolor\": \"rgb(17,17,17)\", \"showlakes\": true, \"showland\": true, \"subunitcolor\": \"#506784\"}, \"hoverlabel\": {\"align\": \"left\"}, \"hovermode\": \"closest\", \"mapbox\": {\"style\": \"dark\"}, \"paper_bgcolor\": \"rgb(17,17,17)\", \"plot_bgcolor\": \"rgb(17,17,17)\", \"polar\": {\"angularaxis\": {\"gridcolor\": \"#506784\", \"linecolor\": \"#506784\", \"ticks\": \"\"}, \"bgcolor\": \"rgb(17,17,17)\", \"radialaxis\": {\"gridcolor\": \"#506784\", \"linecolor\": \"#506784\", \"ticks\": \"\"}}, \"scene\": {\"xaxis\": {\"backgroundcolor\": \"rgb(17,17,17)\", \"gridcolor\": \"#506784\", \"gridwidth\": 2, \"linecolor\": \"#506784\", \"showbackground\": true, \"ticks\": \"\", \"zerolinecolor\": \"#C8D4E3\"}, \"yaxis\": {\"backgroundcolor\": \"rgb(17,17,17)\", \"gridcolor\": \"#506784\", \"gridwidth\": 2, \"linecolor\": \"#506784\", \"showbackground\": true, \"ticks\": \"\", \"zerolinecolor\": \"#C8D4E3\"}, \"zaxis\": {\"backgroundcolor\": \"rgb(17,17,17)\", \"gridcolor\": \"#506784\", \"gridwidth\": 2, \"linecolor\": \"#506784\", \"showbackground\": true, \"ticks\": \"\", \"zerolinecolor\": \"#C8D4E3\"}}, \"shapedefaults\": {\"line\": {\"color\": \"#f2f5fa\"}}, \"sliderdefaults\": {\"bgcolor\": \"#C8D4E3\", \"bordercolor\": \"rgb(17,17,17)\", \"borderwidth\": 1, \"tickwidth\": 0}, \"ternary\": {\"aaxis\": {\"gridcolor\": \"#506784\", \"linecolor\": \"#506784\", \"ticks\": \"\"}, \"baxis\": {\"gridcolor\": \"#506784\", \"linecolor\": \"#506784\", \"ticks\": \"\"}, \"bgcolor\": \"rgb(17,17,17)\", \"caxis\": {\"gridcolor\": \"#506784\", \"linecolor\": \"#506784\", \"ticks\": \"\"}}, \"title\": {\"x\": 0.05}, \"updatemenudefaults\": {\"bgcolor\": \"#506784\", \"borderwidth\": 0}, \"xaxis\": {\"automargin\": true, \"gridcolor\": \"#283442\", \"linecolor\": \"#506784\", \"ticks\": \"\", \"title\": {\"standoff\": 15}, \"zerolinecolor\": \"#283442\", \"zerolinewidth\": 2}, \"yaxis\": {\"automargin\": true, \"gridcolor\": \"#283442\", \"linecolor\": \"#506784\", \"ticks\": \"\", \"title\": {\"standoff\": 15}, \"zerolinecolor\": \"#283442\", \"zerolinewidth\": 2}}}, \"title\": {\"text\": \"Revenue and trends\"}, \"xaxis\": {\"title\": {\"text\": \"Date/Time\"}}, \"yaxis\": {\"title\": {\"text\": \"MW\"}}},                        {\"responsive\": true}                    ).then(function(){\n",
       "                            \n",
       "var gd = document.getElementById('4dd5d714-d6d2-441d-ad7c-fb1f23086b69');\n",
       "var x = new MutationObserver(function (mutations, observer) {{\n",
       "        var display = window.getComputedStyle(gd).display;\n",
       "        if (!display || display === 'none') {{\n",
       "            console.log([gd, 'removed!']);\n",
       "            Plotly.purge(gd);\n",
       "            observer.disconnect();\n",
       "        }}\n",
       "}});\n",
       "\n",
       "// Listen for the removal of the full notebook cells\n",
       "var notebookContainer = gd.closest('#notebook-container');\n",
       "if (notebookContainer) {{\n",
       "    x.observe(notebookContainer, {childList: true});\n",
       "}}\n",
       "\n",
       "// Listen for the clearing of the current output cell\n",
       "var outputEl = gd.closest('.output');\n",
       "if (outputEl) {{\n",
       "    x.observe(outputEl, {childList: true});\n",
       "}}\n",
       "\n",
       "                        })                };                });            </script>        </div>"
      ]
     },
     "metadata": {},
     "output_type": "display_data"
    }
   ],
   "source": [
    "import plotly.graph_objects as go\n",
    "import pandas as pd\n",
    "from datetime import timedelta\n",
    "\n",
    "\n",
    "COLORS = ['rgb(67,67,67)', 'rgb(115,115,115)', 'rgb(49,130,189)', 'rgb(189,189,189)']\n",
    "def static_stacked_trend_graph(stack=False):\n",
    "    \"\"\"\n",
    "    Returns scatter line plot of all power sources and power load.\n",
    "    If `stack` is `True`, the 4 power sources are stacked together to show the overall power\n",
    "    production.\n",
    "    \"\"\"\n",
    "    i=1\n",
    "    df = pd.read_csv('1_year_weekly.csv', sep='\\t')\n",
    "    df['Date_dt'] = df['Date'].astype('datetime64[ns]')\n",
    "    date = df['Date_dt'].iloc[-1]\n",
    "    movie_list = df[df['Date_dt'] == date].sort_values(by=['Weekly'], ascending=False)['Release'][0:10]\n",
    "    \n",
    "    df = df[df['Release'] == movie_list.iloc[i]]\n",
    "    if df is None:\n",
    "        return go.Figure()\n",
    "    \n",
    "    #x = df['Date_dt'] \n",
    "    #predict_date = df['Date_dt'].iloc[-1]  + timedelta(days=7)\n",
    "    \n",
    "    #linreg.predict(df.iloc[-1])\n",
    "    \n",
    "    \n",
    "    df = pd.read_csv('6_mo_weekly.csv', sep='\\t')\n",
    "    df['Date_dt'] = df['Date'].astype('datetime64[ns]')\n",
    "    date = df['Date_dt'].iloc[-1]\n",
    "\n",
    "    \n",
    "    fig = go.Figure()\n",
    "    movie_list = df[df['Date_dt'] == date].sort_values(by=['Weekly'], ascending=False)['Release'][0:20]\n",
    "    #movie = movie_list.iloc[0]\n",
    "    for movie in movie_list:\n",
    "        date = df['Date_dt'].iloc[-1]\n",
    "       # print(movie, date)\n",
    "        trend = df[(df['Release'] == movie) & (df['Date_dt'] == date)]['google trends'].iloc[0]\n",
    "        rev = df[(df['Release'] == movie) & (df['Date_dt'] == date)]['Weekly'].iloc[0]\n",
    "        fig.add_trace(go.Scatter(x=[trend], y=[rev], mode='markers', name=movie,\n",
    "                         line={'width': 2, 'color': 'orange'},\n",
    "                         stackgroup='stack' if stack else None))\n",
    "        print(trend, rev)\n",
    "    \n",
    "    title = f'Revenue and trends'\n",
    "    if stack:\n",
    "        title += ' [Stacked]'\n",
    "    fig.update_layout(template='plotly_dark',\n",
    "                      title=title,\n",
    "                      plot_bgcolor='#23272c',\n",
    "                      paper_bgcolor='#23272c',\n",
    "                      yaxis_title='MW',\n",
    "                      xaxis_title='Date/Time')\n",
    "    return fig\n",
    "static_stacked_trend_graph()"
   ]
  },
  {
   "cell_type": "code",
   "execution_count": 64,
   "metadata": {},
   "outputs": [
    {
     "data": {
      "application/vnd.plotly.v1+json": {
       "config": {
        "plotlyServerURL": "https://plot.ly"
       },
       "data": [
        {
         "line": {
          "color": "blue",
          "width": 2
         },
         "mode": "markers",
         "name": "Bill & Ted Face the Music",
         "type": "scatter",
         "x": [
          1.86
         ],
         "y": [
          1125007
         ]
        },
        {
         "line": {
          "color": "orange",
          "width": 2
         },
         "mode": "markers",
         "name": "Unhinged",
         "type": "scatter",
         "x": [
          22.619047619047628
         ],
         "y": [
          3819220
         ]
        },
        {
         "line": {
          "color": "blue",
          "width": 2
         },
         "mode": "markers",
         "name": "The SpongeBob Movie: Sponge on the Run",
         "type": "scatter",
         "x": [
          0.59
         ],
         "y": [
          876759
         ]
        },
        {
         "line": {
          "color": "blue",
          "width": 2
         },
         "mode": "markers",
         "name": "The Eight Hundred",
         "type": "scatter",
         "x": [
          0.6
         ],
         "y": [
          118161
         ]
        },
        {
         "line": {
          "color": "blue",
          "width": 2
         },
         "mode": "markers",
         "name": "The New Mutants",
         "type": "scatter",
         "x": [
          22.486772486772495
         ],
         "y": [
          7037017
         ]
        },
        {
         "line": {
          "color": "white",
          "width": 2
         },
         "mode": "markers",
         "name": "Bill & Ted Face the Music",
         "type": "scatter",
         "x": [
          1.97
         ],
         "y": [
          1142565
         ]
        },
        {
         "line": {
          "color": "blue",
          "width": 2
         },
         "mode": "markers",
         "name": "Unhinged",
         "type": "scatter",
         "x": [
          19.365079365079367
         ],
         "y": [
          2598055
         ]
        },
        {
         "line": {
          "color": "red",
          "width": 2
         },
         "mode": "markers",
         "name": "The SpongeBob Movie: Sponge on the Run",
         "type": "scatter",
         "x": [
          0.19
         ],
         "y": [
          345000
         ]
        },
        {
         "line": {
          "color": "orange",
          "width": 2
         },
         "mode": "markers",
         "name": "The New Mutants",
         "type": "scatter",
         "x": [
          23.620559334845066
         ],
         "y": [
          4753312
         ]
        },
        {
         "line": {
          "color": "blue",
          "width": 2
         },
         "mode": "markers",
         "name": "My Brothers' Crossing",
         "type": "scatter",
         "x": [
          0.083616
         ],
         "y": [
          19386
         ]
        },
        {
         "line": {
          "color": "white",
          "width": 2
         },
         "mode": "markers",
         "name": "The New Mutants",
         "type": "scatter",
         "x": [
          16.817838246409682
         ],
         "y": [
          3539243
         ]
        },
        {
         "line": {
          "color": "white",
          "width": 2
         },
         "mode": "markers",
         "name": "Guest Artist",
         "type": "scatter",
         "x": [
          0.0091728
         ],
         "y": [
          144
         ]
        },
        {
         "line": {
          "color": "red",
          "width": 2
         },
         "mode": "markers",
         "name": "In the Life of Music",
         "type": "scatter",
         "x": [
          0.042432
         ],
         "y": [
          253
         ]
        },
        {
         "line": {
          "color": "orange",
          "width": 2
         },
         "mode": "markers",
         "name": "The Burnt Orange Heresy",
         "type": "scatter",
         "x": [
          0.05749213483146068
         ],
         "y": [
          430
         ]
        },
        {
         "line": {
          "color": "white",
          "width": 2
         },
         "mode": "markers",
         "name": "Unhinged",
         "type": "scatter",
         "x": [
          17.222222222222225
         ],
         "y": [
          2403341
         ]
        },
        {
         "line": {
          "color": "red",
          "width": 2
         },
         "mode": "markers",
         "name": "The Broken Hearts Gallery",
         "type": "scatter",
         "x": [
          3.1000000000000005
         ],
         "y": [
          1126401
         ]
        },
        {
         "line": {
          "color": "white",
          "width": 2
         },
         "mode": "markers",
         "name": "She Dies Tomorrow",
         "type": "scatter",
         "x": [
          0.147264
         ],
         "y": [
          26914
         ]
        },
        {
         "line": {
          "color": "red",
          "width": 2
         },
         "mode": "markers",
         "name": "The SpongeBob Movie: Sponge on the Run",
         "type": "scatter",
         "x": [
          0.23
         ],
         "y": [
          225829
         ]
        },
        {
         "line": {
          "color": "blue",
          "width": 2
         },
         "mode": "markers",
         "name": "Rent-A-Pal",
         "type": "scatter",
         "x": [
          0.054163199999999995
         ],
         "y": [
          19650
         ]
        },
        {
         "line": {
          "color": "orange",
          "width": 2
         },
         "mode": "markers",
         "name": "My Brothers' Crossing",
         "type": "scatter",
         "x": [
          0.06988799999999999
         ],
         "y": [
          19994
         ]
        },
        {
         "line": {
          "color": "blue",
          "width": 2
         },
         "mode": "markers",
         "name": "The Personal History of David Copperfield",
         "type": "scatter",
         "x": [
          0.8500000000000001
         ],
         "y": [
          220681
         ]
        },
        {
         "line": {
          "color": "orange",
          "width": 2
         },
         "mode": "markers",
         "name": "She Dies Tomorrow",
         "type": "scatter",
         "x": [
          0.238368
         ],
         "y": [
          39179
         ]
        },
        {
         "line": {
          "color": "white",
          "width": 2
         },
         "mode": "markers",
         "name": "The Eight Hundred",
         "type": "scatter",
         "x": [
          0.6900000000000001
         ],
         "y": [
          13811
         ]
        },
        {
         "line": {
          "color": "red",
          "width": 2
         },
         "mode": "markers",
         "name": "The New Mutants",
         "type": "scatter",
         "x": [
          9.826152683295543
         ],
         "y": [
          2220235
         ]
        },
        {
         "line": {
          "color": "orange",
          "width": 2
         },
         "mode": "markers",
         "name": "The Broken Hearts Gallery",
         "type": "scatter",
         "x": [
          4.666666666666666
         ],
         "y": [
          1282815
         ]
        },
        {
         "line": {
          "color": "white",
          "width": 2
         },
         "mode": "markers",
         "name": "Infidel",
         "type": "scatter",
         "x": [
          10.555555555555557
         ],
         "y": [
          1384296
         ]
        },
        {
         "line": {
          "color": "red",
          "width": 2
         },
         "mode": "markers",
         "name": "Rent-A-Pal",
         "type": "scatter",
         "x": [
          0.0563472
         ],
         "y": [
          4498
         ]
        },
        {
         "line": {
          "color": "blue",
          "width": 2
         },
         "mode": "markers",
         "name": "My Brothers' Crossing",
         "type": "scatter",
         "x": [
          0.02496
         ],
         "y": [
          9664
         ]
        },
        {
         "line": {
          "color": "orange",
          "width": 2
         },
         "mode": "markers",
         "name": "Foster Boy",
         "type": "scatter",
         "x": [
          0.034944
         ],
         "y": [
          5324
         ]
        },
        {
         "line": {
          "color": "white",
          "width": 2
         },
         "mode": "markers",
         "name": "The SpongeBob Movie: Sponge on the Run",
         "type": "scatter",
         "x": [
          0.24000000000000005
         ],
         "y": [
          272658
         ]
        },
        {
         "line": {
          "color": "blue",
          "width": 2
         },
         "mode": "markers",
         "name": "Unhinged",
         "type": "scatter",
         "x": [
          13.253968253968255
         ],
         "y": [
          1852498
         ]
        },
        {
         "line": {
          "color": "red",
          "width": 2
         },
         "mode": "markers",
         "name": "Foster Boy",
         "type": "scatter",
         "x": [
          0.325728
         ],
         "y": [
          12234
         ]
        },
        {
         "line": {
          "color": "orange",
          "width": 2
         },
         "mode": "markers",
         "name": "Infidel",
         "type": "scatter",
         "x": [
          11.904761904761909
         ],
         "y": [
          1306439
         ]
        },
        {
         "line": {
          "color": "red",
          "width": 2
         },
         "mode": "markers",
         "name": "The New Mutants",
         "type": "scatter",
         "x": [
          8.125472411186701
         ],
         "y": [
          1742824
         ]
        },
        {
         "line": {
          "color": "blue",
          "width": 2
         },
         "mode": "markers",
         "name": "The Personal History of David Copperfield",
         "type": "scatter",
         "x": [
          0.65
         ],
         "y": [
          130798
         ]
        },
        {
         "line": {
          "color": "red",
          "width": 2
         },
         "mode": "markers",
         "name": "The SpongeBob Movie: Sponge on the Run",
         "type": "scatter",
         "x": [
          0.28
         ],
         "y": [
          198932
         ]
        },
        {
         "line": {
          "color": "blue",
          "width": 2
         },
         "mode": "markers",
         "name": "My Brothers' Crossing",
         "type": "scatter",
         "x": [
          0.051168
         ],
         "y": [
          4915
         ]
        },
        {
         "line": {
          "color": "orange",
          "width": 2
         },
         "mode": "markers",
         "name": "Unhinged",
         "type": "scatter",
         "x": [
          12.857142857142858
         ],
         "y": [
          1461974
         ]
        },
        {
         "line": {
          "color": "white",
          "width": 2
         },
         "mode": "markers",
         "name": "Draupadi Unleashed",
         "type": "scatter",
         "x": [
          0.0672672
         ],
         "y": [
          7343
         ]
        },
        {
         "line": {
          "color": "red",
          "width": 2
         },
         "mode": "markers",
         "name": "Dreaming Grand Avenue",
         "type": "scatter",
         "x": [
          0.009225216
         ],
         "y": [
          876
         ]
        },
        {
         "line": {
          "color": "blue",
          "width": 2
         },
         "mode": "markers",
         "name": "She Dies Tomorrow",
         "type": "scatter",
         "x": [
          0.22588800000000006
         ],
         "y": [
          26350
         ]
        },
        {
         "line": {
          "color": "blue",
          "width": 2
         },
         "mode": "markers",
         "name": "Unhinged",
         "type": "scatter",
         "x": [
          11.746031746031747
         ],
         "y": [
          1222582
         ]
        },
        {
         "line": {
          "color": "orange",
          "width": 2
         },
         "mode": "markers",
         "name": "She Dies Tomorrow",
         "type": "scatter",
         "x": [
          0.16473600000000002
         ],
         "y": [
          15190
         ]
        },
        {
         "line": {
          "color": "red",
          "width": 2
         },
         "mode": "markers",
         "name": "The SpongeBob Movie: Sponge on the Run",
         "type": "scatter",
         "x": [
          0.3
         ],
         "y": [
          137208
         ]
        },
        {
         "line": {
          "color": "blue",
          "width": 2
         },
         "mode": "markers",
         "name": "My Brothers' Crossing",
         "type": "scatter",
         "x": [
          0.008736
         ],
         "y": [
          3317
         ]
        },
        {
         "line": {
          "color": "white",
          "width": 2
         },
         "mode": "markers",
         "name": "The Secrets We Keep",
         "type": "scatter",
         "x": [
          0.5700000000000001
         ],
         "y": [
          22837
         ]
        },
        {
         "line": {
          "color": "red",
          "width": 2
         },
         "mode": "markers",
         "name": "The Personal History of David Copperfield",
         "type": "scatter",
         "x": [
          0.47
         ],
         "y": [
          60467
         ]
        },
        {
         "line": {
          "color": "orange",
          "width": 2
         },
         "mode": "markers",
         "name": "Dreaming Grand Avenue",
         "type": "scatter",
         "x": [
          0.008504496
         ],
         "y": [
          829
         ]
        },
        {
         "line": {
          "color": "white",
          "width": 2
         },
         "mode": "markers",
         "name": "Bill & Ted Face the Music",
         "type": "scatter",
         "x": [
          0.7899999999999999
         ],
         "y": [
          65935
         ]
        },
        {
         "line": {
          "color": "red",
          "width": 2
         },
         "mode": "markers",
         "name": "The Way I See It",
         "type": "scatter",
         "x": [
          0.8730158730158731
         ],
         "y": [
          4515
         ]
        },
        {
         "line": {
          "color": "blue",
          "width": 2
         },
         "mode": "markers",
         "name": "Foster Boy",
         "type": "scatter",
         "x": [
          0.312
         ],
         "y": [
          2305
         ]
        },
        {
         "line": {
          "color": "orange",
          "width": 2
         },
         "mode": "markers",
         "name": "The New Mutants",
         "type": "scatter",
         "x": [
          7.74754346182918
         ],
         "y": [
          1471973
         ]
        },
        {
         "line": {
          "color": "white",
          "width": 2
         },
         "mode": "markers",
         "name": "A Call to Spy",
         "type": "scatter",
         "x": [
          0.98
         ],
         "y": [
          35098
         ]
        },
        {
         "line": {
          "color": "blue",
          "width": 2
         },
         "mode": "markers",
         "name": "She Dies Tomorrow",
         "type": "scatter",
         "x": [
          0.23212800000000003
         ],
         "y": [
          18968
         ]
        },
        {
         "line": {
          "color": "white",
          "width": 2
         },
         "mode": "markers",
         "name": "Words on Bathroom Walls",
         "type": "scatter",
         "x": [
          0.6799999999999999
         ],
         "y": [
          60919
         ]
        },
        {
         "line": {
          "color": "white",
          "width": 2
         },
         "mode": "markers",
         "name": "Pray: The Story of Patrick Peyton",
         "type": "scatter",
         "x": [
          0.016598400000000003
         ],
         "y": [
          24397
         ]
        },
        {
         "line": {
          "color": "blue",
          "width": 2
         },
         "mode": "markers",
         "name": "A Call to Spy",
         "type": "scatter",
         "x": [
          0.91
         ],
         "y": [
          44250
         ]
        },
        {
         "line": {
          "color": "white",
          "width": 2
         },
         "mode": "markers",
         "name": "Bill & Ted Face the Music",
         "type": "scatter",
         "x": [
          0.55
         ],
         "y": [
          87855
         ]
        },
        {
         "line": {
          "color": "blue",
          "width": 2
         },
         "mode": "markers",
         "name": "The War with Grandpa",
         "type": "scatter",
         "x": [
          3.2278481012658227
         ],
         "y": [
          3623880
         ]
        },
        {
         "line": {
          "color": "orange",
          "width": 2
         },
         "mode": "markers",
         "name": "The Secrets We Keep",
         "type": "scatter",
         "x": [
          0.11
         ],
         "y": [
          2212
         ]
        },
        {
         "line": {
          "color": "white",
          "width": 2
         },
         "mode": "markers",
         "name": "The Personal History of David Copperfield",
         "type": "scatter",
         "x": [
          0.36000000000000004
         ],
         "y": [
          21712
         ]
        },
        {
         "line": {
          "color": "red",
          "width": 2
         },
         "mode": "markers",
         "name": "Dreaming Grand Avenue",
         "type": "scatter",
         "x": [
          0.004180176
         ],
         "y": [
          101
         ]
        },
        {
         "line": {
          "color": "blue",
          "width": 2
         },
         "mode": "markers",
         "name": "The New Mutants",
         "type": "scatter",
         "x": [
          6.802721088435378
         ],
         "y": [
          1055664
         ]
        },
        {
         "line": {
          "color": "orange",
          "width": 2
         },
         "mode": "markers",
         "name": "My Brothers' Crossing",
         "type": "scatter",
         "x": [
          0.01872
         ],
         "y": [
          1343
         ]
        },
        {
         "line": {
          "color": "red",
          "width": 2
         },
         "mode": "markers",
         "name": "Foster Boy",
         "type": "scatter",
         "x": [
          0.04992
         ],
         "y": [
          10
         ]
        },
        {
         "line": {
          "color": "blue",
          "width": 2
         },
         "mode": "markers",
         "name": "The SpongeBob Movie: Sponge on the Run",
         "type": "scatter",
         "x": [
          0.28
         ],
         "y": [
          75090
         ]
        },
        {
         "line": {
          "color": "orange",
          "width": 2
         },
         "mode": "markers",
         "name": "The Kid Detective",
         "type": "scatter",
         "x": [
          0.6717957446808511
         ],
         "y": [
          140218
         ]
        },
        {
         "line": {
          "color": "red",
          "width": 2
         },
         "mode": "markers",
         "name": "The SpongeBob Movie: Sponge on the Run",
         "type": "scatter",
         "x": [
          0.31000000000000005
         ],
         "y": [
          69201
         ]
        },
        {
         "line": {
          "color": "orange",
          "width": 2
         },
         "mode": "markers",
         "name": "Words on Bathroom Walls",
         "type": "scatter",
         "x": [
          0.6699999999999999
         ],
         "y": [
          22995
         ]
        },
        {
         "line": {
          "color": "white",
          "width": 2
         },
         "mode": "markers",
         "name": "The War with Grandpa",
         "type": "scatter",
         "x": [
          4.177215189873418
         ],
         "y": [
          3636975
         ]
        },
        {
         "line": {
          "color": "blue",
          "width": 2
         },
         "mode": "markers",
         "name": "The Personal History of David Copperfield",
         "type": "scatter",
         "x": [
          0.54
         ],
         "y": [
          8533
         ]
        },
        {
         "line": {
          "color": "blue",
          "width": 2
         },
         "mode": "markers",
         "name": "The Broken Hearts Gallery",
         "type": "scatter",
         "x": [
          0.5333333333333333
         ],
         "y": [
          60054
         ]
        },
        {
         "line": {
          "color": "red",
          "width": 2
         },
         "mode": "markers",
         "name": "Pray: The Story of Patrick Peyton",
         "type": "scatter",
         "x": [
          0.015724800000000004
         ],
         "y": [
          20385
         ]
        },
        {
         "line": {
          "color": "red",
          "width": 2
         },
         "mode": "markers",
         "name": "The Last Shift",
         "type": "scatter",
         "x": [
          0.4
         ],
         "y": [
          22022
         ]
        },
        {
         "line": {
          "color": "blue",
          "width": 2
         },
         "mode": "markers",
         "name": "Shithouse",
         "type": "scatter",
         "x": [
          0.288288
         ],
         "y": [
          5545
         ]
        },
        {
         "line": {
          "color": "orange",
          "width": 2
         },
         "mode": "markers",
         "name": "She Dies Tomorrow",
         "type": "scatter",
         "x": [
          0.16848000000000002
         ],
         "y": [
          15482
         ]
        },
        {
         "line": {
          "color": "orange",
          "width": 2
         },
         "mode": "markers",
         "name": "My Brothers' Crossing",
         "type": "scatter",
         "x": [
          0.008736
         ],
         "y": [
          306
         ]
        },
        {
         "line": {
          "color": "red",
          "width": 2
         },
         "mode": "markers",
         "name": "Honest Thief",
         "type": "scatter",
         "x": [
          5.083333333333334
         ],
         "y": [
          3607966
         ]
        },
        {
         "line": {
          "color": "orange",
          "width": 2
         },
         "mode": "markers",
         "name": "Bill & Ted Face the Music",
         "type": "scatter",
         "x": [
          0.47
         ],
         "y": [
          12352
         ]
        },
        {
         "line": {
          "color": "red",
          "width": 2
         },
         "mode": "markers",
         "name": "Counter Column",
         "type": "scatter",
         "x": [
          0.024024000000000004
         ],
         "y": [
          6455
         ]
        },
        {
         "line": {
          "color": "orange",
          "width": 2
         },
         "mode": "markers",
         "name": "Lupin III: The First",
         "type": "scatter",
         "x": [
          0.05616
         ],
         "y": [
          83295
         ]
        },
        {
         "line": {
          "color": "white",
          "width": 2
         },
         "mode": "markers",
         "name": "A Call to Spy",
         "type": "scatter",
         "x": [
          0.61
         ],
         "y": [
          23932
         ]
        },
        {
         "line": {
          "color": "red",
          "width": 2
         },
         "mode": "markers",
         "name": "Mermaid in Paris",
         "type": "scatter",
         "x": [
          0.0214032
         ],
         "y": [
          1202
         ]
        },
        {
         "line": {
          "color": "white",
          "width": 2
         },
         "mode": "markers",
         "name": "Stevie Nicks 24 Karat Gold the Concert",
         "type": "scatter",
         "x": [
          0.025513487999999997
         ],
         "y": [
          404489
         ]
        },
        {
         "line": {
          "color": "red",
          "width": 2
         },
         "mode": "markers",
         "name": "Honest Thief",
         "type": "scatter",
         "x": [
          8.3125
         ],
         "y": [
          3364941
         ]
        },
        {
         "line": {
          "color": "orange",
          "width": 2
         },
         "mode": "markers",
         "name": "The Personal History of David Copperfield",
         "type": "scatter",
         "x": [
          0.17
         ],
         "y": [
          2273
         ]
        },
        {
         "line": {
          "color": "white",
          "width": 2
         },
         "mode": "markers",
         "name": "Dreaming Grand Avenue",
         "type": "scatter",
         "x": [
          0.009513504
         ],
         "y": [
          964
         ]
        },
        {
         "line": {
          "color": "blue",
          "width": 2
         },
         "mode": "markers",
         "name": "The SpongeBob Movie: Sponge on the Run",
         "type": "scatter",
         "x": [
          0.4300000000000001
         ],
         "y": [
          44521
         ]
        },
        {
         "line": {
          "color": "white",
          "width": 2
         },
         "mode": "markers",
         "name": "The War with Grandpa",
         "type": "scatter",
         "x": [
          3.1392405063291138
         ],
         "y": [
          2489361
         ]
        },
        {
         "line": {
          "color": "red",
          "width": 2
         },
         "mode": "markers",
         "name": "The Empty Man",
         "type": "scatter",
         "x": [
          4.854545454545455
         ],
         "y": [
          1310326
         ]
        },
        {
         "line": {
          "color": "orange",
          "width": 2
         },
         "mode": "markers",
         "name": "The Last Shift",
         "type": "scatter",
         "x": [
          0.3200000000000001
         ],
         "y": [
          10493
         ]
        },
        {
         "line": {
          "color": "red",
          "width": 2
         },
         "mode": "markers",
         "name": "The Kid Detective",
         "type": "scatter",
         "x": [
          0.6664851063829786
         ],
         "y": [
          162473
         ]
        },
        {
         "line": {
          "color": "white",
          "width": 2
         },
         "mode": "markers",
         "name": "Bill & Ted Face the Music",
         "type": "scatter",
         "x": [
          0.13
         ],
         "y": [
          3655
         ]
        },
        {
         "line": {
          "color": "blue",
          "width": 2
         },
         "mode": "markers",
         "name": "Counter Column",
         "type": "scatter",
         "x": [
          0.03756480000000001
         ],
         "y": [
          5236
         ]
        },
        {
         "line": {
          "color": "white",
          "width": 2
         },
         "mode": "markers",
         "name": "Words on Bathroom Walls",
         "type": "scatter",
         "x": [
          0.49
         ],
         "y": [
          7085
         ]
        },
        {
         "line": {
          "color": "blue",
          "width": 2
         },
         "mode": "markers",
         "name": "Pray: The Story of Patrick Peyton",
         "type": "scatter",
         "x": [
          0.007425600000000002
         ],
         "y": [
          11459
         ]
        },
        {
         "line": {
          "color": "white",
          "width": 2
         },
         "mode": "markers",
         "name": "She Dies Tomorrow",
         "type": "scatter",
         "x": [
          0.119808
         ],
         "y": [
          10353
         ]
        },
        {
         "line": {
          "color": "blue",
          "width": 2
         },
         "mode": "markers",
         "name": "Lupin III: The First",
         "type": "scatter",
         "x": [
          0.14851199999999998
         ],
         "y": [
          50890
         ]
        },
        {
         "line": {
          "color": "orange",
          "width": 2
         },
         "mode": "markers",
         "name": "Shithouse",
         "type": "scatter",
         "x": [
          0.289536
         ],
         "y": [
          9559
         ]
        },
        {
         "line": {
          "color": "white",
          "width": 2
         },
         "mode": "markers",
         "name": "Possessor",
         "type": "scatter",
         "x": [
          0.89
         ],
         "y": [
          53946
         ]
        },
        {
         "line": {
          "color": "orange",
          "width": 2
         },
         "mode": "markers",
         "name": "A Call to Spy",
         "type": "scatter",
         "x": [
          0.7499999999999999
         ],
         "y": [
          15944
         ]
        },
        {
         "line": {
          "color": "white",
          "width": 2
         },
         "mode": "markers",
         "name": "Mermaid in Paris",
         "type": "scatter",
         "x": [
          0.028392
         ],
         "y": [
          786
         ]
        },
        {
         "line": {
          "color": "blue",
          "width": 2
         },
         "mode": "markers",
         "name": "Counter Column",
         "type": "scatter",
         "x": [
          0.030139200000000005
         ],
         "y": [
          2060
         ]
        },
        {
         "line": {
          "color": "orange",
          "width": 2
         },
         "mode": "markers",
         "name": "Words on Bathroom Walls",
         "type": "scatter",
         "x": [
          0.41
         ],
         "y": [
          2218
         ]
        },
        {
         "line": {
          "color": "blue",
          "width": 2
         },
         "mode": "markers",
         "name": "The Kid Detective",
         "type": "scatter",
         "x": [
          0.3319148936170213
         ],
         "y": [
          51554
         ]
        },
        {
         "line": {
          "color": "white",
          "width": 2
         },
         "mode": "markers",
         "name": "The SpongeBob Movie: Sponge on the Run",
         "type": "scatter",
         "x": [
          0.15
         ],
         "y": [
          20611
         ]
        },
        {
         "line": {
          "color": "orange",
          "width": 2
         },
         "mode": "markers",
         "name": "Possessor",
         "type": "scatter",
         "x": [
          1
         ],
         "y": [
          30698
         ]
        },
        {
         "line": {
          "color": "white",
          "width": 2
         },
         "mode": "markers",
         "name": "Come Play",
         "type": "scatter",
         "x": [
          16.746031746031747
         ],
         "y": [
          3119875
         ]
        },
        {
         "line": {
          "color": "orange",
          "width": 2
         },
         "mode": "markers",
         "name": "The War with Grandpa",
         "type": "scatter",
         "x": [
          3.1772151898734178
         ],
         "y": [
          1728709
         ]
        },
        {
         "line": {
          "color": "red",
          "width": 2
         },
         "mode": "markers",
         "name": "Lupin III: The First",
         "type": "scatter",
         "x": [
          0.04992
         ],
         "y": [
          2183
         ]
        },
        {
         "line": {
          "color": "red",
          "width": 2
         },
         "mode": "markers",
         "name": "The Last Shift",
         "type": "scatter",
         "x": [
          0.27
         ],
         "y": [
          3411
         ]
        },
        {
         "line": {
          "color": "red",
          "width": 2
         },
         "mode": "markers",
         "name": "She Dies Tomorrow",
         "type": "scatter",
         "x": [
          0.14975999999999998
         ],
         "y": [
          10909
         ]
        },
        {
         "line": {
          "color": "blue",
          "width": 2
         },
         "mode": "markers",
         "name": "Shithouse",
         "type": "scatter",
         "x": [
          0.113568
         ],
         "y": [
          2181
         ]
        },
        {
         "line": {
          "color": "orange",
          "width": 2
         },
         "mode": "markers",
         "name": "Honest Thief",
         "type": "scatter",
         "x": [
          6.708333333333334
         ],
         "y": [
          2078045
         ]
        },
        {
         "line": {
          "color": "blue",
          "width": 2
         },
         "mode": "markers",
         "name": "A Call to Spy",
         "type": "scatter",
         "x": [
          0.54
         ],
         "y": [
          10840
         ]
        },
        {
         "line": {
          "color": "white",
          "width": 2
         },
         "mode": "markers",
         "name": "The Broken Hearts Gallery",
         "type": "scatter",
         "x": [
          0.8222222222222221
         ],
         "y": [
          11618
         ]
        },
        {
         "line": {
          "color": "white",
          "width": 2
         },
         "mode": "markers",
         "name": "The War with Grandpa",
         "type": "scatter",
         "x": [
          3.4683544303797467
         ],
         "y": [
          1930168
         ]
        },
        {
         "line": {
          "color": "white",
          "width": 2
         },
         "mode": "markers",
         "name": "Come Play",
         "type": "scatter",
         "x": [
          19.682539682539684
         ],
         "y": [
          2605030
         ]
        },
        {
         "line": {
          "color": "red",
          "width": 2
         },
         "mode": "markers",
         "name": "Counter Column",
         "type": "scatter",
         "x": [
          0.014851200000000004
         ],
         "y": [
          756
         ]
        },
        {
         "line": {
          "color": "blue",
          "width": 2
         },
         "mode": "markers",
         "name": "A Call to Spy",
         "type": "scatter",
         "x": [
          0.68
         ],
         "y": [
          11237
         ]
        },
        {
         "line": {
          "color": "white",
          "width": 2
         },
         "mode": "markers",
         "name": "She Dies Tomorrow",
         "type": "scatter",
         "x": [
          0.06614400000000001
         ],
         "y": [
          1595
         ]
        },
        {
         "line": {
          "color": "red",
          "width": 2
         },
         "mode": "markers",
         "name": "Honest Thief",
         "type": "scatter",
         "x": [
          6.208333333333334
         ],
         "y": [
          1619272
         ]
        },
        {
         "line": {
          "color": "white",
          "width": 2
         },
         "mode": "markers",
         "name": "Pray: The Story of Patrick Peyton",
         "type": "scatter",
         "x": [
          0.0065520000000000005
         ],
         "y": [
          4898
         ]
        },
        {
         "line": {
          "color": "white",
          "width": 2
         },
         "mode": "markers",
         "name": "Words on Bathroom Walls",
         "type": "scatter",
         "x": [
          0.27
         ],
         "y": [
          2480
         ]
        },
        {
         "line": {
          "color": "orange",
          "width": 2
         },
         "mode": "markers",
         "name": "Let Him Go",
         "type": "scatter",
         "x": [
          10.873015873015875
         ],
         "y": [
          4000470
         ]
        },
        {
         "line": {
          "color": "red",
          "width": 2
         },
         "mode": "markers",
         "name": "The Broken Hearts Gallery",
         "type": "scatter",
         "x": [
          0.8111111111111109
         ],
         "y": [
          15541
         ]
        },
        {
         "line": {
          "color": "white",
          "width": 2
         },
         "mode": "markers",
         "name": "The Last Shift",
         "type": "scatter",
         "x": [
          0.23000000000000004
         ],
         "y": [
          725
         ]
        },
        {
         "line": {
          "color": "red",
          "width": 2
         },
         "mode": "markers",
         "name": "The Kid Detective",
         "type": "scatter",
         "x": [
          0.2044595744680851
         ],
         "y": [
          8938
         ]
        },
        {
         "line": {
          "color": "blue",
          "width": 2
         },
         "mode": "markers",
         "name": "Come Play",
         "type": "scatter",
         "x": [
          19.365079365079367
         ],
         "y": [
          1564990
         ]
        },
        {
         "line": {
          "color": "white",
          "width": 2
         },
         "mode": "markers",
         "name": "A Call to Spy",
         "type": "scatter",
         "x": [
          0.49
         ],
         "y": [
          8056
         ]
        },
        {
         "line": {
          "color": "blue",
          "width": 2
         },
         "mode": "markers",
         "name": "The SpongeBob Movie: Sponge on the Run",
         "type": "scatter",
         "x": [
          0.95
         ],
         "y": [
          8092
         ]
        },
        {
         "line": {
          "color": "blue",
          "width": 2
         },
         "mode": "markers",
         "name": "The War with Grandpa",
         "type": "scatter",
         "x": [
          3.59493670886076
         ],
         "y": [
          1814182
         ]
        },
        {
         "line": {
          "color": "red",
          "width": 2
         },
         "mode": "markers",
         "name": "Yellow Rose",
         "type": "scatter",
         "x": [
          1
         ],
         "y": [
          3728
         ]
        },
        {
         "line": {
          "color": "white",
          "width": 2
         },
         "mode": "markers",
         "name": "The Broken Hearts Gallery",
         "type": "scatter",
         "x": [
          0.9222222222222222
         ],
         "y": [
          6428
         ]
        },
        {
         "line": {
          "color": "red",
          "width": 2
         },
         "mode": "markers",
         "name": "Honest Thief",
         "type": "scatter",
         "x": [
          5.916666666666666
         ],
         "y": [
          1184504
         ]
        },
        {
         "line": {
          "color": "blue",
          "width": 2
         },
         "mode": "markers",
         "name": "Freaky",
         "type": "scatter",
         "x": [
          21.352985638699934
         ],
         "y": [
          3600355
         ]
        },
        {
         "line": {
          "color": "orange",
          "width": 2
         },
         "mode": "markers",
         "name": "The Last Shift",
         "type": "scatter",
         "x": [
          0.28
         ],
         "y": [
          152122
         ]
        },
        {
         "line": {
          "color": "red",
          "width": 2
         },
         "mode": "markers",
         "name": "Let Him Go",
         "type": "scatter",
         "x": [
          10.634920634920636
         ],
         "y": [
          2832430
         ]
        },
        {
         "line": {
          "color": "orange",
          "width": 2
         },
         "mode": "markers",
         "name": "The Kid Detective",
         "type": "scatter",
         "x": [
          0.11683404255319148
         ],
         "y": [
          955
         ]
        },
        {
         "line": {
          "color": "blue",
          "width": 2
         },
         "mode": "markers",
         "name": "Counter Column",
         "type": "scatter",
         "x": [
          0.015288000000000003
         ],
         "y": [
          257
         ]
        },
        {
         "line": {
          "color": "orange",
          "width": 2
         },
         "mode": "markers",
         "name": "The Broken Hearts Gallery",
         "type": "scatter",
         "x": [
          0.4222222222222222
         ],
         "y": [
          1273
         ]
        },
        {
         "line": {
          "color": "orange",
          "width": 2
         },
         "mode": "markers",
         "name": "A Call to Spy",
         "type": "scatter",
         "x": [
          0.11
         ],
         "y": [
          2168
         ]
        },
        {
         "line": {
          "color": "white",
          "width": 2
         },
         "mode": "markers",
         "name": "The Forgotten Carols",
         "type": "scatter",
         "x": [
          0.0860496
         ],
         "y": [
          103839
         ]
        },
        {
         "line": {
          "color": "white",
          "width": 2
         },
         "mode": "markers",
         "name": "Let Him Go",
         "type": "scatter",
         "x": [
          6.904761904761906
         ],
         "y": [
          1110540
         ]
        },
        {
         "line": {
          "color": "blue",
          "width": 2
         },
         "mode": "markers",
         "name": "Pray: The Story of Patrick Peyton",
         "type": "scatter",
         "x": [
          0.008299200000000001
         ],
         "y": [
          1494
         ]
        },
        {
         "line": {
          "color": "red",
          "width": 2
         },
         "mode": "markers",
         "name": "Freaky",
         "type": "scatter",
         "x": [
          23.99848828420258
         ],
         "y": [
          2053090
         ]
        },
        {
         "line": {
          "color": "white",
          "width": 2
         },
         "mode": "markers",
         "name": "The Last Shift",
         "type": "scatter",
         "x": [
          0.07
         ],
         "y": [
          237863
         ]
        },
        {
         "line": {
          "color": "red",
          "width": 2
         },
         "mode": "markers",
         "name": "Counter Column",
         "type": "scatter",
         "x": [
          0.007425600000000002
         ],
         "y": [
          25
         ]
        },
        {
         "line": {
          "color": "white",
          "width": 2
         },
         "mode": "markers",
         "name": "Infidel",
         "type": "scatter",
         "x": [
          0.9523809523809526
         ],
         "y": [
          189
         ]
        },
        {
         "line": {
          "color": "blue",
          "width": 2
         },
         "mode": "markers",
         "name": "Words on Bathroom Walls",
         "type": "scatter",
         "x": [
          0.4
         ],
         "y": [
          24
         ]
        },
        {
         "line": {
          "color": "orange",
          "width": 2
         },
         "mode": "markers",
         "name": "The Shade Shepherd",
         "type": "scatter",
         "x": [
          0.009984
         ],
         "y": [
          101
         ]
        },
        {
         "line": {
          "color": "white",
          "width": 2
         },
         "mode": "markers",
         "name": "Find Your Voice",
         "type": "scatter",
         "x": [
          0.009984
         ],
         "y": [
          157
         ]
        },
        {
         "line": {
          "color": "red",
          "width": 2
         },
         "mode": "markers",
         "name": "The Forgotten Carols",
         "type": "scatter",
         "x": [
          0.09827999999999999
         ],
         "y": [
          156728
         ]
        },
        {
         "line": {
          "color": "red",
          "width": 2
         },
         "mode": "markers",
         "name": "The Empty Man",
         "type": "scatter",
         "x": [
          0.8
         ],
         "y": [
          13296
         ]
        },
        {
         "line": {
          "color": "orange",
          "width": 2
         },
         "mode": "markers",
         "name": "The Croods: A New Age",
         "type": "scatter",
         "x": [
          1.52
         ],
         "y": [
          14274455
         ]
        },
        {
         "line": {
          "color": "white",
          "width": 2
         },
         "mode": "markers",
         "name": "The War with Grandpa",
         "type": "scatter",
         "x": [
          2.6455696202531644
         ],
         "y": [
          1009656
         ]
        },
        {
         "line": {
          "color": "blue",
          "width": 2
         },
         "mode": "markers",
         "name": "The Bra",
         "type": "scatter",
         "x": [
          0.51
         ],
         "y": [
          88
         ]
        },
        {
         "line": {
          "color": "white",
          "width": 2
         },
         "mode": "markers",
         "name": "Freaky",
         "type": "scatter",
         "x": [
          20.59712773998489
         ],
         "y": [
          1389310
         ]
        },
        {
         "line": {
          "color": "red",
          "width": 2
         },
         "mode": "markers",
         "name": "In the Life of Music",
         "type": "scatter",
         "x": [
          0.042432
         ],
         "y": [
          112
         ]
        }
       ],
       "layout": {
        "paper_bgcolor": "#23272c",
        "plot_bgcolor": "#23272c",
        "template": {
         "data": {
          "bar": [
           {
            "error_x": {
             "color": "#f2f5fa"
            },
            "error_y": {
             "color": "#f2f5fa"
            },
            "marker": {
             "line": {
              "color": "rgb(17,17,17)",
              "width": 0.5
             }
            },
            "type": "bar"
           }
          ],
          "barpolar": [
           {
            "marker": {
             "line": {
              "color": "rgb(17,17,17)",
              "width": 0.5
             }
            },
            "type": "barpolar"
           }
          ],
          "carpet": [
           {
            "aaxis": {
             "endlinecolor": "#A2B1C6",
             "gridcolor": "#506784",
             "linecolor": "#506784",
             "minorgridcolor": "#506784",
             "startlinecolor": "#A2B1C6"
            },
            "baxis": {
             "endlinecolor": "#A2B1C6",
             "gridcolor": "#506784",
             "linecolor": "#506784",
             "minorgridcolor": "#506784",
             "startlinecolor": "#A2B1C6"
            },
            "type": "carpet"
           }
          ],
          "choropleth": [
           {
            "colorbar": {
             "outlinewidth": 0,
             "ticks": ""
            },
            "type": "choropleth"
           }
          ],
          "contour": [
           {
            "colorbar": {
             "outlinewidth": 0,
             "ticks": ""
            },
            "colorscale": [
             [
              0,
              "#0d0887"
             ],
             [
              0.1111111111111111,
              "#46039f"
             ],
             [
              0.2222222222222222,
              "#7201a8"
             ],
             [
              0.3333333333333333,
              "#9c179e"
             ],
             [
              0.4444444444444444,
              "#bd3786"
             ],
             [
              0.5555555555555556,
              "#d8576b"
             ],
             [
              0.6666666666666666,
              "#ed7953"
             ],
             [
              0.7777777777777778,
              "#fb9f3a"
             ],
             [
              0.8888888888888888,
              "#fdca26"
             ],
             [
              1,
              "#f0f921"
             ]
            ],
            "type": "contour"
           }
          ],
          "contourcarpet": [
           {
            "colorbar": {
             "outlinewidth": 0,
             "ticks": ""
            },
            "type": "contourcarpet"
           }
          ],
          "heatmap": [
           {
            "colorbar": {
             "outlinewidth": 0,
             "ticks": ""
            },
            "colorscale": [
             [
              0,
              "#0d0887"
             ],
             [
              0.1111111111111111,
              "#46039f"
             ],
             [
              0.2222222222222222,
              "#7201a8"
             ],
             [
              0.3333333333333333,
              "#9c179e"
             ],
             [
              0.4444444444444444,
              "#bd3786"
             ],
             [
              0.5555555555555556,
              "#d8576b"
             ],
             [
              0.6666666666666666,
              "#ed7953"
             ],
             [
              0.7777777777777778,
              "#fb9f3a"
             ],
             [
              0.8888888888888888,
              "#fdca26"
             ],
             [
              1,
              "#f0f921"
             ]
            ],
            "type": "heatmap"
           }
          ],
          "heatmapgl": [
           {
            "colorbar": {
             "outlinewidth": 0,
             "ticks": ""
            },
            "colorscale": [
             [
              0,
              "#0d0887"
             ],
             [
              0.1111111111111111,
              "#46039f"
             ],
             [
              0.2222222222222222,
              "#7201a8"
             ],
             [
              0.3333333333333333,
              "#9c179e"
             ],
             [
              0.4444444444444444,
              "#bd3786"
             ],
             [
              0.5555555555555556,
              "#d8576b"
             ],
             [
              0.6666666666666666,
              "#ed7953"
             ],
             [
              0.7777777777777778,
              "#fb9f3a"
             ],
             [
              0.8888888888888888,
              "#fdca26"
             ],
             [
              1,
              "#f0f921"
             ]
            ],
            "type": "heatmapgl"
           }
          ],
          "histogram": [
           {
            "marker": {
             "colorbar": {
              "outlinewidth": 0,
              "ticks": ""
             }
            },
            "type": "histogram"
           }
          ],
          "histogram2d": [
           {
            "colorbar": {
             "outlinewidth": 0,
             "ticks": ""
            },
            "colorscale": [
             [
              0,
              "#0d0887"
             ],
             [
              0.1111111111111111,
              "#46039f"
             ],
             [
              0.2222222222222222,
              "#7201a8"
             ],
             [
              0.3333333333333333,
              "#9c179e"
             ],
             [
              0.4444444444444444,
              "#bd3786"
             ],
             [
              0.5555555555555556,
              "#d8576b"
             ],
             [
              0.6666666666666666,
              "#ed7953"
             ],
             [
              0.7777777777777778,
              "#fb9f3a"
             ],
             [
              0.8888888888888888,
              "#fdca26"
             ],
             [
              1,
              "#f0f921"
             ]
            ],
            "type": "histogram2d"
           }
          ],
          "histogram2dcontour": [
           {
            "colorbar": {
             "outlinewidth": 0,
             "ticks": ""
            },
            "colorscale": [
             [
              0,
              "#0d0887"
             ],
             [
              0.1111111111111111,
              "#46039f"
             ],
             [
              0.2222222222222222,
              "#7201a8"
             ],
             [
              0.3333333333333333,
              "#9c179e"
             ],
             [
              0.4444444444444444,
              "#bd3786"
             ],
             [
              0.5555555555555556,
              "#d8576b"
             ],
             [
              0.6666666666666666,
              "#ed7953"
             ],
             [
              0.7777777777777778,
              "#fb9f3a"
             ],
             [
              0.8888888888888888,
              "#fdca26"
             ],
             [
              1,
              "#f0f921"
             ]
            ],
            "type": "histogram2dcontour"
           }
          ],
          "mesh3d": [
           {
            "colorbar": {
             "outlinewidth": 0,
             "ticks": ""
            },
            "type": "mesh3d"
           }
          ],
          "parcoords": [
           {
            "line": {
             "colorbar": {
              "outlinewidth": 0,
              "ticks": ""
             }
            },
            "type": "parcoords"
           }
          ],
          "pie": [
           {
            "automargin": true,
            "type": "pie"
           }
          ],
          "scatter": [
           {
            "marker": {
             "line": {
              "color": "#283442"
             }
            },
            "type": "scatter"
           }
          ],
          "scatter3d": [
           {
            "line": {
             "colorbar": {
              "outlinewidth": 0,
              "ticks": ""
             }
            },
            "marker": {
             "colorbar": {
              "outlinewidth": 0,
              "ticks": ""
             }
            },
            "type": "scatter3d"
           }
          ],
          "scattercarpet": [
           {
            "marker": {
             "colorbar": {
              "outlinewidth": 0,
              "ticks": ""
             }
            },
            "type": "scattercarpet"
           }
          ],
          "scattergeo": [
           {
            "marker": {
             "colorbar": {
              "outlinewidth": 0,
              "ticks": ""
             }
            },
            "type": "scattergeo"
           }
          ],
          "scattergl": [
           {
            "marker": {
             "line": {
              "color": "#283442"
             }
            },
            "type": "scattergl"
           }
          ],
          "scattermapbox": [
           {
            "marker": {
             "colorbar": {
              "outlinewidth": 0,
              "ticks": ""
             }
            },
            "type": "scattermapbox"
           }
          ],
          "scatterpolar": [
           {
            "marker": {
             "colorbar": {
              "outlinewidth": 0,
              "ticks": ""
             }
            },
            "type": "scatterpolar"
           }
          ],
          "scatterpolargl": [
           {
            "marker": {
             "colorbar": {
              "outlinewidth": 0,
              "ticks": ""
             }
            },
            "type": "scatterpolargl"
           }
          ],
          "scatterternary": [
           {
            "marker": {
             "colorbar": {
              "outlinewidth": 0,
              "ticks": ""
             }
            },
            "type": "scatterternary"
           }
          ],
          "surface": [
           {
            "colorbar": {
             "outlinewidth": 0,
             "ticks": ""
            },
            "colorscale": [
             [
              0,
              "#0d0887"
             ],
             [
              0.1111111111111111,
              "#46039f"
             ],
             [
              0.2222222222222222,
              "#7201a8"
             ],
             [
              0.3333333333333333,
              "#9c179e"
             ],
             [
              0.4444444444444444,
              "#bd3786"
             ],
             [
              0.5555555555555556,
              "#d8576b"
             ],
             [
              0.6666666666666666,
              "#ed7953"
             ],
             [
              0.7777777777777778,
              "#fb9f3a"
             ],
             [
              0.8888888888888888,
              "#fdca26"
             ],
             [
              1,
              "#f0f921"
             ]
            ],
            "type": "surface"
           }
          ],
          "table": [
           {
            "cells": {
             "fill": {
              "color": "#506784"
             },
             "line": {
              "color": "rgb(17,17,17)"
             }
            },
            "header": {
             "fill": {
              "color": "#2a3f5f"
             },
             "line": {
              "color": "rgb(17,17,17)"
             }
            },
            "type": "table"
           }
          ]
         },
         "layout": {
          "annotationdefaults": {
           "arrowcolor": "#f2f5fa",
           "arrowhead": 0,
           "arrowwidth": 1
          },
          "coloraxis": {
           "colorbar": {
            "outlinewidth": 0,
            "ticks": ""
           }
          },
          "colorscale": {
           "diverging": [
            [
             0,
             "#8e0152"
            ],
            [
             0.1,
             "#c51b7d"
            ],
            [
             0.2,
             "#de77ae"
            ],
            [
             0.3,
             "#f1b6da"
            ],
            [
             0.4,
             "#fde0ef"
            ],
            [
             0.5,
             "#f7f7f7"
            ],
            [
             0.6,
             "#e6f5d0"
            ],
            [
             0.7,
             "#b8e186"
            ],
            [
             0.8,
             "#7fbc41"
            ],
            [
             0.9,
             "#4d9221"
            ],
            [
             1,
             "#276419"
            ]
           ],
           "sequential": [
            [
             0,
             "#0d0887"
            ],
            [
             0.1111111111111111,
             "#46039f"
            ],
            [
             0.2222222222222222,
             "#7201a8"
            ],
            [
             0.3333333333333333,
             "#9c179e"
            ],
            [
             0.4444444444444444,
             "#bd3786"
            ],
            [
             0.5555555555555556,
             "#d8576b"
            ],
            [
             0.6666666666666666,
             "#ed7953"
            ],
            [
             0.7777777777777778,
             "#fb9f3a"
            ],
            [
             0.8888888888888888,
             "#fdca26"
            ],
            [
             1,
             "#f0f921"
            ]
           ],
           "sequentialminus": [
            [
             0,
             "#0d0887"
            ],
            [
             0.1111111111111111,
             "#46039f"
            ],
            [
             0.2222222222222222,
             "#7201a8"
            ],
            [
             0.3333333333333333,
             "#9c179e"
            ],
            [
             0.4444444444444444,
             "#bd3786"
            ],
            [
             0.5555555555555556,
             "#d8576b"
            ],
            [
             0.6666666666666666,
             "#ed7953"
            ],
            [
             0.7777777777777778,
             "#fb9f3a"
            ],
            [
             0.8888888888888888,
             "#fdca26"
            ],
            [
             1,
             "#f0f921"
            ]
           ]
          },
          "colorway": [
           "#636efa",
           "#EF553B",
           "#00cc96",
           "#ab63fa",
           "#FFA15A",
           "#19d3f3",
           "#FF6692",
           "#B6E880",
           "#FF97FF",
           "#FECB52"
          ],
          "font": {
           "color": "#f2f5fa"
          },
          "geo": {
           "bgcolor": "rgb(17,17,17)",
           "lakecolor": "rgb(17,17,17)",
           "landcolor": "rgb(17,17,17)",
           "showlakes": true,
           "showland": true,
           "subunitcolor": "#506784"
          },
          "hoverlabel": {
           "align": "left"
          },
          "hovermode": "closest",
          "mapbox": {
           "style": "dark"
          },
          "paper_bgcolor": "rgb(17,17,17)",
          "plot_bgcolor": "rgb(17,17,17)",
          "polar": {
           "angularaxis": {
            "gridcolor": "#506784",
            "linecolor": "#506784",
            "ticks": ""
           },
           "bgcolor": "rgb(17,17,17)",
           "radialaxis": {
            "gridcolor": "#506784",
            "linecolor": "#506784",
            "ticks": ""
           }
          },
          "scene": {
           "xaxis": {
            "backgroundcolor": "rgb(17,17,17)",
            "gridcolor": "#506784",
            "gridwidth": 2,
            "linecolor": "#506784",
            "showbackground": true,
            "ticks": "",
            "zerolinecolor": "#C8D4E3"
           },
           "yaxis": {
            "backgroundcolor": "rgb(17,17,17)",
            "gridcolor": "#506784",
            "gridwidth": 2,
            "linecolor": "#506784",
            "showbackground": true,
            "ticks": "",
            "zerolinecolor": "#C8D4E3"
           },
           "zaxis": {
            "backgroundcolor": "rgb(17,17,17)",
            "gridcolor": "#506784",
            "gridwidth": 2,
            "linecolor": "#506784",
            "showbackground": true,
            "ticks": "",
            "zerolinecolor": "#C8D4E3"
           }
          },
          "shapedefaults": {
           "line": {
            "color": "#f2f5fa"
           }
          },
          "sliderdefaults": {
           "bgcolor": "#C8D4E3",
           "bordercolor": "rgb(17,17,17)",
           "borderwidth": 1,
           "tickwidth": 0
          },
          "ternary": {
           "aaxis": {
            "gridcolor": "#506784",
            "linecolor": "#506784",
            "ticks": ""
           },
           "baxis": {
            "gridcolor": "#506784",
            "linecolor": "#506784",
            "ticks": ""
           },
           "bgcolor": "rgb(17,17,17)",
           "caxis": {
            "gridcolor": "#506784",
            "linecolor": "#506784",
            "ticks": ""
           }
          },
          "title": {
           "x": 0.05
          },
          "updatemenudefaults": {
           "bgcolor": "#506784",
           "borderwidth": 0
          },
          "xaxis": {
           "automargin": true,
           "gridcolor": "#283442",
           "linecolor": "#506784",
           "ticks": "",
           "title": {
            "standoff": 15
           },
           "zerolinecolor": "#283442",
           "zerolinewidth": 2
          },
          "yaxis": {
           "automargin": true,
           "gridcolor": "#283442",
           "linecolor": "#506784",
           "ticks": "",
           "title": {
            "standoff": 15
           },
           "zerolinecolor": "#283442",
           "zerolinewidth": 2
          }
         }
        },
        "title": {
         "text": "Google Trends vs Weekly Gross: Correlation = 0.5875697604201474"
        },
        "xaxis": {
         "title": {
          "text": "Google Trend"
         }
        },
        "yaxis": {
         "title": {
          "text": "Weekly Gross"
         }
        }
       }
      },
      "text/html": [
       "<div>                            <div id=\"00c7ad0f-f065-47cf-b1c9-47d0bf6ceac6\" class=\"plotly-graph-div\" style=\"height:525px; width:100%;\"></div>            <script type=\"text/javascript\">                require([\"plotly\"], function(Plotly) {                    window.PLOTLYENV=window.PLOTLYENV || {};                                    if (document.getElementById(\"00c7ad0f-f065-47cf-b1c9-47d0bf6ceac6\")) {                    Plotly.newPlot(                        \"00c7ad0f-f065-47cf-b1c9-47d0bf6ceac6\",                        [{\"line\": {\"color\": \"blue\", \"width\": 2}, \"mode\": \"markers\", \"name\": \"Bill & Ted Face the Music\", \"type\": \"scatter\", \"x\": [1.86], \"y\": [1125007.0]}, {\"line\": {\"color\": \"orange\", \"width\": 2}, \"mode\": \"markers\", \"name\": \"Unhinged\", \"type\": \"scatter\", \"x\": [22.619047619047628], \"y\": [3819220.0]}, {\"line\": {\"color\": \"blue\", \"width\": 2}, \"mode\": \"markers\", \"name\": \"The SpongeBob Movie: Sponge on the Run\", \"type\": \"scatter\", \"x\": [0.59], \"y\": [876759.0]}, {\"line\": {\"color\": \"blue\", \"width\": 2}, \"mode\": \"markers\", \"name\": \"The Eight Hundred\", \"type\": \"scatter\", \"x\": [0.6], \"y\": [118161.0]}, {\"line\": {\"color\": \"blue\", \"width\": 2}, \"mode\": \"markers\", \"name\": \"The New Mutants\", \"type\": \"scatter\", \"x\": [22.486772486772495], \"y\": [7037017.0]}, {\"line\": {\"color\": \"white\", \"width\": 2}, \"mode\": \"markers\", \"name\": \"Bill & Ted Face the Music\", \"type\": \"scatter\", \"x\": [1.97], \"y\": [1142565.0]}, {\"line\": {\"color\": \"blue\", \"width\": 2}, \"mode\": \"markers\", \"name\": \"Unhinged\", \"type\": \"scatter\", \"x\": [19.365079365079367], \"y\": [2598055.0]}, {\"line\": {\"color\": \"red\", \"width\": 2}, \"mode\": \"markers\", \"name\": \"The SpongeBob Movie: Sponge on the Run\", \"type\": \"scatter\", \"x\": [0.19], \"y\": [345000.0]}, {\"line\": {\"color\": \"orange\", \"width\": 2}, \"mode\": \"markers\", \"name\": \"The New Mutants\", \"type\": \"scatter\", \"x\": [23.620559334845066], \"y\": [4753312.0]}, {\"line\": {\"color\": \"blue\", \"width\": 2}, \"mode\": \"markers\", \"name\": \"My Brothers' Crossing\", \"type\": \"scatter\", \"x\": [0.083616], \"y\": [19386.0]}, {\"line\": {\"color\": \"white\", \"width\": 2}, \"mode\": \"markers\", \"name\": \"The New Mutants\", \"type\": \"scatter\", \"x\": [16.817838246409682], \"y\": [3539243.0]}, {\"line\": {\"color\": \"white\", \"width\": 2}, \"mode\": \"markers\", \"name\": \"Guest Artist\", \"type\": \"scatter\", \"x\": [0.0091728], \"y\": [144.0]}, {\"line\": {\"color\": \"red\", \"width\": 2}, \"mode\": \"markers\", \"name\": \"In the Life of Music\", \"type\": \"scatter\", \"x\": [0.042432], \"y\": [253.0]}, {\"line\": {\"color\": \"orange\", \"width\": 2}, \"mode\": \"markers\", \"name\": \"The Burnt Orange Heresy\", \"type\": \"scatter\", \"x\": [0.05749213483146068], \"y\": [430.0]}, {\"line\": {\"color\": \"white\", \"width\": 2}, \"mode\": \"markers\", \"name\": \"Unhinged\", \"type\": \"scatter\", \"x\": [17.222222222222225], \"y\": [2403341.0]}, {\"line\": {\"color\": \"red\", \"width\": 2}, \"mode\": \"markers\", \"name\": \"The Broken Hearts Gallery\", \"type\": \"scatter\", \"x\": [3.1000000000000005], \"y\": [1126401.0]}, {\"line\": {\"color\": \"white\", \"width\": 2}, \"mode\": \"markers\", \"name\": \"She Dies Tomorrow\", \"type\": \"scatter\", \"x\": [0.147264], \"y\": [26914.0]}, {\"line\": {\"color\": \"red\", \"width\": 2}, \"mode\": \"markers\", \"name\": \"The SpongeBob Movie: Sponge on the Run\", \"type\": \"scatter\", \"x\": [0.23], \"y\": [225829.0]}, {\"line\": {\"color\": \"blue\", \"width\": 2}, \"mode\": \"markers\", \"name\": \"Rent-A-Pal\", \"type\": \"scatter\", \"x\": [0.054163199999999995], \"y\": [19650.0]}, {\"line\": {\"color\": \"orange\", \"width\": 2}, \"mode\": \"markers\", \"name\": \"My Brothers' Crossing\", \"type\": \"scatter\", \"x\": [0.06988799999999999], \"y\": [19994.0]}, {\"line\": {\"color\": \"blue\", \"width\": 2}, \"mode\": \"markers\", \"name\": \"The Personal History of David Copperfield\", \"type\": \"scatter\", \"x\": [0.8500000000000001], \"y\": [220681.0]}, {\"line\": {\"color\": \"orange\", \"width\": 2}, \"mode\": \"markers\", \"name\": \"She Dies Tomorrow\", \"type\": \"scatter\", \"x\": [0.238368], \"y\": [39179.0]}, {\"line\": {\"color\": \"white\", \"width\": 2}, \"mode\": \"markers\", \"name\": \"The Eight Hundred\", \"type\": \"scatter\", \"x\": [0.6900000000000001], \"y\": [13811.0]}, {\"line\": {\"color\": \"red\", \"width\": 2}, \"mode\": \"markers\", \"name\": \"The New Mutants\", \"type\": \"scatter\", \"x\": [9.826152683295543], \"y\": [2220235.0]}, {\"line\": {\"color\": \"orange\", \"width\": 2}, \"mode\": \"markers\", \"name\": \"The Broken Hearts Gallery\", \"type\": \"scatter\", \"x\": [4.666666666666666], \"y\": [1282815.0]}, {\"line\": {\"color\": \"white\", \"width\": 2}, \"mode\": \"markers\", \"name\": \"Infidel\", \"type\": \"scatter\", \"x\": [10.555555555555557], \"y\": [1384296.0]}, {\"line\": {\"color\": \"red\", \"width\": 2}, \"mode\": \"markers\", \"name\": \"Rent-A-Pal\", \"type\": \"scatter\", \"x\": [0.0563472], \"y\": [4498.0]}, {\"line\": {\"color\": \"blue\", \"width\": 2}, \"mode\": \"markers\", \"name\": \"My Brothers' Crossing\", \"type\": \"scatter\", \"x\": [0.02496], \"y\": [9664.0]}, {\"line\": {\"color\": \"orange\", \"width\": 2}, \"mode\": \"markers\", \"name\": \"Foster Boy\", \"type\": \"scatter\", \"x\": [0.034944], \"y\": [5324.0]}, {\"line\": {\"color\": \"white\", \"width\": 2}, \"mode\": \"markers\", \"name\": \"The SpongeBob Movie: Sponge on the Run\", \"type\": \"scatter\", \"x\": [0.24000000000000005], \"y\": [272658.0]}, {\"line\": {\"color\": \"blue\", \"width\": 2}, \"mode\": \"markers\", \"name\": \"Unhinged\", \"type\": \"scatter\", \"x\": [13.253968253968255], \"y\": [1852498.0]}, {\"line\": {\"color\": \"red\", \"width\": 2}, \"mode\": \"markers\", \"name\": \"Foster Boy\", \"type\": \"scatter\", \"x\": [0.325728], \"y\": [12234.0]}, {\"line\": {\"color\": \"orange\", \"width\": 2}, \"mode\": \"markers\", \"name\": \"Infidel\", \"type\": \"scatter\", \"x\": [11.904761904761909], \"y\": [1306439.0]}, {\"line\": {\"color\": \"red\", \"width\": 2}, \"mode\": \"markers\", \"name\": \"The New Mutants\", \"type\": \"scatter\", \"x\": [8.125472411186701], \"y\": [1742824.0]}, {\"line\": {\"color\": \"blue\", \"width\": 2}, \"mode\": \"markers\", \"name\": \"The Personal History of David Copperfield\", \"type\": \"scatter\", \"x\": [0.65], \"y\": [130798.0]}, {\"line\": {\"color\": \"red\", \"width\": 2}, \"mode\": \"markers\", \"name\": \"The SpongeBob Movie: Sponge on the Run\", \"type\": \"scatter\", \"x\": [0.28], \"y\": [198932.0]}, {\"line\": {\"color\": \"blue\", \"width\": 2}, \"mode\": \"markers\", \"name\": \"My Brothers' Crossing\", \"type\": \"scatter\", \"x\": [0.051168], \"y\": [4915.0]}, {\"line\": {\"color\": \"orange\", \"width\": 2}, \"mode\": \"markers\", \"name\": \"Unhinged\", \"type\": \"scatter\", \"x\": [12.857142857142858], \"y\": [1461974.0]}, {\"line\": {\"color\": \"white\", \"width\": 2}, \"mode\": \"markers\", \"name\": \"Draupadi Unleashed\", \"type\": \"scatter\", \"x\": [0.0672672], \"y\": [7343.0]}, {\"line\": {\"color\": \"red\", \"width\": 2}, \"mode\": \"markers\", \"name\": \"Dreaming Grand Avenue\", \"type\": \"scatter\", \"x\": [0.009225216], \"y\": [876.0]}, {\"line\": {\"color\": \"blue\", \"width\": 2}, \"mode\": \"markers\", \"name\": \"She Dies Tomorrow\", \"type\": \"scatter\", \"x\": [0.22588800000000006], \"y\": [26350.0]}, {\"line\": {\"color\": \"blue\", \"width\": 2}, \"mode\": \"markers\", \"name\": \"Unhinged\", \"type\": \"scatter\", \"x\": [11.746031746031747], \"y\": [1222582.0]}, {\"line\": {\"color\": \"orange\", \"width\": 2}, \"mode\": \"markers\", \"name\": \"She Dies Tomorrow\", \"type\": \"scatter\", \"x\": [0.16473600000000002], \"y\": [15190.0]}, {\"line\": {\"color\": \"red\", \"width\": 2}, \"mode\": \"markers\", \"name\": \"The SpongeBob Movie: Sponge on the Run\", \"type\": \"scatter\", \"x\": [0.3], \"y\": [137208.0]}, {\"line\": {\"color\": \"blue\", \"width\": 2}, \"mode\": \"markers\", \"name\": \"My Brothers' Crossing\", \"type\": \"scatter\", \"x\": [0.008736], \"y\": [3317.0]}, {\"line\": {\"color\": \"white\", \"width\": 2}, \"mode\": \"markers\", \"name\": \"The Secrets We Keep\", \"type\": \"scatter\", \"x\": [0.5700000000000001], \"y\": [22837.0]}, {\"line\": {\"color\": \"red\", \"width\": 2}, \"mode\": \"markers\", \"name\": \"The Personal History of David Copperfield\", \"type\": \"scatter\", \"x\": [0.47], \"y\": [60467.0]}, {\"line\": {\"color\": \"orange\", \"width\": 2}, \"mode\": \"markers\", \"name\": \"Dreaming Grand Avenue\", \"type\": \"scatter\", \"x\": [0.008504496], \"y\": [829.0]}, {\"line\": {\"color\": \"white\", \"width\": 2}, \"mode\": \"markers\", \"name\": \"Bill & Ted Face the Music\", \"type\": \"scatter\", \"x\": [0.7899999999999999], \"y\": [65935.0]}, {\"line\": {\"color\": \"red\", \"width\": 2}, \"mode\": \"markers\", \"name\": \"The Way I See It\", \"type\": \"scatter\", \"x\": [0.8730158730158731], \"y\": [4515.0]}, {\"line\": {\"color\": \"blue\", \"width\": 2}, \"mode\": \"markers\", \"name\": \"Foster Boy\", \"type\": \"scatter\", \"x\": [0.312], \"y\": [2305.0]}, {\"line\": {\"color\": \"orange\", \"width\": 2}, \"mode\": \"markers\", \"name\": \"The New Mutants\", \"type\": \"scatter\", \"x\": [7.74754346182918], \"y\": [1471973.0]}, {\"line\": {\"color\": \"white\", \"width\": 2}, \"mode\": \"markers\", \"name\": \"A Call to Spy\", \"type\": \"scatter\", \"x\": [0.98], \"y\": [35098.0]}, {\"line\": {\"color\": \"blue\", \"width\": 2}, \"mode\": \"markers\", \"name\": \"She Dies Tomorrow\", \"type\": \"scatter\", \"x\": [0.23212800000000003], \"y\": [18968.0]}, {\"line\": {\"color\": \"white\", \"width\": 2}, \"mode\": \"markers\", \"name\": \"Words on Bathroom Walls\", \"type\": \"scatter\", \"x\": [0.6799999999999999], \"y\": [60919.0]}, {\"line\": {\"color\": \"white\", \"width\": 2}, \"mode\": \"markers\", \"name\": \"Pray: The Story of Patrick Peyton\", \"type\": \"scatter\", \"x\": [0.016598400000000003], \"y\": [24397.0]}, {\"line\": {\"color\": \"blue\", \"width\": 2}, \"mode\": \"markers\", \"name\": \"A Call to Spy\", \"type\": \"scatter\", \"x\": [0.91], \"y\": [44250.0]}, {\"line\": {\"color\": \"white\", \"width\": 2}, \"mode\": \"markers\", \"name\": \"Bill & Ted Face the Music\", \"type\": \"scatter\", \"x\": [0.55], \"y\": [87855.0]}, {\"line\": {\"color\": \"blue\", \"width\": 2}, \"mode\": \"markers\", \"name\": \"The War with Grandpa\", \"type\": \"scatter\", \"x\": [3.2278481012658227], \"y\": [3623880.0]}, {\"line\": {\"color\": \"orange\", \"width\": 2}, \"mode\": \"markers\", \"name\": \"The Secrets We Keep\", \"type\": \"scatter\", \"x\": [0.11], \"y\": [2212.0]}, {\"line\": {\"color\": \"white\", \"width\": 2}, \"mode\": \"markers\", \"name\": \"The Personal History of David Copperfield\", \"type\": \"scatter\", \"x\": [0.36000000000000004], \"y\": [21712.0]}, {\"line\": {\"color\": \"red\", \"width\": 2}, \"mode\": \"markers\", \"name\": \"Dreaming Grand Avenue\", \"type\": \"scatter\", \"x\": [0.004180176], \"y\": [101.0]}, {\"line\": {\"color\": \"blue\", \"width\": 2}, \"mode\": \"markers\", \"name\": \"The New Mutants\", \"type\": \"scatter\", \"x\": [6.802721088435378], \"y\": [1055664.0]}, {\"line\": {\"color\": \"orange\", \"width\": 2}, \"mode\": \"markers\", \"name\": \"My Brothers' Crossing\", \"type\": \"scatter\", \"x\": [0.01872], \"y\": [1343.0]}, {\"line\": {\"color\": \"red\", \"width\": 2}, \"mode\": \"markers\", \"name\": \"Foster Boy\", \"type\": \"scatter\", \"x\": [0.04992], \"y\": [10.0]}, {\"line\": {\"color\": \"blue\", \"width\": 2}, \"mode\": \"markers\", \"name\": \"The SpongeBob Movie: Sponge on the Run\", \"type\": \"scatter\", \"x\": [0.28], \"y\": [75090.0]}, {\"line\": {\"color\": \"orange\", \"width\": 2}, \"mode\": \"markers\", \"name\": \"The Kid Detective\", \"type\": \"scatter\", \"x\": [0.6717957446808511], \"y\": [140218.0]}, {\"line\": {\"color\": \"red\", \"width\": 2}, \"mode\": \"markers\", \"name\": \"The SpongeBob Movie: Sponge on the Run\", \"type\": \"scatter\", \"x\": [0.31000000000000005], \"y\": [69201.0]}, {\"line\": {\"color\": \"orange\", \"width\": 2}, \"mode\": \"markers\", \"name\": \"Words on Bathroom Walls\", \"type\": \"scatter\", \"x\": [0.6699999999999999], \"y\": [22995.0]}, {\"line\": {\"color\": \"white\", \"width\": 2}, \"mode\": \"markers\", \"name\": \"The War with Grandpa\", \"type\": \"scatter\", \"x\": [4.177215189873418], \"y\": [3636975.0]}, {\"line\": {\"color\": \"blue\", \"width\": 2}, \"mode\": \"markers\", \"name\": \"The Personal History of David Copperfield\", \"type\": \"scatter\", \"x\": [0.54], \"y\": [8533.0]}, {\"line\": {\"color\": \"blue\", \"width\": 2}, \"mode\": \"markers\", \"name\": \"The Broken Hearts Gallery\", \"type\": \"scatter\", \"x\": [0.5333333333333333], \"y\": [60054.0]}, {\"line\": {\"color\": \"red\", \"width\": 2}, \"mode\": \"markers\", \"name\": \"Pray: The Story of Patrick Peyton\", \"type\": \"scatter\", \"x\": [0.015724800000000004], \"y\": [20385.0]}, {\"line\": {\"color\": \"red\", \"width\": 2}, \"mode\": \"markers\", \"name\": \"The Last Shift\", \"type\": \"scatter\", \"x\": [0.4], \"y\": [22022.0]}, {\"line\": {\"color\": \"blue\", \"width\": 2}, \"mode\": \"markers\", \"name\": \"Shithouse\", \"type\": \"scatter\", \"x\": [0.288288], \"y\": [5545.0]}, {\"line\": {\"color\": \"orange\", \"width\": 2}, \"mode\": \"markers\", \"name\": \"She Dies Tomorrow\", \"type\": \"scatter\", \"x\": [0.16848000000000002], \"y\": [15482.0]}, {\"line\": {\"color\": \"orange\", \"width\": 2}, \"mode\": \"markers\", \"name\": \"My Brothers' Crossing\", \"type\": \"scatter\", \"x\": [0.008736], \"y\": [306.0]}, {\"line\": {\"color\": \"red\", \"width\": 2}, \"mode\": \"markers\", \"name\": \"Honest Thief\", \"type\": \"scatter\", \"x\": [5.083333333333334], \"y\": [3607966.0]}, {\"line\": {\"color\": \"orange\", \"width\": 2}, \"mode\": \"markers\", \"name\": \"Bill & Ted Face the Music\", \"type\": \"scatter\", \"x\": [0.47], \"y\": [12352.0]}, {\"line\": {\"color\": \"red\", \"width\": 2}, \"mode\": \"markers\", \"name\": \"Counter Column\", \"type\": \"scatter\", \"x\": [0.024024000000000004], \"y\": [6455.0]}, {\"line\": {\"color\": \"orange\", \"width\": 2}, \"mode\": \"markers\", \"name\": \"Lupin III: The First\", \"type\": \"scatter\", \"x\": [0.05616], \"y\": [83295.0]}, {\"line\": {\"color\": \"white\", \"width\": 2}, \"mode\": \"markers\", \"name\": \"A Call to Spy\", \"type\": \"scatter\", \"x\": [0.61], \"y\": [23932.0]}, {\"line\": {\"color\": \"red\", \"width\": 2}, \"mode\": \"markers\", \"name\": \"Mermaid in Paris\", \"type\": \"scatter\", \"x\": [0.0214032], \"y\": [1202.0]}, {\"line\": {\"color\": \"white\", \"width\": 2}, \"mode\": \"markers\", \"name\": \"Stevie Nicks 24 Karat Gold the Concert\", \"type\": \"scatter\", \"x\": [0.025513487999999997], \"y\": [404489.0]}, {\"line\": {\"color\": \"red\", \"width\": 2}, \"mode\": \"markers\", \"name\": \"Honest Thief\", \"type\": \"scatter\", \"x\": [8.3125], \"y\": [3364941.0]}, {\"line\": {\"color\": \"orange\", \"width\": 2}, \"mode\": \"markers\", \"name\": \"The Personal History of David Copperfield\", \"type\": \"scatter\", \"x\": [0.17], \"y\": [2273.0]}, {\"line\": {\"color\": \"white\", \"width\": 2}, \"mode\": \"markers\", \"name\": \"Dreaming Grand Avenue\", \"type\": \"scatter\", \"x\": [0.009513504], \"y\": [964.0]}, {\"line\": {\"color\": \"blue\", \"width\": 2}, \"mode\": \"markers\", \"name\": \"The SpongeBob Movie: Sponge on the Run\", \"type\": \"scatter\", \"x\": [0.4300000000000001], \"y\": [44521.0]}, {\"line\": {\"color\": \"white\", \"width\": 2}, \"mode\": \"markers\", \"name\": \"The War with Grandpa\", \"type\": \"scatter\", \"x\": [3.1392405063291138], \"y\": [2489361.0]}, {\"line\": {\"color\": \"red\", \"width\": 2}, \"mode\": \"markers\", \"name\": \"The Empty Man\", \"type\": \"scatter\", \"x\": [4.854545454545455], \"y\": [1310326.0]}, {\"line\": {\"color\": \"orange\", \"width\": 2}, \"mode\": \"markers\", \"name\": \"The Last Shift\", \"type\": \"scatter\", \"x\": [0.3200000000000001], \"y\": [10493.0]}, {\"line\": {\"color\": \"red\", \"width\": 2}, \"mode\": \"markers\", \"name\": \"The Kid Detective\", \"type\": \"scatter\", \"x\": [0.6664851063829786], \"y\": [162473.0]}, {\"line\": {\"color\": \"white\", \"width\": 2}, \"mode\": \"markers\", \"name\": \"Bill & Ted Face the Music\", \"type\": \"scatter\", \"x\": [0.13], \"y\": [3655.0]}, {\"line\": {\"color\": \"blue\", \"width\": 2}, \"mode\": \"markers\", \"name\": \"Counter Column\", \"type\": \"scatter\", \"x\": [0.03756480000000001], \"y\": [5236.0]}, {\"line\": {\"color\": \"white\", \"width\": 2}, \"mode\": \"markers\", \"name\": \"Words on Bathroom Walls\", \"type\": \"scatter\", \"x\": [0.49], \"y\": [7085.0]}, {\"line\": {\"color\": \"blue\", \"width\": 2}, \"mode\": \"markers\", \"name\": \"Pray: The Story of Patrick Peyton\", \"type\": \"scatter\", \"x\": [0.007425600000000002], \"y\": [11459.0]}, {\"line\": {\"color\": \"white\", \"width\": 2}, \"mode\": \"markers\", \"name\": \"She Dies Tomorrow\", \"type\": \"scatter\", \"x\": [0.119808], \"y\": [10353.0]}, {\"line\": {\"color\": \"blue\", \"width\": 2}, \"mode\": \"markers\", \"name\": \"Lupin III: The First\", \"type\": \"scatter\", \"x\": [0.14851199999999998], \"y\": [50890.0]}, {\"line\": {\"color\": \"orange\", \"width\": 2}, \"mode\": \"markers\", \"name\": \"Shithouse\", \"type\": \"scatter\", \"x\": [0.289536], \"y\": [9559.0]}, {\"line\": {\"color\": \"white\", \"width\": 2}, \"mode\": \"markers\", \"name\": \"Possessor\", \"type\": \"scatter\", \"x\": [0.89], \"y\": [53946.0]}, {\"line\": {\"color\": \"orange\", \"width\": 2}, \"mode\": \"markers\", \"name\": \"A Call to Spy\", \"type\": \"scatter\", \"x\": [0.7499999999999999], \"y\": [15944.0]}, {\"line\": {\"color\": \"white\", \"width\": 2}, \"mode\": \"markers\", \"name\": \"Mermaid in Paris\", \"type\": \"scatter\", \"x\": [0.028392], \"y\": [786.0]}, {\"line\": {\"color\": \"blue\", \"width\": 2}, \"mode\": \"markers\", \"name\": \"Counter Column\", \"type\": \"scatter\", \"x\": [0.030139200000000005], \"y\": [2060.0]}, {\"line\": {\"color\": \"orange\", \"width\": 2}, \"mode\": \"markers\", \"name\": \"Words on Bathroom Walls\", \"type\": \"scatter\", \"x\": [0.41], \"y\": [2218.0]}, {\"line\": {\"color\": \"blue\", \"width\": 2}, \"mode\": \"markers\", \"name\": \"The Kid Detective\", \"type\": \"scatter\", \"x\": [0.3319148936170213], \"y\": [51554.0]}, {\"line\": {\"color\": \"white\", \"width\": 2}, \"mode\": \"markers\", \"name\": \"The SpongeBob Movie: Sponge on the Run\", \"type\": \"scatter\", \"x\": [0.15], \"y\": [20611.0]}, {\"line\": {\"color\": \"orange\", \"width\": 2}, \"mode\": \"markers\", \"name\": \"Possessor\", \"type\": \"scatter\", \"x\": [1.0], \"y\": [30698.0]}, {\"line\": {\"color\": \"white\", \"width\": 2}, \"mode\": \"markers\", \"name\": \"Come Play\", \"type\": \"scatter\", \"x\": [16.746031746031747], \"y\": [3119875.0]}, {\"line\": {\"color\": \"orange\", \"width\": 2}, \"mode\": \"markers\", \"name\": \"The War with Grandpa\", \"type\": \"scatter\", \"x\": [3.1772151898734178], \"y\": [1728709.0]}, {\"line\": {\"color\": \"red\", \"width\": 2}, \"mode\": \"markers\", \"name\": \"Lupin III: The First\", \"type\": \"scatter\", \"x\": [0.04992], \"y\": [2183.0]}, {\"line\": {\"color\": \"red\", \"width\": 2}, \"mode\": \"markers\", \"name\": \"The Last Shift\", \"type\": \"scatter\", \"x\": [0.27], \"y\": [3411.0]}, {\"line\": {\"color\": \"red\", \"width\": 2}, \"mode\": \"markers\", \"name\": \"She Dies Tomorrow\", \"type\": \"scatter\", \"x\": [0.14975999999999998], \"y\": [10909.0]}, {\"line\": {\"color\": \"blue\", \"width\": 2}, \"mode\": \"markers\", \"name\": \"Shithouse\", \"type\": \"scatter\", \"x\": [0.113568], \"y\": [2181.0]}, {\"line\": {\"color\": \"orange\", \"width\": 2}, \"mode\": \"markers\", \"name\": \"Honest Thief\", \"type\": \"scatter\", \"x\": [6.708333333333334], \"y\": [2078045.0]}, {\"line\": {\"color\": \"blue\", \"width\": 2}, \"mode\": \"markers\", \"name\": \"A Call to Spy\", \"type\": \"scatter\", \"x\": [0.54], \"y\": [10840.0]}, {\"line\": {\"color\": \"white\", \"width\": 2}, \"mode\": \"markers\", \"name\": \"The Broken Hearts Gallery\", \"type\": \"scatter\", \"x\": [0.8222222222222221], \"y\": [11618.0]}, {\"line\": {\"color\": \"white\", \"width\": 2}, \"mode\": \"markers\", \"name\": \"The War with Grandpa\", \"type\": \"scatter\", \"x\": [3.4683544303797467], \"y\": [1930168.0]}, {\"line\": {\"color\": \"white\", \"width\": 2}, \"mode\": \"markers\", \"name\": \"Come Play\", \"type\": \"scatter\", \"x\": [19.682539682539684], \"y\": [2605030.0]}, {\"line\": {\"color\": \"red\", \"width\": 2}, \"mode\": \"markers\", \"name\": \"Counter Column\", \"type\": \"scatter\", \"x\": [0.014851200000000004], \"y\": [756.0]}, {\"line\": {\"color\": \"blue\", \"width\": 2}, \"mode\": \"markers\", \"name\": \"A Call to Spy\", \"type\": \"scatter\", \"x\": [0.68], \"y\": [11237.0]}, {\"line\": {\"color\": \"white\", \"width\": 2}, \"mode\": \"markers\", \"name\": \"She Dies Tomorrow\", \"type\": \"scatter\", \"x\": [0.06614400000000001], \"y\": [1595.0]}, {\"line\": {\"color\": \"red\", \"width\": 2}, \"mode\": \"markers\", \"name\": \"Honest Thief\", \"type\": \"scatter\", \"x\": [6.208333333333334], \"y\": [1619272.0]}, {\"line\": {\"color\": \"white\", \"width\": 2}, \"mode\": \"markers\", \"name\": \"Pray: The Story of Patrick Peyton\", \"type\": \"scatter\", \"x\": [0.0065520000000000005], \"y\": [4898.0]}, {\"line\": {\"color\": \"white\", \"width\": 2}, \"mode\": \"markers\", \"name\": \"Words on Bathroom Walls\", \"type\": \"scatter\", \"x\": [0.27], \"y\": [2480.0]}, {\"line\": {\"color\": \"orange\", \"width\": 2}, \"mode\": \"markers\", \"name\": \"Let Him Go\", \"type\": \"scatter\", \"x\": [10.873015873015875], \"y\": [4000470.0]}, {\"line\": {\"color\": \"red\", \"width\": 2}, \"mode\": \"markers\", \"name\": \"The Broken Hearts Gallery\", \"type\": \"scatter\", \"x\": [0.8111111111111109], \"y\": [15541.0]}, {\"line\": {\"color\": \"white\", \"width\": 2}, \"mode\": \"markers\", \"name\": \"The Last Shift\", \"type\": \"scatter\", \"x\": [0.23000000000000004], \"y\": [725.0]}, {\"line\": {\"color\": \"red\", \"width\": 2}, \"mode\": \"markers\", \"name\": \"The Kid Detective\", \"type\": \"scatter\", \"x\": [0.2044595744680851], \"y\": [8938.0]}, {\"line\": {\"color\": \"blue\", \"width\": 2}, \"mode\": \"markers\", \"name\": \"Come Play\", \"type\": \"scatter\", \"x\": [19.365079365079367], \"y\": [1564990.0]}, {\"line\": {\"color\": \"white\", \"width\": 2}, \"mode\": \"markers\", \"name\": \"A Call to Spy\", \"type\": \"scatter\", \"x\": [0.49], \"y\": [8056.0]}, {\"line\": {\"color\": \"blue\", \"width\": 2}, \"mode\": \"markers\", \"name\": \"The SpongeBob Movie: Sponge on the Run\", \"type\": \"scatter\", \"x\": [0.95], \"y\": [8092.0]}, {\"line\": {\"color\": \"blue\", \"width\": 2}, \"mode\": \"markers\", \"name\": \"The War with Grandpa\", \"type\": \"scatter\", \"x\": [3.59493670886076], \"y\": [1814182.0]}, {\"line\": {\"color\": \"red\", \"width\": 2}, \"mode\": \"markers\", \"name\": \"Yellow Rose\", \"type\": \"scatter\", \"x\": [1.0], \"y\": [3728.0]}, {\"line\": {\"color\": \"white\", \"width\": 2}, \"mode\": \"markers\", \"name\": \"The Broken Hearts Gallery\", \"type\": \"scatter\", \"x\": [0.9222222222222222], \"y\": [6428.0]}, {\"line\": {\"color\": \"red\", \"width\": 2}, \"mode\": \"markers\", \"name\": \"Honest Thief\", \"type\": \"scatter\", \"x\": [5.916666666666666], \"y\": [1184504.0]}, {\"line\": {\"color\": \"blue\", \"width\": 2}, \"mode\": \"markers\", \"name\": \"Freaky\", \"type\": \"scatter\", \"x\": [21.352985638699934], \"y\": [3600355.0]}, {\"line\": {\"color\": \"orange\", \"width\": 2}, \"mode\": \"markers\", \"name\": \"The Last Shift\", \"type\": \"scatter\", \"x\": [0.28], \"y\": [152122.0]}, {\"line\": {\"color\": \"red\", \"width\": 2}, \"mode\": \"markers\", \"name\": \"Let Him Go\", \"type\": \"scatter\", \"x\": [10.634920634920636], \"y\": [2832430.0]}, {\"line\": {\"color\": \"orange\", \"width\": 2}, \"mode\": \"markers\", \"name\": \"The Kid Detective\", \"type\": \"scatter\", \"x\": [0.11683404255319148], \"y\": [955.0]}, {\"line\": {\"color\": \"blue\", \"width\": 2}, \"mode\": \"markers\", \"name\": \"Counter Column\", \"type\": \"scatter\", \"x\": [0.015288000000000003], \"y\": [257.0]}, {\"line\": {\"color\": \"orange\", \"width\": 2}, \"mode\": \"markers\", \"name\": \"The Broken Hearts Gallery\", \"type\": \"scatter\", \"x\": [0.4222222222222222], \"y\": [1273.0]}, {\"line\": {\"color\": \"orange\", \"width\": 2}, \"mode\": \"markers\", \"name\": \"A Call to Spy\", \"type\": \"scatter\", \"x\": [0.11], \"y\": [2168.0]}, {\"line\": {\"color\": \"white\", \"width\": 2}, \"mode\": \"markers\", \"name\": \"The Forgotten Carols\", \"type\": \"scatter\", \"x\": [0.0860496], \"y\": [103839.0]}, {\"line\": {\"color\": \"white\", \"width\": 2}, \"mode\": \"markers\", \"name\": \"Let Him Go\", \"type\": \"scatter\", \"x\": [6.904761904761906], \"y\": [1110540.0]}, {\"line\": {\"color\": \"blue\", \"width\": 2}, \"mode\": \"markers\", \"name\": \"Pray: The Story of Patrick Peyton\", \"type\": \"scatter\", \"x\": [0.008299200000000001], \"y\": [1494.0]}, {\"line\": {\"color\": \"red\", \"width\": 2}, \"mode\": \"markers\", \"name\": \"Freaky\", \"type\": \"scatter\", \"x\": [23.99848828420258], \"y\": [2053090.0]}, {\"line\": {\"color\": \"white\", \"width\": 2}, \"mode\": \"markers\", \"name\": \"The Last Shift\", \"type\": \"scatter\", \"x\": [0.07], \"y\": [237863.0]}, {\"line\": {\"color\": \"red\", \"width\": 2}, \"mode\": \"markers\", \"name\": \"Counter Column\", \"type\": \"scatter\", \"x\": [0.007425600000000002], \"y\": [25.0]}, {\"line\": {\"color\": \"white\", \"width\": 2}, \"mode\": \"markers\", \"name\": \"Infidel\", \"type\": \"scatter\", \"x\": [0.9523809523809526], \"y\": [189.0]}, {\"line\": {\"color\": \"blue\", \"width\": 2}, \"mode\": \"markers\", \"name\": \"Words on Bathroom Walls\", \"type\": \"scatter\", \"x\": [0.4], \"y\": [24.0]}, {\"line\": {\"color\": \"orange\", \"width\": 2}, \"mode\": \"markers\", \"name\": \"The Shade Shepherd\", \"type\": \"scatter\", \"x\": [0.009984], \"y\": [101.0]}, {\"line\": {\"color\": \"white\", \"width\": 2}, \"mode\": \"markers\", \"name\": \"Find Your Voice\", \"type\": \"scatter\", \"x\": [0.009984], \"y\": [157.0]}, {\"line\": {\"color\": \"red\", \"width\": 2}, \"mode\": \"markers\", \"name\": \"The Forgotten Carols\", \"type\": \"scatter\", \"x\": [0.09827999999999999], \"y\": [156728.0]}, {\"line\": {\"color\": \"red\", \"width\": 2}, \"mode\": \"markers\", \"name\": \"The Empty Man\", \"type\": \"scatter\", \"x\": [0.8], \"y\": [13296.0]}, {\"line\": {\"color\": \"orange\", \"width\": 2}, \"mode\": \"markers\", \"name\": \"The Croods: A New Age\", \"type\": \"scatter\", \"x\": [1.52], \"y\": [14274455.0]}, {\"line\": {\"color\": \"white\", \"width\": 2}, \"mode\": \"markers\", \"name\": \"The War with Grandpa\", \"type\": \"scatter\", \"x\": [2.6455696202531644], \"y\": [1009656.0]}, {\"line\": {\"color\": \"blue\", \"width\": 2}, \"mode\": \"markers\", \"name\": \"The Bra\", \"type\": \"scatter\", \"x\": [0.51], \"y\": [88.0]}, {\"line\": {\"color\": \"white\", \"width\": 2}, \"mode\": \"markers\", \"name\": \"Freaky\", \"type\": \"scatter\", \"x\": [20.59712773998489], \"y\": [1389310.0]}, {\"line\": {\"color\": \"red\", \"width\": 2}, \"mode\": \"markers\", \"name\": \"In the Life of Music\", \"type\": \"scatter\", \"x\": [0.042432], \"y\": [112.0]}],                        {\"paper_bgcolor\": \"#23272c\", \"plot_bgcolor\": \"#23272c\", \"template\": {\"data\": {\"bar\": [{\"error_x\": {\"color\": \"#f2f5fa\"}, \"error_y\": {\"color\": \"#f2f5fa\"}, \"marker\": {\"line\": {\"color\": \"rgb(17,17,17)\", \"width\": 0.5}}, \"type\": \"bar\"}], \"barpolar\": [{\"marker\": {\"line\": {\"color\": \"rgb(17,17,17)\", \"width\": 0.5}}, \"type\": \"barpolar\"}], \"carpet\": [{\"aaxis\": {\"endlinecolor\": \"#A2B1C6\", \"gridcolor\": \"#506784\", \"linecolor\": \"#506784\", \"minorgridcolor\": \"#506784\", \"startlinecolor\": \"#A2B1C6\"}, \"baxis\": {\"endlinecolor\": \"#A2B1C6\", \"gridcolor\": \"#506784\", \"linecolor\": \"#506784\", \"minorgridcolor\": \"#506784\", \"startlinecolor\": \"#A2B1C6\"}, \"type\": \"carpet\"}], \"choropleth\": [{\"colorbar\": {\"outlinewidth\": 0, \"ticks\": \"\"}, \"type\": \"choropleth\"}], \"contour\": [{\"colorbar\": {\"outlinewidth\": 0, \"ticks\": \"\"}, \"colorscale\": [[0.0, \"#0d0887\"], [0.1111111111111111, \"#46039f\"], [0.2222222222222222, \"#7201a8\"], [0.3333333333333333, \"#9c179e\"], [0.4444444444444444, \"#bd3786\"], [0.5555555555555556, \"#d8576b\"], [0.6666666666666666, \"#ed7953\"], [0.7777777777777778, \"#fb9f3a\"], [0.8888888888888888, \"#fdca26\"], [1.0, \"#f0f921\"]], \"type\": \"contour\"}], \"contourcarpet\": [{\"colorbar\": {\"outlinewidth\": 0, \"ticks\": \"\"}, \"type\": \"contourcarpet\"}], \"heatmap\": [{\"colorbar\": {\"outlinewidth\": 0, \"ticks\": \"\"}, \"colorscale\": [[0.0, \"#0d0887\"], [0.1111111111111111, \"#46039f\"], [0.2222222222222222, \"#7201a8\"], [0.3333333333333333, \"#9c179e\"], [0.4444444444444444, \"#bd3786\"], [0.5555555555555556, \"#d8576b\"], [0.6666666666666666, \"#ed7953\"], [0.7777777777777778, \"#fb9f3a\"], [0.8888888888888888, \"#fdca26\"], [1.0, \"#f0f921\"]], \"type\": \"heatmap\"}], \"heatmapgl\": [{\"colorbar\": {\"outlinewidth\": 0, \"ticks\": \"\"}, \"colorscale\": [[0.0, \"#0d0887\"], [0.1111111111111111, \"#46039f\"], [0.2222222222222222, \"#7201a8\"], [0.3333333333333333, \"#9c179e\"], [0.4444444444444444, \"#bd3786\"], [0.5555555555555556, \"#d8576b\"], [0.6666666666666666, \"#ed7953\"], [0.7777777777777778, \"#fb9f3a\"], [0.8888888888888888, \"#fdca26\"], [1.0, \"#f0f921\"]], \"type\": \"heatmapgl\"}], \"histogram\": [{\"marker\": {\"colorbar\": {\"outlinewidth\": 0, \"ticks\": \"\"}}, \"type\": \"histogram\"}], \"histogram2d\": [{\"colorbar\": {\"outlinewidth\": 0, \"ticks\": \"\"}, \"colorscale\": [[0.0, \"#0d0887\"], [0.1111111111111111, \"#46039f\"], [0.2222222222222222, \"#7201a8\"], [0.3333333333333333, \"#9c179e\"], [0.4444444444444444, \"#bd3786\"], [0.5555555555555556, \"#d8576b\"], [0.6666666666666666, \"#ed7953\"], [0.7777777777777778, \"#fb9f3a\"], [0.8888888888888888, \"#fdca26\"], [1.0, \"#f0f921\"]], \"type\": \"histogram2d\"}], \"histogram2dcontour\": [{\"colorbar\": {\"outlinewidth\": 0, \"ticks\": \"\"}, \"colorscale\": [[0.0, \"#0d0887\"], [0.1111111111111111, \"#46039f\"], [0.2222222222222222, \"#7201a8\"], [0.3333333333333333, \"#9c179e\"], [0.4444444444444444, \"#bd3786\"], [0.5555555555555556, \"#d8576b\"], [0.6666666666666666, \"#ed7953\"], [0.7777777777777778, \"#fb9f3a\"], [0.8888888888888888, \"#fdca26\"], [1.0, \"#f0f921\"]], \"type\": \"histogram2dcontour\"}], \"mesh3d\": [{\"colorbar\": {\"outlinewidth\": 0, \"ticks\": \"\"}, \"type\": \"mesh3d\"}], \"parcoords\": [{\"line\": {\"colorbar\": {\"outlinewidth\": 0, \"ticks\": \"\"}}, \"type\": \"parcoords\"}], \"pie\": [{\"automargin\": true, \"type\": \"pie\"}], \"scatter\": [{\"marker\": {\"line\": {\"color\": \"#283442\"}}, \"type\": \"scatter\"}], \"scatter3d\": [{\"line\": {\"colorbar\": {\"outlinewidth\": 0, \"ticks\": \"\"}}, \"marker\": {\"colorbar\": {\"outlinewidth\": 0, \"ticks\": \"\"}}, \"type\": \"scatter3d\"}], \"scattercarpet\": [{\"marker\": {\"colorbar\": {\"outlinewidth\": 0, \"ticks\": \"\"}}, \"type\": \"scattercarpet\"}], \"scattergeo\": [{\"marker\": {\"colorbar\": {\"outlinewidth\": 0, \"ticks\": \"\"}}, \"type\": \"scattergeo\"}], \"scattergl\": [{\"marker\": {\"line\": {\"color\": \"#283442\"}}, \"type\": \"scattergl\"}], \"scattermapbox\": [{\"marker\": {\"colorbar\": {\"outlinewidth\": 0, \"ticks\": \"\"}}, \"type\": \"scattermapbox\"}], \"scatterpolar\": [{\"marker\": {\"colorbar\": {\"outlinewidth\": 0, \"ticks\": \"\"}}, \"type\": \"scatterpolar\"}], \"scatterpolargl\": [{\"marker\": {\"colorbar\": {\"outlinewidth\": 0, \"ticks\": \"\"}}, \"type\": \"scatterpolargl\"}], \"scatterternary\": [{\"marker\": {\"colorbar\": {\"outlinewidth\": 0, \"ticks\": \"\"}}, \"type\": \"scatterternary\"}], \"surface\": [{\"colorbar\": {\"outlinewidth\": 0, \"ticks\": \"\"}, \"colorscale\": [[0.0, \"#0d0887\"], [0.1111111111111111, \"#46039f\"], [0.2222222222222222, \"#7201a8\"], [0.3333333333333333, \"#9c179e\"], [0.4444444444444444, \"#bd3786\"], [0.5555555555555556, \"#d8576b\"], [0.6666666666666666, \"#ed7953\"], [0.7777777777777778, \"#fb9f3a\"], [0.8888888888888888, \"#fdca26\"], [1.0, \"#f0f921\"]], \"type\": \"surface\"}], \"table\": [{\"cells\": {\"fill\": {\"color\": \"#506784\"}, \"line\": {\"color\": \"rgb(17,17,17)\"}}, \"header\": {\"fill\": {\"color\": \"#2a3f5f\"}, \"line\": {\"color\": \"rgb(17,17,17)\"}}, \"type\": \"table\"}]}, \"layout\": {\"annotationdefaults\": {\"arrowcolor\": \"#f2f5fa\", \"arrowhead\": 0, \"arrowwidth\": 1}, \"coloraxis\": {\"colorbar\": {\"outlinewidth\": 0, \"ticks\": \"\"}}, \"colorscale\": {\"diverging\": [[0, \"#8e0152\"], [0.1, \"#c51b7d\"], [0.2, \"#de77ae\"], [0.3, \"#f1b6da\"], [0.4, \"#fde0ef\"], [0.5, \"#f7f7f7\"], [0.6, \"#e6f5d0\"], [0.7, \"#b8e186\"], [0.8, \"#7fbc41\"], [0.9, \"#4d9221\"], [1, \"#276419\"]], \"sequential\": [[0.0, \"#0d0887\"], [0.1111111111111111, \"#46039f\"], [0.2222222222222222, \"#7201a8\"], [0.3333333333333333, \"#9c179e\"], [0.4444444444444444, \"#bd3786\"], [0.5555555555555556, \"#d8576b\"], [0.6666666666666666, \"#ed7953\"], [0.7777777777777778, \"#fb9f3a\"], [0.8888888888888888, \"#fdca26\"], [1.0, \"#f0f921\"]], \"sequentialminus\": [[0.0, \"#0d0887\"], [0.1111111111111111, \"#46039f\"], [0.2222222222222222, \"#7201a8\"], [0.3333333333333333, \"#9c179e\"], [0.4444444444444444, \"#bd3786\"], [0.5555555555555556, \"#d8576b\"], [0.6666666666666666, \"#ed7953\"], [0.7777777777777778, \"#fb9f3a\"], [0.8888888888888888, \"#fdca26\"], [1.0, \"#f0f921\"]]}, \"colorway\": [\"#636efa\", \"#EF553B\", \"#00cc96\", \"#ab63fa\", \"#FFA15A\", \"#19d3f3\", \"#FF6692\", \"#B6E880\", \"#FF97FF\", \"#FECB52\"], \"font\": {\"color\": \"#f2f5fa\"}, \"geo\": {\"bgcolor\": \"rgb(17,17,17)\", \"lakecolor\": \"rgb(17,17,17)\", \"landcolor\": \"rgb(17,17,17)\", \"showlakes\": true, \"showland\": true, \"subunitcolor\": \"#506784\"}, \"hoverlabel\": {\"align\": \"left\"}, \"hovermode\": \"closest\", \"mapbox\": {\"style\": \"dark\"}, \"paper_bgcolor\": \"rgb(17,17,17)\", \"plot_bgcolor\": \"rgb(17,17,17)\", \"polar\": {\"angularaxis\": {\"gridcolor\": \"#506784\", \"linecolor\": \"#506784\", \"ticks\": \"\"}, \"bgcolor\": \"rgb(17,17,17)\", \"radialaxis\": {\"gridcolor\": \"#506784\", \"linecolor\": \"#506784\", \"ticks\": \"\"}}, \"scene\": {\"xaxis\": {\"backgroundcolor\": \"rgb(17,17,17)\", \"gridcolor\": \"#506784\", \"gridwidth\": 2, \"linecolor\": \"#506784\", \"showbackground\": true, \"ticks\": \"\", \"zerolinecolor\": \"#C8D4E3\"}, \"yaxis\": {\"backgroundcolor\": \"rgb(17,17,17)\", \"gridcolor\": \"#506784\", \"gridwidth\": 2, \"linecolor\": \"#506784\", \"showbackground\": true, \"ticks\": \"\", \"zerolinecolor\": \"#C8D4E3\"}, \"zaxis\": {\"backgroundcolor\": \"rgb(17,17,17)\", \"gridcolor\": \"#506784\", \"gridwidth\": 2, \"linecolor\": \"#506784\", \"showbackground\": true, \"ticks\": \"\", \"zerolinecolor\": \"#C8D4E3\"}}, \"shapedefaults\": {\"line\": {\"color\": \"#f2f5fa\"}}, \"sliderdefaults\": {\"bgcolor\": \"#C8D4E3\", \"bordercolor\": \"rgb(17,17,17)\", \"borderwidth\": 1, \"tickwidth\": 0}, \"ternary\": {\"aaxis\": {\"gridcolor\": \"#506784\", \"linecolor\": \"#506784\", \"ticks\": \"\"}, \"baxis\": {\"gridcolor\": \"#506784\", \"linecolor\": \"#506784\", \"ticks\": \"\"}, \"bgcolor\": \"rgb(17,17,17)\", \"caxis\": {\"gridcolor\": \"#506784\", \"linecolor\": \"#506784\", \"ticks\": \"\"}}, \"title\": {\"x\": 0.05}, \"updatemenudefaults\": {\"bgcolor\": \"#506784\", \"borderwidth\": 0}, \"xaxis\": {\"automargin\": true, \"gridcolor\": \"#283442\", \"linecolor\": \"#506784\", \"ticks\": \"\", \"title\": {\"standoff\": 15}, \"zerolinecolor\": \"#283442\", \"zerolinewidth\": 2}, \"yaxis\": {\"automargin\": true, \"gridcolor\": \"#283442\", \"linecolor\": \"#506784\", \"ticks\": \"\", \"title\": {\"standoff\": 15}, \"zerolinecolor\": \"#283442\", \"zerolinewidth\": 2}}}, \"title\": {\"text\": \"Google Trends vs Weekly Gross: Correlation = 0.5875697604201474\"}, \"xaxis\": {\"title\": {\"text\": \"Google Trend\"}}, \"yaxis\": {\"title\": {\"text\": \"Weekly Gross\"}}},                        {\"responsive\": true}                    ).then(function(){\n",
       "                            \n",
       "var gd = document.getElementById('00c7ad0f-f065-47cf-b1c9-47d0bf6ceac6');\n",
       "var x = new MutationObserver(function (mutations, observer) {{\n",
       "        var display = window.getComputedStyle(gd).display;\n",
       "        if (!display || display === 'none') {{\n",
       "            console.log([gd, 'removed!']);\n",
       "            Plotly.purge(gd);\n",
       "            observer.disconnect();\n",
       "        }}\n",
       "}});\n",
       "\n",
       "// Listen for the removal of the full notebook cells\n",
       "var notebookContainer = gd.closest('#notebook-container');\n",
       "if (notebookContainer) {{\n",
       "    x.observe(notebookContainer, {childList: true});\n",
       "}}\n",
       "\n",
       "// Listen for the clearing of the current output cell\n",
       "var outputEl = gd.closest('.output');\n",
       "if (outputEl) {{\n",
       "    x.observe(outputEl, {childList: true});\n",
       "}}\n",
       "\n",
       "                        })                };                });            </script>        </div>"
      ]
     },
     "metadata": {},
     "output_type": "display_data"
    }
   ],
   "source": [
    "import plotly.graph_objects as go\n",
    "import pandas as pd\n",
    "from datetime import timedelta\n",
    "\n",
    "\n",
    "COLORS = ['rgb(67,67,67)', 'rgb(115,115,115)', 'rgb(49,130,189)', 'rgb(189,189,189)']\n",
    "c = ['red', 'blue', 'orange', 'white']\n",
    "def static_stacked_trend_graph(stack=False):\n",
    "    \"\"\"\n",
    "    Returns scatter line plot of all power sources and power load.\n",
    "    If `stack` is `True`, the 4 power sources are stacked together to show the overall power\n",
    "    production.\n",
    "    \"\"\"\n",
    "    trends = []\n",
    "    revenues = []\n",
    "    \n",
    "    stack=False\n",
    "    df = pd.read_csv('3_mo_weekly.csv', sep='\\t')\n",
    "    df['Date_dt'] = df['Date'].astype('datetime64[ns]')\n",
    "    date = df['Date_dt'].iloc[-1]\n",
    "    if df is None:\n",
    "        return go.Figure()\n",
    "    \n",
    "    fig = go.Figure()\n",
    "    movie_list = df[df['Date_dt'] == date].sort_values(by=['Weekly'], ascending=False)['Release'][0:20]\n",
    "    for row in range(df.shape[0]):\n",
    "        date = df['Date_dt'].iloc[-1]\n",
    "        trend = df.iloc[row]['google trends']\n",
    "        if trend > 40:\n",
    "            continue\n",
    "        rev = df.iloc[row]['Weekly']\n",
    "        if trend > 1 and rev <1e6:\n",
    "            continue\n",
    "        if trend == 0:\n",
    "            continue\n",
    "        trends.append(trend)\n",
    "        revenues.append(rev)\n",
    "        fig.add_trace(go.Scatter(x=[trend], y=[rev], mode='markers', name=df.iloc[row][\"Release\"],\n",
    "                         line={'width': 2, 'color': c[row%4]},\n",
    "                         stackgroup='stack' if stack else None))\n",
    "    trends, revenues = pd.Series(trends), pd.Series(revenues)\n",
    "    corr = trends.corr(revenues)\n",
    "    \n",
    "    title = f'Google Trends vs Weekly Gross: Correlation = {corr}'\n",
    "    if stack:\n",
    "        title += ' [Stacked]'\n",
    "    fig.update_layout(template='plotly_dark',\n",
    "                      title=title,\n",
    "                      plot_bgcolor='#23272c',\n",
    "                      paper_bgcolor='#23272c',\n",
    "                      yaxis_title='Weekly Gross',\n",
    "                      xaxis_title='Google Trend')\n",
    "    return fig\n",
    "static_stacked_trend_graph()"
   ]
  },
  {
   "cell_type": "code",
   "execution_count": 47,
   "metadata": {
    "scrolled": false
   },
   "outputs": [
    {
     "data": {
      "application/vnd.plotly.v1+json": {
       "config": {
        "plotlyServerURL": "https://plot.ly"
       },
       "data": [
        {
         "line": {
          "color": "red",
          "width": 2
         },
         "mode": "markers",
         "name": "The Secrets We Keep",
         "type": "scatter",
         "x": [
          2212
         ],
         "y": [
          0
         ]
        },
        {
         "line": {
          "color": "blue",
          "width": 2
         },
         "mode": "markers",
         "name": "No Escape",
         "type": "scatter",
         "x": [
          10594
         ],
         "y": [
          5910
         ]
        },
        {
         "line": {
          "color": "orange",
          "width": 2
         },
         "mode": "markers",
         "name": "Ava",
         "type": "scatter",
         "x": [
          86490
         ],
         "y": [
          39759
         ]
        },
        {
         "line": {
          "color": "white",
          "width": 2
         },
         "mode": "markers",
         "name": "My Brothers' Crossing",
         "type": "scatter",
         "x": [
          1343
         ],
         "y": [
          306
         ]
        },
        {
         "line": {
          "color": "red",
          "width": 2
         },
         "mode": "markers",
         "name": "Tulsa",
         "type": "scatter",
         "x": [
          19676
         ],
         "y": [
          7685
         ]
        },
        {
         "line": {
          "color": "blue",
          "width": 2
         },
         "mode": "markers",
         "name": "Bill & Ted Face the Music",
         "type": "scatter",
         "x": [
          87855
         ],
         "y": [
          12352
         ]
        },
        {
         "line": {
          "color": "orange",
          "width": 2
         },
         "mode": "markers",
         "name": "The New Mutants",
         "type": "scatter",
         "x": [
          1055664
         ],
         "y": [
          712921
         ]
        },
        {
         "line": {
          "color": "white",
          "width": 2
         },
         "mode": "markers",
         "name": "Unhinged",
         "type": "scatter",
         "x": [
          996172
         ],
         "y": [
          661309
         ]
        },
        {
         "line": {
          "color": "red",
          "width": 2
         },
         "mode": "markers",
         "name": "Kajillionaire",
         "type": "scatter",
         "x": [
          82645
         ],
         "y": [
          31940
         ]
        },
        {
         "line": {
          "color": "blue",
          "width": 2
         },
         "mode": "markers",
         "name": "Possessor",
         "type": "scatter",
         "x": [
          264534
         ],
         "y": [
          143954
         ]
        },
        {
         "line": {
          "color": "orange",
          "width": 2
         },
         "mode": "markers",
         "name": "Infidel",
         "type": "scatter",
         "x": [
          387576
         ],
         "y": [
          150540
         ]
        },
        {
         "line": {
          "color": "white",
          "width": 2
         },
         "mode": "markers",
         "name": "Coco",
         "type": "scatter",
         "x": [
          603000
         ],
         "y": [
          131000
         ]
        },
        {
         "line": {
          "color": "red",
          "width": 2
         },
         "mode": "markers",
         "name": "The SpongeBob Movie: Sponge on the Run",
         "type": "scatter",
         "x": [
          75090
         ],
         "y": [
          69201
         ]
        },
        {
         "line": {
          "color": "blue",
          "width": 2
         },
         "mode": "markers",
         "name": "Hocus Pocus2020 Re-release",
         "type": "scatter",
         "x": [
          1161000
         ],
         "y": [
          756000
         ]
        },
        {
         "line": {
          "color": "orange",
          "width": 2
         },
         "mode": "markers",
         "name": "Henchmen2020 Re-release",
         "type": "scatter",
         "x": [
          30223
         ],
         "y": [
          17177
         ]
        },
        {
         "line": {
          "color": "white",
          "width": 2
         },
         "mode": "markers",
         "name": "Heaven",
         "type": "scatter",
         "x": [
          10935
         ],
         "y": [
          18899
         ]
        },
        {
         "line": {
          "color": "red",
          "width": 2
         },
         "mode": "markers",
         "name": "The War with Grandpa",
         "type": "scatter",
         "x": [
          3623880
         ],
         "y": [
          3636975
         ]
        },
        {
         "line": {
          "color": "blue",
          "width": 2
         },
         "mode": "markers",
         "name": "Foster Boy",
         "type": "scatter",
         "x": [
          10
         ],
         "y": [
          0
         ]
        },
        {
         "line": {
          "color": "orange",
          "width": 2
         },
         "mode": "markers",
         "name": "The Wolf of Snow Hollow",
         "type": "scatter",
         "x": [
          91943
         ],
         "y": [
          76665
         ]
        },
        {
         "line": {
          "color": "white",
          "width": 2
         },
         "mode": "markers",
         "name": "The Personal History of David Copperfield",
         "type": "scatter",
         "x": [
          21712
         ],
         "y": [
          8533
         ]
        },
        {
         "line": {
          "color": "red",
          "width": 2
         },
         "mode": "markers",
         "name": "Words on Bathroom Walls",
         "type": "scatter",
         "x": [
          60919
         ],
         "y": [
          22995
         ]
        },
        {
         "line": {
          "color": "blue",
          "width": 2
         },
         "mode": "markers",
         "name": "Dreaming Grand Avenue",
         "type": "scatter",
         "x": [
          101
         ],
         "y": [
          36
         ]
        },
        {
         "line": {
          "color": "orange",
          "width": 2
         },
         "mode": "markers",
         "name": "Pray: The Story of Patrick Peyton",
         "type": "scatter",
         "x": [
          24397
         ],
         "y": [
          20385
         ]
        },
        {
         "line": {
          "color": "white",
          "width": 2
         },
         "mode": "markers",
         "name": "The Call",
         "type": "scatter",
         "x": [
          139081
         ],
         "y": [
          88555
         ]
        },
        {
         "line": {
          "color": "red",
          "width": 2
         },
         "mode": "markers",
         "name": "The Broken Hearts Gallery",
         "type": "scatter",
         "x": [
          214015
         ],
         "y": [
          60054
         ]
        },
        {
         "line": {
          "color": "blue",
          "width": 2
         },
         "mode": "markers",
         "name": "Yellow Rose",
         "type": "scatter",
         "x": [
          150330
         ],
         "y": [
          140059
         ]
        },
        {
         "line": {
          "color": "orange",
          "width": 2
         },
         "mode": "markers",
         "name": "A Call to Spy",
         "type": "scatter",
         "x": [
          44250
         ],
         "y": [
          23932
         ]
        },
        {
         "line": {
          "color": "white",
          "width": 2
         },
         "mode": "markers",
         "name": "Shortcut",
         "type": "scatter",
         "x": [
          103773
         ],
         "y": [
          28879
         ]
        },
        {
         "line": {
          "color": "red",
          "width": 2
         },
         "mode": "markers",
         "name": "She Dies Tomorrow",
         "type": "scatter",
         "x": [
          18968
         ],
         "y": [
          15482
         ]
        },
        {
         "line": {
          "color": "blue",
          "width": 2
         },
         "mode": "markers",
         "name": "Star Wars: Episode V - The Empire Strikes Back2020 Re-release",
         "type": "scatter",
         "x": [
          145000
         ],
         "y": [
          79000
         ]
        },
        {
         "line": {
          "color": "orange",
          "width": 2
         },
         "mode": "markers",
         "name": "Save Yourselves!",
         "type": "scatter",
         "x": [
          113701
         ],
         "y": [
          39664
         ]
        },
        {
         "line": {
          "color": "white",
          "width": 2
         },
         "mode": "markers",
         "name": "The Last Shift",
         "type": "scatter",
         "x": [
          102433
         ],
         "y": [
          22022
         ]
        },
        {
         "line": {
          "color": "red",
          "width": 2
         },
         "mode": "markers",
         "name": "Save Yourselves!",
         "type": "scatter",
         "x": [
          39664
         ],
         "y": [
          3855
         ]
        },
        {
         "line": {
          "color": "blue",
          "width": 2
         },
         "mode": "markers",
         "name": "Dreaming Grand Avenue",
         "type": "scatter",
         "x": [
          36
         ],
         "y": [
          964
         ]
        },
        {
         "line": {
          "color": "orange",
          "width": 2
         },
         "mode": "markers",
         "name": "The Wolf of Snow Hollow",
         "type": "scatter",
         "x": [
          76665
         ],
         "y": [
          14632
         ]
        },
        {
         "line": {
          "color": "white",
          "width": 2
         },
         "mode": "markers",
         "name": "The Call",
         "type": "scatter",
         "x": [
          88555
         ],
         "y": [
          63839
         ]
        },
        {
         "line": {
          "color": "red",
          "width": 2
         },
         "mode": "markers",
         "name": "Pray: The Story of Patrick Peyton",
         "type": "scatter",
         "x": [
          20385
         ],
         "y": [
          11459
         ]
        },
        {
         "line": {
          "color": "blue",
          "width": 2
         },
         "mode": "markers",
         "name": "The War with Grandpa",
         "type": "scatter",
         "x": [
          3636975
         ],
         "y": [
          2489361
         ]
        },
        {
         "line": {
          "color": "orange",
          "width": 2
         },
         "mode": "markers",
         "name": "The Broken Hearts Gallery",
         "type": "scatter",
         "x": [
          60054
         ],
         "y": [
          23776
         ]
        },
        {
         "line": {
          "color": "white",
          "width": 2
         },
         "mode": "markers",
         "name": "No Escape",
         "type": "scatter",
         "x": [
          5910
         ],
         "y": [
          3221
         ]
        },
        {
         "line": {
          "color": "red",
          "width": 2
         },
         "mode": "markers",
         "name": "Heaven",
         "type": "scatter",
         "x": [
          18899
         ],
         "y": [
          5019
         ]
        },
        {
         "line": {
          "color": "blue",
          "width": 2
         },
         "mode": "markers",
         "name": "The SpongeBob Movie: Sponge on the Run",
         "type": "scatter",
         "x": [
          69201
         ],
         "y": [
          44521
         ]
        },
        {
         "line": {
          "color": "orange",
          "width": 2
         },
         "mode": "markers",
         "name": "The Kid Detective",
         "type": "scatter",
         "x": [
          140218
         ],
         "y": [
          162473
         ]
        },
        {
         "line": {
          "color": "white",
          "width": 2
         },
         "mode": "markers",
         "name": "Henchmen2020 Re-release",
         "type": "scatter",
         "x": [
          17177
         ],
         "y": [
          2276
         ]
        },
        {
         "line": {
          "color": "red",
          "width": 2
         },
         "mode": "markers",
         "name": "Star Wars: Episode V - The Empire Strikes Back2020 Re-release",
         "type": "scatter",
         "x": [
          79000
         ],
         "y": [
          0
         ]
        },
        {
         "line": {
          "color": "blue",
          "width": 2
         },
         "mode": "markers",
         "name": "Hocus Pocus2020 Re-release",
         "type": "scatter",
         "x": [
          756000
         ],
         "y": [
          530000
         ]
        },
        {
         "line": {
          "color": "orange",
          "width": 2
         },
         "mode": "markers",
         "name": "Honest Thief",
         "type": "scatter",
         "x": [
          3607966
         ],
         "y": [
          3364941
         ]
        },
        {
         "line": {
          "color": "white",
          "width": 2
         },
         "mode": "markers",
         "name": "The Last Shift",
         "type": "scatter",
         "x": [
          22022
         ],
         "y": [
          10493
         ]
        },
        {
         "line": {
          "color": "red",
          "width": 2
         },
         "mode": "markers",
         "name": "The Personal History of David Copperfield",
         "type": "scatter",
         "x": [
          8533
         ],
         "y": [
          2273
         ]
        },
        {
         "line": {
          "color": "blue",
          "width": 2
         },
         "mode": "markers",
         "name": "Possessor",
         "type": "scatter",
         "x": [
          143954
         ],
         "y": [
          53946
         ]
        },
        {
         "line": {
          "color": "orange",
          "width": 2
         },
         "mode": "markers",
         "name": "Shortcut",
         "type": "scatter",
         "x": [
          28879
         ],
         "y": [
          5237
         ]
        },
        {
         "line": {
          "color": "white",
          "width": 2
         },
         "mode": "markers",
         "name": "Infidel",
         "type": "scatter",
         "x": [
          150540
         ],
         "y": [
          53317
         ]
        },
        {
         "line": {
          "color": "red",
          "width": 2
         },
         "mode": "markers",
         "name": "The Nightmare Before Christmas2020 Re-release",
         "type": "scatter",
         "x": [
          1323000
         ],
         "y": [
          577000
         ]
        },
        {
         "line": {
          "color": "blue",
          "width": 2
         },
         "mode": "markers",
         "name": "My Brothers' Crossing",
         "type": "scatter",
         "x": [
          306
         ],
         "y": [
          0
         ]
        },
        {
         "line": {
          "color": "orange",
          "width": 2
         },
         "mode": "markers",
         "name": "Shithouse",
         "type": "scatter",
         "x": [
          5545
         ],
         "y": [
          9559
         ]
        },
        {
         "line": {
          "color": "white",
          "width": 2
         },
         "mode": "markers",
         "name": "Kajillionaire",
         "type": "scatter",
         "x": [
          31940
         ],
         "y": [
          7440
         ]
        },
        {
         "line": {
          "color": "red",
          "width": 2
         },
         "mode": "markers",
         "name": "The New Mutants",
         "type": "scatter",
         "x": [
          712921
         ],
         "y": [
          425312
         ]
        },
        {
         "line": {
          "color": "blue",
          "width": 2
         },
         "mode": "markers",
         "name": "She Dies Tomorrow",
         "type": "scatter",
         "x": [
          15482
         ],
         "y": [
          10353
         ]
        },
        {
         "line": {
          "color": "orange",
          "width": 2
         },
         "mode": "markers",
         "name": "Love and Monsters",
         "type": "scatter",
         "x": [
          270302
         ],
         "y": [
          308776
         ]
        },
        {
         "line": {
          "color": "white",
          "width": 2
         },
         "mode": "markers",
         "name": "Mermaid in Paris",
         "type": "scatter",
         "x": [
          1202
         ],
         "y": [
          786
         ]
        },
        {
         "line": {
          "color": "red",
          "width": 2
         },
         "mode": "markers",
         "name": "Lupin III: The First",
         "type": "scatter",
         "x": [
          83295
         ],
         "y": [
          50890
         ]
        },
        {
         "line": {
          "color": "blue",
          "width": 2
         },
         "mode": "markers",
         "name": "2 Hearts",
         "type": "scatter",
         "x": [
          522937
         ],
         "y": [
          466255
         ]
        },
        {
         "line": {
          "color": "orange",
          "width": 2
         },
         "mode": "markers",
         "name": "Tulsa",
         "type": "scatter",
         "x": [
          7685
         ],
         "y": [
          1753
         ]
        },
        {
         "line": {
          "color": "white",
          "width": 2
         },
         "mode": "markers",
         "name": "Bump Kowalski and the Ten Commandments",
         "type": "scatter",
         "x": [
          256
         ],
         "y": [
          0
         ]
        },
        {
         "line": {
          "color": "red",
          "width": 2
         },
         "mode": "markers",
         "name": "Unhinged",
         "type": "scatter",
         "x": [
          661309
         ],
         "y": [
          397372
         ]
        },
        {
         "line": {
          "color": "blue",
          "width": 2
         },
         "mode": "markers",
         "name": "Twiceborn",
         "type": "scatter",
         "x": [
          5217
         ],
         "y": [
          4186
         ]
        },
        {
         "line": {
          "color": "orange",
          "width": 2
         },
         "mode": "markers",
         "name": "Bill & Ted Face the Music",
         "type": "scatter",
         "x": [
          12352
         ],
         "y": [
          3655
         ]
        },
        {
         "line": {
          "color": "white",
          "width": 2
         },
         "mode": "markers",
         "name": "Ava",
         "type": "scatter",
         "x": [
          39759
         ],
         "y": [
          19452
         ]
        },
        {
         "line": {
          "color": "red",
          "width": 2
         },
         "mode": "markers",
         "name": "Counter Column",
         "type": "scatter",
         "x": [
          6455
         ],
         "y": [
          5236
         ]
        },
        {
         "line": {
          "color": "blue",
          "width": 2
         },
         "mode": "markers",
         "name": "A Call to Spy",
         "type": "scatter",
         "x": [
          23932
         ],
         "y": [
          15944
         ]
        },
        {
         "line": {
          "color": "orange",
          "width": 2
         },
         "mode": "markers",
         "name": "Words on Bathroom Walls",
         "type": "scatter",
         "x": [
          22995
         ],
         "y": [
          7085
         ]
        },
        {
         "line": {
          "color": "white",
          "width": 2
         },
         "mode": "markers",
         "name": "Coco",
         "type": "scatter",
         "x": [
          131000
         ],
         "y": [
          0
         ]
        },
        {
         "line": {
          "color": "red",
          "width": 2
         },
         "mode": "markers",
         "name": "Yellow Rose",
         "type": "scatter",
         "x": [
          140059
         ],
         "y": [
          38979
         ]
        },
        {
         "line": {
          "color": "blue",
          "width": 2
         },
         "mode": "markers",
         "name": "The Nightmare Before Christmas2020 Re-release",
         "type": "scatter",
         "x": [
          577000
         ],
         "y": [
          386000
         ]
        },
        {
         "line": {
          "color": "orange",
          "width": 2
         },
         "mode": "markers",
         "name": "The Call",
         "type": "scatter",
         "x": [
          63839
         ],
         "y": [
          47866
         ]
        },
        {
         "line": {
          "color": "white",
          "width": 2
         },
         "mode": "markers",
         "name": "2 Hearts",
         "type": "scatter",
         "x": [
          466255
         ],
         "y": [
          205570
         ]
        },
        {
         "line": {
          "color": "red",
          "width": 2
         },
         "mode": "markers",
         "name": "Kajillionaire",
         "type": "scatter",
         "x": [
          7440
         ],
         "y": [
          0
         ]
        },
        {
         "line": {
          "color": "blue",
          "width": 2
         },
         "mode": "markers",
         "name": "The New Mutants",
         "type": "scatter",
         "x": [
          425312
         ],
         "y": [
          243580
         ]
        },
        {
         "line": {
          "color": "orange",
          "width": 2
         },
         "mode": "markers",
         "name": "Unhinged",
         "type": "scatter",
         "x": [
          397372
         ],
         "y": [
          197986
         ]
        },
        {
         "line": {
          "color": "white",
          "width": 2
         },
         "mode": "markers",
         "name": "Bill & Ted Face the Music",
         "type": "scatter",
         "x": [
          3655
         ],
         "y": [
          0
         ]
        },
        {
         "line": {
          "color": "red",
          "width": 2
         },
         "mode": "markers",
         "name": "The Broken Hearts Gallery",
         "type": "scatter",
         "x": [
          23776
         ],
         "y": [
          11618
         ]
        },
        {
         "line": {
          "color": "blue",
          "width": 2
         },
         "mode": "markers",
         "name": "Yellow Rose",
         "type": "scatter",
         "x": [
          38979
         ],
         "y": [
          7485
         ]
        },
        {
         "line": {
          "color": "orange",
          "width": 2
         },
         "mode": "markers",
         "name": "Love and Monsters",
         "type": "scatter",
         "x": [
          308776
         ],
         "y": [
          194214
         ]
        },
        {
         "line": {
          "color": "white",
          "width": 2
         },
         "mode": "markers",
         "name": "Mermaid in Paris",
         "type": "scatter",
         "x": [
          786
         ],
         "y": [
          0
         ]
        },
        {
         "line": {
          "color": "red",
          "width": 2
         },
         "mode": "markers",
         "name": "Monsters Inc.2020 Re-release",
         "type": "scatter",
         "x": [
          494000
         ],
         "y": [
          232000
         ]
        },
        {
         "line": {
          "color": "blue",
          "width": 2
         },
         "mode": "markers",
         "name": "The Kid Detective",
         "type": "scatter",
         "x": [
          162473
         ],
         "y": [
          51554
         ]
        },
        {
         "line": {
          "color": "orange",
          "width": 2
         },
         "mode": "markers",
         "name": "The Last Shift",
         "type": "scatter",
         "x": [
          10493
         ],
         "y": [
          3411
         ]
        },
        {
         "line": {
          "color": "white",
          "width": 2
         },
         "mode": "markers",
         "name": "No Escape",
         "type": "scatter",
         "x": [
          3221
         ],
         "y": [
          1742
         ]
        },
        {
         "line": {
          "color": "red",
          "width": 2
         },
         "mode": "markers",
         "name": "Possessor",
         "type": "scatter",
         "x": [
          53946
         ],
         "y": [
          30698
         ]
        },
        {
         "line": {
          "color": "blue",
          "width": 2
         },
         "mode": "markers",
         "name": "Infidel",
         "type": "scatter",
         "x": [
          53317
         ],
         "y": [
          19436
         ]
        },
        {
         "line": {
          "color": "orange",
          "width": 2
         },
         "mode": "markers",
         "name": "Words on Bathroom Walls",
         "type": "scatter",
         "x": [
          7085
         ],
         "y": [
          2218
         ]
        },
        {
         "line": {
          "color": "white",
          "width": 2
         },
         "mode": "markers",
         "name": "Pray: The Story of Patrick Peyton",
         "type": "scatter",
         "x": [
          11459
         ],
         "y": [
          4331
         ]
        },
        {
         "line": {
          "color": "red",
          "width": 2
         },
         "mode": "markers",
         "name": "After We Collided",
         "type": "scatter",
         "x": [
          422899
         ],
         "y": [
          169429
         ]
        },
        {
         "line": {
          "color": "blue",
          "width": 2
         },
         "mode": "markers",
         "name": "Save Yourselves!",
         "type": "scatter",
         "x": [
          3855
         ],
         "y": [
          0
         ]
        },
        {
         "line": {
          "color": "orange",
          "width": 2
         },
         "mode": "markers",
         "name": "Stevie Nicks 24 Karat Gold the Concert",
         "type": "scatter",
         "x": [
          404489
         ],
         "y": [
          5776
         ]
        },
        {
         "line": {
          "color": "white",
          "width": 2
         },
         "mode": "markers",
         "name": "She Dies Tomorrow",
         "type": "scatter",
         "x": [
          10353
         ],
         "y": [
          10909
         ]
        },
        {
         "line": {
          "color": "red",
          "width": 2
         },
         "mode": "markers",
         "name": "Shithouse",
         "type": "scatter",
         "x": [
          9559
         ],
         "y": [
          2181
         ]
        },
        {
         "line": {
          "color": "blue",
          "width": 2
         },
         "mode": "markers",
         "name": "A Call to Spy",
         "type": "scatter",
         "x": [
          15944
         ],
         "y": [
          10840
         ]
        },
        {
         "line": {
          "color": "orange",
          "width": 2
         },
         "mode": "markers",
         "name": "Shortcut",
         "type": "scatter",
         "x": [
          5237
         ],
         "y": [
          0
         ]
        },
        {
         "line": {
          "color": "white",
          "width": 2
         },
         "mode": "markers",
         "name": "The Addams Family2020 Re-release",
         "type": "scatter",
         "x": [
          282841
         ],
         "y": [
          302696
         ]
        },
        {
         "line": {
          "color": "red",
          "width": 2
         },
         "mode": "markers",
         "name": "Ava",
         "type": "scatter",
         "x": [
          19452
         ],
         "y": [
          11810
         ]
        },
        {
         "line": {
          "color": "blue",
          "width": 2
         },
         "mode": "markers",
         "name": "Lupin III: The First",
         "type": "scatter",
         "x": [
          50890
         ],
         "y": [
          2183
         ]
        },
        {
         "line": {
          "color": "orange",
          "width": 2
         },
         "mode": "markers",
         "name": "The Empty Man",
         "type": "scatter",
         "x": [
          1310326
         ],
         "y": [
          974702
         ]
        },
        {
         "line": {
          "color": "white",
          "width": 2
         },
         "mode": "markers",
         "name": "Henchmen2020 Re-release",
         "type": "scatter",
         "x": [
          2276
         ],
         "y": [
          0
         ]
        },
        {
         "line": {
          "color": "red",
          "width": 2
         },
         "mode": "markers",
         "name": "Counter Column",
         "type": "scatter",
         "x": [
          5236
         ],
         "y": [
          2060
         ]
        },
        {
         "line": {
          "color": "blue",
          "width": 2
         },
         "mode": "markers",
         "name": "The SpongeBob Movie: Sponge on the Run",
         "type": "scatter",
         "x": [
          44521
         ],
         "y": [
          20611
         ]
        },
        {
         "line": {
          "color": "orange",
          "width": 2
         },
         "mode": "markers",
         "name": "The Personal History of David Copperfield",
         "type": "scatter",
         "x": [
          2273
         ],
         "y": [
          0
         ]
        },
        {
         "line": {
          "color": "white",
          "width": 2
         },
         "mode": "markers",
         "name": "Honest Thief",
         "type": "scatter",
         "x": [
          3364941
         ],
         "y": [
          2078045
         ]
        },
        {
         "line": {
          "color": "red",
          "width": 2
         },
         "mode": "markers",
         "name": "Twiceborn",
         "type": "scatter",
         "x": [
          4186
         ],
         "y": [
          1004
         ]
        },
        {
         "line": {
          "color": "blue",
          "width": 2
         },
         "mode": "markers",
         "name": "Dreaming Grand Avenue",
         "type": "scatter",
         "x": [
          964
         ],
         "y": [
          0
         ]
        },
        {
         "line": {
          "color": "orange",
          "width": 2
         },
         "mode": "markers",
         "name": "Hocus Pocus2020 Re-release",
         "type": "scatter",
         "x": [
          530000
         ],
         "y": [
          456000
         ]
        },
        {
         "line": {
          "color": "white",
          "width": 2
         },
         "mode": "markers",
         "name": "Heaven",
         "type": "scatter",
         "x": [
          5019
         ],
         "y": [
          1159
         ]
        },
        {
         "line": {
          "color": "red",
          "width": 2
         },
         "mode": "markers",
         "name": "Tulsa",
         "type": "scatter",
         "x": [
          1753
         ],
         "y": [
          1260
         ]
        },
        {
         "line": {
          "color": "blue",
          "width": 2
         },
         "mode": "markers",
         "name": "The War with Grandpa",
         "type": "scatter",
         "x": [
          2489361
         ],
         "y": [
          1728709
         ]
        },
        {
         "line": {
          "color": "orange",
          "width": 2
         },
         "mode": "markers",
         "name": "The Wolf of Snow Hollow",
         "type": "scatter",
         "x": [
          14632
         ],
         "y": [
          1786
         ]
        },
        {
         "line": {
          "color": "white",
          "width": 2
         },
         "mode": "markers",
         "name": "Unhinged",
         "type": "scatter",
         "x": [
          197986
         ],
         "y": [
          129664
         ]
        },
        {
         "line": {
          "color": "red",
          "width": 2
         },
         "mode": "markers",
         "name": "The Kid Detective",
         "type": "scatter",
         "x": [
          51554
         ],
         "y": [
          8938
         ]
        },
        {
         "line": {
          "color": "blue",
          "width": 2
         },
         "mode": "markers",
         "name": "Heaven",
         "type": "scatter",
         "x": [
          1159
         ],
         "y": [
          803
         ]
        },
        {
         "line": {
          "color": "orange",
          "width": 2
         },
         "mode": "markers",
         "name": "Stevie Nicks 24 Karat Gold the Concert",
         "type": "scatter",
         "x": [
          5776
         ],
         "y": [
          0
         ]
        },
        {
         "line": {
          "color": "white",
          "width": 2
         },
         "mode": "markers",
         "name": "Counter Column",
         "type": "scatter",
         "x": [
          2060
         ],
         "y": [
          756
         ]
        },
        {
         "line": {
          "color": "red",
          "width": 2
         },
         "mode": "markers",
         "name": "No Escape",
         "type": "scatter",
         "x": [
          1742
         ],
         "y": [
          465
         ]
        },
        {
         "line": {
          "color": "blue",
          "width": 2
         },
         "mode": "markers",
         "name": "Possessor",
         "type": "scatter",
         "x": [
          30698
         ],
         "y": [
          6318
         ]
        },
        {
         "line": {
          "color": "orange",
          "width": 2
         },
         "mode": "markers",
         "name": "Tulsa",
         "type": "scatter",
         "x": [
          1260
         ],
         "y": [
          1566
         ]
        },
        {
         "line": {
          "color": "white",
          "width": 2
         },
         "mode": "markers",
         "name": "Monsters Inc.2020 Re-release",
         "type": "scatter",
         "x": [
          232000
         ],
         "y": [
          0
         ]
        },
        {
         "line": {
          "color": "red",
          "width": 2
         },
         "mode": "markers",
         "name": "The SpongeBob Movie: Sponge on the Run",
         "type": "scatter",
         "x": [
          20611
         ],
         "y": [
          20332
         ]
        },
        {
         "line": {
          "color": "blue",
          "width": 2
         },
         "mode": "markers",
         "name": "Pray: The Story of Patrick Peyton",
         "type": "scatter",
         "x": [
          4331
         ],
         "y": [
          4898
         ]
        },
        {
         "line": {
          "color": "orange",
          "width": 2
         },
         "mode": "markers",
         "name": "Words on Bathroom Walls",
         "type": "scatter",
         "x": [
          2218
         ],
         "y": [
          2480
         ]
        },
        {
         "line": {
          "color": "white",
          "width": 2
         },
         "mode": "markers",
         "name": "Spell",
         "type": "scatter",
         "x": [
          206591
         ],
         "y": [
          186303
         ]
        },
        {
         "line": {
          "color": "red",
          "width": 2
         },
         "mode": "markers",
         "name": "After We Collided",
         "type": "scatter",
         "x": [
          169429
         ],
         "y": [
          99246
         ]
        },
        {
         "line": {
          "color": "blue",
          "width": 2
         },
         "mode": "markers",
         "name": "A Call to Spy",
         "type": "scatter",
         "x": [
          10840
         ],
         "y": [
          11237
         ]
        },
        {
         "line": {
          "color": "orange",
          "width": 2
         },
         "mode": "markers",
         "name": "Shithouse",
         "type": "scatter",
         "x": [
          2181
         ],
         "y": [
          0
         ]
        },
        {
         "line": {
          "color": "white",
          "width": 2
         },
         "mode": "markers",
         "name": "Alita: Battle Angel",
         "type": "scatter",
         "x": [
          128000
         ],
         "y": [
          0
         ]
        },
        {
         "line": {
          "color": "red",
          "width": 2
         },
         "mode": "markers",
         "name": "The Wolf of Snow Hollow",
         "type": "scatter",
         "x": [
          1786
         ],
         "y": [
          0
         ]
        },
        {
         "line": {
          "color": "blue",
          "width": 2
         },
         "mode": "markers",
         "name": "The Addams Family2020 Re-release",
         "type": "scatter",
         "x": [
          302696
         ],
         "y": [
          87471
         ]
        },
        {
         "line": {
          "color": "orange",
          "width": 2
         },
         "mode": "markers",
         "name": "Ava",
         "type": "scatter",
         "x": [
          11810
         ],
         "y": [
          4176
         ]
        },
        {
         "line": {
          "color": "white",
          "width": 2
         },
         "mode": "markers",
         "name": "Bump Kowalski and the Ten Commandments",
         "type": "scatter",
         "x": [
          419
         ],
         "y": [
          0
         ]
        },
        {
         "line": {
          "color": "red",
          "width": 2
         },
         "mode": "markers",
         "name": "The Empty Man",
         "type": "scatter",
         "x": [
          974702
         ],
         "y": [
          456799
         ]
        },
        {
         "line": {
          "color": "blue",
          "width": 2
         },
         "mode": "markers",
         "name": "Infidel",
         "type": "scatter",
         "x": [
          19436
         ],
         "y": [
          5881
         ]
        },
        {
         "line": {
          "color": "orange",
          "width": 2
         },
         "mode": "markers",
         "name": "The Nightmare Before Christmas2020 Re-release",
         "type": "scatter",
         "x": [
          386000
         ],
         "y": [
          0
         ]
        },
        {
         "line": {
          "color": "white",
          "width": 2
         },
         "mode": "markers",
         "name": "The Call",
         "type": "scatter",
         "x": [
          47866
         ],
         "y": [
          21864
         ]
        },
        {
         "line": {
          "color": "red",
          "width": 2
         },
         "mode": "markers",
         "name": "Honest Thief",
         "type": "scatter",
         "x": [
          2078045
         ],
         "y": [
          1619272
         ]
        },
        {
         "line": {
          "color": "blue",
          "width": 2
         },
         "mode": "markers",
         "name": "Twiceborn",
         "type": "scatter",
         "x": [
          1004
         ],
         "y": [
          567
         ]
        },
        {
         "line": {
          "color": "orange",
          "width": 2
         },
         "mode": "markers",
         "name": "She Dies Tomorrow",
         "type": "scatter",
         "x": [
          10909
         ],
         "y": [
          1595
         ]
        },
        {
         "line": {
          "color": "white",
          "width": 2
         },
         "mode": "markers",
         "name": "The New Mutants",
         "type": "scatter",
         "x": [
          243580
         ],
         "y": [
          191423
         ]
        },
        {
         "line": {
          "color": "red",
          "width": 2
         },
         "mode": "markers",
         "name": "Hocus Pocus2020 Re-release",
         "type": "scatter",
         "x": [
          456000
         ],
         "y": [
          0
         ]
        },
        {
         "line": {
          "color": "blue",
          "width": 2
         },
         "mode": "markers",
         "name": "2 Hearts",
         "type": "scatter",
         "x": [
          205570
         ],
         "y": [
          102804
         ]
        },
        {
         "line": {
          "color": "orange",
          "width": 2
         },
         "mode": "markers",
         "name": "The War with Grandpa",
         "type": "scatter",
         "x": [
          1728709
         ],
         "y": [
          1930168
         ]
        },
        {
         "line": {
          "color": "white",
          "width": 2
         },
         "mode": "markers",
         "name": "Come Play",
         "type": "scatter",
         "x": [
          3119875
         ],
         "y": [
          2605030
         ]
        },
        {
         "line": {
          "color": "red",
          "width": 2
         },
         "mode": "markers",
         "name": "Love and Monsters",
         "type": "scatter",
         "x": [
          194214
         ],
         "y": [
          154533
         ]
        },
        {
         "line": {
          "color": "blue",
          "width": 2
         },
         "mode": "markers",
         "name": "Lupin III: The First",
         "type": "scatter",
         "x": [
          2183
         ],
         "y": [
          0
         ]
        },
        {
         "line": {
          "color": "orange",
          "width": 2
         },
         "mode": "markers",
         "name": "Yellow Rose",
         "type": "scatter",
         "x": [
          7485
         ],
         "y": [
          7430
         ]
        },
        {
         "line": {
          "color": "white",
          "width": 2
         },
         "mode": "markers",
         "name": "The Broken Hearts Gallery",
         "type": "scatter",
         "x": [
          11618
         ],
         "y": [
          15541
         ]
        },
        {
         "line": {
          "color": "red",
          "width": 2
         },
         "mode": "markers",
         "name": "The Last Shift",
         "type": "scatter",
         "x": [
          3411
         ],
         "y": [
          725
         ]
        },
        {
         "line": {
          "color": "blue",
          "width": 2
         },
         "mode": "markers",
         "name": "The Empty Man",
         "type": "scatter",
         "x": [
          456799
         ],
         "y": [
          179811
         ]
        },
        {
         "line": {
          "color": "orange",
          "width": 2
         },
         "mode": "markers",
         "name": "The Addams Family2020 Re-release",
         "type": "scatter",
         "x": [
          87471
         ],
         "y": [
          5918
         ]
        },
        {
         "line": {
          "color": "white",
          "width": 2
         },
         "mode": "markers",
         "name": "Toy Story2020 Re-release",
         "type": "scatter",
         "x": [
          505000
         ],
         "y": [
          222000
         ]
        },
        {
         "line": {
          "color": "red",
          "width": 2
         },
         "mode": "markers",
         "name": "The War with Grandpa",
         "type": "scatter",
         "x": [
          1930168
         ],
         "y": [
          1814182
         ]
        },
        {
         "line": {
          "color": "blue",
          "width": 2
         },
         "mode": "markers",
         "name": "The Broken Hearts Gallery",
         "type": "scatter",
         "x": [
          15541
         ],
         "y": [
          6428
         ]
        },
        {
         "line": {
          "color": "orange",
          "width": 2
         },
         "mode": "markers",
         "name": "The Kid Detective",
         "type": "scatter",
         "x": [
          8938
         ],
         "y": [
          955
         ]
        },
        {
         "line": {
          "color": "white",
          "width": 2
         },
         "mode": "markers",
         "name": "2 Hearts",
         "type": "scatter",
         "x": [
          102804
         ],
         "y": [
          39604
         ]
        },
        {
         "line": {
          "color": "red",
          "width": 2
         },
         "mode": "markers",
         "name": "Counter Column",
         "type": "scatter",
         "x": [
          756
         ],
         "y": [
          257
         ]
        },
        {
         "line": {
          "color": "blue",
          "width": 2
         },
         "mode": "markers",
         "name": "True to the Game 2",
         "type": "scatter",
         "x": [
          274631
         ],
         "y": [
          404260
         ]
        },
        {
         "line": {
          "color": "orange",
          "width": 2
         },
         "mode": "markers",
         "name": "The Informer",
         "type": "scatter",
         "x": [
          133475
         ],
         "y": [
          115256
         ]
        },
        {
         "line": {
          "color": "white",
          "width": 2
         },
         "mode": "markers",
         "name": "The Call",
         "type": "scatter",
         "x": [
          21864
         ],
         "y": [
          4960
         ]
        },
        {
         "line": {
          "color": "red",
          "width": 2
         },
         "mode": "markers",
         "name": "Spell",
         "type": "scatter",
         "x": [
          186303
         ],
         "y": [
          91819
         ]
        },
        {
         "line": {
          "color": "blue",
          "width": 2
         },
         "mode": "markers",
         "name": "The SpongeBob Movie: Sponge on the Run",
         "type": "scatter",
         "x": [
          20332
         ],
         "y": [
          8092
         ]
        },
        {
         "line": {
          "color": "orange",
          "width": 2
         },
         "mode": "markers",
         "name": "She Dies Tomorrow",
         "type": "scatter",
         "x": [
          1595
         ],
         "y": [
          0
         ]
        },
        {
         "line": {
          "color": "white",
          "width": 2
         },
         "mode": "markers",
         "name": "Love and Monsters",
         "type": "scatter",
         "x": [
          154533
         ],
         "y": [
          120688
         ]
        },
        {
         "line": {
          "color": "red",
          "width": 2
         },
         "mode": "markers",
         "name": "The Last Shift",
         "type": "scatter",
         "x": [
          725
         ],
         "y": [
          152122
         ]
        },
        {
         "line": {
          "color": "blue",
          "width": 2
         },
         "mode": "markers",
         "name": "Ava",
         "type": "scatter",
         "x": [
          4176
         ],
         "y": [
          0
         ]
        },
        {
         "line": {
          "color": "orange",
          "width": 2
         },
         "mode": "markers",
         "name": "A Call to Spy",
         "type": "scatter",
         "x": [
          11237
         ],
         "y": [
          8056
         ]
        },
        {
         "line": {
          "color": "white",
          "width": 2
         },
         "mode": "markers",
         "name": "Come Play",
         "type": "scatter",
         "x": [
          2605030
         ],
         "y": [
          1564990
         ]
        },
        {
         "line": {
          "color": "red",
          "width": 2
         },
         "mode": "markers",
         "name": "Heaven",
         "type": "scatter",
         "x": [
          803
         ],
         "y": [
          220
         ]
        },
        {
         "line": {
          "color": "blue",
          "width": 2
         },
         "mode": "markers",
         "name": "Unhinged",
         "type": "scatter",
         "x": [
          129664
         ],
         "y": [
          60833
         ]
        },
        {
         "line": {
          "color": "orange",
          "width": 2
         },
         "mode": "markers",
         "name": "Tulsa",
         "type": "scatter",
         "x": [
          1566
         ],
         "y": [
          1109
         ]
        },
        {
         "line": {
          "color": "white",
          "width": 2
         },
         "mode": "markers",
         "name": "The New Mutants",
         "type": "scatter",
         "x": [
          191423
         ],
         "y": [
          154511
         ]
        },
        {
         "line": {
          "color": "red",
          "width": 2
         },
         "mode": "markers",
         "name": "No Escape",
         "type": "scatter",
         "x": [
          465
         ],
         "y": [
          0
         ]
        },
        {
         "line": {
          "color": "blue",
          "width": 2
         },
         "mode": "markers",
         "name": "Possessor",
         "type": "scatter",
         "x": [
          6318
         ],
         "y": [
          0
         ]
        },
        {
         "line": {
          "color": "orange",
          "width": 2
         },
         "mode": "markers",
         "name": "Pray: The Story of Patrick Peyton",
         "type": "scatter",
         "x": [
          4898
         ],
         "y": [
          3742
         ]
        },
        {
         "line": {
          "color": "white",
          "width": 2
         },
         "mode": "markers",
         "name": "Honest Thief",
         "type": "scatter",
         "x": [
          1619272
         ],
         "y": [
          1184504
         ]
        },
        {
         "line": {
          "color": "red",
          "width": 2
         },
         "mode": "markers",
         "name": "Yellow Rose",
         "type": "scatter",
         "x": [
          7430
         ],
         "y": [
          3728
         ]
        },
        {
         "line": {
          "color": "blue",
          "width": 2
         },
         "mode": "markers",
         "name": "After We Collided",
         "type": "scatter",
         "x": [
          99246
         ],
         "y": [
          33124
         ]
        },
        {
         "line": {
          "color": "orange",
          "width": 2
         },
         "mode": "markers",
         "name": "Twiceborn",
         "type": "scatter",
         "x": [
          567
         ],
         "y": [
          553
         ]
        },
        {
         "line": {
          "color": "white",
          "width": 2
         },
         "mode": "markers",
         "name": "Infidel",
         "type": "scatter",
         "x": [
          5881
         ],
         "y": [
          1868
         ]
        },
        {
         "line": {
          "color": "red",
          "width": 2
         },
         "mode": "markers",
         "name": "Words on Bathroom Walls",
         "type": "scatter",
         "x": [
          2480
         ],
         "y": [
          2141
         ]
        },
        {
         "line": {
          "color": "blue",
          "width": 2
         },
         "mode": "markers",
         "name": "Kindred",
         "type": "scatter",
         "x": [
          6795
         ],
         "y": [
          1667
         ]
        },
        {
         "line": {
          "color": "orange",
          "width": 2
         },
         "mode": "markers",
         "name": "Let Him Go",
         "type": "scatter",
         "x": [
          4000470
         ],
         "y": [
          2832430
         ]
        },
        {
         "line": {
          "color": "white",
          "width": 2
         },
         "mode": "markers",
         "name": "The New Mutants",
         "type": "scatter",
         "x": [
          154511
         ],
         "y": [
          73449
         ]
        },
        {
         "line": {
          "color": "red",
          "width": 2
         },
         "mode": "markers",
         "name": "The Empty Man",
         "type": "scatter",
         "x": [
          179811
         ],
         "y": [
          44281
         ]
        },
        {
         "line": {
          "color": "blue",
          "width": 2
         },
         "mode": "markers",
         "name": "True to the Game 2",
         "type": "scatter",
         "x": [
          404260
         ],
         "y": [
          248896
         ]
        },
        {
         "line": {
          "color": "orange",
          "width": 2
         },
         "mode": "markers",
         "name": "Toy Story2020 Re-release",
         "type": "scatter",
         "x": [
          222000
         ],
         "y": [
          0
         ]
        },
        {
         "line": {
          "color": "white",
          "width": 2
         },
         "mode": "markers",
         "name": "The Informer",
         "type": "scatter",
         "x": [
          115256
         ],
         "y": [
          37442
         ]
        },
        {
         "line": {
          "color": "red",
          "width": 2
         },
         "mode": "markers",
         "name": "Tulsa",
         "type": "scatter",
         "x": [
          1109
         ],
         "y": [
          0
         ]
        },
        {
         "line": {
          "color": "blue",
          "width": 2
         },
         "mode": "markers",
         "name": "Unhinged",
         "type": "scatter",
         "x": [
          60833
         ],
         "y": [
          0
         ]
        },
        {
         "line": {
          "color": "orange",
          "width": 2
         },
         "mode": "markers",
         "name": "The Kid Detective",
         "type": "scatter",
         "x": [
          955
         ],
         "y": [
          0
         ]
        },
        {
         "line": {
          "color": "white",
          "width": 2
         },
         "mode": "markers",
         "name": "The War with Grandpa",
         "type": "scatter",
         "x": [
          1814182
         ],
         "y": [
          973453
         ]
        },
        {
         "line": {
          "color": "red",
          "width": 2
         },
         "mode": "markers",
         "name": "The SpongeBob Movie: Sponge on the Run",
         "type": "scatter",
         "x": [
          8092
         ],
         "y": [
          0
         ]
        },
        {
         "line": {
          "color": "blue",
          "width": 2
         },
         "mode": "markers",
         "name": "Words on Bathroom Walls",
         "type": "scatter",
         "x": [
          2141
         ],
         "y": [
          150
         ]
        },
        {
         "line": {
          "color": "orange",
          "width": 2
         },
         "mode": "markers",
         "name": "The Last Shift",
         "type": "scatter",
         "x": [
          152122
         ],
         "y": [
          237863
         ]
        },
        {
         "line": {
          "color": "white",
          "width": 2
         },
         "mode": "markers",
         "name": "Twiceborn",
         "type": "scatter",
         "x": [
          553
         ],
         "y": [
          0
         ]
        },
        {
         "line": {
          "color": "red",
          "width": 2
         },
         "mode": "markers",
         "name": "Yellow Rose",
         "type": "scatter",
         "x": [
          3728
         ],
         "y": [
          0
         ]
        },
        {
         "line": {
          "color": "blue",
          "width": 2
         },
         "mode": "markers",
         "name": "Counter Column",
         "type": "scatter",
         "x": [
          257
         ],
         "y": [
          25
         ]
        },
        {
         "line": {
          "color": "orange",
          "width": 2
         },
         "mode": "markers",
         "name": "Elf2020 Re-release",
         "type": "scatter",
         "x": [
          170000
         ],
         "y": [
          180000
         ]
        },
        {
         "line": {
          "color": "white",
          "width": 2
         },
         "mode": "markers",
         "name": "Pray: The Story of Patrick Peyton",
         "type": "scatter",
         "x": [
          3742
         ],
         "y": [
          1494
         ]
        },
        {
         "line": {
          "color": "red",
          "width": 2
         },
         "mode": "markers",
         "name": "Spell",
         "type": "scatter",
         "x": [
          91819
         ],
         "y": [
          15391
         ]
        },
        {
         "line": {
          "color": "blue",
          "width": 2
         },
         "mode": "markers",
         "name": "Freaky",
         "type": "scatter",
         "x": [
          3600355
         ],
         "y": [
          2053090
         ]
        },
        {
         "line": {
          "color": "orange",
          "width": 2
         },
         "mode": "markers",
         "name": "Infidel",
         "type": "scatter",
         "x": [
          1868
         ],
         "y": [
          768
         ]
        },
        {
         "line": {
          "color": "white",
          "width": 2
         },
         "mode": "markers",
         "name": "The Addams Family2020 Re-release",
         "type": "scatter",
         "x": [
          5918
         ],
         "y": [
          0
         ]
        },
        {
         "line": {
          "color": "red",
          "width": 2
         },
         "mode": "markers",
         "name": "Come Play",
         "type": "scatter",
         "x": [
          1564990
         ],
         "y": [
          777275
         ]
        },
        {
         "line": {
          "color": "blue",
          "width": 2
         },
         "mode": "markers",
         "name": "Come Away",
         "type": "scatter",
         "x": [
          106084
         ],
         "y": [
          59472
         ]
        },
        {
         "line": {
          "color": "orange",
          "width": 2
         },
         "mode": "markers",
         "name": "The Broken Hearts Gallery",
         "type": "scatter",
         "x": [
          6428
         ],
         "y": [
          1273
         ]
        },
        {
         "line": {
          "color": "white",
          "width": 2
         },
         "mode": "markers",
         "name": "Guardians of the Galaxy2020 Re-release",
         "type": "scatter",
         "x": [
          406000
         ],
         "y": [
          136000
         ]
        },
        {
         "line": {
          "color": "red",
          "width": 2
         },
         "mode": "markers",
         "name": "Bump Kowalski and the Ten Commandments",
         "type": "scatter",
         "x": [
          378
         ],
         "y": [
          0
         ]
        },
        {
         "line": {
          "color": "blue",
          "width": 2
         },
         "mode": "markers",
         "name": "Ammonite",
         "type": "scatter",
         "x": [
          87552
         ],
         "y": [
          23383
         ]
        },
        {
         "line": {
          "color": "orange",
          "width": 2
         },
         "mode": "markers",
         "name": "Let Him Go",
         "type": "scatter",
         "x": [
          2832430
         ],
         "y": [
          1110540
         ]
        },
        {
         "line": {
          "color": "white",
          "width": 2
         },
         "mode": "markers",
         "name": "Honest Thief",
         "type": "scatter",
         "x": [
          1184504
         ],
         "y": [
          642302
         ]
        },
        {
         "line": {
          "color": "red",
          "width": 2
         },
         "mode": "markers",
         "name": "After We Collided",
         "type": "scatter",
         "x": [
          33124
         ],
         "y": [
          6047
         ]
        },
        {
         "line": {
          "color": "blue",
          "width": 2
         },
         "mode": "markers",
         "name": "A Call to Spy",
         "type": "scatter",
         "x": [
          8056
         ],
         "y": [
          2168
         ]
        },
        {
         "line": {
          "color": "orange",
          "width": 2
         },
         "mode": "markers",
         "name": "The Call",
         "type": "scatter",
         "x": [
          4960
         ],
         "y": [
          1014
         ]
        },
        {
         "line": {
          "color": "white",
          "width": 2
         },
         "mode": "markers",
         "name": "Kindred",
         "type": "scatter",
         "x": [
          1667
         ],
         "y": [
          0
         ]
        },
        {
         "line": {
          "color": "red",
          "width": 2
         },
         "mode": "markers",
         "name": "2 Hearts",
         "type": "scatter",
         "x": [
          39604
         ],
         "y": [
          8781
         ]
        },
        {
         "line": {
          "color": "blue",
          "width": 2
         },
         "mode": "markers",
         "name": "Heaven",
         "type": "scatter",
         "x": [
          220
         ],
         "y": [
          0
         ]
        },
        {
         "line": {
          "color": "orange",
          "width": 2
         },
         "mode": "markers",
         "name": "Love and Monsters",
         "type": "scatter",
         "x": [
          120688
         ],
         "y": [
          22201
         ]
        },
        {
         "line": {
          "color": "white",
          "width": 2
         },
         "mode": "markers",
         "name": "Embattled",
         "type": "scatter",
         "x": [
          15141
         ],
         "y": [
          10662
         ]
        },
        {
         "line": {
          "color": "red",
          "width": 2
         },
         "mode": "markers",
         "name": "Gekijouban Fate/Stay Night: Heaven's Feel - III. Spring Song",
         "type": "scatter",
         "x": [
          200000
         ],
         "y": [
          0
         ]
        },
        {
         "line": {
          "color": "blue",
          "width": 2
         },
         "mode": "markers",
         "name": "Honest Thief",
         "type": "scatter",
         "x": [
          642302
         ],
         "y": [
          537113
         ]
        },
        {
         "line": {
          "color": "orange",
          "width": 2
         },
         "mode": "markers",
         "name": "Freaky",
         "type": "scatter",
         "x": [
          2053090
         ],
         "y": [
          1389310
         ]
        },
        {
         "line": {
          "color": "white",
          "width": 2
         },
         "mode": "markers",
         "name": "The War with Grandpa",
         "type": "scatter",
         "x": [
          973453
         ],
         "y": [
          1009656
         ]
        },
        {
         "line": {
          "color": "red",
          "width": 2
         },
         "mode": "markers",
         "name": "The Santa Clause2020 Re-release",
         "type": "scatter",
         "x": [
          461000
         ],
         "y": [
          245000
         ]
        },
        {
         "line": {
          "color": "blue",
          "width": 2
         },
         "mode": "markers",
         "name": "Guardians of the Galaxy2020 Re-release",
         "type": "scatter",
         "x": [
          136000
         ],
         "y": [
          0
         ]
        },
        {
         "line": {
          "color": "orange",
          "width": 2
         },
         "mode": "markers",
         "name": "True to the Game 2",
         "type": "scatter",
         "x": [
          248896
         ],
         "y": [
          190020
         ]
        },
        {
         "line": {
          "color": "white",
          "width": 2
         },
         "mode": "markers",
         "name": "Counter Column",
         "type": "scatter",
         "x": [
          25
         ],
         "y": [
          0
         ]
        },
        {
         "line": {
          "color": "red",
          "width": 2
         },
         "mode": "markers",
         "name": "Come Play",
         "type": "scatter",
         "x": [
          777275
         ],
         "y": [
          591625
         ]
        },
        {
         "line": {
          "color": "blue",
          "width": 2
         },
         "mode": "markers",
         "name": "Come Away",
         "type": "scatter",
         "x": [
          59472
         ],
         "y": [
          16449
         ]
        },
        {
         "line": {
          "color": "orange",
          "width": 2
         },
         "mode": "markers",
         "name": "Buddy Games",
         "type": "scatter",
         "x": [
          150497
         ],
         "y": [
          174157
         ]
        },
        {
         "line": {
          "color": "white",
          "width": 2
         },
         "mode": "markers",
         "name": "Ammonite",
         "type": "scatter",
         "x": [
          23383
         ],
         "y": [
          7250
         ]
        },
        {
         "line": {
          "color": "red",
          "width": 2
         },
         "mode": "markers",
         "name": "Vanguard",
         "type": "scatter",
         "x": [
          380428
         ],
         "y": [
          305523
         ]
        },
        {
         "line": {
          "color": "blue",
          "width": 2
         },
         "mode": "markers",
         "name": "After We Collided",
         "type": "scatter",
         "x": [
          6047
         ],
         "y": [
          2290
         ]
        },
        {
         "line": {
          "color": "orange",
          "width": 2
         },
         "mode": "markers",
         "name": "A Call to Spy",
         "type": "scatter",
         "x": [
          2168
         ],
         "y": [
          0
         ]
        },
        {
         "line": {
          "color": "white",
          "width": 2
         },
         "mode": "markers",
         "name": "Words on Bathroom Walls",
         "type": "scatter",
         "x": [
          150
         ],
         "y": [
          24
         ]
        },
        {
         "line": {
          "color": "red",
          "width": 2
         },
         "mode": "markers",
         "name": "2 Hearts",
         "type": "scatter",
         "x": [
          8781
         ],
         "y": [
          2718
         ]
        },
        {
         "line": {
          "color": "blue",
          "width": 2
         },
         "mode": "markers",
         "name": "Elf2020 Re-release",
         "type": "scatter",
         "x": [
          180000
         ],
         "y": [
          430000
         ]
        },
        {
         "line": {
          "color": "orange",
          "width": 2
         },
         "mode": "markers",
         "name": "Infidel",
         "type": "scatter",
         "x": [
          768
         ],
         "y": [
          189
         ]
        },
        {
         "line": {
          "color": "white",
          "width": 2
         },
         "mode": "markers",
         "name": "Pray: The Story of Patrick Peyton",
         "type": "scatter",
         "x": [
          1494
         ],
         "y": [
          136
         ]
        },
        {
         "line": {
          "color": "red",
          "width": 2
         },
         "mode": "markers",
         "name": "Love and Monsters",
         "type": "scatter",
         "x": [
          22201
         ],
         "y": [
          0
         ]
        },
        {
         "line": {
          "color": "blue",
          "width": 2
         },
         "mode": "markers",
         "name": "The Last Vermeer",
         "type": "scatter",
         "x": [
          225691
         ],
         "y": [
          263144
         ]
        },
        {
         "line": {
          "color": "orange",
          "width": 2
         },
         "mode": "markers",
         "name": "The Last Shift",
         "type": "scatter",
         "x": [
          237863
         ],
         "y": [
          0
         ]
        },
        {
         "line": {
          "color": "white",
          "width": 2
         },
         "mode": "markers",
         "name": "The Forgotten Carols",
         "type": "scatter",
         "x": [
          103839
         ],
         "y": [
          156728
         ]
        },
        {
         "line": {
          "color": "red",
          "width": 2
         },
         "mode": "markers",
         "name": "Let Him Go",
         "type": "scatter",
         "x": [
          1110540
         ],
         "y": [
          763680
         ]
        },
        {
         "line": {
          "color": "blue",
          "width": 2
         },
         "mode": "markers",
         "name": "The Empty Man",
         "type": "scatter",
         "x": [
          44281
         ],
         "y": [
          13296
         ]
        },
        {
         "line": {
          "color": "orange",
          "width": 2
         },
         "mode": "markers",
         "name": "The Informer",
         "type": "scatter",
         "x": [
          37442
         ],
         "y": [
          14287
         ]
        },
        {
         "line": {
          "color": "white",
          "width": 2
         },
         "mode": "markers",
         "name": "The New Mutants",
         "type": "scatter",
         "x": [
          73449
         ],
         "y": [
          13873
         ]
        },
        {
         "line": {
          "color": "red",
          "width": 2
         },
         "mode": "markers",
         "name": "The Call",
         "type": "scatter",
         "x": [
          1014
         ],
         "y": [
          330
         ]
        },
        {
         "line": {
          "color": "blue",
          "width": 2
         },
         "mode": "markers",
         "name": "Spell",
         "type": "scatter",
         "x": [
          15391
         ],
         "y": [
          0
         ]
        },
        {
         "line": {
          "color": "orange",
          "width": 2
         },
         "mode": "markers",
         "name": "The Broken Hearts Gallery",
         "type": "scatter",
         "x": [
          1273
         ],
         "y": [
          0
         ]
        },
        {
         "line": {
          "color": "white",
          "width": 2
         },
         "mode": "markers",
         "name": "Come Away",
         "type": "scatter",
         "x": [
          16449
         ],
         "y": [
          1418
         ]
        },
        {
         "line": {
          "color": "red",
          "width": 2
         },
         "mode": "markers",
         "name": "Come Play",
         "type": "scatter",
         "x": [
          591625
         ],
         "y": [
          265035
         ]
        },
        {
         "line": {
          "color": "blue",
          "width": 2
         },
         "mode": "markers",
         "name": "The Informer",
         "type": "scatter",
         "x": [
          14287
         ],
         "y": [
          0
         ]
        },
        {
         "line": {
          "color": "orange",
          "width": 2
         },
         "mode": "markers",
         "name": "Infidel",
         "type": "scatter",
         "x": [
          189
         ],
         "y": [
          0
         ]
        },
        {
         "line": {
          "color": "white",
          "width": 2
         },
         "mode": "markers",
         "name": "Pray: The Story of Patrick Peyton",
         "type": "scatter",
         "x": [
          136
         ],
         "y": [
          0
         ]
        },
        {
         "line": {
          "color": "red",
          "width": 2
         },
         "mode": "markers",
         "name": "Stardust",
         "type": "scatter",
         "x": [
          5964
         ],
         "y": [
          1749
         ]
        },
        {
         "line": {
          "color": "blue",
          "width": 2
         },
         "mode": "markers",
         "name": "True to the Game 2",
         "type": "scatter",
         "x": [
          190020
         ],
         "y": [
          0
         ]
        },
        {
         "line": {
          "color": "orange",
          "width": 2
         },
         "mode": "markers",
         "name": "Buddy Games",
         "type": "scatter",
         "x": [
          174157
         ],
         "y": [
          36914
         ]
        },
        {
         "line": {
          "color": "white",
          "width": 2
         },
         "mode": "markers",
         "name": "The Grinch",
         "type": "scatter",
         "x": [
          82000
         ],
         "y": [
          46000
         ]
        },
        {
         "line": {
          "color": "red",
          "width": 2
         },
         "mode": "markers",
         "name": "National Lampoon's Christmas Vacation2020 Re-release",
         "type": "scatter",
         "x": [
          220000
         ],
         "y": [
          0
         ]
        },
        {
         "line": {
          "color": "blue",
          "width": 2
         },
         "mode": "markers",
         "name": "The Forgotten Carols",
         "type": "scatter",
         "x": [
          156728
         ],
         "y": [
          36180
         ]
        },
        {
         "line": {
          "color": "orange",
          "width": 2
         },
         "mode": "markers",
         "name": "Vanguard",
         "type": "scatter",
         "x": [
          305523
         ],
         "y": [
          27390
         ]
        },
        {
         "line": {
          "color": "white",
          "width": 2
         },
         "mode": "markers",
         "name": "After We Collided",
         "type": "scatter",
         "x": [
          2290
         ],
         "y": [
          0
         ]
        },
        {
         "line": {
          "color": "red",
          "width": 2
         },
         "mode": "markers",
         "name": "The Empty Man",
         "type": "scatter",
         "x": [
          13296
         ],
         "y": [
          2889
         ]
        },
        {
         "line": {
          "color": "blue",
          "width": 2
         },
         "mode": "markers",
         "name": "Words on Bathroom Walls",
         "type": "scatter",
         "x": [
          24
         ],
         "y": [
          0
         ]
        },
        {
         "line": {
          "color": "orange",
          "width": 2
         },
         "mode": "markers",
         "name": "2 Hearts",
         "type": "scatter",
         "x": [
          2718
         ],
         "y": [
          657
         ]
        },
        {
         "line": {
          "color": "white",
          "width": 2
         },
         "mode": "markers",
         "name": "The Call",
         "type": "scatter",
         "x": [
          330
         ],
         "y": [
          0
         ]
        },
        {
         "line": {
          "color": "red",
          "width": 2
         },
         "mode": "markers",
         "name": "The Bra",
         "type": "scatter",
         "x": [
          88
         ],
         "y": [
          0
         ]
        },
        {
         "line": {
          "color": "blue",
          "width": 2
         },
         "mode": "markers",
         "name": "Ammonite",
         "type": "scatter",
         "x": [
          7250
         ],
         "y": [
          0
         ]
        },
        {
         "line": {
          "color": "orange",
          "width": 2
         },
         "mode": "markers",
         "name": "The Croods: A New Age",
         "type": "scatter",
         "x": [
          14274455
         ],
         "y": [
          4785955
         ]
        },
        {
         "line": {
          "color": "white",
          "width": 2
         },
         "mode": "markers",
         "name": "The Last Vermeer",
         "type": "scatter",
         "x": [
          263144
         ],
         "y": [
          54065
         ]
        },
        {
         "line": {
          "color": "red",
          "width": 2
         },
         "mode": "markers",
         "name": "Let Him Go",
         "type": "scatter",
         "x": [
          763680
         ],
         "y": [
          268275
         ]
        },
        {
         "line": {
          "color": "blue",
          "width": 2
         },
         "mode": "markers",
         "name": "Embattled",
         "type": "scatter",
         "x": [
          10662
         ],
         "y": [
          1197
         ]
        },
        {
         "line": {
          "color": "orange",
          "width": 2
         },
         "mode": "markers",
         "name": "The New Mutants",
         "type": "scatter",
         "x": [
          13873
         ],
         "y": [
          3128
         ]
        },
        {
         "line": {
          "color": "white",
          "width": 2
         },
         "mode": "markers",
         "name": "Find Your Voice",
         "type": "scatter",
         "x": [
          157
         ],
         "y": [
          0
         ]
        },
        {
         "line": {
          "color": "red",
          "width": 2
         },
         "mode": "markers",
         "name": "In the Life of Music",
         "type": "scatter",
         "x": [
          112
         ],
         "y": [
          0
         ]
        },
        {
         "line": {
          "color": "blue",
          "width": 2
         },
         "mode": "markers",
         "name": "Elf2020 Re-release",
         "type": "scatter",
         "x": [
          430000
         ],
         "y": [
          0
         ]
        },
        {
         "line": {
          "color": "orange",
          "width": 2
         },
         "mode": "markers",
         "name": "The War with Grandpa",
         "type": "scatter",
         "x": [
          1009656
         ],
         "y": [
          346917
         ]
        },
        {
         "line": {
          "color": "white",
          "width": 2
         },
         "mode": "markers",
         "name": "Honest Thief",
         "type": "scatter",
         "x": [
          537113
         ],
         "y": [
          146832
         ]
        },
        {
         "line": {
          "color": "red",
          "width": 2
         },
         "mode": "markers",
         "name": "Freaky",
         "type": "scatter",
         "x": [
          1389310
         ],
         "y": [
          578585
         ]
        },
        {
         "line": {
          "color": "blue",
          "width": 2
         },
         "mode": "markers",
         "name": "The Santa Clause2020 Re-release",
         "type": "scatter",
         "x": [
          245000
         ],
         "y": [
          0
         ]
        },
        {
         "line": {
          "color": "orange",
          "width": 2
         },
         "mode": "markers",
         "name": "Last Call",
         "type": "scatter",
         "x": [
          2994
         ],
         "y": [
          1120
         ]
        },
        {
         "line": {
          "color": "white",
          "width": 2
         },
         "mode": "markers",
         "name": "The Shade Shepherd",
         "type": "scatter",
         "x": [
          101
         ],
         "y": [
          0
         ]
        },
        {
         "line": {
          "color": "red",
          "width": 2
         },
         "mode": "markers",
         "name": "Frozen2020 Re-release",
         "type": "scatter",
         "x": [
          155000
         ],
         "y": [
          41000
         ]
        },
        {
         "line": {
          "color": "blue",
          "width": 2
         },
         "mode": "markers",
         "name": "Last Call",
         "type": "scatter",
         "x": [
          1120
         ],
         "y": [
          0
         ]
        },
        {
         "line": {
          "color": "orange",
          "width": 2
         },
         "mode": "markers",
         "name": "The Empty Man",
         "type": "scatter",
         "x": [
          2889
         ],
         "y": [
          0
         ]
        },
        {
         "line": {
          "color": "white",
          "width": 2
         },
         "mode": "markers",
         "name": "Die Hard2020 Re-release",
         "type": "scatter",
         "x": [
          62000
         ],
         "y": [
          0
         ]
        },
        {
         "line": {
          "color": "red",
          "width": 2
         },
         "mode": "markers",
         "name": "Honest Thief",
         "type": "scatter",
         "x": [
          146832
         ],
         "y": [
          0
         ]
        },
        {
         "line": {
          "color": "blue",
          "width": 2
         },
         "mode": "markers",
         "name": "2 Hearts",
         "type": "scatter",
         "x": [
          657
         ],
         "y": [
          0
         ]
        },
        {
         "line": {
          "color": "orange",
          "width": 2
         },
         "mode": "markers",
         "name": "The Croods: A New Age",
         "type": "scatter",
         "x": [
          4785955
         ],
         "y": [
          0
         ]
        },
        {
         "line": {
          "color": "white",
          "width": 2
         },
         "mode": "markers",
         "name": "All My Life",
         "type": "scatter",
         "x": [
          280000
         ],
         "y": [
          0
         ]
        },
        {
         "line": {
          "color": "red",
          "width": 2
         },
         "mode": "markers",
         "name": "Vanguard",
         "type": "scatter",
         "x": [
          27390
         ],
         "y": [
          0
         ]
        },
        {
         "line": {
          "color": "blue",
          "width": 2
         },
         "mode": "markers",
         "name": "The Forgotten Carols",
         "type": "scatter",
         "x": [
          36180
         ],
         "y": [
          0
         ]
        },
        {
         "line": {
          "color": "orange",
          "width": 2
         },
         "mode": "markers",
         "name": "The Climb",
         "type": "scatter",
         "x": [
          2148
         ],
         "y": [
          0
         ]
        },
        {
         "line": {
          "color": "white",
          "width": 2
         },
         "mode": "markers",
         "name": "The Last Vermeer",
         "type": "scatter",
         "x": [
          54065
         ],
         "y": [
          0
         ]
        },
        {
         "line": {
          "color": "red",
          "width": 2
         },
         "mode": "markers",
         "name": "Frozen2020 Re-release",
         "type": "scatter",
         "x": [
          41000
         ],
         "y": [
          0
         ]
        },
        {
         "line": {
          "color": "blue",
          "width": 2
         },
         "mode": "markers",
         "name": "Buddy Games",
         "type": "scatter",
         "x": [
          36914
         ],
         "y": [
          0
         ]
        },
        {
         "line": {
          "color": "orange",
          "width": 2
         },
         "mode": "markers",
         "name": "The Grinch",
         "type": "scatter",
         "x": [
          46000
         ],
         "y": [
          0
         ]
        },
        {
         "line": {
          "color": "white",
          "width": 2
         },
         "mode": "markers",
         "name": "Freaky",
         "type": "scatter",
         "x": [
          578585
         ],
         "y": [
          0
         ]
        },
        {
         "line": {
          "color": "red",
          "width": 2
         },
         "mode": "markers",
         "name": "Come Away",
         "type": "scatter",
         "x": [
          1418
         ],
         "y": [
          0
         ]
        },
        {
         "line": {
          "color": "blue",
          "width": 2
         },
         "mode": "markers",
         "name": "Stardust",
         "type": "scatter",
         "x": [
          1749
         ],
         "y": [
          0
         ]
        },
        {
         "line": {
          "color": "orange",
          "width": 2
         },
         "mode": "markers",
         "name": "The War with Grandpa",
         "type": "scatter",
         "x": [
          346917
         ],
         "y": [
          0
         ]
        },
        {
         "line": {
          "color": "white",
          "width": 2
         },
         "mode": "markers",
         "name": "Come Play",
         "type": "scatter",
         "x": [
          265035
         ],
         "y": [
          0
         ]
        },
        {
         "line": {
          "color": "red",
          "width": 2
         },
         "mode": "markers",
         "name": "Embattled",
         "type": "scatter",
         "x": [
          1197
         ],
         "y": [
          0
         ]
        },
        {
         "line": {
          "color": "blue",
          "width": 2
         },
         "mode": "markers",
         "name": "Let Him Go",
         "type": "scatter",
         "x": [
          268275
         ],
         "y": [
          0
         ]
        },
        {
         "line": {
          "color": "orange",
          "width": 2
         },
         "mode": "markers",
         "name": "Half Brothers",
         "type": "scatter",
         "x": [
          470000
         ],
         "y": [
          0
         ]
        },
        {
         "line": {
          "color": "white",
          "width": 2
         },
         "mode": "markers",
         "name": "The New Mutants",
         "type": "scatter",
         "x": [
          3128
         ],
         "y": [
          0
         ]
        }
       ],
       "layout": {
        "paper_bgcolor": "#23272c",
        "plot_bgcolor": "#23272c",
        "template": {
         "data": {
          "bar": [
           {
            "error_x": {
             "color": "#f2f5fa"
            },
            "error_y": {
             "color": "#f2f5fa"
            },
            "marker": {
             "line": {
              "color": "rgb(17,17,17)",
              "width": 0.5
             }
            },
            "type": "bar"
           }
          ],
          "barpolar": [
           {
            "marker": {
             "line": {
              "color": "rgb(17,17,17)",
              "width": 0.5
             }
            },
            "type": "barpolar"
           }
          ],
          "carpet": [
           {
            "aaxis": {
             "endlinecolor": "#A2B1C6",
             "gridcolor": "#506784",
             "linecolor": "#506784",
             "minorgridcolor": "#506784",
             "startlinecolor": "#A2B1C6"
            },
            "baxis": {
             "endlinecolor": "#A2B1C6",
             "gridcolor": "#506784",
             "linecolor": "#506784",
             "minorgridcolor": "#506784",
             "startlinecolor": "#A2B1C6"
            },
            "type": "carpet"
           }
          ],
          "choropleth": [
           {
            "colorbar": {
             "outlinewidth": 0,
             "ticks": ""
            },
            "type": "choropleth"
           }
          ],
          "contour": [
           {
            "colorbar": {
             "outlinewidth": 0,
             "ticks": ""
            },
            "colorscale": [
             [
              0,
              "#0d0887"
             ],
             [
              0.1111111111111111,
              "#46039f"
             ],
             [
              0.2222222222222222,
              "#7201a8"
             ],
             [
              0.3333333333333333,
              "#9c179e"
             ],
             [
              0.4444444444444444,
              "#bd3786"
             ],
             [
              0.5555555555555556,
              "#d8576b"
             ],
             [
              0.6666666666666666,
              "#ed7953"
             ],
             [
              0.7777777777777778,
              "#fb9f3a"
             ],
             [
              0.8888888888888888,
              "#fdca26"
             ],
             [
              1,
              "#f0f921"
             ]
            ],
            "type": "contour"
           }
          ],
          "contourcarpet": [
           {
            "colorbar": {
             "outlinewidth": 0,
             "ticks": ""
            },
            "type": "contourcarpet"
           }
          ],
          "heatmap": [
           {
            "colorbar": {
             "outlinewidth": 0,
             "ticks": ""
            },
            "colorscale": [
             [
              0,
              "#0d0887"
             ],
             [
              0.1111111111111111,
              "#46039f"
             ],
             [
              0.2222222222222222,
              "#7201a8"
             ],
             [
              0.3333333333333333,
              "#9c179e"
             ],
             [
              0.4444444444444444,
              "#bd3786"
             ],
             [
              0.5555555555555556,
              "#d8576b"
             ],
             [
              0.6666666666666666,
              "#ed7953"
             ],
             [
              0.7777777777777778,
              "#fb9f3a"
             ],
             [
              0.8888888888888888,
              "#fdca26"
             ],
             [
              1,
              "#f0f921"
             ]
            ],
            "type": "heatmap"
           }
          ],
          "heatmapgl": [
           {
            "colorbar": {
             "outlinewidth": 0,
             "ticks": ""
            },
            "colorscale": [
             [
              0,
              "#0d0887"
             ],
             [
              0.1111111111111111,
              "#46039f"
             ],
             [
              0.2222222222222222,
              "#7201a8"
             ],
             [
              0.3333333333333333,
              "#9c179e"
             ],
             [
              0.4444444444444444,
              "#bd3786"
             ],
             [
              0.5555555555555556,
              "#d8576b"
             ],
             [
              0.6666666666666666,
              "#ed7953"
             ],
             [
              0.7777777777777778,
              "#fb9f3a"
             ],
             [
              0.8888888888888888,
              "#fdca26"
             ],
             [
              1,
              "#f0f921"
             ]
            ],
            "type": "heatmapgl"
           }
          ],
          "histogram": [
           {
            "marker": {
             "colorbar": {
              "outlinewidth": 0,
              "ticks": ""
             }
            },
            "type": "histogram"
           }
          ],
          "histogram2d": [
           {
            "colorbar": {
             "outlinewidth": 0,
             "ticks": ""
            },
            "colorscale": [
             [
              0,
              "#0d0887"
             ],
             [
              0.1111111111111111,
              "#46039f"
             ],
             [
              0.2222222222222222,
              "#7201a8"
             ],
             [
              0.3333333333333333,
              "#9c179e"
             ],
             [
              0.4444444444444444,
              "#bd3786"
             ],
             [
              0.5555555555555556,
              "#d8576b"
             ],
             [
              0.6666666666666666,
              "#ed7953"
             ],
             [
              0.7777777777777778,
              "#fb9f3a"
             ],
             [
              0.8888888888888888,
              "#fdca26"
             ],
             [
              1,
              "#f0f921"
             ]
            ],
            "type": "histogram2d"
           }
          ],
          "histogram2dcontour": [
           {
            "colorbar": {
             "outlinewidth": 0,
             "ticks": ""
            },
            "colorscale": [
             [
              0,
              "#0d0887"
             ],
             [
              0.1111111111111111,
              "#46039f"
             ],
             [
              0.2222222222222222,
              "#7201a8"
             ],
             [
              0.3333333333333333,
              "#9c179e"
             ],
             [
              0.4444444444444444,
              "#bd3786"
             ],
             [
              0.5555555555555556,
              "#d8576b"
             ],
             [
              0.6666666666666666,
              "#ed7953"
             ],
             [
              0.7777777777777778,
              "#fb9f3a"
             ],
             [
              0.8888888888888888,
              "#fdca26"
             ],
             [
              1,
              "#f0f921"
             ]
            ],
            "type": "histogram2dcontour"
           }
          ],
          "mesh3d": [
           {
            "colorbar": {
             "outlinewidth": 0,
             "ticks": ""
            },
            "type": "mesh3d"
           }
          ],
          "parcoords": [
           {
            "line": {
             "colorbar": {
              "outlinewidth": 0,
              "ticks": ""
             }
            },
            "type": "parcoords"
           }
          ],
          "pie": [
           {
            "automargin": true,
            "type": "pie"
           }
          ],
          "scatter": [
           {
            "marker": {
             "line": {
              "color": "#283442"
             }
            },
            "type": "scatter"
           }
          ],
          "scatter3d": [
           {
            "line": {
             "colorbar": {
              "outlinewidth": 0,
              "ticks": ""
             }
            },
            "marker": {
             "colorbar": {
              "outlinewidth": 0,
              "ticks": ""
             }
            },
            "type": "scatter3d"
           }
          ],
          "scattercarpet": [
           {
            "marker": {
             "colorbar": {
              "outlinewidth": 0,
              "ticks": ""
             }
            },
            "type": "scattercarpet"
           }
          ],
          "scattergeo": [
           {
            "marker": {
             "colorbar": {
              "outlinewidth": 0,
              "ticks": ""
             }
            },
            "type": "scattergeo"
           }
          ],
          "scattergl": [
           {
            "marker": {
             "line": {
              "color": "#283442"
             }
            },
            "type": "scattergl"
           }
          ],
          "scattermapbox": [
           {
            "marker": {
             "colorbar": {
              "outlinewidth": 0,
              "ticks": ""
             }
            },
            "type": "scattermapbox"
           }
          ],
          "scatterpolar": [
           {
            "marker": {
             "colorbar": {
              "outlinewidth": 0,
              "ticks": ""
             }
            },
            "type": "scatterpolar"
           }
          ],
          "scatterpolargl": [
           {
            "marker": {
             "colorbar": {
              "outlinewidth": 0,
              "ticks": ""
             }
            },
            "type": "scatterpolargl"
           }
          ],
          "scatterternary": [
           {
            "marker": {
             "colorbar": {
              "outlinewidth": 0,
              "ticks": ""
             }
            },
            "type": "scatterternary"
           }
          ],
          "surface": [
           {
            "colorbar": {
             "outlinewidth": 0,
             "ticks": ""
            },
            "colorscale": [
             [
              0,
              "#0d0887"
             ],
             [
              0.1111111111111111,
              "#46039f"
             ],
             [
              0.2222222222222222,
              "#7201a8"
             ],
             [
              0.3333333333333333,
              "#9c179e"
             ],
             [
              0.4444444444444444,
              "#bd3786"
             ],
             [
              0.5555555555555556,
              "#d8576b"
             ],
             [
              0.6666666666666666,
              "#ed7953"
             ],
             [
              0.7777777777777778,
              "#fb9f3a"
             ],
             [
              0.8888888888888888,
              "#fdca26"
             ],
             [
              1,
              "#f0f921"
             ]
            ],
            "type": "surface"
           }
          ],
          "table": [
           {
            "cells": {
             "fill": {
              "color": "#506784"
             },
             "line": {
              "color": "rgb(17,17,17)"
             }
            },
            "header": {
             "fill": {
              "color": "#2a3f5f"
             },
             "line": {
              "color": "rgb(17,17,17)"
             }
            },
            "type": "table"
           }
          ]
         },
         "layout": {
          "annotationdefaults": {
           "arrowcolor": "#f2f5fa",
           "arrowhead": 0,
           "arrowwidth": 1
          },
          "coloraxis": {
           "colorbar": {
            "outlinewidth": 0,
            "ticks": ""
           }
          },
          "colorscale": {
           "diverging": [
            [
             0,
             "#8e0152"
            ],
            [
             0.1,
             "#c51b7d"
            ],
            [
             0.2,
             "#de77ae"
            ],
            [
             0.3,
             "#f1b6da"
            ],
            [
             0.4,
             "#fde0ef"
            ],
            [
             0.5,
             "#f7f7f7"
            ],
            [
             0.6,
             "#e6f5d0"
            ],
            [
             0.7,
             "#b8e186"
            ],
            [
             0.8,
             "#7fbc41"
            ],
            [
             0.9,
             "#4d9221"
            ],
            [
             1,
             "#276419"
            ]
           ],
           "sequential": [
            [
             0,
             "#0d0887"
            ],
            [
             0.1111111111111111,
             "#46039f"
            ],
            [
             0.2222222222222222,
             "#7201a8"
            ],
            [
             0.3333333333333333,
             "#9c179e"
            ],
            [
             0.4444444444444444,
             "#bd3786"
            ],
            [
             0.5555555555555556,
             "#d8576b"
            ],
            [
             0.6666666666666666,
             "#ed7953"
            ],
            [
             0.7777777777777778,
             "#fb9f3a"
            ],
            [
             0.8888888888888888,
             "#fdca26"
            ],
            [
             1,
             "#f0f921"
            ]
           ],
           "sequentialminus": [
            [
             0,
             "#0d0887"
            ],
            [
             0.1111111111111111,
             "#46039f"
            ],
            [
             0.2222222222222222,
             "#7201a8"
            ],
            [
             0.3333333333333333,
             "#9c179e"
            ],
            [
             0.4444444444444444,
             "#bd3786"
            ],
            [
             0.5555555555555556,
             "#d8576b"
            ],
            [
             0.6666666666666666,
             "#ed7953"
            ],
            [
             0.7777777777777778,
             "#fb9f3a"
            ],
            [
             0.8888888888888888,
             "#fdca26"
            ],
            [
             1,
             "#f0f921"
            ]
           ]
          },
          "colorway": [
           "#636efa",
           "#EF553B",
           "#00cc96",
           "#ab63fa",
           "#FFA15A",
           "#19d3f3",
           "#FF6692",
           "#B6E880",
           "#FF97FF",
           "#FECB52"
          ],
          "font": {
           "color": "#f2f5fa"
          },
          "geo": {
           "bgcolor": "rgb(17,17,17)",
           "lakecolor": "rgb(17,17,17)",
           "landcolor": "rgb(17,17,17)",
           "showlakes": true,
           "showland": true,
           "subunitcolor": "#506784"
          },
          "hoverlabel": {
           "align": "left"
          },
          "hovermode": "closest",
          "mapbox": {
           "style": "dark"
          },
          "paper_bgcolor": "rgb(17,17,17)",
          "plot_bgcolor": "rgb(17,17,17)",
          "polar": {
           "angularaxis": {
            "gridcolor": "#506784",
            "linecolor": "#506784",
            "ticks": ""
           },
           "bgcolor": "rgb(17,17,17)",
           "radialaxis": {
            "gridcolor": "#506784",
            "linecolor": "#506784",
            "ticks": ""
           }
          },
          "scene": {
           "xaxis": {
            "backgroundcolor": "rgb(17,17,17)",
            "gridcolor": "#506784",
            "gridwidth": 2,
            "linecolor": "#506784",
            "showbackground": true,
            "ticks": "",
            "zerolinecolor": "#C8D4E3"
           },
           "yaxis": {
            "backgroundcolor": "rgb(17,17,17)",
            "gridcolor": "#506784",
            "gridwidth": 2,
            "linecolor": "#506784",
            "showbackground": true,
            "ticks": "",
            "zerolinecolor": "#C8D4E3"
           },
           "zaxis": {
            "backgroundcolor": "rgb(17,17,17)",
            "gridcolor": "#506784",
            "gridwidth": 2,
            "linecolor": "#506784",
            "showbackground": true,
            "ticks": "",
            "zerolinecolor": "#C8D4E3"
           }
          },
          "shapedefaults": {
           "line": {
            "color": "#f2f5fa"
           }
          },
          "sliderdefaults": {
           "bgcolor": "#C8D4E3",
           "bordercolor": "rgb(17,17,17)",
           "borderwidth": 1,
           "tickwidth": 0
          },
          "ternary": {
           "aaxis": {
            "gridcolor": "#506784",
            "linecolor": "#506784",
            "ticks": ""
           },
           "baxis": {
            "gridcolor": "#506784",
            "linecolor": "#506784",
            "ticks": ""
           },
           "bgcolor": "rgb(17,17,17)",
           "caxis": {
            "gridcolor": "#506784",
            "linecolor": "#506784",
            "ticks": ""
           }
          },
          "title": {
           "x": 0.05
          },
          "updatemenudefaults": {
           "bgcolor": "#506784",
           "borderwidth": 0
          },
          "xaxis": {
           "automargin": true,
           "gridcolor": "#283442",
           "linecolor": "#506784",
           "ticks": "",
           "title": {
            "standoff": 15
           },
           "zerolinecolor": "#283442",
           "zerolinewidth": 2
          },
          "yaxis": {
           "automargin": true,
           "gridcolor": "#283442",
           "linecolor": "#506784",
           "ticks": "",
           "title": {
            "standoff": 15
           },
           "zerolinecolor": "#283442",
           "zerolinewidth": 2
          }
         }
        },
        "title": {
         "text": "Weekly vs Week + 1: Correlation = 0.8697401671869476"
        },
        "xaxis": {
         "title": {
          "text": "Week + 1"
         }
        },
        "yaxis": {
         "title": {
          "text": "Weekly Gross"
         }
        }
       }
      },
      "text/html": [
       "<div>                            <div id=\"305eb6ea-d773-4c8a-abdf-b9582e0a7fbe\" class=\"plotly-graph-div\" style=\"height:525px; width:100%;\"></div>            <script type=\"text/javascript\">                require([\"plotly\"], function(Plotly) {                    window.PLOTLYENV=window.PLOTLYENV || {};                                    if (document.getElementById(\"305eb6ea-d773-4c8a-abdf-b9582e0a7fbe\")) {                    Plotly.newPlot(                        \"305eb6ea-d773-4c8a-abdf-b9582e0a7fbe\",                        [{\"line\": {\"color\": \"red\", \"width\": 2}, \"mode\": \"markers\", \"name\": \"The Secrets We Keep\", \"type\": \"scatter\", \"x\": [2212.0], \"y\": [0.0]}, {\"line\": {\"color\": \"blue\", \"width\": 2}, \"mode\": \"markers\", \"name\": \"No Escape\", \"type\": \"scatter\", \"x\": [10594.0], \"y\": [5910.0]}, {\"line\": {\"color\": \"orange\", \"width\": 2}, \"mode\": \"markers\", \"name\": \"Ava\", \"type\": \"scatter\", \"x\": [86490.0], \"y\": [39759.0]}, {\"line\": {\"color\": \"white\", \"width\": 2}, \"mode\": \"markers\", \"name\": \"My Brothers' Crossing\", \"type\": \"scatter\", \"x\": [1343.0], \"y\": [306.0]}, {\"line\": {\"color\": \"red\", \"width\": 2}, \"mode\": \"markers\", \"name\": \"Tulsa\", \"type\": \"scatter\", \"x\": [19676.0], \"y\": [7685.0]}, {\"line\": {\"color\": \"blue\", \"width\": 2}, \"mode\": \"markers\", \"name\": \"Bill & Ted Face the Music\", \"type\": \"scatter\", \"x\": [87855.0], \"y\": [12352.0]}, {\"line\": {\"color\": \"orange\", \"width\": 2}, \"mode\": \"markers\", \"name\": \"The New Mutants\", \"type\": \"scatter\", \"x\": [1055664.0], \"y\": [712921.0]}, {\"line\": {\"color\": \"white\", \"width\": 2}, \"mode\": \"markers\", \"name\": \"Unhinged\", \"type\": \"scatter\", \"x\": [996172.0], \"y\": [661309.0]}, {\"line\": {\"color\": \"red\", \"width\": 2}, \"mode\": \"markers\", \"name\": \"Kajillionaire\", \"type\": \"scatter\", \"x\": [82645.0], \"y\": [31940.0]}, {\"line\": {\"color\": \"blue\", \"width\": 2}, \"mode\": \"markers\", \"name\": \"Possessor\", \"type\": \"scatter\", \"x\": [264534.0], \"y\": [143954.0]}, {\"line\": {\"color\": \"orange\", \"width\": 2}, \"mode\": \"markers\", \"name\": \"Infidel\", \"type\": \"scatter\", \"x\": [387576.0], \"y\": [150540.0]}, {\"line\": {\"color\": \"white\", \"width\": 2}, \"mode\": \"markers\", \"name\": \"Coco\", \"type\": \"scatter\", \"x\": [603000.0], \"y\": [131000.0]}, {\"line\": {\"color\": \"red\", \"width\": 2}, \"mode\": \"markers\", \"name\": \"The SpongeBob Movie: Sponge on the Run\", \"type\": \"scatter\", \"x\": [75090.0], \"y\": [69201.0]}, {\"line\": {\"color\": \"blue\", \"width\": 2}, \"mode\": \"markers\", \"name\": \"Hocus Pocus2020 Re-release\", \"type\": \"scatter\", \"x\": [1161000.0], \"y\": [756000.0]}, {\"line\": {\"color\": \"orange\", \"width\": 2}, \"mode\": \"markers\", \"name\": \"Henchmen2020 Re-release\", \"type\": \"scatter\", \"x\": [30223.0], \"y\": [17177.0]}, {\"line\": {\"color\": \"white\", \"width\": 2}, \"mode\": \"markers\", \"name\": \"Heaven\", \"type\": \"scatter\", \"x\": [10935.0], \"y\": [18899.0]}, {\"line\": {\"color\": \"red\", \"width\": 2}, \"mode\": \"markers\", \"name\": \"The War with Grandpa\", \"type\": \"scatter\", \"x\": [3623880.0], \"y\": [3636975.0]}, {\"line\": {\"color\": \"blue\", \"width\": 2}, \"mode\": \"markers\", \"name\": \"Foster Boy\", \"type\": \"scatter\", \"x\": [10.0], \"y\": [0.0]}, {\"line\": {\"color\": \"orange\", \"width\": 2}, \"mode\": \"markers\", \"name\": \"The Wolf of Snow Hollow\", \"type\": \"scatter\", \"x\": [91943.0], \"y\": [76665.0]}, {\"line\": {\"color\": \"white\", \"width\": 2}, \"mode\": \"markers\", \"name\": \"The Personal History of David Copperfield\", \"type\": \"scatter\", \"x\": [21712.0], \"y\": [8533.0]}, {\"line\": {\"color\": \"red\", \"width\": 2}, \"mode\": \"markers\", \"name\": \"Words on Bathroom Walls\", \"type\": \"scatter\", \"x\": [60919.0], \"y\": [22995.0]}, {\"line\": {\"color\": \"blue\", \"width\": 2}, \"mode\": \"markers\", \"name\": \"Dreaming Grand Avenue\", \"type\": \"scatter\", \"x\": [101.0], \"y\": [36.0]}, {\"line\": {\"color\": \"orange\", \"width\": 2}, \"mode\": \"markers\", \"name\": \"Pray: The Story of Patrick Peyton\", \"type\": \"scatter\", \"x\": [24397.0], \"y\": [20385.0]}, {\"line\": {\"color\": \"white\", \"width\": 2}, \"mode\": \"markers\", \"name\": \"The Call\", \"type\": \"scatter\", \"x\": [139081.0], \"y\": [88555.0]}, {\"line\": {\"color\": \"red\", \"width\": 2}, \"mode\": \"markers\", \"name\": \"The Broken Hearts Gallery\", \"type\": \"scatter\", \"x\": [214015.0], \"y\": [60054.0]}, {\"line\": {\"color\": \"blue\", \"width\": 2}, \"mode\": \"markers\", \"name\": \"Yellow Rose\", \"type\": \"scatter\", \"x\": [150330.0], \"y\": [140059.0]}, {\"line\": {\"color\": \"orange\", \"width\": 2}, \"mode\": \"markers\", \"name\": \"A Call to Spy\", \"type\": \"scatter\", \"x\": [44250.0], \"y\": [23932.0]}, {\"line\": {\"color\": \"white\", \"width\": 2}, \"mode\": \"markers\", \"name\": \"Shortcut\", \"type\": \"scatter\", \"x\": [103773.0], \"y\": [28879.0]}, {\"line\": {\"color\": \"red\", \"width\": 2}, \"mode\": \"markers\", \"name\": \"She Dies Tomorrow\", \"type\": \"scatter\", \"x\": [18968.0], \"y\": [15482.0]}, {\"line\": {\"color\": \"blue\", \"width\": 2}, \"mode\": \"markers\", \"name\": \"Star Wars: Episode V - The Empire Strikes Back2020 Re-release\", \"type\": \"scatter\", \"x\": [145000.0], \"y\": [79000.0]}, {\"line\": {\"color\": \"orange\", \"width\": 2}, \"mode\": \"markers\", \"name\": \"Save Yourselves!\", \"type\": \"scatter\", \"x\": [113701.0], \"y\": [39664.0]}, {\"line\": {\"color\": \"white\", \"width\": 2}, \"mode\": \"markers\", \"name\": \"The Last Shift\", \"type\": \"scatter\", \"x\": [102433.0], \"y\": [22022.0]}, {\"line\": {\"color\": \"red\", \"width\": 2}, \"mode\": \"markers\", \"name\": \"Save Yourselves!\", \"type\": \"scatter\", \"x\": [39664.0], \"y\": [3855.0]}, {\"line\": {\"color\": \"blue\", \"width\": 2}, \"mode\": \"markers\", \"name\": \"Dreaming Grand Avenue\", \"type\": \"scatter\", \"x\": [36.0], \"y\": [964.0]}, {\"line\": {\"color\": \"orange\", \"width\": 2}, \"mode\": \"markers\", \"name\": \"The Wolf of Snow Hollow\", \"type\": \"scatter\", \"x\": [76665.0], \"y\": [14632.0]}, {\"line\": {\"color\": \"white\", \"width\": 2}, \"mode\": \"markers\", \"name\": \"The Call\", \"type\": \"scatter\", \"x\": [88555.0], \"y\": [63839.0]}, {\"line\": {\"color\": \"red\", \"width\": 2}, \"mode\": \"markers\", \"name\": \"Pray: The Story of Patrick Peyton\", \"type\": \"scatter\", \"x\": [20385.0], \"y\": [11459.0]}, {\"line\": {\"color\": \"blue\", \"width\": 2}, \"mode\": \"markers\", \"name\": \"The War with Grandpa\", \"type\": \"scatter\", \"x\": [3636975.0], \"y\": [2489361.0]}, {\"line\": {\"color\": \"orange\", \"width\": 2}, \"mode\": \"markers\", \"name\": \"The Broken Hearts Gallery\", \"type\": \"scatter\", \"x\": [60054.0], \"y\": [23776.0]}, {\"line\": {\"color\": \"white\", \"width\": 2}, \"mode\": \"markers\", \"name\": \"No Escape\", \"type\": \"scatter\", \"x\": [5910.0], \"y\": [3221.0]}, {\"line\": {\"color\": \"red\", \"width\": 2}, \"mode\": \"markers\", \"name\": \"Heaven\", \"type\": \"scatter\", \"x\": [18899.0], \"y\": [5019.0]}, {\"line\": {\"color\": \"blue\", \"width\": 2}, \"mode\": \"markers\", \"name\": \"The SpongeBob Movie: Sponge on the Run\", \"type\": \"scatter\", \"x\": [69201.0], \"y\": [44521.0]}, {\"line\": {\"color\": \"orange\", \"width\": 2}, \"mode\": \"markers\", \"name\": \"The Kid Detective\", \"type\": \"scatter\", \"x\": [140218.0], \"y\": [162473.0]}, {\"line\": {\"color\": \"white\", \"width\": 2}, \"mode\": \"markers\", \"name\": \"Henchmen2020 Re-release\", \"type\": \"scatter\", \"x\": [17177.0], \"y\": [2276.0]}, {\"line\": {\"color\": \"red\", \"width\": 2}, \"mode\": \"markers\", \"name\": \"Star Wars: Episode V - The Empire Strikes Back2020 Re-release\", \"type\": \"scatter\", \"x\": [79000.0], \"y\": [0.0]}, {\"line\": {\"color\": \"blue\", \"width\": 2}, \"mode\": \"markers\", \"name\": \"Hocus Pocus2020 Re-release\", \"type\": \"scatter\", \"x\": [756000.0], \"y\": [530000.0]}, {\"line\": {\"color\": \"orange\", \"width\": 2}, \"mode\": \"markers\", \"name\": \"Honest Thief\", \"type\": \"scatter\", \"x\": [3607966.0], \"y\": [3364941.0]}, {\"line\": {\"color\": \"white\", \"width\": 2}, \"mode\": \"markers\", \"name\": \"The Last Shift\", \"type\": \"scatter\", \"x\": [22022.0], \"y\": [10493.0]}, {\"line\": {\"color\": \"red\", \"width\": 2}, \"mode\": \"markers\", \"name\": \"The Personal History of David Copperfield\", \"type\": \"scatter\", \"x\": [8533.0], \"y\": [2273.0]}, {\"line\": {\"color\": \"blue\", \"width\": 2}, \"mode\": \"markers\", \"name\": \"Possessor\", \"type\": \"scatter\", \"x\": [143954.0], \"y\": [53946.0]}, {\"line\": {\"color\": \"orange\", \"width\": 2}, \"mode\": \"markers\", \"name\": \"Shortcut\", \"type\": \"scatter\", \"x\": [28879.0], \"y\": [5237.0]}, {\"line\": {\"color\": \"white\", \"width\": 2}, \"mode\": \"markers\", \"name\": \"Infidel\", \"type\": \"scatter\", \"x\": [150540.0], \"y\": [53317.0]}, {\"line\": {\"color\": \"red\", \"width\": 2}, \"mode\": \"markers\", \"name\": \"The Nightmare Before Christmas2020 Re-release\", \"type\": \"scatter\", \"x\": [1323000.0], \"y\": [577000.0]}, {\"line\": {\"color\": \"blue\", \"width\": 2}, \"mode\": \"markers\", \"name\": \"My Brothers' Crossing\", \"type\": \"scatter\", \"x\": [306.0], \"y\": [0.0]}, {\"line\": {\"color\": \"orange\", \"width\": 2}, \"mode\": \"markers\", \"name\": \"Shithouse\", \"type\": \"scatter\", \"x\": [5545.0], \"y\": [9559.0]}, {\"line\": {\"color\": \"white\", \"width\": 2}, \"mode\": \"markers\", \"name\": \"Kajillionaire\", \"type\": \"scatter\", \"x\": [31940.0], \"y\": [7440.0]}, {\"line\": {\"color\": \"red\", \"width\": 2}, \"mode\": \"markers\", \"name\": \"The New Mutants\", \"type\": \"scatter\", \"x\": [712921.0], \"y\": [425312.0]}, {\"line\": {\"color\": \"blue\", \"width\": 2}, \"mode\": \"markers\", \"name\": \"She Dies Tomorrow\", \"type\": \"scatter\", \"x\": [15482.0], \"y\": [10353.0]}, {\"line\": {\"color\": \"orange\", \"width\": 2}, \"mode\": \"markers\", \"name\": \"Love and Monsters\", \"type\": \"scatter\", \"x\": [270302.0], \"y\": [308776.0]}, {\"line\": {\"color\": \"white\", \"width\": 2}, \"mode\": \"markers\", \"name\": \"Mermaid in Paris\", \"type\": \"scatter\", \"x\": [1202.0], \"y\": [786.0]}, {\"line\": {\"color\": \"red\", \"width\": 2}, \"mode\": \"markers\", \"name\": \"Lupin III: The First\", \"type\": \"scatter\", \"x\": [83295.0], \"y\": [50890.0]}, {\"line\": {\"color\": \"blue\", \"width\": 2}, \"mode\": \"markers\", \"name\": \"2 Hearts\", \"type\": \"scatter\", \"x\": [522937.0], \"y\": [466255.0]}, {\"line\": {\"color\": \"orange\", \"width\": 2}, \"mode\": \"markers\", \"name\": \"Tulsa\", \"type\": \"scatter\", \"x\": [7685.0], \"y\": [1753.0]}, {\"line\": {\"color\": \"white\", \"width\": 2}, \"mode\": \"markers\", \"name\": \"Bump Kowalski and the Ten Commandments\", \"type\": \"scatter\", \"x\": [256.0], \"y\": [0.0]}, {\"line\": {\"color\": \"red\", \"width\": 2}, \"mode\": \"markers\", \"name\": \"Unhinged\", \"type\": \"scatter\", \"x\": [661309.0], \"y\": [397372.0]}, {\"line\": {\"color\": \"blue\", \"width\": 2}, \"mode\": \"markers\", \"name\": \"Twiceborn\", \"type\": \"scatter\", \"x\": [5217.0], \"y\": [4186.0]}, {\"line\": {\"color\": \"orange\", \"width\": 2}, \"mode\": \"markers\", \"name\": \"Bill & Ted Face the Music\", \"type\": \"scatter\", \"x\": [12352.0], \"y\": [3655.0]}, {\"line\": {\"color\": \"white\", \"width\": 2}, \"mode\": \"markers\", \"name\": \"Ava\", \"type\": \"scatter\", \"x\": [39759.0], \"y\": [19452.0]}, {\"line\": {\"color\": \"red\", \"width\": 2}, \"mode\": \"markers\", \"name\": \"Counter Column\", \"type\": \"scatter\", \"x\": [6455.0], \"y\": [5236.0]}, {\"line\": {\"color\": \"blue\", \"width\": 2}, \"mode\": \"markers\", \"name\": \"A Call to Spy\", \"type\": \"scatter\", \"x\": [23932.0], \"y\": [15944.0]}, {\"line\": {\"color\": \"orange\", \"width\": 2}, \"mode\": \"markers\", \"name\": \"Words on Bathroom Walls\", \"type\": \"scatter\", \"x\": [22995.0], \"y\": [7085.0]}, {\"line\": {\"color\": \"white\", \"width\": 2}, \"mode\": \"markers\", \"name\": \"Coco\", \"type\": \"scatter\", \"x\": [131000.0], \"y\": [0.0]}, {\"line\": {\"color\": \"red\", \"width\": 2}, \"mode\": \"markers\", \"name\": \"Yellow Rose\", \"type\": \"scatter\", \"x\": [140059.0], \"y\": [38979.0]}, {\"line\": {\"color\": \"blue\", \"width\": 2}, \"mode\": \"markers\", \"name\": \"The Nightmare Before Christmas2020 Re-release\", \"type\": \"scatter\", \"x\": [577000.0], \"y\": [386000.0]}, {\"line\": {\"color\": \"orange\", \"width\": 2}, \"mode\": \"markers\", \"name\": \"The Call\", \"type\": \"scatter\", \"x\": [63839.0], \"y\": [47866.0]}, {\"line\": {\"color\": \"white\", \"width\": 2}, \"mode\": \"markers\", \"name\": \"2 Hearts\", \"type\": \"scatter\", \"x\": [466255.0], \"y\": [205570.0]}, {\"line\": {\"color\": \"red\", \"width\": 2}, \"mode\": \"markers\", \"name\": \"Kajillionaire\", \"type\": \"scatter\", \"x\": [7440.0], \"y\": [0.0]}, {\"line\": {\"color\": \"blue\", \"width\": 2}, \"mode\": \"markers\", \"name\": \"The New Mutants\", \"type\": \"scatter\", \"x\": [425312.0], \"y\": [243580.0]}, {\"line\": {\"color\": \"orange\", \"width\": 2}, \"mode\": \"markers\", \"name\": \"Unhinged\", \"type\": \"scatter\", \"x\": [397372.0], \"y\": [197986.0]}, {\"line\": {\"color\": \"white\", \"width\": 2}, \"mode\": \"markers\", \"name\": \"Bill & Ted Face the Music\", \"type\": \"scatter\", \"x\": [3655.0], \"y\": [0.0]}, {\"line\": {\"color\": \"red\", \"width\": 2}, \"mode\": \"markers\", \"name\": \"The Broken Hearts Gallery\", \"type\": \"scatter\", \"x\": [23776.0], \"y\": [11618.0]}, {\"line\": {\"color\": \"blue\", \"width\": 2}, \"mode\": \"markers\", \"name\": \"Yellow Rose\", \"type\": \"scatter\", \"x\": [38979.0], \"y\": [7485.0]}, {\"line\": {\"color\": \"orange\", \"width\": 2}, \"mode\": \"markers\", \"name\": \"Love and Monsters\", \"type\": \"scatter\", \"x\": [308776.0], \"y\": [194214.0]}, {\"line\": {\"color\": \"white\", \"width\": 2}, \"mode\": \"markers\", \"name\": \"Mermaid in Paris\", \"type\": \"scatter\", \"x\": [786.0], \"y\": [0.0]}, {\"line\": {\"color\": \"red\", \"width\": 2}, \"mode\": \"markers\", \"name\": \"Monsters Inc.2020 Re-release\", \"type\": \"scatter\", \"x\": [494000.0], \"y\": [232000.0]}, {\"line\": {\"color\": \"blue\", \"width\": 2}, \"mode\": \"markers\", \"name\": \"The Kid Detective\", \"type\": \"scatter\", \"x\": [162473.0], \"y\": [51554.0]}, {\"line\": {\"color\": \"orange\", \"width\": 2}, \"mode\": \"markers\", \"name\": \"The Last Shift\", \"type\": \"scatter\", \"x\": [10493.0], \"y\": [3411.0]}, {\"line\": {\"color\": \"white\", \"width\": 2}, \"mode\": \"markers\", \"name\": \"No Escape\", \"type\": \"scatter\", \"x\": [3221.0], \"y\": [1742.0]}, {\"line\": {\"color\": \"red\", \"width\": 2}, \"mode\": \"markers\", \"name\": \"Possessor\", \"type\": \"scatter\", \"x\": [53946.0], \"y\": [30698.0]}, {\"line\": {\"color\": \"blue\", \"width\": 2}, \"mode\": \"markers\", \"name\": \"Infidel\", \"type\": \"scatter\", \"x\": [53317.0], \"y\": [19436.0]}, {\"line\": {\"color\": \"orange\", \"width\": 2}, \"mode\": \"markers\", \"name\": \"Words on Bathroom Walls\", \"type\": \"scatter\", \"x\": [7085.0], \"y\": [2218.0]}, {\"line\": {\"color\": \"white\", \"width\": 2}, \"mode\": \"markers\", \"name\": \"Pray: The Story of Patrick Peyton\", \"type\": \"scatter\", \"x\": [11459.0], \"y\": [4331.0]}, {\"line\": {\"color\": \"red\", \"width\": 2}, \"mode\": \"markers\", \"name\": \"After We Collided\", \"type\": \"scatter\", \"x\": [422899.0], \"y\": [169429.0]}, {\"line\": {\"color\": \"blue\", \"width\": 2}, \"mode\": \"markers\", \"name\": \"Save Yourselves!\", \"type\": \"scatter\", \"x\": [3855.0], \"y\": [0.0]}, {\"line\": {\"color\": \"orange\", \"width\": 2}, \"mode\": \"markers\", \"name\": \"Stevie Nicks 24 Karat Gold the Concert\", \"type\": \"scatter\", \"x\": [404489.0], \"y\": [5776.0]}, {\"line\": {\"color\": \"white\", \"width\": 2}, \"mode\": \"markers\", \"name\": \"She Dies Tomorrow\", \"type\": \"scatter\", \"x\": [10353.0], \"y\": [10909.0]}, {\"line\": {\"color\": \"red\", \"width\": 2}, \"mode\": \"markers\", \"name\": \"Shithouse\", \"type\": \"scatter\", \"x\": [9559.0], \"y\": [2181.0]}, {\"line\": {\"color\": \"blue\", \"width\": 2}, \"mode\": \"markers\", \"name\": \"A Call to Spy\", \"type\": \"scatter\", \"x\": [15944.0], \"y\": [10840.0]}, {\"line\": {\"color\": \"orange\", \"width\": 2}, \"mode\": \"markers\", \"name\": \"Shortcut\", \"type\": \"scatter\", \"x\": [5237.0], \"y\": [0.0]}, {\"line\": {\"color\": \"white\", \"width\": 2}, \"mode\": \"markers\", \"name\": \"The Addams Family2020 Re-release\", \"type\": \"scatter\", \"x\": [282841.0], \"y\": [302696.0]}, {\"line\": {\"color\": \"red\", \"width\": 2}, \"mode\": \"markers\", \"name\": \"Ava\", \"type\": \"scatter\", \"x\": [19452.0], \"y\": [11810.0]}, {\"line\": {\"color\": \"blue\", \"width\": 2}, \"mode\": \"markers\", \"name\": \"Lupin III: The First\", \"type\": \"scatter\", \"x\": [50890.0], \"y\": [2183.0]}, {\"line\": {\"color\": \"orange\", \"width\": 2}, \"mode\": \"markers\", \"name\": \"The Empty Man\", \"type\": \"scatter\", \"x\": [1310326.0], \"y\": [974702.0]}, {\"line\": {\"color\": \"white\", \"width\": 2}, \"mode\": \"markers\", \"name\": \"Henchmen2020 Re-release\", \"type\": \"scatter\", \"x\": [2276.0], \"y\": [0.0]}, {\"line\": {\"color\": \"red\", \"width\": 2}, \"mode\": \"markers\", \"name\": \"Counter Column\", \"type\": \"scatter\", \"x\": [5236.0], \"y\": [2060.0]}, {\"line\": {\"color\": \"blue\", \"width\": 2}, \"mode\": \"markers\", \"name\": \"The SpongeBob Movie: Sponge on the Run\", \"type\": \"scatter\", \"x\": [44521.0], \"y\": [20611.0]}, {\"line\": {\"color\": \"orange\", \"width\": 2}, \"mode\": \"markers\", \"name\": \"The Personal History of David Copperfield\", \"type\": \"scatter\", \"x\": [2273.0], \"y\": [0.0]}, {\"line\": {\"color\": \"white\", \"width\": 2}, \"mode\": \"markers\", \"name\": \"Honest Thief\", \"type\": \"scatter\", \"x\": [3364941.0], \"y\": [2078045.0]}, {\"line\": {\"color\": \"red\", \"width\": 2}, \"mode\": \"markers\", \"name\": \"Twiceborn\", \"type\": \"scatter\", \"x\": [4186.0], \"y\": [1004.0]}, {\"line\": {\"color\": \"blue\", \"width\": 2}, \"mode\": \"markers\", \"name\": \"Dreaming Grand Avenue\", \"type\": \"scatter\", \"x\": [964.0], \"y\": [0.0]}, {\"line\": {\"color\": \"orange\", \"width\": 2}, \"mode\": \"markers\", \"name\": \"Hocus Pocus2020 Re-release\", \"type\": \"scatter\", \"x\": [530000.0], \"y\": [456000.0]}, {\"line\": {\"color\": \"white\", \"width\": 2}, \"mode\": \"markers\", \"name\": \"Heaven\", \"type\": \"scatter\", \"x\": [5019.0], \"y\": [1159.0]}, {\"line\": {\"color\": \"red\", \"width\": 2}, \"mode\": \"markers\", \"name\": \"Tulsa\", \"type\": \"scatter\", \"x\": [1753.0], \"y\": [1260.0]}, {\"line\": {\"color\": \"blue\", \"width\": 2}, \"mode\": \"markers\", \"name\": \"The War with Grandpa\", \"type\": \"scatter\", \"x\": [2489361.0], \"y\": [1728709.0]}, {\"line\": {\"color\": \"orange\", \"width\": 2}, \"mode\": \"markers\", \"name\": \"The Wolf of Snow Hollow\", \"type\": \"scatter\", \"x\": [14632.0], \"y\": [1786.0]}, {\"line\": {\"color\": \"white\", \"width\": 2}, \"mode\": \"markers\", \"name\": \"Unhinged\", \"type\": \"scatter\", \"x\": [197986.0], \"y\": [129664.0]}, {\"line\": {\"color\": \"red\", \"width\": 2}, \"mode\": \"markers\", \"name\": \"The Kid Detective\", \"type\": \"scatter\", \"x\": [51554.0], \"y\": [8938.0]}, {\"line\": {\"color\": \"blue\", \"width\": 2}, \"mode\": \"markers\", \"name\": \"Heaven\", \"type\": \"scatter\", \"x\": [1159.0], \"y\": [803.0]}, {\"line\": {\"color\": \"orange\", \"width\": 2}, \"mode\": \"markers\", \"name\": \"Stevie Nicks 24 Karat Gold the Concert\", \"type\": \"scatter\", \"x\": [5776.0], \"y\": [0.0]}, {\"line\": {\"color\": \"white\", \"width\": 2}, \"mode\": \"markers\", \"name\": \"Counter Column\", \"type\": \"scatter\", \"x\": [2060.0], \"y\": [756.0]}, {\"line\": {\"color\": \"red\", \"width\": 2}, \"mode\": \"markers\", \"name\": \"No Escape\", \"type\": \"scatter\", \"x\": [1742.0], \"y\": [465.0]}, {\"line\": {\"color\": \"blue\", \"width\": 2}, \"mode\": \"markers\", \"name\": \"Possessor\", \"type\": \"scatter\", \"x\": [30698.0], \"y\": [6318.0]}, {\"line\": {\"color\": \"orange\", \"width\": 2}, \"mode\": \"markers\", \"name\": \"Tulsa\", \"type\": \"scatter\", \"x\": [1260.0], \"y\": [1566.0]}, {\"line\": {\"color\": \"white\", \"width\": 2}, \"mode\": \"markers\", \"name\": \"Monsters Inc.2020 Re-release\", \"type\": \"scatter\", \"x\": [232000.0], \"y\": [0.0]}, {\"line\": {\"color\": \"red\", \"width\": 2}, \"mode\": \"markers\", \"name\": \"The SpongeBob Movie: Sponge on the Run\", \"type\": \"scatter\", \"x\": [20611.0], \"y\": [20332.0]}, {\"line\": {\"color\": \"blue\", \"width\": 2}, \"mode\": \"markers\", \"name\": \"Pray: The Story of Patrick Peyton\", \"type\": \"scatter\", \"x\": [4331.0], \"y\": [4898.0]}, {\"line\": {\"color\": \"orange\", \"width\": 2}, \"mode\": \"markers\", \"name\": \"Words on Bathroom Walls\", \"type\": \"scatter\", \"x\": [2218.0], \"y\": [2480.0]}, {\"line\": {\"color\": \"white\", \"width\": 2}, \"mode\": \"markers\", \"name\": \"Spell\", \"type\": \"scatter\", \"x\": [206591.0], \"y\": [186303.0]}, {\"line\": {\"color\": \"red\", \"width\": 2}, \"mode\": \"markers\", \"name\": \"After We Collided\", \"type\": \"scatter\", \"x\": [169429.0], \"y\": [99246.0]}, {\"line\": {\"color\": \"blue\", \"width\": 2}, \"mode\": \"markers\", \"name\": \"A Call to Spy\", \"type\": \"scatter\", \"x\": [10840.0], \"y\": [11237.0]}, {\"line\": {\"color\": \"orange\", \"width\": 2}, \"mode\": \"markers\", \"name\": \"Shithouse\", \"type\": \"scatter\", \"x\": [2181.0], \"y\": [0.0]}, {\"line\": {\"color\": \"white\", \"width\": 2}, \"mode\": \"markers\", \"name\": \"Alita: Battle Angel\", \"type\": \"scatter\", \"x\": [128000.0], \"y\": [0.0]}, {\"line\": {\"color\": \"red\", \"width\": 2}, \"mode\": \"markers\", \"name\": \"The Wolf of Snow Hollow\", \"type\": \"scatter\", \"x\": [1786.0], \"y\": [0.0]}, {\"line\": {\"color\": \"blue\", \"width\": 2}, \"mode\": \"markers\", \"name\": \"The Addams Family2020 Re-release\", \"type\": \"scatter\", \"x\": [302696.0], \"y\": [87471.0]}, {\"line\": {\"color\": \"orange\", \"width\": 2}, \"mode\": \"markers\", \"name\": \"Ava\", \"type\": \"scatter\", \"x\": [11810.0], \"y\": [4176.0]}, {\"line\": {\"color\": \"white\", \"width\": 2}, \"mode\": \"markers\", \"name\": \"Bump Kowalski and the Ten Commandments\", \"type\": \"scatter\", \"x\": [419.0], \"y\": [0.0]}, {\"line\": {\"color\": \"red\", \"width\": 2}, \"mode\": \"markers\", \"name\": \"The Empty Man\", \"type\": \"scatter\", \"x\": [974702.0], \"y\": [456799.0]}, {\"line\": {\"color\": \"blue\", \"width\": 2}, \"mode\": \"markers\", \"name\": \"Infidel\", \"type\": \"scatter\", \"x\": [19436.0], \"y\": [5881.0]}, {\"line\": {\"color\": \"orange\", \"width\": 2}, \"mode\": \"markers\", \"name\": \"The Nightmare Before Christmas2020 Re-release\", \"type\": \"scatter\", \"x\": [386000.0], \"y\": [0.0]}, {\"line\": {\"color\": \"white\", \"width\": 2}, \"mode\": \"markers\", \"name\": \"The Call\", \"type\": \"scatter\", \"x\": [47866.0], \"y\": [21864.0]}, {\"line\": {\"color\": \"red\", \"width\": 2}, \"mode\": \"markers\", \"name\": \"Honest Thief\", \"type\": \"scatter\", \"x\": [2078045.0], \"y\": [1619272.0]}, {\"line\": {\"color\": \"blue\", \"width\": 2}, \"mode\": \"markers\", \"name\": \"Twiceborn\", \"type\": \"scatter\", \"x\": [1004.0], \"y\": [567.0]}, {\"line\": {\"color\": \"orange\", \"width\": 2}, \"mode\": \"markers\", \"name\": \"She Dies Tomorrow\", \"type\": \"scatter\", \"x\": [10909.0], \"y\": [1595.0]}, {\"line\": {\"color\": \"white\", \"width\": 2}, \"mode\": \"markers\", \"name\": \"The New Mutants\", \"type\": \"scatter\", \"x\": [243580.0], \"y\": [191423.0]}, {\"line\": {\"color\": \"red\", \"width\": 2}, \"mode\": \"markers\", \"name\": \"Hocus Pocus2020 Re-release\", \"type\": \"scatter\", \"x\": [456000.0], \"y\": [0.0]}, {\"line\": {\"color\": \"blue\", \"width\": 2}, \"mode\": \"markers\", \"name\": \"2 Hearts\", \"type\": \"scatter\", \"x\": [205570.0], \"y\": [102804.0]}, {\"line\": {\"color\": \"orange\", \"width\": 2}, \"mode\": \"markers\", \"name\": \"The War with Grandpa\", \"type\": \"scatter\", \"x\": [1728709.0], \"y\": [1930168.0]}, {\"line\": {\"color\": \"white\", \"width\": 2}, \"mode\": \"markers\", \"name\": \"Come Play\", \"type\": \"scatter\", \"x\": [3119875.0], \"y\": [2605030.0]}, {\"line\": {\"color\": \"red\", \"width\": 2}, \"mode\": \"markers\", \"name\": \"Love and Monsters\", \"type\": \"scatter\", \"x\": [194214.0], \"y\": [154533.0]}, {\"line\": {\"color\": \"blue\", \"width\": 2}, \"mode\": \"markers\", \"name\": \"Lupin III: The First\", \"type\": \"scatter\", \"x\": [2183.0], \"y\": [0.0]}, {\"line\": {\"color\": \"orange\", \"width\": 2}, \"mode\": \"markers\", \"name\": \"Yellow Rose\", \"type\": \"scatter\", \"x\": [7485.0], \"y\": [7430.0]}, {\"line\": {\"color\": \"white\", \"width\": 2}, \"mode\": \"markers\", \"name\": \"The Broken Hearts Gallery\", \"type\": \"scatter\", \"x\": [11618.0], \"y\": [15541.0]}, {\"line\": {\"color\": \"red\", \"width\": 2}, \"mode\": \"markers\", \"name\": \"The Last Shift\", \"type\": \"scatter\", \"x\": [3411.0], \"y\": [725.0]}, {\"line\": {\"color\": \"blue\", \"width\": 2}, \"mode\": \"markers\", \"name\": \"The Empty Man\", \"type\": \"scatter\", \"x\": [456799.0], \"y\": [179811.0]}, {\"line\": {\"color\": \"orange\", \"width\": 2}, \"mode\": \"markers\", \"name\": \"The Addams Family2020 Re-release\", \"type\": \"scatter\", \"x\": [87471.0], \"y\": [5918.0]}, {\"line\": {\"color\": \"white\", \"width\": 2}, \"mode\": \"markers\", \"name\": \"Toy Story2020 Re-release\", \"type\": \"scatter\", \"x\": [505000.0], \"y\": [222000.0]}, {\"line\": {\"color\": \"red\", \"width\": 2}, \"mode\": \"markers\", \"name\": \"The War with Grandpa\", \"type\": \"scatter\", \"x\": [1930168.0], \"y\": [1814182.0]}, {\"line\": {\"color\": \"blue\", \"width\": 2}, \"mode\": \"markers\", \"name\": \"The Broken Hearts Gallery\", \"type\": \"scatter\", \"x\": [15541.0], \"y\": [6428.0]}, {\"line\": {\"color\": \"orange\", \"width\": 2}, \"mode\": \"markers\", \"name\": \"The Kid Detective\", \"type\": \"scatter\", \"x\": [8938.0], \"y\": [955.0]}, {\"line\": {\"color\": \"white\", \"width\": 2}, \"mode\": \"markers\", \"name\": \"2 Hearts\", \"type\": \"scatter\", \"x\": [102804.0], \"y\": [39604.0]}, {\"line\": {\"color\": \"red\", \"width\": 2}, \"mode\": \"markers\", \"name\": \"Counter Column\", \"type\": \"scatter\", \"x\": [756.0], \"y\": [257.0]}, {\"line\": {\"color\": \"blue\", \"width\": 2}, \"mode\": \"markers\", \"name\": \"True to the Game 2\", \"type\": \"scatter\", \"x\": [274631.0], \"y\": [404260.0]}, {\"line\": {\"color\": \"orange\", \"width\": 2}, \"mode\": \"markers\", \"name\": \"The Informer\", \"type\": \"scatter\", \"x\": [133475.0], \"y\": [115256.0]}, {\"line\": {\"color\": \"white\", \"width\": 2}, \"mode\": \"markers\", \"name\": \"The Call\", \"type\": \"scatter\", \"x\": [21864.0], \"y\": [4960.0]}, {\"line\": {\"color\": \"red\", \"width\": 2}, \"mode\": \"markers\", \"name\": \"Spell\", \"type\": \"scatter\", \"x\": [186303.0], \"y\": [91819.0]}, {\"line\": {\"color\": \"blue\", \"width\": 2}, \"mode\": \"markers\", \"name\": \"The SpongeBob Movie: Sponge on the Run\", \"type\": \"scatter\", \"x\": [20332.0], \"y\": [8092.0]}, {\"line\": {\"color\": \"orange\", \"width\": 2}, \"mode\": \"markers\", \"name\": \"She Dies Tomorrow\", \"type\": \"scatter\", \"x\": [1595.0], \"y\": [0.0]}, {\"line\": {\"color\": \"white\", \"width\": 2}, \"mode\": \"markers\", \"name\": \"Love and Monsters\", \"type\": \"scatter\", \"x\": [154533.0], \"y\": [120688.0]}, {\"line\": {\"color\": \"red\", \"width\": 2}, \"mode\": \"markers\", \"name\": \"The Last Shift\", \"type\": \"scatter\", \"x\": [725.0], \"y\": [152122.0]}, {\"line\": {\"color\": \"blue\", \"width\": 2}, \"mode\": \"markers\", \"name\": \"Ava\", \"type\": \"scatter\", \"x\": [4176.0], \"y\": [0.0]}, {\"line\": {\"color\": \"orange\", \"width\": 2}, \"mode\": \"markers\", \"name\": \"A Call to Spy\", \"type\": \"scatter\", \"x\": [11237.0], \"y\": [8056.0]}, {\"line\": {\"color\": \"white\", \"width\": 2}, \"mode\": \"markers\", \"name\": \"Come Play\", \"type\": \"scatter\", \"x\": [2605030.0], \"y\": [1564990.0]}, {\"line\": {\"color\": \"red\", \"width\": 2}, \"mode\": \"markers\", \"name\": \"Heaven\", \"type\": \"scatter\", \"x\": [803.0], \"y\": [220.0]}, {\"line\": {\"color\": \"blue\", \"width\": 2}, \"mode\": \"markers\", \"name\": \"Unhinged\", \"type\": \"scatter\", \"x\": [129664.0], \"y\": [60833.0]}, {\"line\": {\"color\": \"orange\", \"width\": 2}, \"mode\": \"markers\", \"name\": \"Tulsa\", \"type\": \"scatter\", \"x\": [1566.0], \"y\": [1109.0]}, {\"line\": {\"color\": \"white\", \"width\": 2}, \"mode\": \"markers\", \"name\": \"The New Mutants\", \"type\": \"scatter\", \"x\": [191423.0], \"y\": [154511.0]}, {\"line\": {\"color\": \"red\", \"width\": 2}, \"mode\": \"markers\", \"name\": \"No Escape\", \"type\": \"scatter\", \"x\": [465.0], \"y\": [0.0]}, {\"line\": {\"color\": \"blue\", \"width\": 2}, \"mode\": \"markers\", \"name\": \"Possessor\", \"type\": \"scatter\", \"x\": [6318.0], \"y\": [0.0]}, {\"line\": {\"color\": \"orange\", \"width\": 2}, \"mode\": \"markers\", \"name\": \"Pray: The Story of Patrick Peyton\", \"type\": \"scatter\", \"x\": [4898.0], \"y\": [3742.0]}, {\"line\": {\"color\": \"white\", \"width\": 2}, \"mode\": \"markers\", \"name\": \"Honest Thief\", \"type\": \"scatter\", \"x\": [1619272.0], \"y\": [1184504.0]}, {\"line\": {\"color\": \"red\", \"width\": 2}, \"mode\": \"markers\", \"name\": \"Yellow Rose\", \"type\": \"scatter\", \"x\": [7430.0], \"y\": [3728.0]}, {\"line\": {\"color\": \"blue\", \"width\": 2}, \"mode\": \"markers\", \"name\": \"After We Collided\", \"type\": \"scatter\", \"x\": [99246.0], \"y\": [33124.0]}, {\"line\": {\"color\": \"orange\", \"width\": 2}, \"mode\": \"markers\", \"name\": \"Twiceborn\", \"type\": \"scatter\", \"x\": [567.0], \"y\": [553.0]}, {\"line\": {\"color\": \"white\", \"width\": 2}, \"mode\": \"markers\", \"name\": \"Infidel\", \"type\": \"scatter\", \"x\": [5881.0], \"y\": [1868.0]}, {\"line\": {\"color\": \"red\", \"width\": 2}, \"mode\": \"markers\", \"name\": \"Words on Bathroom Walls\", \"type\": \"scatter\", \"x\": [2480.0], \"y\": [2141.0]}, {\"line\": {\"color\": \"blue\", \"width\": 2}, \"mode\": \"markers\", \"name\": \"Kindred\", \"type\": \"scatter\", \"x\": [6795.0], \"y\": [1667.0]}, {\"line\": {\"color\": \"orange\", \"width\": 2}, \"mode\": \"markers\", \"name\": \"Let Him Go\", \"type\": \"scatter\", \"x\": [4000470.0], \"y\": [2832430.0]}, {\"line\": {\"color\": \"white\", \"width\": 2}, \"mode\": \"markers\", \"name\": \"The New Mutants\", \"type\": \"scatter\", \"x\": [154511.0], \"y\": [73449.0]}, {\"line\": {\"color\": \"red\", \"width\": 2}, \"mode\": \"markers\", \"name\": \"The Empty Man\", \"type\": \"scatter\", \"x\": [179811.0], \"y\": [44281.0]}, {\"line\": {\"color\": \"blue\", \"width\": 2}, \"mode\": \"markers\", \"name\": \"True to the Game 2\", \"type\": \"scatter\", \"x\": [404260.0], \"y\": [248896.0]}, {\"line\": {\"color\": \"orange\", \"width\": 2}, \"mode\": \"markers\", \"name\": \"Toy Story2020 Re-release\", \"type\": \"scatter\", \"x\": [222000.0], \"y\": [0.0]}, {\"line\": {\"color\": \"white\", \"width\": 2}, \"mode\": \"markers\", \"name\": \"The Informer\", \"type\": \"scatter\", \"x\": [115256.0], \"y\": [37442.0]}, {\"line\": {\"color\": \"red\", \"width\": 2}, \"mode\": \"markers\", \"name\": \"Tulsa\", \"type\": \"scatter\", \"x\": [1109.0], \"y\": [0.0]}, {\"line\": {\"color\": \"blue\", \"width\": 2}, \"mode\": \"markers\", \"name\": \"Unhinged\", \"type\": \"scatter\", \"x\": [60833.0], \"y\": [0.0]}, {\"line\": {\"color\": \"orange\", \"width\": 2}, \"mode\": \"markers\", \"name\": \"The Kid Detective\", \"type\": \"scatter\", \"x\": [955.0], \"y\": [0.0]}, {\"line\": {\"color\": \"white\", \"width\": 2}, \"mode\": \"markers\", \"name\": \"The War with Grandpa\", \"type\": \"scatter\", \"x\": [1814182.0], \"y\": [973453.0]}, {\"line\": {\"color\": \"red\", \"width\": 2}, \"mode\": \"markers\", \"name\": \"The SpongeBob Movie: Sponge on the Run\", \"type\": \"scatter\", \"x\": [8092.0], \"y\": [0.0]}, {\"line\": {\"color\": \"blue\", \"width\": 2}, \"mode\": \"markers\", \"name\": \"Words on Bathroom Walls\", \"type\": \"scatter\", \"x\": [2141.0], \"y\": [150.0]}, {\"line\": {\"color\": \"orange\", \"width\": 2}, \"mode\": \"markers\", \"name\": \"The Last Shift\", \"type\": \"scatter\", \"x\": [152122.0], \"y\": [237863.0]}, {\"line\": {\"color\": \"white\", \"width\": 2}, \"mode\": \"markers\", \"name\": \"Twiceborn\", \"type\": \"scatter\", \"x\": [553.0], \"y\": [0.0]}, {\"line\": {\"color\": \"red\", \"width\": 2}, \"mode\": \"markers\", \"name\": \"Yellow Rose\", \"type\": \"scatter\", \"x\": [3728.0], \"y\": [0.0]}, {\"line\": {\"color\": \"blue\", \"width\": 2}, \"mode\": \"markers\", \"name\": \"Counter Column\", \"type\": \"scatter\", \"x\": [257.0], \"y\": [25.0]}, {\"line\": {\"color\": \"orange\", \"width\": 2}, \"mode\": \"markers\", \"name\": \"Elf2020 Re-release\", \"type\": \"scatter\", \"x\": [170000.0], \"y\": [180000.0]}, {\"line\": {\"color\": \"white\", \"width\": 2}, \"mode\": \"markers\", \"name\": \"Pray: The Story of Patrick Peyton\", \"type\": \"scatter\", \"x\": [3742.0], \"y\": [1494.0]}, {\"line\": {\"color\": \"red\", \"width\": 2}, \"mode\": \"markers\", \"name\": \"Spell\", \"type\": \"scatter\", \"x\": [91819.0], \"y\": [15391.0]}, {\"line\": {\"color\": \"blue\", \"width\": 2}, \"mode\": \"markers\", \"name\": \"Freaky\", \"type\": \"scatter\", \"x\": [3600355.0], \"y\": [2053090.0]}, {\"line\": {\"color\": \"orange\", \"width\": 2}, \"mode\": \"markers\", \"name\": \"Infidel\", \"type\": \"scatter\", \"x\": [1868.0], \"y\": [768.0]}, {\"line\": {\"color\": \"white\", \"width\": 2}, \"mode\": \"markers\", \"name\": \"The Addams Family2020 Re-release\", \"type\": \"scatter\", \"x\": [5918.0], \"y\": [0.0]}, {\"line\": {\"color\": \"red\", \"width\": 2}, \"mode\": \"markers\", \"name\": \"Come Play\", \"type\": \"scatter\", \"x\": [1564990.0], \"y\": [777275.0]}, {\"line\": {\"color\": \"blue\", \"width\": 2}, \"mode\": \"markers\", \"name\": \"Come Away\", \"type\": \"scatter\", \"x\": [106084.0], \"y\": [59472.0]}, {\"line\": {\"color\": \"orange\", \"width\": 2}, \"mode\": \"markers\", \"name\": \"The Broken Hearts Gallery\", \"type\": \"scatter\", \"x\": [6428.0], \"y\": [1273.0]}, {\"line\": {\"color\": \"white\", \"width\": 2}, \"mode\": \"markers\", \"name\": \"Guardians of the Galaxy2020 Re-release\", \"type\": \"scatter\", \"x\": [406000.0], \"y\": [136000.0]}, {\"line\": {\"color\": \"red\", \"width\": 2}, \"mode\": \"markers\", \"name\": \"Bump Kowalski and the Ten Commandments\", \"type\": \"scatter\", \"x\": [378.0], \"y\": [0.0]}, {\"line\": {\"color\": \"blue\", \"width\": 2}, \"mode\": \"markers\", \"name\": \"Ammonite\", \"type\": \"scatter\", \"x\": [87552.0], \"y\": [23383.0]}, {\"line\": {\"color\": \"orange\", \"width\": 2}, \"mode\": \"markers\", \"name\": \"Let Him Go\", \"type\": \"scatter\", \"x\": [2832430.0], \"y\": [1110540.0]}, {\"line\": {\"color\": \"white\", \"width\": 2}, \"mode\": \"markers\", \"name\": \"Honest Thief\", \"type\": \"scatter\", \"x\": [1184504.0], \"y\": [642302.0]}, {\"line\": {\"color\": \"red\", \"width\": 2}, \"mode\": \"markers\", \"name\": \"After We Collided\", \"type\": \"scatter\", \"x\": [33124.0], \"y\": [6047.0]}, {\"line\": {\"color\": \"blue\", \"width\": 2}, \"mode\": \"markers\", \"name\": \"A Call to Spy\", \"type\": \"scatter\", \"x\": [8056.0], \"y\": [2168.0]}, {\"line\": {\"color\": \"orange\", \"width\": 2}, \"mode\": \"markers\", \"name\": \"The Call\", \"type\": \"scatter\", \"x\": [4960.0], \"y\": [1014.0]}, {\"line\": {\"color\": \"white\", \"width\": 2}, \"mode\": \"markers\", \"name\": \"Kindred\", \"type\": \"scatter\", \"x\": [1667.0], \"y\": [0.0]}, {\"line\": {\"color\": \"red\", \"width\": 2}, \"mode\": \"markers\", \"name\": \"2 Hearts\", \"type\": \"scatter\", \"x\": [39604.0], \"y\": [8781.0]}, {\"line\": {\"color\": \"blue\", \"width\": 2}, \"mode\": \"markers\", \"name\": \"Heaven\", \"type\": \"scatter\", \"x\": [220.0], \"y\": [0.0]}, {\"line\": {\"color\": \"orange\", \"width\": 2}, \"mode\": \"markers\", \"name\": \"Love and Monsters\", \"type\": \"scatter\", \"x\": [120688.0], \"y\": [22201.0]}, {\"line\": {\"color\": \"white\", \"width\": 2}, \"mode\": \"markers\", \"name\": \"Embattled\", \"type\": \"scatter\", \"x\": [15141.0], \"y\": [10662.0]}, {\"line\": {\"color\": \"red\", \"width\": 2}, \"mode\": \"markers\", \"name\": \"Gekijouban Fate/Stay Night: Heaven's Feel - III. Spring Song\", \"type\": \"scatter\", \"x\": [200000.0], \"y\": [0.0]}, {\"line\": {\"color\": \"blue\", \"width\": 2}, \"mode\": \"markers\", \"name\": \"Honest Thief\", \"type\": \"scatter\", \"x\": [642302.0], \"y\": [537113.0]}, {\"line\": {\"color\": \"orange\", \"width\": 2}, \"mode\": \"markers\", \"name\": \"Freaky\", \"type\": \"scatter\", \"x\": [2053090.0], \"y\": [1389310.0]}, {\"line\": {\"color\": \"white\", \"width\": 2}, \"mode\": \"markers\", \"name\": \"The War with Grandpa\", \"type\": \"scatter\", \"x\": [973453.0], \"y\": [1009656.0]}, {\"line\": {\"color\": \"red\", \"width\": 2}, \"mode\": \"markers\", \"name\": \"The Santa Clause2020 Re-release\", \"type\": \"scatter\", \"x\": [461000.0], \"y\": [245000.0]}, {\"line\": {\"color\": \"blue\", \"width\": 2}, \"mode\": \"markers\", \"name\": \"Guardians of the Galaxy2020 Re-release\", \"type\": \"scatter\", \"x\": [136000.0], \"y\": [0.0]}, {\"line\": {\"color\": \"orange\", \"width\": 2}, \"mode\": \"markers\", \"name\": \"True to the Game 2\", \"type\": \"scatter\", \"x\": [248896.0], \"y\": [190020.0]}, {\"line\": {\"color\": \"white\", \"width\": 2}, \"mode\": \"markers\", \"name\": \"Counter Column\", \"type\": \"scatter\", \"x\": [25.0], \"y\": [0.0]}, {\"line\": {\"color\": \"red\", \"width\": 2}, \"mode\": \"markers\", \"name\": \"Come Play\", \"type\": \"scatter\", \"x\": [777275.0], \"y\": [591625.0]}, {\"line\": {\"color\": \"blue\", \"width\": 2}, \"mode\": \"markers\", \"name\": \"Come Away\", \"type\": \"scatter\", \"x\": [59472.0], \"y\": [16449.0]}, {\"line\": {\"color\": \"orange\", \"width\": 2}, \"mode\": \"markers\", \"name\": \"Buddy Games\", \"type\": \"scatter\", \"x\": [150497.0], \"y\": [174157.0]}, {\"line\": {\"color\": \"white\", \"width\": 2}, \"mode\": \"markers\", \"name\": \"Ammonite\", \"type\": \"scatter\", \"x\": [23383.0], \"y\": [7250.0]}, {\"line\": {\"color\": \"red\", \"width\": 2}, \"mode\": \"markers\", \"name\": \"Vanguard\", \"type\": \"scatter\", \"x\": [380428.0], \"y\": [305523.0]}, {\"line\": {\"color\": \"blue\", \"width\": 2}, \"mode\": \"markers\", \"name\": \"After We Collided\", \"type\": \"scatter\", \"x\": [6047.0], \"y\": [2290.0]}, {\"line\": {\"color\": \"orange\", \"width\": 2}, \"mode\": \"markers\", \"name\": \"A Call to Spy\", \"type\": \"scatter\", \"x\": [2168.0], \"y\": [0.0]}, {\"line\": {\"color\": \"white\", \"width\": 2}, \"mode\": \"markers\", \"name\": \"Words on Bathroom Walls\", \"type\": \"scatter\", \"x\": [150.0], \"y\": [24.0]}, {\"line\": {\"color\": \"red\", \"width\": 2}, \"mode\": \"markers\", \"name\": \"2 Hearts\", \"type\": \"scatter\", \"x\": [8781.0], \"y\": [2718.0]}, {\"line\": {\"color\": \"blue\", \"width\": 2}, \"mode\": \"markers\", \"name\": \"Elf2020 Re-release\", \"type\": \"scatter\", \"x\": [180000.0], \"y\": [430000.0]}, {\"line\": {\"color\": \"orange\", \"width\": 2}, \"mode\": \"markers\", \"name\": \"Infidel\", \"type\": \"scatter\", \"x\": [768.0], \"y\": [189.0]}, {\"line\": {\"color\": \"white\", \"width\": 2}, \"mode\": \"markers\", \"name\": \"Pray: The Story of Patrick Peyton\", \"type\": \"scatter\", \"x\": [1494.0], \"y\": [136.0]}, {\"line\": {\"color\": \"red\", \"width\": 2}, \"mode\": \"markers\", \"name\": \"Love and Monsters\", \"type\": \"scatter\", \"x\": [22201.0], \"y\": [0.0]}, {\"line\": {\"color\": \"blue\", \"width\": 2}, \"mode\": \"markers\", \"name\": \"The Last Vermeer\", \"type\": \"scatter\", \"x\": [225691.0], \"y\": [263144.0]}, {\"line\": {\"color\": \"orange\", \"width\": 2}, \"mode\": \"markers\", \"name\": \"The Last Shift\", \"type\": \"scatter\", \"x\": [237863.0], \"y\": [0.0]}, {\"line\": {\"color\": \"white\", \"width\": 2}, \"mode\": \"markers\", \"name\": \"The Forgotten Carols\", \"type\": \"scatter\", \"x\": [103839.0], \"y\": [156728.0]}, {\"line\": {\"color\": \"red\", \"width\": 2}, \"mode\": \"markers\", \"name\": \"Let Him Go\", \"type\": \"scatter\", \"x\": [1110540.0], \"y\": [763680.0]}, {\"line\": {\"color\": \"blue\", \"width\": 2}, \"mode\": \"markers\", \"name\": \"The Empty Man\", \"type\": \"scatter\", \"x\": [44281.0], \"y\": [13296.0]}, {\"line\": {\"color\": \"orange\", \"width\": 2}, \"mode\": \"markers\", \"name\": \"The Informer\", \"type\": \"scatter\", \"x\": [37442.0], \"y\": [14287.0]}, {\"line\": {\"color\": \"white\", \"width\": 2}, \"mode\": \"markers\", \"name\": \"The New Mutants\", \"type\": \"scatter\", \"x\": [73449.0], \"y\": [13873.0]}, {\"line\": {\"color\": \"red\", \"width\": 2}, \"mode\": \"markers\", \"name\": \"The Call\", \"type\": \"scatter\", \"x\": [1014.0], \"y\": [330.0]}, {\"line\": {\"color\": \"blue\", \"width\": 2}, \"mode\": \"markers\", \"name\": \"Spell\", \"type\": \"scatter\", \"x\": [15391.0], \"y\": [0.0]}, {\"line\": {\"color\": \"orange\", \"width\": 2}, \"mode\": \"markers\", \"name\": \"The Broken Hearts Gallery\", \"type\": \"scatter\", \"x\": [1273.0], \"y\": [0.0]}, {\"line\": {\"color\": \"white\", \"width\": 2}, \"mode\": \"markers\", \"name\": \"Come Away\", \"type\": \"scatter\", \"x\": [16449.0], \"y\": [1418.0]}, {\"line\": {\"color\": \"red\", \"width\": 2}, \"mode\": \"markers\", \"name\": \"Come Play\", \"type\": \"scatter\", \"x\": [591625.0], \"y\": [265035.0]}, {\"line\": {\"color\": \"blue\", \"width\": 2}, \"mode\": \"markers\", \"name\": \"The Informer\", \"type\": \"scatter\", \"x\": [14287.0], \"y\": [0.0]}, {\"line\": {\"color\": \"orange\", \"width\": 2}, \"mode\": \"markers\", \"name\": \"Infidel\", \"type\": \"scatter\", \"x\": [189.0], \"y\": [0.0]}, {\"line\": {\"color\": \"white\", \"width\": 2}, \"mode\": \"markers\", \"name\": \"Pray: The Story of Patrick Peyton\", \"type\": \"scatter\", \"x\": [136.0], \"y\": [0.0]}, {\"line\": {\"color\": \"red\", \"width\": 2}, \"mode\": \"markers\", \"name\": \"Stardust\", \"type\": \"scatter\", \"x\": [5964.0], \"y\": [1749.0]}, {\"line\": {\"color\": \"blue\", \"width\": 2}, \"mode\": \"markers\", \"name\": \"True to the Game 2\", \"type\": \"scatter\", \"x\": [190020.0], \"y\": [0.0]}, {\"line\": {\"color\": \"orange\", \"width\": 2}, \"mode\": \"markers\", \"name\": \"Buddy Games\", \"type\": \"scatter\", \"x\": [174157.0], \"y\": [36914.0]}, {\"line\": {\"color\": \"white\", \"width\": 2}, \"mode\": \"markers\", \"name\": \"The Grinch\", \"type\": \"scatter\", \"x\": [82000.0], \"y\": [46000.0]}, {\"line\": {\"color\": \"red\", \"width\": 2}, \"mode\": \"markers\", \"name\": \"National Lampoon's Christmas Vacation2020 Re-release\", \"type\": \"scatter\", \"x\": [220000.0], \"y\": [0.0]}, {\"line\": {\"color\": \"blue\", \"width\": 2}, \"mode\": \"markers\", \"name\": \"The Forgotten Carols\", \"type\": \"scatter\", \"x\": [156728.0], \"y\": [36180.0]}, {\"line\": {\"color\": \"orange\", \"width\": 2}, \"mode\": \"markers\", \"name\": \"Vanguard\", \"type\": \"scatter\", \"x\": [305523.0], \"y\": [27390.0]}, {\"line\": {\"color\": \"white\", \"width\": 2}, \"mode\": \"markers\", \"name\": \"After We Collided\", \"type\": \"scatter\", \"x\": [2290.0], \"y\": [0.0]}, {\"line\": {\"color\": \"red\", \"width\": 2}, \"mode\": \"markers\", \"name\": \"The Empty Man\", \"type\": \"scatter\", \"x\": [13296.0], \"y\": [2889.0]}, {\"line\": {\"color\": \"blue\", \"width\": 2}, \"mode\": \"markers\", \"name\": \"Words on Bathroom Walls\", \"type\": \"scatter\", \"x\": [24.0], \"y\": [0.0]}, {\"line\": {\"color\": \"orange\", \"width\": 2}, \"mode\": \"markers\", \"name\": \"2 Hearts\", \"type\": \"scatter\", \"x\": [2718.0], \"y\": [657.0]}, {\"line\": {\"color\": \"white\", \"width\": 2}, \"mode\": \"markers\", \"name\": \"The Call\", \"type\": \"scatter\", \"x\": [330.0], \"y\": [0.0]}, {\"line\": {\"color\": \"red\", \"width\": 2}, \"mode\": \"markers\", \"name\": \"The Bra\", \"type\": \"scatter\", \"x\": [88.0], \"y\": [0.0]}, {\"line\": {\"color\": \"blue\", \"width\": 2}, \"mode\": \"markers\", \"name\": \"Ammonite\", \"type\": \"scatter\", \"x\": [7250.0], \"y\": [0.0]}, {\"line\": {\"color\": \"orange\", \"width\": 2}, \"mode\": \"markers\", \"name\": \"The Croods: A New Age\", \"type\": \"scatter\", \"x\": [14274455.0], \"y\": [4785955.0]}, {\"line\": {\"color\": \"white\", \"width\": 2}, \"mode\": \"markers\", \"name\": \"The Last Vermeer\", \"type\": \"scatter\", \"x\": [263144.0], \"y\": [54065.0]}, {\"line\": {\"color\": \"red\", \"width\": 2}, \"mode\": \"markers\", \"name\": \"Let Him Go\", \"type\": \"scatter\", \"x\": [763680.0], \"y\": [268275.0]}, {\"line\": {\"color\": \"blue\", \"width\": 2}, \"mode\": \"markers\", \"name\": \"Embattled\", \"type\": \"scatter\", \"x\": [10662.0], \"y\": [1197.0]}, {\"line\": {\"color\": \"orange\", \"width\": 2}, \"mode\": \"markers\", \"name\": \"The New Mutants\", \"type\": \"scatter\", \"x\": [13873.0], \"y\": [3128.0]}, {\"line\": {\"color\": \"white\", \"width\": 2}, \"mode\": \"markers\", \"name\": \"Find Your Voice\", \"type\": \"scatter\", \"x\": [157.0], \"y\": [0.0]}, {\"line\": {\"color\": \"red\", \"width\": 2}, \"mode\": \"markers\", \"name\": \"In the Life of Music\", \"type\": \"scatter\", \"x\": [112.0], \"y\": [0.0]}, {\"line\": {\"color\": \"blue\", \"width\": 2}, \"mode\": \"markers\", \"name\": \"Elf2020 Re-release\", \"type\": \"scatter\", \"x\": [430000.0], \"y\": [0.0]}, {\"line\": {\"color\": \"orange\", \"width\": 2}, \"mode\": \"markers\", \"name\": \"The War with Grandpa\", \"type\": \"scatter\", \"x\": [1009656.0], \"y\": [346917.0]}, {\"line\": {\"color\": \"white\", \"width\": 2}, \"mode\": \"markers\", \"name\": \"Honest Thief\", \"type\": \"scatter\", \"x\": [537113.0], \"y\": [146832.0]}, {\"line\": {\"color\": \"red\", \"width\": 2}, \"mode\": \"markers\", \"name\": \"Freaky\", \"type\": \"scatter\", \"x\": [1389310.0], \"y\": [578585.0]}, {\"line\": {\"color\": \"blue\", \"width\": 2}, \"mode\": \"markers\", \"name\": \"The Santa Clause2020 Re-release\", \"type\": \"scatter\", \"x\": [245000.0], \"y\": [0.0]}, {\"line\": {\"color\": \"orange\", \"width\": 2}, \"mode\": \"markers\", \"name\": \"Last Call\", \"type\": \"scatter\", \"x\": [2994.0], \"y\": [1120.0]}, {\"line\": {\"color\": \"white\", \"width\": 2}, \"mode\": \"markers\", \"name\": \"The Shade Shepherd\", \"type\": \"scatter\", \"x\": [101.0], \"y\": [0.0]}, {\"line\": {\"color\": \"red\", \"width\": 2}, \"mode\": \"markers\", \"name\": \"Frozen2020 Re-release\", \"type\": \"scatter\", \"x\": [155000.0], \"y\": [41000.0]}, {\"line\": {\"color\": \"blue\", \"width\": 2}, \"mode\": \"markers\", \"name\": \"Last Call\", \"type\": \"scatter\", \"x\": [1120.0], \"y\": [0.0]}, {\"line\": {\"color\": \"orange\", \"width\": 2}, \"mode\": \"markers\", \"name\": \"The Empty Man\", \"type\": \"scatter\", \"x\": [2889.0], \"y\": [0.0]}, {\"line\": {\"color\": \"white\", \"width\": 2}, \"mode\": \"markers\", \"name\": \"Die Hard2020 Re-release\", \"type\": \"scatter\", \"x\": [62000.0], \"y\": [0.0]}, {\"line\": {\"color\": \"red\", \"width\": 2}, \"mode\": \"markers\", \"name\": \"Honest Thief\", \"type\": \"scatter\", \"x\": [146832.0], \"y\": [0.0]}, {\"line\": {\"color\": \"blue\", \"width\": 2}, \"mode\": \"markers\", \"name\": \"2 Hearts\", \"type\": \"scatter\", \"x\": [657.0], \"y\": [0.0]}, {\"line\": {\"color\": \"orange\", \"width\": 2}, \"mode\": \"markers\", \"name\": \"The Croods: A New Age\", \"type\": \"scatter\", \"x\": [4785955.0], \"y\": [0.0]}, {\"line\": {\"color\": \"white\", \"width\": 2}, \"mode\": \"markers\", \"name\": \"All My Life\", \"type\": \"scatter\", \"x\": [280000.0], \"y\": [0.0]}, {\"line\": {\"color\": \"red\", \"width\": 2}, \"mode\": \"markers\", \"name\": \"Vanguard\", \"type\": \"scatter\", \"x\": [27390.0], \"y\": [0.0]}, {\"line\": {\"color\": \"blue\", \"width\": 2}, \"mode\": \"markers\", \"name\": \"The Forgotten Carols\", \"type\": \"scatter\", \"x\": [36180.0], \"y\": [0.0]}, {\"line\": {\"color\": \"orange\", \"width\": 2}, \"mode\": \"markers\", \"name\": \"The Climb\", \"type\": \"scatter\", \"x\": [2148.0], \"y\": [0.0]}, {\"line\": {\"color\": \"white\", \"width\": 2}, \"mode\": \"markers\", \"name\": \"The Last Vermeer\", \"type\": \"scatter\", \"x\": [54065.0], \"y\": [0.0]}, {\"line\": {\"color\": \"red\", \"width\": 2}, \"mode\": \"markers\", \"name\": \"Frozen2020 Re-release\", \"type\": \"scatter\", \"x\": [41000.0], \"y\": [0.0]}, {\"line\": {\"color\": \"blue\", \"width\": 2}, \"mode\": \"markers\", \"name\": \"Buddy Games\", \"type\": \"scatter\", \"x\": [36914.0], \"y\": [0.0]}, {\"line\": {\"color\": \"orange\", \"width\": 2}, \"mode\": \"markers\", \"name\": \"The Grinch\", \"type\": \"scatter\", \"x\": [46000.0], \"y\": [0.0]}, {\"line\": {\"color\": \"white\", \"width\": 2}, \"mode\": \"markers\", \"name\": \"Freaky\", \"type\": \"scatter\", \"x\": [578585.0], \"y\": [0.0]}, {\"line\": {\"color\": \"red\", \"width\": 2}, \"mode\": \"markers\", \"name\": \"Come Away\", \"type\": \"scatter\", \"x\": [1418.0], \"y\": [0.0]}, {\"line\": {\"color\": \"blue\", \"width\": 2}, \"mode\": \"markers\", \"name\": \"Stardust\", \"type\": \"scatter\", \"x\": [1749.0], \"y\": [0.0]}, {\"line\": {\"color\": \"orange\", \"width\": 2}, \"mode\": \"markers\", \"name\": \"The War with Grandpa\", \"type\": \"scatter\", \"x\": [346917.0], \"y\": [0.0]}, {\"line\": {\"color\": \"white\", \"width\": 2}, \"mode\": \"markers\", \"name\": \"Come Play\", \"type\": \"scatter\", \"x\": [265035.0], \"y\": [0.0]}, {\"line\": {\"color\": \"red\", \"width\": 2}, \"mode\": \"markers\", \"name\": \"Embattled\", \"type\": \"scatter\", \"x\": [1197.0], \"y\": [0.0]}, {\"line\": {\"color\": \"blue\", \"width\": 2}, \"mode\": \"markers\", \"name\": \"Let Him Go\", \"type\": \"scatter\", \"x\": [268275.0], \"y\": [0.0]}, {\"line\": {\"color\": \"orange\", \"width\": 2}, \"mode\": \"markers\", \"name\": \"Half Brothers\", \"type\": \"scatter\", \"x\": [470000.0], \"y\": [0.0]}, {\"line\": {\"color\": \"white\", \"width\": 2}, \"mode\": \"markers\", \"name\": \"The New Mutants\", \"type\": \"scatter\", \"x\": [3128.0], \"y\": [0.0]}],                        {\"paper_bgcolor\": \"#23272c\", \"plot_bgcolor\": \"#23272c\", \"template\": {\"data\": {\"bar\": [{\"error_x\": {\"color\": \"#f2f5fa\"}, \"error_y\": {\"color\": \"#f2f5fa\"}, \"marker\": {\"line\": {\"color\": \"rgb(17,17,17)\", \"width\": 0.5}}, \"type\": \"bar\"}], \"barpolar\": [{\"marker\": {\"line\": {\"color\": \"rgb(17,17,17)\", \"width\": 0.5}}, \"type\": \"barpolar\"}], \"carpet\": [{\"aaxis\": {\"endlinecolor\": \"#A2B1C6\", \"gridcolor\": \"#506784\", \"linecolor\": \"#506784\", \"minorgridcolor\": \"#506784\", \"startlinecolor\": \"#A2B1C6\"}, \"baxis\": {\"endlinecolor\": \"#A2B1C6\", \"gridcolor\": \"#506784\", \"linecolor\": \"#506784\", \"minorgridcolor\": \"#506784\", \"startlinecolor\": \"#A2B1C6\"}, \"type\": \"carpet\"}], \"choropleth\": [{\"colorbar\": {\"outlinewidth\": 0, \"ticks\": \"\"}, \"type\": \"choropleth\"}], \"contour\": [{\"colorbar\": {\"outlinewidth\": 0, \"ticks\": \"\"}, \"colorscale\": [[0.0, \"#0d0887\"], [0.1111111111111111, \"#46039f\"], [0.2222222222222222, \"#7201a8\"], [0.3333333333333333, \"#9c179e\"], [0.4444444444444444, \"#bd3786\"], [0.5555555555555556, \"#d8576b\"], [0.6666666666666666, \"#ed7953\"], [0.7777777777777778, \"#fb9f3a\"], [0.8888888888888888, \"#fdca26\"], [1.0, \"#f0f921\"]], \"type\": \"contour\"}], \"contourcarpet\": [{\"colorbar\": {\"outlinewidth\": 0, \"ticks\": \"\"}, \"type\": \"contourcarpet\"}], \"heatmap\": [{\"colorbar\": {\"outlinewidth\": 0, \"ticks\": \"\"}, \"colorscale\": [[0.0, \"#0d0887\"], [0.1111111111111111, \"#46039f\"], [0.2222222222222222, \"#7201a8\"], [0.3333333333333333, \"#9c179e\"], [0.4444444444444444, \"#bd3786\"], [0.5555555555555556, \"#d8576b\"], [0.6666666666666666, \"#ed7953\"], [0.7777777777777778, \"#fb9f3a\"], [0.8888888888888888, \"#fdca26\"], [1.0, \"#f0f921\"]], \"type\": \"heatmap\"}], \"heatmapgl\": [{\"colorbar\": {\"outlinewidth\": 0, \"ticks\": \"\"}, \"colorscale\": [[0.0, \"#0d0887\"], [0.1111111111111111, \"#46039f\"], [0.2222222222222222, \"#7201a8\"], [0.3333333333333333, \"#9c179e\"], [0.4444444444444444, \"#bd3786\"], [0.5555555555555556, \"#d8576b\"], [0.6666666666666666, \"#ed7953\"], [0.7777777777777778, \"#fb9f3a\"], [0.8888888888888888, \"#fdca26\"], [1.0, \"#f0f921\"]], \"type\": \"heatmapgl\"}], \"histogram\": [{\"marker\": {\"colorbar\": {\"outlinewidth\": 0, \"ticks\": \"\"}}, \"type\": \"histogram\"}], \"histogram2d\": [{\"colorbar\": {\"outlinewidth\": 0, \"ticks\": \"\"}, \"colorscale\": [[0.0, \"#0d0887\"], [0.1111111111111111, \"#46039f\"], [0.2222222222222222, \"#7201a8\"], [0.3333333333333333, \"#9c179e\"], [0.4444444444444444, \"#bd3786\"], [0.5555555555555556, \"#d8576b\"], [0.6666666666666666, \"#ed7953\"], [0.7777777777777778, \"#fb9f3a\"], [0.8888888888888888, \"#fdca26\"], [1.0, \"#f0f921\"]], \"type\": \"histogram2d\"}], \"histogram2dcontour\": [{\"colorbar\": {\"outlinewidth\": 0, \"ticks\": \"\"}, \"colorscale\": [[0.0, \"#0d0887\"], [0.1111111111111111, \"#46039f\"], [0.2222222222222222, \"#7201a8\"], [0.3333333333333333, \"#9c179e\"], [0.4444444444444444, \"#bd3786\"], [0.5555555555555556, \"#d8576b\"], [0.6666666666666666, \"#ed7953\"], [0.7777777777777778, \"#fb9f3a\"], [0.8888888888888888, \"#fdca26\"], [1.0, \"#f0f921\"]], \"type\": \"histogram2dcontour\"}], \"mesh3d\": [{\"colorbar\": {\"outlinewidth\": 0, \"ticks\": \"\"}, \"type\": \"mesh3d\"}], \"parcoords\": [{\"line\": {\"colorbar\": {\"outlinewidth\": 0, \"ticks\": \"\"}}, \"type\": \"parcoords\"}], \"pie\": [{\"automargin\": true, \"type\": \"pie\"}], \"scatter\": [{\"marker\": {\"line\": {\"color\": \"#283442\"}}, \"type\": \"scatter\"}], \"scatter3d\": [{\"line\": {\"colorbar\": {\"outlinewidth\": 0, \"ticks\": \"\"}}, \"marker\": {\"colorbar\": {\"outlinewidth\": 0, \"ticks\": \"\"}}, \"type\": \"scatter3d\"}], \"scattercarpet\": [{\"marker\": {\"colorbar\": {\"outlinewidth\": 0, \"ticks\": \"\"}}, \"type\": \"scattercarpet\"}], \"scattergeo\": [{\"marker\": {\"colorbar\": {\"outlinewidth\": 0, \"ticks\": \"\"}}, \"type\": \"scattergeo\"}], \"scattergl\": [{\"marker\": {\"line\": {\"color\": \"#283442\"}}, \"type\": \"scattergl\"}], \"scattermapbox\": [{\"marker\": {\"colorbar\": {\"outlinewidth\": 0, \"ticks\": \"\"}}, \"type\": \"scattermapbox\"}], \"scatterpolar\": [{\"marker\": {\"colorbar\": {\"outlinewidth\": 0, \"ticks\": \"\"}}, \"type\": \"scatterpolar\"}], \"scatterpolargl\": [{\"marker\": {\"colorbar\": {\"outlinewidth\": 0, \"ticks\": \"\"}}, \"type\": \"scatterpolargl\"}], \"scatterternary\": [{\"marker\": {\"colorbar\": {\"outlinewidth\": 0, \"ticks\": \"\"}}, \"type\": \"scatterternary\"}], \"surface\": [{\"colorbar\": {\"outlinewidth\": 0, \"ticks\": \"\"}, \"colorscale\": [[0.0, \"#0d0887\"], [0.1111111111111111, \"#46039f\"], [0.2222222222222222, \"#7201a8\"], [0.3333333333333333, \"#9c179e\"], [0.4444444444444444, \"#bd3786\"], [0.5555555555555556, \"#d8576b\"], [0.6666666666666666, \"#ed7953\"], [0.7777777777777778, \"#fb9f3a\"], [0.8888888888888888, \"#fdca26\"], [1.0, \"#f0f921\"]], \"type\": \"surface\"}], \"table\": [{\"cells\": {\"fill\": {\"color\": \"#506784\"}, \"line\": {\"color\": \"rgb(17,17,17)\"}}, \"header\": {\"fill\": {\"color\": \"#2a3f5f\"}, \"line\": {\"color\": \"rgb(17,17,17)\"}}, \"type\": \"table\"}]}, \"layout\": {\"annotationdefaults\": {\"arrowcolor\": \"#f2f5fa\", \"arrowhead\": 0, \"arrowwidth\": 1}, \"coloraxis\": {\"colorbar\": {\"outlinewidth\": 0, \"ticks\": \"\"}}, \"colorscale\": {\"diverging\": [[0, \"#8e0152\"], [0.1, \"#c51b7d\"], [0.2, \"#de77ae\"], [0.3, \"#f1b6da\"], [0.4, \"#fde0ef\"], [0.5, \"#f7f7f7\"], [0.6, \"#e6f5d0\"], [0.7, \"#b8e186\"], [0.8, \"#7fbc41\"], [0.9, \"#4d9221\"], [1, \"#276419\"]], \"sequential\": [[0.0, \"#0d0887\"], [0.1111111111111111, \"#46039f\"], [0.2222222222222222, \"#7201a8\"], [0.3333333333333333, \"#9c179e\"], [0.4444444444444444, \"#bd3786\"], [0.5555555555555556, \"#d8576b\"], [0.6666666666666666, \"#ed7953\"], [0.7777777777777778, \"#fb9f3a\"], [0.8888888888888888, \"#fdca26\"], [1.0, \"#f0f921\"]], \"sequentialminus\": [[0.0, \"#0d0887\"], [0.1111111111111111, \"#46039f\"], [0.2222222222222222, \"#7201a8\"], [0.3333333333333333, \"#9c179e\"], [0.4444444444444444, \"#bd3786\"], [0.5555555555555556, \"#d8576b\"], [0.6666666666666666, \"#ed7953\"], [0.7777777777777778, \"#fb9f3a\"], [0.8888888888888888, \"#fdca26\"], [1.0, \"#f0f921\"]]}, \"colorway\": [\"#636efa\", \"#EF553B\", \"#00cc96\", \"#ab63fa\", \"#FFA15A\", \"#19d3f3\", \"#FF6692\", \"#B6E880\", \"#FF97FF\", \"#FECB52\"], \"font\": {\"color\": \"#f2f5fa\"}, \"geo\": {\"bgcolor\": \"rgb(17,17,17)\", \"lakecolor\": \"rgb(17,17,17)\", \"landcolor\": \"rgb(17,17,17)\", \"showlakes\": true, \"showland\": true, \"subunitcolor\": \"#506784\"}, \"hoverlabel\": {\"align\": \"left\"}, \"hovermode\": \"closest\", \"mapbox\": {\"style\": \"dark\"}, \"paper_bgcolor\": \"rgb(17,17,17)\", \"plot_bgcolor\": \"rgb(17,17,17)\", \"polar\": {\"angularaxis\": {\"gridcolor\": \"#506784\", \"linecolor\": \"#506784\", \"ticks\": \"\"}, \"bgcolor\": \"rgb(17,17,17)\", \"radialaxis\": {\"gridcolor\": \"#506784\", \"linecolor\": \"#506784\", \"ticks\": \"\"}}, \"scene\": {\"xaxis\": {\"backgroundcolor\": \"rgb(17,17,17)\", \"gridcolor\": \"#506784\", \"gridwidth\": 2, \"linecolor\": \"#506784\", \"showbackground\": true, \"ticks\": \"\", \"zerolinecolor\": \"#C8D4E3\"}, \"yaxis\": {\"backgroundcolor\": \"rgb(17,17,17)\", \"gridcolor\": \"#506784\", \"gridwidth\": 2, \"linecolor\": \"#506784\", \"showbackground\": true, \"ticks\": \"\", \"zerolinecolor\": \"#C8D4E3\"}, \"zaxis\": {\"backgroundcolor\": \"rgb(17,17,17)\", \"gridcolor\": \"#506784\", \"gridwidth\": 2, \"linecolor\": \"#506784\", \"showbackground\": true, \"ticks\": \"\", \"zerolinecolor\": \"#C8D4E3\"}}, \"shapedefaults\": {\"line\": {\"color\": \"#f2f5fa\"}}, \"sliderdefaults\": {\"bgcolor\": \"#C8D4E3\", \"bordercolor\": \"rgb(17,17,17)\", \"borderwidth\": 1, \"tickwidth\": 0}, \"ternary\": {\"aaxis\": {\"gridcolor\": \"#506784\", \"linecolor\": \"#506784\", \"ticks\": \"\"}, \"baxis\": {\"gridcolor\": \"#506784\", \"linecolor\": \"#506784\", \"ticks\": \"\"}, \"bgcolor\": \"rgb(17,17,17)\", \"caxis\": {\"gridcolor\": \"#506784\", \"linecolor\": \"#506784\", \"ticks\": \"\"}}, \"title\": {\"x\": 0.05}, \"updatemenudefaults\": {\"bgcolor\": \"#506784\", \"borderwidth\": 0}, \"xaxis\": {\"automargin\": true, \"gridcolor\": \"#283442\", \"linecolor\": \"#506784\", \"ticks\": \"\", \"title\": {\"standoff\": 15}, \"zerolinecolor\": \"#283442\", \"zerolinewidth\": 2}, \"yaxis\": {\"automargin\": true, \"gridcolor\": \"#283442\", \"linecolor\": \"#506784\", \"ticks\": \"\", \"title\": {\"standoff\": 15}, \"zerolinecolor\": \"#283442\", \"zerolinewidth\": 2}}}, \"title\": {\"text\": \"Weekly vs Week + 1: Correlation = 0.8697401671869476\"}, \"xaxis\": {\"title\": {\"text\": \"Week + 1\"}}, \"yaxis\": {\"title\": {\"text\": \"Weekly Gross\"}}},                        {\"responsive\": true}                    ).then(function(){\n",
       "                            \n",
       "var gd = document.getElementById('305eb6ea-d773-4c8a-abdf-b9582e0a7fbe');\n",
       "var x = new MutationObserver(function (mutations, observer) {{\n",
       "        var display = window.getComputedStyle(gd).display;\n",
       "        if (!display || display === 'none') {{\n",
       "            console.log([gd, 'removed!']);\n",
       "            Plotly.purge(gd);\n",
       "            observer.disconnect();\n",
       "        }}\n",
       "}});\n",
       "\n",
       "// Listen for the removal of the full notebook cells\n",
       "var notebookContainer = gd.closest('#notebook-container');\n",
       "if (notebookContainer) {{\n",
       "    x.observe(notebookContainer, {childList: true});\n",
       "}}\n",
       "\n",
       "// Listen for the clearing of the current output cell\n",
       "var outputEl = gd.closest('.output');\n",
       "if (outputEl) {{\n",
       "    x.observe(outputEl, {childList: true});\n",
       "}}\n",
       "\n",
       "                        })                };                });            </script>        </div>"
      ]
     },
     "metadata": {},
     "output_type": "display_data"
    }
   ],
   "source": [
    "import plotly.graph_objects as go\n",
    "import pandas as pd\n",
    "from datetime import timedelta\n",
    "\n",
    "\n",
    "COLORS = ['rgb(67,67,67)', 'rgb(115,115,115)', 'rgb(49,130,189)', 'rgb(189,189,189)']\n",
    "c = ['red', 'blue', 'orange', 'white']\n",
    "def static_stacked_trend_graph(stack=False):\n",
    "    \"\"\"\n",
    "    Returns scatter line plot of all power sources and power load.\n",
    "    If `stack` is `True`, the 4 power sources are stacked together to show the overall power\n",
    "    production.\n",
    "    \"\"\"\n",
    "    trends = []\n",
    "    revenues = []\n",
    "    \n",
    "    stack=False\n",
    "    df = pd.read_csv('2_mo_weekly.csv', sep='\\t')\n",
    "    df['Date_dt'] = df['Date'].astype('datetime64[ns]')\n",
    "    date = df['Date_dt'].iloc[-1]\n",
    "    if df is None:\n",
    "        return go.Figure()\n",
    "    \n",
    "    fig = go.Figure()\n",
    "    movie_list = df[df['Date_dt'] == date].sort_values(by=['Weekly'], ascending=False)['Release'][0:20]\n",
    "    for row in range(df.shape[0]):\n",
    "        date = df['Date_dt'].iloc[-1]\n",
    "        trend = df.iloc[row]['Weekly']\n",
    "        #if trend > 40:\n",
    "        #    continue\n",
    "        rev = df.iloc[row]['Week + 1']\n",
    "        #if trend > 1 and rev <1e6:\n",
    "        #    continue\n",
    "        #if trend == 0:\n",
    "        #    continue\n",
    "        trends.append(trend)\n",
    "        revenues.append(rev)\n",
    "        fig.add_trace(go.Scatter(x=[trend], y=[rev], mode='markers', name=df.iloc[row][\"Release\"],\n",
    "                         line={'width': 2, 'color': c[row%4]},\n",
    "                         stackgroup='stack' if stack else None))\n",
    "    trends, revenues = pd.Series(trends), pd.Series(revenues)\n",
    "    corr = trends.corr(revenues)\n",
    "    \n",
    "    title = f'Weekly vs Week + 1: Correlation = {corr}'\n",
    "    if stack:\n",
    "        title += ' [Stacked]'\n",
    "    fig.update_layout(template='plotly_dark',\n",
    "                      title=title,\n",
    "                      plot_bgcolor='#23272c',\n",
    "                      paper_bgcolor='#23272c',\n",
    "                      yaxis_title='Weekly Gross',\n",
    "                      xaxis_title='Week + 1')\n",
    "    return fig\n",
    "static_stacked_trend_graph()"
   ]
  },
  {
   "cell_type": "code",
   "execution_count": 25,
   "metadata": {},
   "outputs": [],
   "source": [
    "df = pd.read_csv('6_mo_weekly.csv', sep='\\t')"
   ]
  },
  {
   "cell_type": "code",
   "execution_count": 71,
   "metadata": {},
   "outputs": [
    {
     "name": "stdout",
     "output_type": "stream",
     "text": [
      "2020-05-18T00:00:00.000000000\n",
      "0.9139008797228658\n"
     ]
    },
    {
     "data": {
      "image/png": "[encoded data removed]",
      "text/plain": [
       "<Figure size 432x288 with 1 Axes>"
      ]
     },
     "metadata": {
      "needs_background": "light"
     },
     "output_type": "display_data"
    },
    {
     "name": "stdout",
     "output_type": "stream",
     "text": [
      "2020-05-25T00:00:00.000000000\n",
      "0.05583579376613875\n"
     ]
    },
    {
     "data": {
      "image/png": "[encoded data removed]",
      "text/plain": [
       "<Figure size 432x288 with 1 Axes>"
      ]
     },
     "metadata": {
      "needs_background": "light"
     },
     "output_type": "display_data"
    },
    {
     "name": "stdout",
     "output_type": "stream",
     "text": [
      "2020-06-01T00:00:00.000000000\n",
      "0.5246400426304917\n"
     ]
    },
    {
     "data": {
      "image/png": "[encoded data removed]",
      "text/plain": [
       "<Figure size 432x288 with 1 Axes>"
      ]
     },
     "metadata": {
      "needs_background": "light"
     },
     "output_type": "display_data"
    },
    {
     "name": "stdout",
     "output_type": "stream",
     "text": [
      "2020-06-08T00:00:00.000000000\n",
      "0.6741417260390874\n"
     ]
    },
    {
     "data": {
      "image/png": "[encoded data removed]",
      "text/plain": [
       "<Figure size 432x288 with 1 Axes>"
      ]
     },
     "metadata": {
      "needs_background": "light"
     },
     "output_type": "display_data"
    },
    {
     "name": "stdout",
     "output_type": "stream",
     "text": [
      "2020-06-15T00:00:00.000000000\n",
      "0.5576583562034678\n"
     ]
    },
    {
     "data": {
      "image/png": "[encoded data removed]",
      "text/plain": [
       "<Figure size 432x288 with 1 Axes>"
      ]
     },
     "metadata": {
      "needs_background": "light"
     },
     "output_type": "display_data"
    },
    {
     "name": "stdout",
     "output_type": "stream",
     "text": [
      "2020-06-22T00:00:00.000000000\n",
      "0.8068127320314725\n"
     ]
    },
    {
     "data": {
      "image/png": "[encoded data removed]",
      "text/plain": [
       "<Figure size 432x288 with 1 Axes>"
      ]
     },
     "metadata": {
      "needs_background": "light"
     },
     "output_type": "display_data"
    },
    {
     "name": "stdout",
     "output_type": "stream",
     "text": [
      "2020-06-29T00:00:00.000000000\n",
      "0.13820409495149452\n"
     ]
    },
    {
     "data": {
      "image/png": "[encoded data removed]",
      "text/plain": [
       "<Figure size 432x288 with 1 Axes>"
      ]
     },
     "metadata": {
      "needs_background": "light"
     },
     "output_type": "display_data"
    },
    {
     "name": "stdout",
     "output_type": "stream",
     "text": [
      "2020-07-06T00:00:00.000000000\n",
      "0.3371114911256263\n"
     ]
    },
    {
     "data": {
      "image/png": "[encoded data removed]",
      "text/plain": [
       "<Figure size 432x288 with 1 Axes>"
      ]
     },
     "metadata": {
      "needs_background": "light"
     },
     "output_type": "display_data"
    },
    {
     "name": "stdout",
     "output_type": "stream",
     "text": [
      "2020-07-13T00:00:00.000000000\n",
      "0.4263643122298629\n"
     ]
    },
    {
     "data": {
      "image/png": "[encoded data removed]",
      "text/plain": [
       "<Figure size 432x288 with 1 Axes>"
      ]
     },
     "metadata": {
      "needs_background": "light"
     },
     "output_type": "display_data"
    },
    {
     "name": "stdout",
     "output_type": "stream",
     "text": [
      "2020-07-20T00:00:00.000000000\n",
      "0.28094000021223653\n"
     ]
    },
    {
     "data": {
      "image/png": "[encoded data removed]",
      "text/plain": [
       "<Figure size 432x288 with 1 Axes>"
      ]
     },
     "metadata": {
      "needs_background": "light"
     },
     "output_type": "display_data"
    },
    {
     "name": "stdout",
     "output_type": "stream",
     "text": [
      "2020-07-27T00:00:00.000000000\n",
      "0.6842042216876978\n"
     ]
    },
    {
     "data": {
      "image/png": "[encoded data removed]",
      "text/plain": [
       "<Figure size 432x288 with 1 Axes>"
      ]
     },
     "metadata": {
      "needs_background": "light"
     },
     "output_type": "display_data"
    },
    {
     "name": "stdout",
     "output_type": "stream",
     "text": [
      "2020-08-03T00:00:00.000000000\n",
      "0.5263731850647377\n"
     ]
    },
    {
     "data": {
      "image/png": "[encoded data removed]",
      "text/plain": [
       "<Figure size 432x288 with 1 Axes>"
      ]
     },
     "metadata": {
      "needs_background": "light"
     },
     "output_type": "display_data"
    },
    {
     "name": "stdout",
     "output_type": "stream",
     "text": [
      "2020-08-10T00:00:00.000000000\n",
      "-0.15629269136714063\n"
     ]
    },
    {
     "data": {
      "image/png": "[encoded data removed]",
      "text/plain": [
       "<Figure size 432x288 with 1 Axes>"
      ]
     },
     "metadata": {
      "needs_background": "light"
     },
     "output_type": "display_data"
    },
    {
     "name": "stdout",
     "output_type": "stream",
     "text": [
      "2020-08-17T00:00:00.000000000\n",
      "-0.04217635912211615\n"
     ]
    },
    {
     "data": {
      "image/png": "[encoded data removed]",
      "text/plain": [
       "<Figure size 432x288 with 1 Axes>"
      ]
     },
     "metadata": {
      "needs_background": "light"
     },
     "output_type": "display_data"
    },
    {
     "name": "stdout",
     "output_type": "stream",
     "text": [
      "2020-08-24T00:00:00.000000000\n",
      "-0.10724166202797121\n"
     ]
    },
    {
     "data": {
      "image/png": "[encoded data removed]",
      "text/plain": [
       "<Figure size 432x288 with 1 Axes>"
      ]
     },
     "metadata": {
      "needs_background": "light"
     },
     "output_type": "display_data"
    },
    {
     "name": "stdout",
     "output_type": "stream",
     "text": [
      "2020-08-31T00:00:00.000000000\n",
      "-0.11842111834828156\n"
     ]
    },
    {
     "data": {
      "image/png": "[encoded data removed]",
      "text/plain": [
       "<Figure size 432x288 with 1 Axes>"
      ]
     },
     "metadata": {
      "needs_background": "light"
     },
     "output_type": "display_data"
    },
    {
     "name": "stdout",
     "output_type": "stream",
     "text": [
      "2020-09-07T00:00:00.000000000\n",
      "0.17852771826992106\n"
     ]
    },
    {
     "data": {
      "image/png": "[encoded data removed]",
      "text/plain": [
       "<Figure size 432x288 with 1 Axes>"
      ]
     },
     "metadata": {
      "needs_background": "light"
     },
     "output_type": "display_data"
    },
    {
     "name": "stdout",
     "output_type": "stream",
     "text": [
      "2020-09-14T00:00:00.000000000\n",
      "-0.027575397251530707\n"
     ]
    },
    {
     "data": {
      "image/png": "[encoded data removed]",
      "text/plain": [
       "<Figure size 432x288 with 1 Axes>"
      ]
     },
     "metadata": {
      "needs_background": "light"
     },
     "output_type": "display_data"
    },
    {
     "name": "stdout",
     "output_type": "stream",
     "text": [
      "2020-09-21T00:00:00.000000000\n",
      "0.08507693255318702\n"
     ]
    },
    {
     "data": {
      "image/png": "[encoded data removed]",
      "text/plain": [
       "<Figure size 432x288 with 1 Axes>"
      ]
     },
     "metadata": {
      "needs_background": "light"
     },
     "output_type": "display_data"
    },
    {
     "name": "stdout",
     "output_type": "stream",
     "text": [
      "2020-09-28T00:00:00.000000000\n",
      "-0.20257188635280643\n"
     ]
    },
    {
     "data": {
      "image/png": "[encoded data removed]",
      "text/plain": [
       "<Figure size 432x288 with 1 Axes>"
      ]
     },
     "metadata": {
      "needs_background": "light"
     },
     "output_type": "display_data"
    },
    {
     "name": "stdout",
     "output_type": "stream",
     "text": [
      "2020-10-05T00:00:00.000000000\n",
      "-0.1203153858713787\n"
     ]
    },
    {
     "data": {
      "image/png": "[encoded data removed]",
      "text/plain": [
       "<Figure size 432x288 with 1 Axes>"
      ]
     },
     "metadata": {
      "needs_background": "light"
     },
     "output_type": "display_data"
    },
    {
     "name": "stdout",
     "output_type": "stream",
     "text": [
      "2020-10-12T00:00:00.000000000\n",
      "-0.236894020775502\n"
     ]
    },
    {
     "data": {
      "image/png": "[encoded data removed]",
      "text/plain": [
       "<Figure size 432x288 with 1 Axes>"
      ]
     },
     "metadata": {
      "needs_background": "light"
     },
     "output_type": "display_data"
    },
    {
     "name": "stdout",
     "output_type": "stream",
     "text": [
      "2020-10-19T00:00:00.000000000\n",
      "-0.22335680734151273\n"
     ]
    },
    {
     "data": {
      "image/png": "[encoded data removed]",
      "text/plain": [
       "<Figure size 432x288 with 1 Axes>"
      ]
     },
     "metadata": {
      "needs_background": "light"
     },
     "output_type": "display_data"
    },
    {
     "name": "stdout",
     "output_type": "stream",
     "text": [
      "2020-10-26T00:00:00.000000000\n",
      "-0.10103889042522249\n"
     ]
    },
    {
     "data": {
      "image/png": "[encoded data removed]",
      "text/plain": [
       "<Figure size 432x288 with 1 Axes>"
      ]
     },
     "metadata": {
      "needs_background": "light"
     },
     "output_type": "display_data"
    },
    {
     "name": "stdout",
     "output_type": "stream",
     "text": [
      "2020-11-02T00:00:00.000000000\n",
      "-0.17440327158493632\n"
     ]
    },
    {
     "data": {
      "image/png": "[encoded data removed]",
      "text/plain": [
       "<Figure size 432x288 with 1 Axes>"
      ]
     },
     "metadata": {
      "needs_background": "light"
     },
     "output_type": "display_data"
    },
    {
     "name": "stdout",
     "output_type": "stream",
     "text": [
      "2020-11-09T00:00:00.000000000\n",
      "0.6157964918850519\n"
     ]
    },
    {
     "data": {
      "image/png": "[encoded data removed]",
      "text/plain": [
       "<Figure size 432x288 with 1 Axes>"
      ]
     },
     "metadata": {
      "needs_background": "light"
     },
     "output_type": "display_data"
    },
    {
     "name": "stdout",
     "output_type": "stream",
     "text": [
      "2020-11-16T00:00:00.000000000\n",
      "0.6524839910251948\n"
     ]
    },
    {
     "data": {
      "image/png": "[encoded data removed]",
      "text/plain": [
       "<Figure size 432x288 with 1 Axes>"
      ]
     },
     "metadata": {
      "needs_background": "light"
     },
     "output_type": "display_data"
    }
   ],
   "source": [
    "import plotly.graph_objects as go\n",
    "\n",
    "df = pd.read_csv('6_mo_weekly.csv', sep='\\t')\n",
    "df['Date_dt'] = df['Date'].astype('datetime64[ns]')\n",
    "\n",
    "for i in range(len(df['Date_dt'].unique())):\n",
    "    date = df['Date_dt'].unique()[i]  #.iloc[-10]\n",
    "    \n",
    "    print(date)\n",
    "\n",
    "    fig = go.Figure()\n",
    "    sorted_df = df[df['Date_dt'] == date].sort_values(by=['Weekly'], ascending=False)[0:15][::-1]\n",
    "    y = sorted_df['Release']\n",
    "    x_rev = sorted_df['Weekly'] / np.sum(sorted_df['Weekly'])\n",
    "    x_trend = sorted_df['google trends'] / np.sum(sorted_df['google trends'])\n",
    "    trends, revenues = pd.Series(x_trend), pd.Series(x_rev)\n",
    "    corr = trends.corr(revenues)\n",
    "    print(corr)\n",
    "    plt.scatter(x_rev, x_trend)\n",
    "    plt.show()\n",
    "    continue\n",
    "    \n",
    "    fig = go.Figure()\n",
    "    fig.add_trace(go.Bar(\n",
    "        y=y,\n",
    "        x=x_rev,\n",
    "        name='Gross',\n",
    "        orientation='h',\n",
    "        marker=dict(\n",
    "            color='blue', #rgba(246, 78, 139, 0.6)',\n",
    "            line=dict(color='rgba(246, 78, 139, 1.0)', width=3)\n",
    "        )\n",
    "    ))\n",
    "    fig.add_trace(go.Bar(\n",
    "        y=y,\n",
    "        x=x_trend,\n",
    "        name='Google Trends',\n",
    "        orientation='h',\n",
    "        marker=dict(\n",
    "            color='red', #rgba(58, 71, 80, 0.6)',\n",
    "            line=dict(color='rgba(58, 71, 80, 1.0)', width=3)\n",
    "        )\n",
    "    ))\n",
    "    title = f'Normalized Gross and Google Trends for top 15 Movies: Correlation = {corr}'\n",
    "\n",
    "    #fig.update_layout(barmode='stack')\n",
    "    fig.update_layout(template='plotly_dark',\n",
    "                      title=title,\n",
    "                      plot_bgcolor='#23272c',\n",
    "                      paper_bgcolor='#23272c',\n",
    "                      yaxis_title='Movies',\n",
    "                      xaxis_title='Normalized Quantities',barmode='stack')\n",
    "\n",
    "\n",
    "    #fig.show()"
   ]
  },
  {
   "cell_type": "code",
   "execution_count": 65,
   "metadata": {
    "scrolled": false
   },
   "outputs": [
    {
     "name": "stdout",
     "output_type": "stream",
     "text": [
      "2020-06-22T00:00:00.000000000\n"
     ]
    },
    {
     "data": {
      "application/vnd.plotly.v1+json": {
       "config": {
        "plotlyServerURL": "https://plot.ly"
       },
       "data": [
        {
         "marker": {
          "color": "blue",
          "line": {
           "color": "rgba(246, 78, 139, 1.0)",
           "width": 3
          }
         },
         "name": "Gross",
         "orientation": "h",
         "type": "bar",
         "x": [
          0.0023669114544999626,
          0.0075573145051858375,
          0.013244476750026025,
          0.04446360051794451,
          0.1497509811907245,
          0.15164852825957129,
          0.3124030908649272,
          0.3185650964571207
         ],
         "y": [
          "Babyteeth",
          "The Gentlemen",
          "Max Winslow and the House of Secrets",
          "Miss Juneteenth",
          "Infamous",
          "The Wretched",
          "Becky",
          "Followed"
         ]
        },
        {
         "marker": {
          "color": "red",
          "line": {
           "color": "rgba(58, 71, 80, 1.0)",
           "width": 3
          }
         },
         "name": "Google Trends",
         "orientation": "h",
         "type": "bar",
         "x": [
          0.012521238812903375,
          0.128768185200247,
          0.0016802694665057432,
          0.013329060671800367,
          0.12822569188841146,
          0.02638884739063507,
          0.45614336630554964,
          0.23294334026394745
         ],
         "y": [
          "Babyteeth",
          "The Gentlemen",
          "Max Winslow and the House of Secrets",
          "Miss Juneteenth",
          "Infamous",
          "The Wretched",
          "Becky",
          "Followed"
         ]
        }
       ],
       "layout": {
        "barmode": "stack",
        "paper_bgcolor": "#23272c",
        "plot_bgcolor": "#23272c",
        "template": {
         "data": {
          "bar": [
           {
            "error_x": {
             "color": "#f2f5fa"
            },
            "error_y": {
             "color": "#f2f5fa"
            },
            "marker": {
             "line": {
              "color": "rgb(17,17,17)",
              "width": 0.5
             }
            },
            "type": "bar"
           }
          ],
          "barpolar": [
           {
            "marker": {
             "line": {
              "color": "rgb(17,17,17)",
              "width": 0.5
             }
            },
            "type": "barpolar"
           }
          ],
          "carpet": [
           {
            "aaxis": {
             "endlinecolor": "#A2B1C6",
             "gridcolor": "#506784",
             "linecolor": "#506784",
             "minorgridcolor": "#506784",
             "startlinecolor": "#A2B1C6"
            },
            "baxis": {
             "endlinecolor": "#A2B1C6",
             "gridcolor": "#506784",
             "linecolor": "#506784",
             "minorgridcolor": "#506784",
             "startlinecolor": "#A2B1C6"
            },
            "type": "carpet"
           }
          ],
          "choropleth": [
           {
            "colorbar": {
             "outlinewidth": 0,
             "ticks": ""
            },
            "type": "choropleth"
           }
          ],
          "contour": [
           {
            "colorbar": {
             "outlinewidth": 0,
             "ticks": ""
            },
            "colorscale": [
             [
              0,
              "#0d0887"
             ],
             [
              0.1111111111111111,
              "#46039f"
             ],
             [
              0.2222222222222222,
              "#7201a8"
             ],
             [
              0.3333333333333333,
              "#9c179e"
             ],
             [
              0.4444444444444444,
              "#bd3786"
             ],
             [
              0.5555555555555556,
              "#d8576b"
             ],
             [
              0.6666666666666666,
              "#ed7953"
             ],
             [
              0.7777777777777778,
              "#fb9f3a"
             ],
             [
              0.8888888888888888,
              "#fdca26"
             ],
             [
              1,
              "#f0f921"
             ]
            ],
            "type": "contour"
           }
          ],
          "contourcarpet": [
           {
            "colorbar": {
             "outlinewidth": 0,
             "ticks": ""
            },
            "type": "contourcarpet"
           }
          ],
          "heatmap": [
           {
            "colorbar": {
             "outlinewidth": 0,
             "ticks": ""
            },
            "colorscale": [
             [
              0,
              "#0d0887"
             ],
             [
              0.1111111111111111,
              "#46039f"
             ],
             [
              0.2222222222222222,
              "#7201a8"
             ],
             [
              0.3333333333333333,
              "#9c179e"
             ],
             [
              0.4444444444444444,
              "#bd3786"
             ],
             [
              0.5555555555555556,
              "#d8576b"
             ],
             [
              0.6666666666666666,
              "#ed7953"
             ],
             [
              0.7777777777777778,
              "#fb9f3a"
             ],
             [
              0.8888888888888888,
              "#fdca26"
             ],
             [
              1,
              "#f0f921"
             ]
            ],
            "type": "heatmap"
           }
          ],
          "heatmapgl": [
           {
            "colorbar": {
             "outlinewidth": 0,
             "ticks": ""
            },
            "colorscale": [
             [
              0,
              "#0d0887"
             ],
             [
              0.1111111111111111,
              "#46039f"
             ],
             [
              0.2222222222222222,
              "#7201a8"
             ],
             [
              0.3333333333333333,
              "#9c179e"
             ],
             [
              0.4444444444444444,
              "#bd3786"
             ],
             [
              0.5555555555555556,
              "#d8576b"
             ],
             [
              0.6666666666666666,
              "#ed7953"
             ],
             [
              0.7777777777777778,
              "#fb9f3a"
             ],
             [
              0.8888888888888888,
              "#fdca26"
             ],
             [
              1,
              "#f0f921"
             ]
            ],
            "type": "heatmapgl"
           }
          ],
          "histogram": [
           {
            "marker": {
             "colorbar": {
              "outlinewidth": 0,
              "ticks": ""
             }
            },
            "type": "histogram"
           }
          ],
          "histogram2d": [
           {
            "colorbar": {
             "outlinewidth": 0,
             "ticks": ""
            },
            "colorscale": [
             [
              0,
              "#0d0887"
             ],
             [
              0.1111111111111111,
              "#46039f"
             ],
             [
              0.2222222222222222,
              "#7201a8"
             ],
             [
              0.3333333333333333,
              "#9c179e"
             ],
             [
              0.4444444444444444,
              "#bd3786"
             ],
             [
              0.5555555555555556,
              "#d8576b"
             ],
             [
              0.6666666666666666,
              "#ed7953"
             ],
             [
              0.7777777777777778,
              "#fb9f3a"
             ],
             [
              0.8888888888888888,
              "#fdca26"
             ],
             [
              1,
              "#f0f921"
             ]
            ],
            "type": "histogram2d"
           }
          ],
          "histogram2dcontour": [
           {
            "colorbar": {
             "outlinewidth": 0,
             "ticks": ""
            },
            "colorscale": [
             [
              0,
              "#0d0887"
             ],
             [
              0.1111111111111111,
              "#46039f"
             ],
             [
              0.2222222222222222,
              "#7201a8"
             ],
             [
              0.3333333333333333,
              "#9c179e"
             ],
             [
              0.4444444444444444,
              "#bd3786"
             ],
             [
              0.5555555555555556,
              "#d8576b"
             ],
             [
              0.6666666666666666,
              "#ed7953"
             ],
             [
              0.7777777777777778,
              "#fb9f3a"
             ],
             [
              0.8888888888888888,
              "#fdca26"
             ],
             [
              1,
              "#f0f921"
             ]
            ],
            "type": "histogram2dcontour"
           }
          ],
          "mesh3d": [
           {
            "colorbar": {
             "outlinewidth": 0,
             "ticks": ""
            },
            "type": "mesh3d"
           }
          ],
          "parcoords": [
           {
            "line": {
             "colorbar": {
              "outlinewidth": 0,
              "ticks": ""
             }
            },
            "type": "parcoords"
           }
          ],
          "pie": [
           {
            "automargin": true,
            "type": "pie"
           }
          ],
          "scatter": [
           {
            "marker": {
             "line": {
              "color": "#283442"
             }
            },
            "type": "scatter"
           }
          ],
          "scatter3d": [
           {
            "line": {
             "colorbar": {
              "outlinewidth": 0,
              "ticks": ""
             }
            },
            "marker": {
             "colorbar": {
              "outlinewidth": 0,
              "ticks": ""
             }
            },
            "type": "scatter3d"
           }
          ],
          "scattercarpet": [
           {
            "marker": {
             "colorbar": {
              "outlinewidth": 0,
              "ticks": ""
             }
            },
            "type": "scattercarpet"
           }
          ],
          "scattergeo": [
           {
            "marker": {
             "colorbar": {
              "outlinewidth": 0,
              "ticks": ""
             }
            },
            "type": "scattergeo"
           }
          ],
          "scattergl": [
           {
            "marker": {
             "line": {
              "color": "#283442"
             }
            },
            "type": "scattergl"
           }
          ],
          "scattermapbox": [
           {
            "marker": {
             "colorbar": {
              "outlinewidth": 0,
              "ticks": ""
             }
            },
            "type": "scattermapbox"
           }
          ],
          "scatterpolar": [
           {
            "marker": {
             "colorbar": {
              "outlinewidth": 0,
              "ticks": ""
             }
            },
            "type": "scatterpolar"
           }
          ],
          "scatterpolargl": [
           {
            "marker": {
             "colorbar": {
              "outlinewidth": 0,
              "ticks": ""
             }
            },
            "type": "scatterpolargl"
           }
          ],
          "scatterternary": [
           {
            "marker": {
             "colorbar": {
              "outlinewidth": 0,
              "ticks": ""
             }
            },
            "type": "scatterternary"
           }
          ],
          "surface": [
           {
            "colorbar": {
             "outlinewidth": 0,
             "ticks": ""
            },
            "colorscale": [
             [
              0,
              "#0d0887"
             ],
             [
              0.1111111111111111,
              "#46039f"
             ],
             [
              0.2222222222222222,
              "#7201a8"
             ],
             [
              0.3333333333333333,
              "#9c179e"
             ],
             [
              0.4444444444444444,
              "#bd3786"
             ],
             [
              0.5555555555555556,
              "#d8576b"
             ],
             [
              0.6666666666666666,
              "#ed7953"
             ],
             [
              0.7777777777777778,
              "#fb9f3a"
             ],
             [
              0.8888888888888888,
              "#fdca26"
             ],
             [
              1,
              "#f0f921"
             ]
            ],
            "type": "surface"
           }
          ],
          "table": [
           {
            "cells": {
             "fill": {
              "color": "#506784"
             },
             "line": {
              "color": "rgb(17,17,17)"
             }
            },
            "header": {
             "fill": {
              "color": "#2a3f5f"
             },
             "line": {
              "color": "rgb(17,17,17)"
             }
            },
            "type": "table"
           }
          ]
         },
         "layout": {
          "annotationdefaults": {
           "arrowcolor": "#f2f5fa",
           "arrowhead": 0,
           "arrowwidth": 1
          },
          "coloraxis": {
           "colorbar": {
            "outlinewidth": 0,
            "ticks": ""
           }
          },
          "colorscale": {
           "diverging": [
            [
             0,
             "#8e0152"
            ],
            [
             0.1,
             "#c51b7d"
            ],
            [
             0.2,
             "#de77ae"
            ],
            [
             0.3,
             "#f1b6da"
            ],
            [
             0.4,
             "#fde0ef"
            ],
            [
             0.5,
             "#f7f7f7"
            ],
            [
             0.6,
             "#e6f5d0"
            ],
            [
             0.7,
             "#b8e186"
            ],
            [
             0.8,
             "#7fbc41"
            ],
            [
             0.9,
             "#4d9221"
            ],
            [
             1,
             "#276419"
            ]
           ],
           "sequential": [
            [
             0,
             "#0d0887"
            ],
            [
             0.1111111111111111,
             "#46039f"
            ],
            [
             0.2222222222222222,
             "#7201a8"
            ],
            [
             0.3333333333333333,
             "#9c179e"
            ],
            [
             0.4444444444444444,
             "#bd3786"
            ],
            [
             0.5555555555555556,
             "#d8576b"
            ],
            [
             0.6666666666666666,
             "#ed7953"
            ],
            [
             0.7777777777777778,
             "#fb9f3a"
            ],
            [
             0.8888888888888888,
             "#fdca26"
            ],
            [
             1,
             "#f0f921"
            ]
           ],
           "sequentialminus": [
            [
             0,
             "#0d0887"
            ],
            [
             0.1111111111111111,
             "#46039f"
            ],
            [
             0.2222222222222222,
             "#7201a8"
            ],
            [
             0.3333333333333333,
             "#9c179e"
            ],
            [
             0.4444444444444444,
             "#bd3786"
            ],
            [
             0.5555555555555556,
             "#d8576b"
            ],
            [
             0.6666666666666666,
             "#ed7953"
            ],
            [
             0.7777777777777778,
             "#fb9f3a"
            ],
            [
             0.8888888888888888,
             "#fdca26"
            ],
            [
             1,
             "#f0f921"
            ]
           ]
          },
          "colorway": [
           "#636efa",
           "#EF553B",
           "#00cc96",
           "#ab63fa",
           "#FFA15A",
           "#19d3f3",
           "#FF6692",
           "#B6E880",
           "#FF97FF",
           "#FECB52"
          ],
          "font": {
           "color": "#f2f5fa"
          },
          "geo": {
           "bgcolor": "rgb(17,17,17)",
           "lakecolor": "rgb(17,17,17)",
           "landcolor": "rgb(17,17,17)",
           "showlakes": true,
           "showland": true,
           "subunitcolor": "#506784"
          },
          "hoverlabel": {
           "align": "left"
          },
          "hovermode": "closest",
          "mapbox": {
           "style": "dark"
          },
          "paper_bgcolor": "rgb(17,17,17)",
          "plot_bgcolor": "rgb(17,17,17)",
          "polar": {
           "angularaxis": {
            "gridcolor": "#506784",
            "linecolor": "#506784",
            "ticks": ""
           },
           "bgcolor": "rgb(17,17,17)",
           "radialaxis": {
            "gridcolor": "#506784",
            "linecolor": "#506784",
            "ticks": ""
           }
          },
          "scene": {
           "xaxis": {
            "backgroundcolor": "rgb(17,17,17)",
            "gridcolor": "#506784",
            "gridwidth": 2,
            "linecolor": "#506784",
            "showbackground": true,
            "ticks": "",
            "zerolinecolor": "#C8D4E3"
           },
           "yaxis": {
            "backgroundcolor": "rgb(17,17,17)",
            "gridcolor": "#506784",
            "gridwidth": 2,
            "linecolor": "#506784",
            "showbackground": true,
            "ticks": "",
            "zerolinecolor": "#C8D4E3"
           },
           "zaxis": {
            "backgroundcolor": "rgb(17,17,17)",
            "gridcolor": "#506784",
            "gridwidth": 2,
            "linecolor": "#506784",
            "showbackground": true,
            "ticks": "",
            "zerolinecolor": "#C8D4E3"
           }
          },
          "shapedefaults": {
           "line": {
            "color": "#f2f5fa"
           }
          },
          "sliderdefaults": {
           "bgcolor": "#C8D4E3",
           "bordercolor": "rgb(17,17,17)",
           "borderwidth": 1,
           "tickwidth": 0
          },
          "ternary": {
           "aaxis": {
            "gridcolor": "#506784",
            "linecolor": "#506784",
            "ticks": ""
           },
           "baxis": {
            "gridcolor": "#506784",
            "linecolor": "#506784",
            "ticks": ""
           },
           "bgcolor": "rgb(17,17,17)",
           "caxis": {
            "gridcolor": "#506784",
            "linecolor": "#506784",
            "ticks": ""
           }
          },
          "title": {
           "x": 0.05
          },
          "updatemenudefaults": {
           "bgcolor": "#506784",
           "borderwidth": 0
          },
          "xaxis": {
           "automargin": true,
           "gridcolor": "#283442",
           "linecolor": "#506784",
           "ticks": "",
           "title": {
            "standoff": 15
           },
           "zerolinecolor": "#283442",
           "zerolinewidth": 2
          },
          "yaxis": {
           "automargin": true,
           "gridcolor": "#283442",
           "linecolor": "#506784",
           "ticks": "",
           "title": {
            "standoff": 15
           },
           "zerolinecolor": "#283442",
           "zerolinewidth": 2
          }
         }
        },
        "title": {
         "text": "Normalized Gross and Google Trends for top 15 Movies: Correlation = 0.8068127320314725"
        },
        "xaxis": {
         "title": {
          "text": "Normalized Quantities"
         }
        },
        "yaxis": {
         "title": {
          "text": "Movies"
         }
        }
       }
      },
      "text/html": [
       "<div>                            <div id=\"505e2ef3-6638-45f6-b9e0-e253337305d4\" class=\"plotly-graph-div\" style=\"height:525px; width:100%;\"></div>            <script type=\"text/javascript\">                require([\"plotly\"], function(Plotly) {                    window.PLOTLYENV=window.PLOTLYENV || {};                                    if (document.getElementById(\"505e2ef3-6638-45f6-b9e0-e253337305d4\")) {                    Plotly.newPlot(                        \"505e2ef3-6638-45f6-b9e0-e253337305d4\",                        [{\"marker\": {\"color\": \"blue\", \"line\": {\"color\": \"rgba(246, 78, 139, 1.0)\", \"width\": 3}}, \"name\": \"Gross\", \"orientation\": \"h\", \"type\": \"bar\", \"x\": [0.0023669114544999626, 0.0075573145051858375, 0.013244476750026025, 0.04446360051794451, 0.1497509811907245, 0.15164852825957129, 0.3124030908649272, 0.3185650964571207], \"y\": [\"Babyteeth\", \"The Gentlemen\", \"Max Winslow and the House of Secrets\", \"Miss Juneteenth\", \"Infamous\", \"The Wretched\", \"Becky\", \"Followed\"]}, {\"marker\": {\"color\": \"red\", \"line\": {\"color\": \"rgba(58, 71, 80, 1.0)\", \"width\": 3}}, \"name\": \"Google Trends\", \"orientation\": \"h\", \"type\": \"bar\", \"x\": [0.012521238812903375, 0.128768185200247, 0.0016802694665057432, 0.013329060671800367, 0.12822569188841146, 0.02638884739063507, 0.45614336630554964, 0.23294334026394745], \"y\": [\"Babyteeth\", \"The Gentlemen\", \"Max Winslow and the House of Secrets\", \"Miss Juneteenth\", \"Infamous\", \"The Wretched\", \"Becky\", \"Followed\"]}],                        {\"barmode\": \"stack\", \"paper_bgcolor\": \"#23272c\", \"plot_bgcolor\": \"#23272c\", \"template\": {\"data\": {\"bar\": [{\"error_x\": {\"color\": \"#f2f5fa\"}, \"error_y\": {\"color\": \"#f2f5fa\"}, \"marker\": {\"line\": {\"color\": \"rgb(17,17,17)\", \"width\": 0.5}}, \"type\": \"bar\"}], \"barpolar\": [{\"marker\": {\"line\": {\"color\": \"rgb(17,17,17)\", \"width\": 0.5}}, \"type\": \"barpolar\"}], \"carpet\": [{\"aaxis\": {\"endlinecolor\": \"#A2B1C6\", \"gridcolor\": \"#506784\", \"linecolor\": \"#506784\", \"minorgridcolor\": \"#506784\", \"startlinecolor\": \"#A2B1C6\"}, \"baxis\": {\"endlinecolor\": \"#A2B1C6\", \"gridcolor\": \"#506784\", \"linecolor\": \"#506784\", \"minorgridcolor\": \"#506784\", \"startlinecolor\": \"#A2B1C6\"}, \"type\": \"carpet\"}], \"choropleth\": [{\"colorbar\": {\"outlinewidth\": 0, \"ticks\": \"\"}, \"type\": \"choropleth\"}], \"contour\": [{\"colorbar\": {\"outlinewidth\": 0, \"ticks\": \"\"}, \"colorscale\": [[0.0, \"#0d0887\"], [0.1111111111111111, \"#46039f\"], [0.2222222222222222, \"#7201a8\"], [0.3333333333333333, \"#9c179e\"], [0.4444444444444444, \"#bd3786\"], [0.5555555555555556, \"#d8576b\"], [0.6666666666666666, \"#ed7953\"], [0.7777777777777778, \"#fb9f3a\"], [0.8888888888888888, \"#fdca26\"], [1.0, \"#f0f921\"]], \"type\": \"contour\"}], \"contourcarpet\": [{\"colorbar\": {\"outlinewidth\": 0, \"ticks\": \"\"}, \"type\": \"contourcarpet\"}], \"heatmap\": [{\"colorbar\": {\"outlinewidth\": 0, \"ticks\": \"\"}, \"colorscale\": [[0.0, \"#0d0887\"], [0.1111111111111111, \"#46039f\"], [0.2222222222222222, \"#7201a8\"], [0.3333333333333333, \"#9c179e\"], [0.4444444444444444, \"#bd3786\"], [0.5555555555555556, \"#d8576b\"], [0.6666666666666666, \"#ed7953\"], [0.7777777777777778, \"#fb9f3a\"], [0.8888888888888888, \"#fdca26\"], [1.0, \"#f0f921\"]], \"type\": \"heatmap\"}], \"heatmapgl\": [{\"colorbar\": {\"outlinewidth\": 0, \"ticks\": \"\"}, \"colorscale\": [[0.0, \"#0d0887\"], [0.1111111111111111, \"#46039f\"], [0.2222222222222222, \"#7201a8\"], [0.3333333333333333, \"#9c179e\"], [0.4444444444444444, \"#bd3786\"], [0.5555555555555556, \"#d8576b\"], [0.6666666666666666, \"#ed7953\"], [0.7777777777777778, \"#fb9f3a\"], [0.8888888888888888, \"#fdca26\"], [1.0, \"#f0f921\"]], \"type\": \"heatmapgl\"}], \"histogram\": [{\"marker\": {\"colorbar\": {\"outlinewidth\": 0, \"ticks\": \"\"}}, \"type\": \"histogram\"}], \"histogram2d\": [{\"colorbar\": {\"outlinewidth\": 0, \"ticks\": \"\"}, \"colorscale\": [[0.0, \"#0d0887\"], [0.1111111111111111, \"#46039f\"], [0.2222222222222222, \"#7201a8\"], [0.3333333333333333, \"#9c179e\"], [0.4444444444444444, \"#bd3786\"], [0.5555555555555556, \"#d8576b\"], [0.6666666666666666, \"#ed7953\"], [0.7777777777777778, \"#fb9f3a\"], [0.8888888888888888, \"#fdca26\"], [1.0, \"#f0f921\"]], \"type\": \"histogram2d\"}], \"histogram2dcontour\": [{\"colorbar\": {\"outlinewidth\": 0, \"ticks\": \"\"}, \"colorscale\": [[0.0, \"#0d0887\"], [0.1111111111111111, \"#46039f\"], [0.2222222222222222, \"#7201a8\"], [0.3333333333333333, \"#9c179e\"], [0.4444444444444444, \"#bd3786\"], [0.5555555555555556, \"#d8576b\"], [0.6666666666666666, \"#ed7953\"], [0.7777777777777778, \"#fb9f3a\"], [0.8888888888888888, \"#fdca26\"], [1.0, \"#f0f921\"]], \"type\": \"histogram2dcontour\"}], \"mesh3d\": [{\"colorbar\": {\"outlinewidth\": 0, \"ticks\": \"\"}, \"type\": \"mesh3d\"}], \"parcoords\": [{\"line\": {\"colorbar\": {\"outlinewidth\": 0, \"ticks\": \"\"}}, \"type\": \"parcoords\"}], \"pie\": [{\"automargin\": true, \"type\": \"pie\"}], \"scatter\": [{\"marker\": {\"line\": {\"color\": \"#283442\"}}, \"type\": \"scatter\"}], \"scatter3d\": [{\"line\": {\"colorbar\": {\"outlinewidth\": 0, \"ticks\": \"\"}}, \"marker\": {\"colorbar\": {\"outlinewidth\": 0, \"ticks\": \"\"}}, \"type\": \"scatter3d\"}], \"scattercarpet\": [{\"marker\": {\"colorbar\": {\"outlinewidth\": 0, \"ticks\": \"\"}}, \"type\": \"scattercarpet\"}], \"scattergeo\": [{\"marker\": {\"colorbar\": {\"outlinewidth\": 0, \"ticks\": \"\"}}, \"type\": \"scattergeo\"}], \"scattergl\": [{\"marker\": {\"line\": {\"color\": \"#283442\"}}, \"type\": \"scattergl\"}], \"scattermapbox\": [{\"marker\": {\"colorbar\": {\"outlinewidth\": 0, \"ticks\": \"\"}}, \"type\": \"scattermapbox\"}], \"scatterpolar\": [{\"marker\": {\"colorbar\": {\"outlinewidth\": 0, \"ticks\": \"\"}}, \"type\": \"scatterpolar\"}], \"scatterpolargl\": [{\"marker\": {\"colorbar\": {\"outlinewidth\": 0, \"ticks\": \"\"}}, \"type\": \"scatterpolargl\"}], \"scatterternary\": [{\"marker\": {\"colorbar\": {\"outlinewidth\": 0, \"ticks\": \"\"}}, \"type\": \"scatterternary\"}], \"surface\": [{\"colorbar\": {\"outlinewidth\": 0, \"ticks\": \"\"}, \"colorscale\": [[0.0, \"#0d0887\"], [0.1111111111111111, \"#46039f\"], [0.2222222222222222, \"#7201a8\"], [0.3333333333333333, \"#9c179e\"], [0.4444444444444444, \"#bd3786\"], [0.5555555555555556, \"#d8576b\"], [0.6666666666666666, \"#ed7953\"], [0.7777777777777778, \"#fb9f3a\"], [0.8888888888888888, \"#fdca26\"], [1.0, \"#f0f921\"]], \"type\": \"surface\"}], \"table\": [{\"cells\": {\"fill\": {\"color\": \"#506784\"}, \"line\": {\"color\": \"rgb(17,17,17)\"}}, \"header\": {\"fill\": {\"color\": \"#2a3f5f\"}, \"line\": {\"color\": \"rgb(17,17,17)\"}}, \"type\": \"table\"}]}, \"layout\": {\"annotationdefaults\": {\"arrowcolor\": \"#f2f5fa\", \"arrowhead\": 0, \"arrowwidth\": 1}, \"coloraxis\": {\"colorbar\": {\"outlinewidth\": 0, \"ticks\": \"\"}}, \"colorscale\": {\"diverging\": [[0, \"#8e0152\"], [0.1, \"#c51b7d\"], [0.2, \"#de77ae\"], [0.3, \"#f1b6da\"], [0.4, \"#fde0ef\"], [0.5, \"#f7f7f7\"], [0.6, \"#e6f5d0\"], [0.7, \"#b8e186\"], [0.8, \"#7fbc41\"], [0.9, \"#4d9221\"], [1, \"#276419\"]], \"sequential\": [[0.0, \"#0d0887\"], [0.1111111111111111, \"#46039f\"], [0.2222222222222222, \"#7201a8\"], [0.3333333333333333, \"#9c179e\"], [0.4444444444444444, \"#bd3786\"], [0.5555555555555556, \"#d8576b\"], [0.6666666666666666, \"#ed7953\"], [0.7777777777777778, \"#fb9f3a\"], [0.8888888888888888, \"#fdca26\"], [1.0, \"#f0f921\"]], \"sequentialminus\": [[0.0, \"#0d0887\"], [0.1111111111111111, \"#46039f\"], [0.2222222222222222, \"#7201a8\"], [0.3333333333333333, \"#9c179e\"], [0.4444444444444444, \"#bd3786\"], [0.5555555555555556, \"#d8576b\"], [0.6666666666666666, \"#ed7953\"], [0.7777777777777778, \"#fb9f3a\"], [0.8888888888888888, \"#fdca26\"], [1.0, \"#f0f921\"]]}, \"colorway\": [\"#636efa\", \"#EF553B\", \"#00cc96\", \"#ab63fa\", \"#FFA15A\", \"#19d3f3\", \"#FF6692\", \"#B6E880\", \"#FF97FF\", \"#FECB52\"], \"font\": {\"color\": \"#f2f5fa\"}, \"geo\": {\"bgcolor\": \"rgb(17,17,17)\", \"lakecolor\": \"rgb(17,17,17)\", \"landcolor\": \"rgb(17,17,17)\", \"showlakes\": true, \"showland\": true, \"subunitcolor\": \"#506784\"}, \"hoverlabel\": {\"align\": \"left\"}, \"hovermode\": \"closest\", \"mapbox\": {\"style\": \"dark\"}, \"paper_bgcolor\": \"rgb(17,17,17)\", \"plot_bgcolor\": \"rgb(17,17,17)\", \"polar\": {\"angularaxis\": {\"gridcolor\": \"#506784\", \"linecolor\": \"#506784\", \"ticks\": \"\"}, \"bgcolor\": \"rgb(17,17,17)\", \"radialaxis\": {\"gridcolor\": \"#506784\", \"linecolor\": \"#506784\", \"ticks\": \"\"}}, \"scene\": {\"xaxis\": {\"backgroundcolor\": \"rgb(17,17,17)\", \"gridcolor\": \"#506784\", \"gridwidth\": 2, \"linecolor\": \"#506784\", \"showbackground\": true, \"ticks\": \"\", \"zerolinecolor\": \"#C8D4E3\"}, \"yaxis\": {\"backgroundcolor\": \"rgb(17,17,17)\", \"gridcolor\": \"#506784\", \"gridwidth\": 2, \"linecolor\": \"#506784\", \"showbackground\": true, \"ticks\": \"\", \"zerolinecolor\": \"#C8D4E3\"}, \"zaxis\": {\"backgroundcolor\": \"rgb(17,17,17)\", \"gridcolor\": \"#506784\", \"gridwidth\": 2, \"linecolor\": \"#506784\", \"showbackground\": true, \"ticks\": \"\", \"zerolinecolor\": \"#C8D4E3\"}}, \"shapedefaults\": {\"line\": {\"color\": \"#f2f5fa\"}}, \"sliderdefaults\": {\"bgcolor\": \"#C8D4E3\", \"bordercolor\": \"rgb(17,17,17)\", \"borderwidth\": 1, \"tickwidth\": 0}, \"ternary\": {\"aaxis\": {\"gridcolor\": \"#506784\", \"linecolor\": \"#506784\", \"ticks\": \"\"}, \"baxis\": {\"gridcolor\": \"#506784\", \"linecolor\": \"#506784\", \"ticks\": \"\"}, \"bgcolor\": \"rgb(17,17,17)\", \"caxis\": {\"gridcolor\": \"#506784\", \"linecolor\": \"#506784\", \"ticks\": \"\"}}, \"title\": {\"x\": 0.05}, \"updatemenudefaults\": {\"bgcolor\": \"#506784\", \"borderwidth\": 0}, \"xaxis\": {\"automargin\": true, \"gridcolor\": \"#283442\", \"linecolor\": \"#506784\", \"ticks\": \"\", \"title\": {\"standoff\": 15}, \"zerolinecolor\": \"#283442\", \"zerolinewidth\": 2}, \"yaxis\": {\"automargin\": true, \"gridcolor\": \"#283442\", \"linecolor\": \"#506784\", \"ticks\": \"\", \"title\": {\"standoff\": 15}, \"zerolinecolor\": \"#283442\", \"zerolinewidth\": 2}}}, \"title\": {\"text\": \"Normalized Gross and Google Trends for top 15 Movies: Correlation = 0.8068127320314725\"}, \"xaxis\": {\"title\": {\"text\": \"Normalized Quantities\"}}, \"yaxis\": {\"title\": {\"text\": \"Movies\"}}},                        {\"responsive\": true}                    ).then(function(){\n",
       "                            \n",
       "var gd = document.getElementById('505e2ef3-6638-45f6-b9e0-e253337305d4');\n",
       "var x = new MutationObserver(function (mutations, observer) {{\n",
       "        var display = window.getComputedStyle(gd).display;\n",
       "        if (!display || display === 'none') {{\n",
       "            console.log([gd, 'removed!']);\n",
       "            Plotly.purge(gd);\n",
       "            observer.disconnect();\n",
       "        }}\n",
       "}});\n",
       "\n",
       "// Listen for the removal of the full notebook cells\n",
       "var notebookContainer = gd.closest('#notebook-container');\n",
       "if (notebookContainer) {{\n",
       "    x.observe(notebookContainer, {childList: true});\n",
       "}}\n",
       "\n",
       "// Listen for the clearing of the current output cell\n",
       "var outputEl = gd.closest('.output');\n",
       "if (outputEl) {{\n",
       "    x.observe(outputEl, {childList: true});\n",
       "}}\n",
       "\n",
       "                        })                };                });            </script>        </div>"
      ]
     },
     "metadata": {},
     "output_type": "display_data"
    }
   ],
   "source": [
    "import plotly.graph_objects as go\n",
    "\n",
    "df = pd.read_csv('6_mo_weekly.csv', sep='\\t')\n",
    "df['Date_dt'] = df['Date'].astype('datetime64[ns]')\n",
    "\n",
    "date = df['Date_dt'].unique()[5]#.iloc[-10]\n",
    "print(date)\n",
    "\n",
    "fig = go.Figure()\n",
    "sorted_df = df[df['Date_dt'] == date].sort_values(by=['Weekly'], ascending=False)[0:15][::-1]\n",
    "y = sorted_df['Release']\n",
    "x_rev = sorted_df['Weekly'] / np.sum(sorted_df['Weekly'])\n",
    "x_trend = sorted_df['google trends'] / np.sum(sorted_df['google trends'])\n",
    "trends, revenues = pd.Series(x_trend), pd.Series(x_rev)\n",
    "corr = trends.corr(revenues)\n",
    "\n",
    "fig = go.Figure()\n",
    "fig.add_trace(go.Bar(\n",
    "    y=y,\n",
    "    x=x_rev,\n",
    "    name='Gross',\n",
    "    orientation='h',\n",
    "    marker=dict(\n",
    "        color='blue', #rgba(246, 78, 139, 0.6)',\n",
    "        line=dict(color='rgba(246, 78, 139, 1.0)', width=3)\n",
    "    )\n",
    "))\n",
    "fig.add_trace(go.Bar(\n",
    "    y=y,\n",
    "    x=x_trend,\n",
    "    name='Google Trends',\n",
    "    orientation='h',\n",
    "    marker=dict(\n",
    "        color='red', #rgba(58, 71, 80, 0.6)',\n",
    "        line=dict(color='rgba(58, 71, 80, 1.0)', width=3)\n",
    "    )\n",
    "))\n",
    "title = f'Normalized Gross and Google Trends for top 15 Movies: Correlation = {corr}'\n",
    "\n",
    "#fig.update_layout(barmode='stack')\n",
    "fig.update_layout(template='plotly_dark',\n",
    "                  title=title,\n",
    "                  plot_bgcolor='#23272c',\n",
    "                  paper_bgcolor='#23272c',\n",
    "                  yaxis_title='Movies',\n",
    "                  xaxis_title='Normalized Quantities',barmode='stack')\n",
    "\n",
    "\n",
    "#fig.show()"
   ]
  },
  {
   "cell_type": "code",
   "execution_count": 69,
   "metadata": {},
   "outputs": [
    {
     "data": {
      "text/plain": [
       "[<matplotlib.lines.Line2D at 0x1f1688ea850>]"
      ]
     },
     "execution_count": 69,
     "metadata": {},
     "output_type": "execute_result"
    },
    {
     "data": {
      "image/png": "[encoded data removed]",
      "text/plain": [
       "<Figure size 432x288 with 1 Axes>"
      ]
     },
     "metadata": {
      "needs_background": "light"
     },
     "output_type": "display_data"
    }
   ],
   "source": [
    "from matplotlib import pyplot as plt\n",
    "\n",
    "plt.plot(x_rev, x_trend)"
   ]
  },
  {
   "cell_type": "code",
   "execution_count": 105,
   "metadata": {},
   "outputs": [
    {
     "data": {
      "text/plain": [
       "'Freaky'"
      ]
     },
     "execution_count": 105,
     "metadata": {},
     "output_type": "execute_result"
    }
   ],
   "source": [
    "df['Date_dt'] = df['Date'].astype('datetime64[ns]')\n",
    "date = df['Date_dt'].iloc[-1]\n",
    "movie_list = df[df['Date_dt'] == date].sort_values(by=['Weekly'], ascending=False)['Release'][0:4]\n",
    "movie_list.iloc[1]"
   ]
  },
  {
   "cell_type": "code",
   "execution_count": 13,
   "metadata": {},
   "outputs": [
    {
     "name": "stdout",
     "output_type": "stream",
     "text": [
      "2020-12-05\n"
     ]
    }
   ],
   "source": [
    "import datetime\n",
    "def test_date():\n",
    "    d1 = datetime.date.today() - timedelta(days=1)\n",
    "    print(d1)\n",
    "def test_test_date():\n",
    "    test_date()\n",
    "def test_test_test_date():\n",
    "    test_test_date()\n",
    "test_test_test_date()"
   ]
  },
  {
   "cell_type": "code",
   "execution_count": null,
   "metadata": {},
   "outputs": [
    {
     "name": "stdout",
     "output_type": "stream",
     "text": [
      "Using directory 'C:\\Users\\nclan\\Anaconda3\\lib\\site-packages\\gtab'\n",
      "Active anchorbank changed to: google_anchorbank_geo=_timeframe=2019-01-01 2020-08-01.tsv\n",
      "\n",
      "Using C:\\Users\\nclan\\Anaconda3\\lib\\site-packages\\gtab\\output\\google_anchorbanks\\google_anchorbank_geo=_timeframe=2019-01-01 2020-08-01.tsv\n",
      "New query 'The Croods: A New Age'\n",
      "New query calibrated!\n",
      "0.123552\n",
      "0.11232\n",
      "0.083616\n",
      "0.097344\n",
      "0.07113599999999999\n",
      "0.10982399999999999\n",
      "Using directory 'C:\\Users\\nclan\\Anaconda3\\lib\\site-packages\\gtab'\n",
      "Active anchorbank changed to: google_anchorbank_geo=_timeframe=2019-01-01 2020-08-01.tsv\n",
      "\n",
      "Using C:\\Users\\nclan\\Anaconda3\\lib\\site-packages\\gtab\\output\\google_anchorbanks\\google_anchorbank_geo=_timeframe=2019-01-01 2020-08-01.tsv\n",
      "New query 'Half Brothers'\n",
      "New query calibrated!\n",
      "0.25773195876288657\n",
      "0.23711340206185566\n",
      "0.4329896907216495\n",
      "0.5360824742268041\n",
      "0.8762886597938144\n",
      "1.0309278350515463\n",
      "Using directory 'C:\\Users\\nclan\\Anaconda3\\lib\\site-packages\\gtab'\n",
      "Active anchorbank changed to: google_anchorbank_geo=_timeframe=2019-01-01 2020-08-01.tsv\n",
      "\n",
      "Using C:\\Users\\nclan\\Anaconda3\\lib\\site-packages\\gtab\\output\\google_anchorbanks\\google_anchorbank_geo=_timeframe=2019-01-01 2020-08-01.tsv\n",
      "New query 'Freaky'\n",
      "New query calibrated!\n",
      "5.291005291005294\n",
      "4.724111866969012\n",
      "4.535147392290251\n",
      "6.235827664399096\n",
      "10.015117157974306\n",
      "13.605442176870755\n",
      "Using directory 'C:\\Users\\nclan\\Anaconda3\\lib\\site-packages\\gtab'\n",
      "Active anchorbank changed to: google_anchorbank_geo=_timeframe=2019-01-01 2020-08-01.tsv\n",
      "\n",
      "Using C:\\Users\\nclan\\Anaconda3\\lib\\site-packages\\gtab\\output\\google_anchorbanks\\google_anchorbank_geo=_timeframe=2019-01-01 2020-08-01.tsv\n",
      "New query 'Elf2020 Re-release'\n",
      "Keyword Elf2020 Re-release is bad!\n",
      "Using directory 'C:\\Users\\nclan\\Anaconda3\\lib\\site-packages\\gtab'\n",
      "Active anchorbank changed to: google_anchorbank_geo=_timeframe=2019-01-01 2020-08-01.tsv\n",
      "\n",
      "Using C:\\Users\\nclan\\Anaconda3\\lib\\site-packages\\gtab\\output\\google_anchorbanks\\google_anchorbank_geo=_timeframe=2019-01-01 2020-08-01.tsv\n",
      "New query 'The War with Grandpa'\n",
      "New query calibrated!\n",
      "0.18\n",
      "0.34\n",
      "0.31\n",
      "0.4\n",
      "0.47\n",
      "0.74\n",
      "Using directory 'C:\\Users\\nclan\\Anaconda3\\lib\\site-packages\\gtab'\n",
      "Active anchorbank changed to: google_anchorbank_geo=_timeframe=2019-01-01 2020-08-01.tsv\n",
      "\n",
      "Using C:\\Users\\nclan\\Anaconda3\\lib\\site-packages\\gtab\\output\\google_anchorbanks\\google_anchorbank_geo=_timeframe=2019-01-01 2020-08-01.tsv\n",
      "New query 'All My Life'\n",
      "New query calibrated!\n",
      "2.301587301587302\n",
      "1.9841269841269844\n",
      "2.4603174603174605\n",
      "2.53968253968254\n",
      "3.1746031746031753\n",
      "3.8888888888888893\n",
      "Using directory 'C:\\Users\\nclan\\Anaconda3\\lib\\site-packages\\gtab'\n",
      "Active anchorbank changed to: google_anchorbank_geo=_timeframe=2019-01-01 2020-08-01.tsv\n",
      "\n",
      "Using C:\\Users\\nclan\\Anaconda3\\lib\\site-packages\\gtab\\output\\google_anchorbanks\\google_anchorbank_geo=_timeframe=2019-01-01 2020-08-01.tsv\n",
      "New query 'Come Play'\n",
      "New query calibrated!\n",
      "2.2439024390243905\n",
      "2.2439024390243905\n",
      "2.1219512195121952\n",
      "1.8048780487804879\n",
      "2.317073170731707\n",
      "2.4390243902439024\n",
      "Using directory 'C:\\Users\\nclan\\Anaconda3\\lib\\site-packages\\gtab'\n",
      "Active anchorbank changed to: google_anchorbank_geo=_timeframe=2019-01-01 2020-08-01.tsv\n",
      "\n",
      "Using C:\\Users\\nclan\\Anaconda3\\lib\\site-packages\\gtab\\output\\google_anchorbanks\\google_anchorbank_geo=_timeframe=2019-01-01 2020-08-01.tsv\n",
      "New query 'Let Him Go'\n",
      "New query calibrated!\n",
      "2.1428571428571432\n",
      "1.8253968253968258\n",
      "1.4285714285714288\n",
      "1.7460317460317463\n",
      "2.1428571428571432\n",
      "3.412698412698413\n",
      "Using directory 'C:\\Users\\nclan\\Anaconda3\\lib\\site-packages\\gtab'\n",
      "Active anchorbank changed to: google_anchorbank_geo=_timeframe=2019-01-01 2020-08-01.tsv\n",
      "\n",
      "Using C:\\Users\\nclan\\Anaconda3\\lib\\site-packages\\gtab\\output\\google_anchorbanks\\google_anchorbank_geo=_timeframe=2019-01-01 2020-08-01.tsv\n",
      "New query 'Honest Thief'\n",
      "New query calibrated!\n",
      "0.4634146341463415\n",
      "0.5853658536585366\n",
      "0.4878048780487805\n",
      "0.43902439024390244\n",
      "0.7560975609756098\n",
      "2.4390243902439024\n",
      "Using directory 'C:\\Users\\nclan\\Anaconda3\\lib\\site-packages\\gtab'\n",
      "Active anchorbank changed to: google_anchorbank_geo=_timeframe=2019-01-01 2020-08-01.tsv\n",
      "\n",
      "Using C:\\Users\\nclan\\Anaconda3\\lib\\site-packages\\gtab\\output\\google_anchorbanks\\google_anchorbank_geo=_timeframe=2019-01-01 2020-08-01.tsv\n",
      "New query 'Die Hard2020 Re-release'\n",
      "Keyword Die Hard2020 Re-release is bad!\n",
      "Using directory 'C:\\Users\\nclan\\Anaconda3\\lib\\site-packages\\gtab'\n",
      "Active anchorbank changed to: google_anchorbank_geo=_timeframe=2019-01-01 2020-08-01.tsv\n",
      "\n",
      "Using C:\\Users\\nclan\\Anaconda3\\lib\\site-packages\\gtab\\output\\google_anchorbanks\\google_anchorbank_geo=_timeframe=2019-01-01 2020-08-01.tsv\n",
      "New query 'True to the Game 2'\n",
      "New query calibrated!\n",
      "0.27\n",
      "0.38\n",
      "0.24\n",
      "0.28\n",
      "0.25\n",
      "0.32\n",
      "Using directory 'C:\\Users\\nclan\\Anaconda3\\lib\\site-packages\\gtab'\n",
      "Active anchorbank changed to: google_anchorbank_geo=_timeframe=2019-01-01 2020-08-01.tsv\n",
      "\n",
      "Using C:\\Users\\nclan\\Anaconda3\\lib\\site-packages\\gtab\\output\\google_anchorbanks\\google_anchorbank_geo=_timeframe=2019-01-01 2020-08-01.tsv\n",
      "New query 'The Grinch'\n",
      "New query calibrated!\n",
      "13.384983623078867\n",
      "14.172335600907036\n",
      "17.321743512219708\n",
      "14.172335600907036\n",
      "17.059292852943653\n",
      "26.24506592760562\n",
      "Using directory 'C:\\Users\\nclan\\Anaconda3\\lib\\site-packages\\gtab'\n",
      "Active anchorbank changed to: google_anchorbank_geo=_timeframe=2019-01-01 2020-08-01.tsv\n",
      "\n",
      "Using C:\\Users\\nclan\\Anaconda3\\lib\\site-packages\\gtab\\output\\google_anchorbanks\\google_anchorbank_geo=_timeframe=2019-01-01 2020-08-01.tsv\n",
      "New query 'The Godfather Coda: The Death of Michael Corleone2020 Re-release'\n",
      "Keyword The Godfather Coda: The Death of Michael Corleone2020 Re-release is bad!\n",
      "Using directory 'C:\\Users\\nclan\\Anaconda3\\lib\\site-packages\\gtab'\n",
      "Active anchorbank changed to: google_anchorbank_geo=_timeframe=2019-01-01 2020-08-01.tsv\n",
      "\n",
      "Using C:\\Users\\nclan\\Anaconda3\\lib\\site-packages\\gtab\\output\\google_anchorbanks\\google_anchorbank_geo=_timeframe=2019-01-01 2020-08-01.tsv\n",
      "New query 'Frozen2020 Re-release'\n",
      "Keyword Frozen2020 Re-release is bad!\n",
      "Using directory 'C:\\Users\\nclan\\Anaconda3\\lib\\site-packages\\gtab'\n",
      "Active anchorbank changed to: google_anchorbank_geo=_timeframe=2019-01-01 2020-08-01.tsv\n",
      "\n",
      "Using C:\\Users\\nclan\\Anaconda3\\lib\\site-packages\\gtab\\output\\google_anchorbanks\\google_anchorbank_geo=_timeframe=2019-01-01 2020-08-01.tsv\n",
      "New query 'Vanguard'\n",
      "New query calibrated!\n",
      "15.306122448979599\n",
      "14.361300075585795\n",
      "14.361300075585795\n",
      "15.495086923658357\n",
      "15.684051398337118\n",
      "13.227513227513233\n",
      "Using directory 'C:\\Users\\nclan\\Anaconda3\\lib\\site-packages\\gtab'\n",
      "Active anchorbank changed to: google_anchorbank_geo=_timeframe=2019-01-01 2020-08-01.tsv\n",
      "\n",
      "Using C:\\Users\\nclan\\Anaconda3\\lib\\site-packages\\gtab\\output\\google_anchorbanks\\google_anchorbank_geo=_timeframe=2019-01-01 2020-08-01.tsv\n",
      "New query 'Buddy Games'\n",
      "New query calibrated!\n",
      "0.72\n",
      "0.62\n",
      "0.57\n",
      "0.4\n",
      "0.63\n",
      "0.91\n",
      "Using directory 'C:\\Users\\nclan\\Anaconda3\\lib\\site-packages\\gtab'\n",
      "Active anchorbank changed to: google_anchorbank_geo=_timeframe=2019-01-01 2020-08-01.tsv\n",
      "\n",
      "Using C:\\Users\\nclan\\Anaconda3\\lib\\site-packages\\gtab\\output\\google_anchorbanks\\google_anchorbank_geo=_timeframe=2019-01-01 2020-08-01.tsv\n",
      "New query 'The Forgotten Carols'\n",
      "New query calibrated!\n",
      "0.014975999999999998\n",
      "0.014975999999999998\n",
      "0.0312\n",
      "0.016224\n",
      "0.048672\n",
      "0.034944\n",
      "Using directory 'C:\\Users\\nclan\\Anaconda3\\lib\\site-packages\\gtab'\n",
      "Active anchorbank changed to: google_anchorbank_geo=_timeframe=2019-01-01 2020-08-01.tsv\n",
      "\n",
      "Using C:\\Users\\nclan\\Anaconda3\\lib\\site-packages\\gtab\\output\\google_anchorbanks\\google_anchorbank_geo=_timeframe=2019-01-01 2020-08-01.tsv\n",
      "New query 'The New Mutants'\n",
      "New query calibrated!\n",
      "1.492537313432836\n",
      "1.0149253731343284\n",
      "0.8059701492537313\n",
      "0.9701492537313433\n",
      "1.0149253731343284\n",
      "1.2537313432835822\n",
      "Using directory 'C:\\Users\\nclan\\Anaconda3\\lib\\site-packages\\gtab'\n",
      "Active anchorbank changed to: google_anchorbank_geo=_timeframe=2019-01-01 2020-08-01.tsv\n",
      "\n",
      "Using C:\\Users\\nclan\\Anaconda3\\lib\\site-packages\\gtab\\output\\google_anchorbanks\\google_anchorbank_geo=_timeframe=2019-01-01 2020-08-01.tsv\n",
      "New query 'The Empty Man'\n",
      "New query calibrated!\n",
      "0.10831698113207547\n",
      "0.07299622641509433\n",
      "0.12715471698113207\n",
      "0.13892830188679245\n",
      "0.23547169811320753\n",
      "0.17660377358490564\n",
      "Using directory 'C:\\Users\\nclan\\Anaconda3\\lib\\site-packages\\gtab'\n",
      "Active anchorbank changed to: google_anchorbank_geo=_timeframe=2019-01-01 2020-08-01.tsv\n",
      "\n"
     ]
    },
    {
     "name": "stdout",
     "output_type": "stream",
     "text": [
      "Using C:\\Users\\nclan\\Anaconda3\\lib\\site-packages\\gtab\\output\\google_anchorbanks\\google_anchorbank_geo=_timeframe=2019-01-01 2020-08-01.tsv\n",
      "New query 'Last Call'\n",
      "New query calibrated!\n",
      "1.1235955056179776\n",
      "1.1123595505617978\n",
      "0.8202247191011236\n",
      "1.0224719101123596\n",
      "0.797752808988764\n",
      "1.1235955056179776\n",
      "Using directory 'C:\\Users\\nclan\\Anaconda3\\lib\\site-packages\\gtab'\n",
      "Active anchorbank changed to: google_anchorbank_geo=_timeframe=2019-01-01 2020-08-01.tsv\n",
      "\n",
      "Using C:\\Users\\nclan\\Anaconda3\\lib\\site-packages\\gtab\\output\\google_anchorbanks\\google_anchorbank_geo=_timeframe=2019-01-01 2020-08-01.tsv\n",
      "New query 'Come Away'\n",
      "New query calibrated!\n",
      "0.89\n",
      "0.84\n",
      "0.78\n",
      "0.79\n",
      "0.93\n",
      "0.78\n",
      "Using directory 'C:\\Users\\nclan\\Anaconda3\\lib\\site-packages\\gtab'\n",
      "Active anchorbank changed to: google_anchorbank_geo=_timeframe=2019-01-01 2020-08-01.tsv\n",
      "\n",
      "Using C:\\Users\\nclan\\Anaconda3\\lib\\site-packages\\gtab\\output\\google_anchorbanks\\google_anchorbank_geo=_timeframe=2019-01-01 2020-08-01.tsv\n",
      "New query 'The Last Vermeer'\n",
      "New query calibrated!\n",
      "0.10815999999999999\n",
      "0.146432\n",
      "0.09984\n",
      "0.13811199999999998\n",
      "0.131456\n",
      "0.1664\n",
      "Using directory 'C:\\Users\\nclan\\Anaconda3\\lib\\site-packages\\gtab'\n",
      "Active anchorbank changed to: google_anchorbank_geo=_timeframe=2019-01-01 2020-08-01.tsv\n",
      "\n",
      "Using C:\\Users\\nclan\\Anaconda3\\lib\\site-packages\\gtab\\output\\google_anchorbanks\\google_anchorbank_geo=_timeframe=2019-01-01 2020-08-01.tsv\n",
      "New query 'Stardust'\n",
      "New query calibrated!\n",
      "2.301587301587302\n",
      "1.9841269841269844\n",
      "1.6666666666666667\n",
      "1.9841269841269844\n",
      "2.1428571428571432\n",
      "3.1746031746031753\n",
      "Using directory 'C:\\Users\\nclan\\Anaconda3\\lib\\site-packages\\gtab'\n",
      "Active anchorbank changed to: google_anchorbank_geo=_timeframe=2019-01-01 2020-08-01.tsv\n",
      "\n",
      "Using C:\\Users\\nclan\\Anaconda3\\lib\\site-packages\\gtab\\output\\google_anchorbanks\\google_anchorbank_geo=_timeframe=2019-01-01 2020-08-01.tsv\n",
      "New query 'Embattled'\n",
      "New query calibrated!\n",
      "0.1711542857142857\n",
      "0.1248\n",
      "0.12301714285714285\n",
      "0.0624\n",
      "0.13014857142857142\n",
      "0.17828571428571427\n",
      "Using directory 'C:\\Users\\nclan\\Anaconda3\\lib\\site-packages\\gtab'\n",
      "Active anchorbank changed to: google_anchorbank_geo=_timeframe=2019-01-01 2020-08-01.tsv\n",
      "\n",
      "Using C:\\Users\\nclan\\Anaconda3\\lib\\site-packages\\gtab\\output\\google_anchorbanks\\google_anchorbank_geo=_timeframe=2019-01-01 2020-08-01.tsv\n",
      "New query '2 Hearts'\n",
      "New query calibrated!\n",
      "0.35\n",
      "0.46\n",
      "0.47\n",
      "0.38\n",
      "0.43\n",
      "0.47\n",
      "Using directory 'C:\\Users\\nclan\\Anaconda3\\lib\\site-packages\\gtab'\n",
      "Active anchorbank changed to: google_anchorbank_geo=_timeframe=2019-01-01 2020-08-01.tsv\n",
      "\n",
      "Using C:\\Users\\nclan\\Anaconda3\\lib\\site-packages\\gtab\\output\\google_anchorbanks\\google_anchorbank_geo=_timeframe=2019-01-01 2020-08-01.tsv\n",
      "New query 'The Climb'\n",
      "New query calibrated!\n",
      "0.8850574712643678\n",
      "1.0344827586206897\n",
      "1.1494252873563218\n",
      "1.0689655172413792\n",
      "0.8620689655172413\n",
      "0.9080459770114943\n",
      "DONE\n"
     ]
    }
   ],
   "source": [
    "import sched, time\n",
    "from datetime import date, timedelta, datetime\n",
    "import pandas as pd\n",
    "from bs4 import BeautifulSoup\n",
    "import requests\n",
    "import gtab\n",
    "import numpy as np\n",
    "import datetime\n",
    "\n",
    "DOWNLOAD_PERIOD = 604800\n",
    "#DOWNLOAD_PERIOD = 600\n",
    "\n",
    "def add_target(df_weekly):\n",
    "    '''Matches a row with the next weeks 'Weekly' columns which is target variable.'''  \n",
    "    df_temp = pd.read_csv('3_mo_weekly.csv', sep='\\t')\n",
    "    df_weekly = df_temp.append(df_weekly, ignore_index=True)\n",
    "    df_weekly['Date'] = df_weekly['Date'].astype('datetime64[ns]')\n",
    "    #from datetime import timedelta\n",
    "    df_weekly['Y'] = df_weekly['Date'].apply(lambda x: x + timedelta(days=7))\n",
    "    df_weekly['Week + 1'] = pd.Series(np.zeros(df_weekly.shape[0]))\n",
    "    for movie in df_weekly['Release'].unique():\n",
    "        for date in df_weekly[df_weekly['Release'] == movie]['Date']:\n",
    "            df_weekly.loc[(df_weekly['Release'] == movie) & (df_weekly['Y'] == date), 'Week + 1'] = float(df_weekly.loc[(df_weekly['Release'] == movie) & (df_weekly['Date'] == date)]['Weekly'])\n",
    "            df_weekly['Week + 1'].fillna(0, inplace=True)\n",
    "    return df_weekly\n",
    "\n",
    "\n",
    "def to_weekly(df):\n",
    "    '''Combines daily into weekly data, divides by 7 where appropriate, removes data points with 'Weekly' == 0'''\n",
    "        #convert date column into datetime object\n",
    "    df['Date'] = df['Date'].astype('datetime64[ns]')\n",
    "    #convert daily data to weekly\n",
    "    df_weekly = df.groupby(\"Release\").resample('W-Mon', label='left', closed = 'left', on='Date').sum().reset_index().sort_values(by='Date')\n",
    "    df_weekly['Avg TD'] = df_weekly['TD'].apply(lambda x: x/7)\n",
    "    df_weekly = df_weekly.drop('TD', axis=1)\n",
    "    df_weekly['Avg YD'] = df_weekly['YD'].apply(lambda x: x/7)\n",
    "    df_weekly = df_weekly.drop('YD', axis=1)\n",
    "    df_weekly['Weekly'] = df_weekly['Daily']  \n",
    "    df_weekly = df_weekly.drop('Daily', axis=1)\n",
    "    df_weekly['Weekly %+-YD'] = df_weekly['%+-YD'] \n",
    "    df_weekly['Weekly %+-LW'] = df_weekly['%+-LW'] \n",
    "    df_weekly['Avg Theatre'] = df_weekly['Theatre'].apply(lambda x: x/7)\n",
    "    df_weekly = df_weekly.drop('Theatre', axis=1)\n",
    "    df_weekly['Avg per Theatre Avg'] = df_weekly['Avg'].apply(lambda x: x/7)\n",
    "    df_weekly = df_weekly.drop('Avg', axis=1)\n",
    "    df_weekly['Avg To Date'] = df_weekly['To Date'].apply(lambda x: x/7)\n",
    "    df_weekly = df_weekly.drop('To Date', axis=1)\n",
    "    df_weekly = df_weekly[df_weekly.Weekly != 0]\n",
    "    \n",
    "    return df_weekly\n",
    "    \n",
    "\n",
    "def edit_df(df):\n",
    "    \"\"\"Removes $,%,- and converts str to int or float\"\"\"\n",
    "    df['Daily'] = df.Daily.apply(lambda x: x.strip('$'))\n",
    "    df['%+-YD'] = df['%+-YD'].apply(lambda x: x.strip('%'))\n",
    "    df['%+-LW'] = df['%+-LW'].apply(lambda x: x.strip('%'))\n",
    "    df['Avg'] = df['Avg'].apply(lambda x: x.strip('$'))\n",
    "    df['To Date'] = df['To Date'].apply(lambda x: x.strip('$'))\n",
    "    df['Distributor'] = df.Distributor.apply(lambda x: x[0:-2])\n",
    "\n",
    "    df = df.replace(',','', regex=True)\n",
    "    df = df.replace('-', '0') #SHOUOLD BE NAN\n",
    "    df = df.replace('<0.1', '0')\n",
    "    \n",
    "    df['Theatre'] = df['Theatre'].astype(float)\n",
    "    df['Days'] = df['Days'].astype(float)\n",
    "    df['Daily'] = df.Daily.astype(float)\n",
    "    df['%+-YD'] = df['%+-YD'].astype(float)\n",
    "    df['%+-LW'] = df['%+-LW'].astype(float)\n",
    "    df['Avg'] = df['Avg'].astype(float)\n",
    "    df['To Date'] = df['To Date'].astype(float)\n",
    "    df['TD'] = df['TD'].astype(float)\n",
    "    df['YD'] = df['YD'].astype(float)\n",
    "    return df\n",
    "\n",
    "def google_trends(df, d1, d2):\n",
    "    \"\"\"Pulls movie data from google trends and merges\"\"\"\n",
    "    df.loc[:, 'google trends'] = 0\n",
    "    for movie in df['Release'].unique():\n",
    "        try:\n",
    "            t = gtab.GTAB();\n",
    "            t.set_options(pytrends_config={\"timeframe\": f\"{str(d1)} {str(d2)}\"}); \n",
    "            query = t.new_query(movie);\n",
    "            #print(query)\n",
    "            for date in query.index:\n",
    "                print(query.loc[date, 'max_ratio'])\n",
    "                df.loc[df['Release'].eq(movie) & df['Date'].eq(date), 'google trends'] = query.loc[date, 'max_ratio']\n",
    "        except:\n",
    "            continue\n",
    "    return df\n",
    "\n",
    "def get_data():\n",
    "    '''Scrapes data from boxofficemojo with beautiful soup'''\n",
    "    \n",
    "    d2 = datetime.date.today() - timedelta(days=1)\n",
    "    d1 = d2 - timedelta(days=6)\n",
    "\n",
    "    dd = [d1 + timedelta(days=x) for x in range((d2-d1).days + 1)][::-1]\n",
    "    rows = 0\n",
    "    df = pd.DataFrame(columns = ['Date','TD', 'YD', 'Release', 'Daily', '%+-YD', '%+-LW', 'Theatre', 'Avg', 'To Date', 'Days', 'Distributor'])\n",
    "\n",
    "    for date in dd:\n",
    "        try:\n",
    "            source = requests.get('https://www.boxofficemojo.com/date/'+str(date)+'/').text\n",
    "            soup = BeautifulSoup(source, 'lxml')\n",
    "            table = soup.find('table')\n",
    "            data = table.find_all('tr')\n",
    "            master_list = []\n",
    "            for row in data:\n",
    "                row_list = [date]\n",
    "                for entry in row.find_all('td'):\n",
    "                    if entry.text == 'false' or entry.text == 'true':\n",
    "                        continue\n",
    "                    row_list.append(entry.text)\n",
    "\n",
    "                if len(row_list) == 12:\n",
    "                    master_list.append(row_list)\n",
    "\n",
    "            for i in range(len(master_list)):\n",
    "                df.loc[rows] = master_list[i]\n",
    "                rows += 1\n",
    "        except:\n",
    "            continue\n",
    "            \n",
    "    df = google_trends(df, d1, d2)\n",
    "    df = edit_df(df) \n",
    "    df_weekly = to_weekly(df)\n",
    "    df_weekly = add_target(df_weekly)\n",
    "\n",
    "        \n",
    "    df_weekly['Date'] = df_weekly['Date'].astype('datetime64[ns]')\n",
    "    df_weekly.to_csv('3_mo_weekly.csv', index=False, sep='\\t')\n",
    "    print('DONE')\n",
    "    \n",
    "    \n",
    "def main_loop(timeout=DOWNLOAD_PERIOD):\n",
    "    scheduler = sched.scheduler(time.time, time.sleep)\n",
    "    \n",
    "\n",
    "    def _worker():\n",
    "        try:\n",
    "            get_data()\n",
    "        except Exception as e:\n",
    "            logger.warning(\"main loop worker ignores exception and continues: {}\".format(e))\n",
    "        scheduler.enter(timeout, 1, _worker)    # schedule the next event\n",
    "\n",
    "    scheduler.enter(0, 1, _worker)              # start the first event\n",
    "    scheduler.run(blocking=True)\n",
    "main_loop()"
   ]
  },
  {
   "cell_type": "code",
   "execution_count": 2,
   "metadata": {},
   "outputs": [
    {
     "data": {
      "text/html": [
       "<div>\n",
       "<style scoped>\n",
       "    .dataframe tbody tr th:only-of-type {\n",
       "        vertical-align: middle;\n",
       "    }\n",
       "\n",
       "    .dataframe tbody tr th {\n",
       "        vertical-align: top;\n",
       "    }\n",
       "\n",
       "    .dataframe thead th {\n",
       "        text-align: right;\n",
       "    }\n",
       "</style>\n",
       "<table border=\"1\" class=\"dataframe\">\n",
       "  <thead>\n",
       "    <tr style=\"text-align: right;\">\n",
       "      <th></th>\n",
       "      <th>Release</th>\n",
       "      <th>Date</th>\n",
       "      <th>%+-YD</th>\n",
       "      <th>%+-LW</th>\n",
       "      <th>Days</th>\n",
       "      <th>google trends</th>\n",
       "      <th>Avg TD</th>\n",
       "      <th>Avg YD</th>\n",
       "      <th>Weekly</th>\n",
       "      <th>Weekly %+-YD</th>\n",
       "      <th>Weekly %+-LW</th>\n",
       "      <th>Avg Theatre</th>\n",
       "      <th>Avg per Theatre Avg</th>\n",
       "      <th>Avg To Date</th>\n",
       "      <th>Y</th>\n",
       "      <th>Week + 1</th>\n",
       "    </tr>\n",
       "  </thead>\n",
       "  <tbody>\n",
       "    <tr>\n",
       "      <th>0</th>\n",
       "      <td>The Trip to Greece</td>\n",
       "      <td>2020-05-18</td>\n",
       "      <td>-38.5</td>\n",
       "      <td>0.0</td>\n",
       "      <td>6.0</td>\n",
       "      <td>1.230000</td>\n",
       "      <td>1.142857</td>\n",
       "      <td>0.714286</td>\n",
       "      <td>1110.0</td>\n",
       "      <td>-38.5</td>\n",
       "      <td>0.0</td>\n",
       "      <td>1.285714</td>\n",
       "      <td>52.714286</td>\n",
       "      <td>344.285714</td>\n",
       "      <td>2020-05-25</td>\n",
       "      <td>513.0</td>\n",
       "    </tr>\n",
       "    <tr>\n",
       "      <th>1</th>\n",
       "      <td>The Wretched</td>\n",
       "      <td>2020-05-18</td>\n",
       "      <td>378.3</td>\n",
       "      <td>472.3</td>\n",
       "      <td>110.0</td>\n",
       "      <td>2.380000</td>\n",
       "      <td>0.714286</td>\n",
       "      <td>0.714286</td>\n",
       "      <td>246813.0</td>\n",
       "      <td>378.3</td>\n",
       "      <td>472.3</td>\n",
       "      <td>31.285714</td>\n",
       "      <td>730.857143</td>\n",
       "      <td>319966.714286</td>\n",
       "      <td>2020-05-25</td>\n",
       "      <td>254014.0</td>\n",
       "    </tr>\n",
       "    <tr>\n",
       "      <th>2</th>\n",
       "      <td>How to Build a Girl</td>\n",
       "      <td>2020-05-18</td>\n",
       "      <td>-127.1</td>\n",
       "      <td>-32.3</td>\n",
       "      <td>75.0</td>\n",
       "      <td>0.490000</td>\n",
       "      <td>1.571429</td>\n",
       "      <td>1.571429</td>\n",
       "      <td>8929.0</td>\n",
       "      <td>-127.1</td>\n",
       "      <td>-32.3</td>\n",
       "      <td>3.857143</td>\n",
       "      <td>177.857143</td>\n",
       "      <td>48072.000000</td>\n",
       "      <td>2020-05-25</td>\n",
       "      <td>332.0</td>\n",
       "    </tr>\n",
       "    <tr>\n",
       "      <th>3</th>\n",
       "      <td>First Lady</td>\n",
       "      <td>2020-05-18</td>\n",
       "      <td>0.0</td>\n",
       "      <td>35.7</td>\n",
       "      <td>98.0</td>\n",
       "      <td>0.952381</td>\n",
       "      <td>0.428571</td>\n",
       "      <td>0.000000</td>\n",
       "      <td>19.0</td>\n",
       "      <td>0.0</td>\n",
       "      <td>35.7</td>\n",
       "      <td>0.142857</td>\n",
       "      <td>2.714286</td>\n",
       "      <td>13328.285714</td>\n",
       "      <td>2020-05-25</td>\n",
       "      <td>0.0</td>\n",
       "    </tr>\n",
       "    <tr>\n",
       "      <th>4</th>\n",
       "      <td>How to Build a Girl</td>\n",
       "      <td>2020-05-25</td>\n",
       "      <td>93.0</td>\n",
       "      <td>-659.8</td>\n",
       "      <td>147.0</td>\n",
       "      <td>0.520000</td>\n",
       "      <td>3.428571</td>\n",
       "      <td>3.142857</td>\n",
       "      <td>332.0</td>\n",
       "      <td>93.0</td>\n",
       "      <td>-659.8</td>\n",
       "      <td>3.000000</td>\n",
       "      <td>15.285714</td>\n",
       "      <td>68852.428571</td>\n",
       "      <td>2020-06-01</td>\n",
       "      <td>374.0</td>\n",
       "    </tr>\n",
       "    <tr>\n",
       "      <th>...</th>\n",
       "      <td>...</td>\n",
       "      <td>...</td>\n",
       "      <td>...</td>\n",
       "      <td>...</td>\n",
       "      <td>...</td>\n",
       "      <td>...</td>\n",
       "      <td>...</td>\n",
       "      <td>...</td>\n",
       "      <td>...</td>\n",
       "      <td>...</td>\n",
       "      <td>...</td>\n",
       "      <td>...</td>\n",
       "      <td>...</td>\n",
       "      <td>...</td>\n",
       "      <td>...</td>\n",
       "      <td>...</td>\n",
       "    </tr>\n",
       "    <tr>\n",
       "      <th>497</th>\n",
       "      <td>Elf2020 Re-release</td>\n",
       "      <td>2020-11-16</td>\n",
       "      <td>22.5</td>\n",
       "      <td>33.0</td>\n",
       "      <td>27.0</td>\n",
       "      <td>0.000000</td>\n",
       "      <td>4.428571</td>\n",
       "      <td>3.142857</td>\n",
       "      <td>180000.0</td>\n",
       "      <td>22.5</td>\n",
       "      <td>33.0</td>\n",
       "      <td>111.000000</td>\n",
       "      <td>99.142857</td>\n",
       "      <td>125814.857143</td>\n",
       "      <td>2020-11-23</td>\n",
       "      <td>0.0</td>\n",
       "    </tr>\n",
       "    <tr>\n",
       "      <th>498</th>\n",
       "      <td>Counter Column</td>\n",
       "      <td>2020-11-16</td>\n",
       "      <td>-100.0</td>\n",
       "      <td>-240.5</td>\n",
       "      <td>134.0</td>\n",
       "      <td>0.018782</td>\n",
       "      <td>11.714286</td>\n",
       "      <td>12.857143</td>\n",
       "      <td>25.0</td>\n",
       "      <td>-100.0</td>\n",
       "      <td>-240.5</td>\n",
       "      <td>0.571429</td>\n",
       "      <td>3.571429</td>\n",
       "      <td>8863.000000</td>\n",
       "      <td>2020-11-23</td>\n",
       "      <td>0.0</td>\n",
       "    </tr>\n",
       "    <tr>\n",
       "      <th>499</th>\n",
       "      <td>Vanguard</td>\n",
       "      <td>2020-11-16</td>\n",
       "      <td>-15.5</td>\n",
       "      <td>0.0</td>\n",
       "      <td>6.0</td>\n",
       "      <td>19.463341</td>\n",
       "      <td>3.000000</td>\n",
       "      <td>2.000000</td>\n",
       "      <td>380428.0</td>\n",
       "      <td>-15.5</td>\n",
       "      <td>0.0</td>\n",
       "      <td>589.285714</td>\n",
       "      <td>39.285714</td>\n",
       "      <td>112981.285714</td>\n",
       "      <td>2020-11-23</td>\n",
       "      <td>0.0</td>\n",
       "    </tr>\n",
       "    <tr>\n",
       "      <th>500</th>\n",
       "      <td>The Informer</td>\n",
       "      <td>2020-11-16</td>\n",
       "      <td>-58.2</td>\n",
       "      <td>-457.5</td>\n",
       "      <td>98.0</td>\n",
       "      <td>2.263158</td>\n",
       "      <td>13.857143</td>\n",
       "      <td>13.428571</td>\n",
       "      <td>37442.0</td>\n",
       "      <td>-58.2</td>\n",
       "      <td>-457.5</td>\n",
       "      <td>123.000000</td>\n",
       "      <td>53.714286</td>\n",
       "      <td>270363.714286</td>\n",
       "      <td>2020-11-23</td>\n",
       "      <td>0.0</td>\n",
       "    </tr>\n",
       "    <tr>\n",
       "      <th>501</th>\n",
       "      <td>Guardians of the Galaxy2020 Re-release</td>\n",
       "      <td>2020-11-16</td>\n",
       "      <td>9.9</td>\n",
       "      <td>-199.7</td>\n",
       "      <td>27.0</td>\n",
       "      <td>0.000000</td>\n",
       "      <td>5.571429</td>\n",
       "      <td>3.714286</td>\n",
       "      <td>136000.0</td>\n",
       "      <td>9.9</td>\n",
       "      <td>-199.7</td>\n",
       "      <td>349.285714</td>\n",
       "      <td>23.714286</td>\n",
       "      <td>213857.142857</td>\n",
       "      <td>2020-11-23</td>\n",
       "      <td>0.0</td>\n",
       "    </tr>\n",
       "  </tbody>\n",
       "</table>\n",
       "<p>502 rows × 16 columns</p>\n",
       "</div>"
      ],
      "text/plain": [
       "                                    Release        Date  %+-YD  %+-LW   Days  \\\n",
       "0                        The Trip to Greece  2020-05-18  -38.5    0.0    6.0   \n",
       "1                              The Wretched  2020-05-18  378.3  472.3  110.0   \n",
       "2                       How to Build a Girl  2020-05-18 -127.1  -32.3   75.0   \n",
       "3                                First Lady  2020-05-18    0.0   35.7   98.0   \n",
       "4                       How to Build a Girl  2020-05-25   93.0 -659.8  147.0   \n",
       "..                                      ...         ...    ...    ...    ...   \n",
       "497                      Elf2020 Re-release  2020-11-16   22.5   33.0   27.0   \n",
       "498                          Counter Column  2020-11-16 -100.0 -240.5  134.0   \n",
       "499                                Vanguard  2020-11-16  -15.5    0.0    6.0   \n",
       "500                            The Informer  2020-11-16  -58.2 -457.5   98.0   \n",
       "501  Guardians of the Galaxy2020 Re-release  2020-11-16    9.9 -199.7   27.0   \n",
       "\n",
       "     google trends     Avg TD     Avg YD    Weekly  Weekly %+-YD  \\\n",
       "0         1.230000   1.142857   0.714286    1110.0         -38.5   \n",
       "1         2.380000   0.714286   0.714286  246813.0         378.3   \n",
       "2         0.490000   1.571429   1.571429    8929.0        -127.1   \n",
       "3         0.952381   0.428571   0.000000      19.0           0.0   \n",
       "4         0.520000   3.428571   3.142857     332.0          93.0   \n",
       "..             ...        ...        ...       ...           ...   \n",
       "497       0.000000   4.428571   3.142857  180000.0          22.5   \n",
       "498       0.018782  11.714286  12.857143      25.0        -100.0   \n",
       "499      19.463341   3.000000   2.000000  380428.0         -15.5   \n",
       "500       2.263158  13.857143  13.428571   37442.0         -58.2   \n",
       "501       0.000000   5.571429   3.714286  136000.0           9.9   \n",
       "\n",
       "     Weekly %+-LW  Avg Theatre  Avg per Theatre Avg    Avg To Date  \\\n",
       "0             0.0     1.285714            52.714286     344.285714   \n",
       "1           472.3    31.285714           730.857143  319966.714286   \n",
       "2           -32.3     3.857143           177.857143   48072.000000   \n",
       "3            35.7     0.142857             2.714286   13328.285714   \n",
       "4          -659.8     3.000000            15.285714   68852.428571   \n",
       "..            ...          ...                  ...            ...   \n",
       "497          33.0   111.000000            99.142857  125814.857143   \n",
       "498        -240.5     0.571429             3.571429    8863.000000   \n",
       "499           0.0   589.285714            39.285714  112981.285714   \n",
       "500        -457.5   123.000000            53.714286  270363.714286   \n",
       "501        -199.7   349.285714            23.714286  213857.142857   \n",
       "\n",
       "              Y  Week + 1  \n",
       "0    2020-05-25     513.0  \n",
       "1    2020-05-25  254014.0  \n",
       "2    2020-05-25     332.0  \n",
       "3    2020-05-25       0.0  \n",
       "4    2020-06-01     374.0  \n",
       "..          ...       ...  \n",
       "497  2020-11-23       0.0  \n",
       "498  2020-11-23       0.0  \n",
       "499  2020-11-23       0.0  \n",
       "500  2020-11-23       0.0  \n",
       "501  2020-11-23       0.0  \n",
       "\n",
       "[502 rows x 16 columns]"
      ]
     },
     "execution_count": 2,
     "metadata": {},
     "output_type": "execute_result"
    }
   ],
   "source": [
    "import pandas as pd\n",
    "pd.read_csv('6_mo_weekly.csv', sep='\\t')\n",
    "#df_weekly  #['Date'].astype('datetime64[ns]')\n",
    "#MOST RECENT 3_MO"
   ]
  },
  {
   "cell_type": "code",
   "execution_count": 13,
   "metadata": {},
   "outputs": [
    {
     "data": {
      "text/html": [
       "<div>\n",
       "<style scoped>\n",
       "    .dataframe tbody tr th:only-of-type {\n",
       "        vertical-align: middle;\n",
       "    }\n",
       "\n",
       "    .dataframe tbody tr th {\n",
       "        vertical-align: top;\n",
       "    }\n",
       "\n",
       "    .dataframe thead th {\n",
       "        text-align: right;\n",
       "    }\n",
       "</style>\n",
       "<table border=\"1\" class=\"dataframe\">\n",
       "  <thead>\n",
       "    <tr style=\"text-align: right;\">\n",
       "      <th></th>\n",
       "      <th>Release</th>\n",
       "      <th>Date</th>\n",
       "      <th>%+-YD</th>\n",
       "      <th>%+-LW</th>\n",
       "      <th>Days</th>\n",
       "      <th>google trends</th>\n",
       "      <th>Avg TD</th>\n",
       "      <th>Avg YD</th>\n",
       "      <th>Weekly</th>\n",
       "      <th>Weekly %+-YD</th>\n",
       "      <th>Weekly %+-LW</th>\n",
       "      <th>Avg Theatre</th>\n",
       "      <th>Avg per Theatre Avg</th>\n",
       "      <th>Avg To Date</th>\n",
       "      <th>Y</th>\n",
       "      <th>Week + 1</th>\n",
       "    </tr>\n",
       "  </thead>\n",
       "  <tbody>\n",
       "    <tr>\n",
       "      <th>0</th>\n",
       "      <td>The Fighting Preacher</td>\n",
       "      <td>2019-12-02</td>\n",
       "      <td>197.0</td>\n",
       "      <td>-436.8</td>\n",
       "      <td>813.0</td>\n",
       "      <td>0.004805</td>\n",
       "      <td>45.285714</td>\n",
       "      <td>44.857143</td>\n",
       "      <td>439.0</td>\n",
       "      <td>197.0</td>\n",
       "      <td>-436.8</td>\n",
       "      <td>1.714286</td>\n",
       "      <td>37.142857</td>\n",
       "      <td>8.180209e+05</td>\n",
       "      <td>2019-12-09</td>\n",
       "      <td>145.0</td>\n",
       "    </tr>\n",
       "    <tr>\n",
       "      <th>1</th>\n",
       "      <td>Ford v Ferrari</td>\n",
       "      <td>2019-12-02</td>\n",
       "      <td>182.9</td>\n",
       "      <td>-338.7</td>\n",
       "      <td>129.0</td>\n",
       "      <td>2.472222</td>\n",
       "      <td>3.428571</td>\n",
       "      <td>3.714286</td>\n",
       "      <td>9447970.0</td>\n",
       "      <td>182.9</td>\n",
       "      <td>-338.7</td>\n",
       "      <td>3141.857143</td>\n",
       "      <td>364.571429</td>\n",
       "      <td>7.405716e+07</td>\n",
       "      <td>2019-12-09</td>\n",
       "      <td>6957054.0</td>\n",
       "    </tr>\n",
       "    <tr>\n",
       "      <th>2</th>\n",
       "      <td>Dark Waters</td>\n",
       "      <td>2019-12-02</td>\n",
       "      <td>2583.5</td>\n",
       "      <td>2311.6</td>\n",
       "      <td>87.0</td>\n",
       "      <td>4.126984</td>\n",
       "      <td>10.857143</td>\n",
       "      <td>12.857143</td>\n",
       "      <td>4168500.0</td>\n",
       "      <td>2583.5</td>\n",
       "      <td>2311.6</td>\n",
       "      <td>902.571429</td>\n",
       "      <td>545.142857</td>\n",
       "      <td>2.188831e+06</td>\n",
       "      <td>2019-12-09</td>\n",
       "      <td>3605800.0</td>\n",
       "    </tr>\n",
       "    <tr>\n",
       "      <th>3</th>\n",
       "      <td>Promare</td>\n",
       "      <td>2019-12-02</td>\n",
       "      <td>0.0</td>\n",
       "      <td>0.0</td>\n",
       "      <td>83.0</td>\n",
       "      <td>1.176471</td>\n",
       "      <td>1.428571</td>\n",
       "      <td>0.000000</td>\n",
       "      <td>525543.0</td>\n",
       "      <td>0.0</td>\n",
       "      <td>0.0</td>\n",
       "      <td>87.428571</td>\n",
       "      <td>122.571429</td>\n",
       "      <td>2.777394e+05</td>\n",
       "      <td>2019-12-09</td>\n",
       "      <td>329380.0</td>\n",
       "    </tr>\n",
       "    <tr>\n",
       "      <th>4</th>\n",
       "      <td>Once Upon a Time... In Hollywood</td>\n",
       "      <td>2019-12-02</td>\n",
       "      <td>118.8</td>\n",
       "      <td>-178.4</td>\n",
       "      <td>801.0</td>\n",
       "      <td>0.034070</td>\n",
       "      <td>31.000000</td>\n",
       "      <td>30.142857</td>\n",
       "      <td>27109.0</td>\n",
       "      <td>118.8</td>\n",
       "      <td>-178.4</td>\n",
       "      <td>46.714286</td>\n",
       "      <td>73.571429</td>\n",
       "      <td>1.208696e+08</td>\n",
       "      <td>2019-12-09</td>\n",
       "      <td>19063.0</td>\n",
       "    </tr>\n",
       "    <tr>\n",
       "      <th>...</th>\n",
       "      <td>...</td>\n",
       "      <td>...</td>\n",
       "      <td>...</td>\n",
       "      <td>...</td>\n",
       "      <td>...</td>\n",
       "      <td>...</td>\n",
       "      <td>...</td>\n",
       "      <td>...</td>\n",
       "      <td>...</td>\n",
       "      <td>...</td>\n",
       "      <td>...</td>\n",
       "      <td>...</td>\n",
       "      <td>...</td>\n",
       "      <td>...</td>\n",
       "      <td>...</td>\n",
       "      <td>...</td>\n",
       "    </tr>\n",
       "    <tr>\n",
       "      <th>1550</th>\n",
       "      <td>The New Mutants</td>\n",
       "      <td>2020-11-30</td>\n",
       "      <td>-92.9</td>\n",
       "      <td>-269.7</td>\n",
       "      <td>386.0</td>\n",
       "      <td>0.000000</td>\n",
       "      <td>7.000000</td>\n",
       "      <td>8.142857</td>\n",
       "      <td>2128.0</td>\n",
       "      <td>-92.9</td>\n",
       "      <td>-269.7</td>\n",
       "      <td>22.857143</td>\n",
       "      <td>7.285714</td>\n",
       "      <td>1.361620e+07</td>\n",
       "      <td>2020-12-07</td>\n",
       "      <td>0.0</td>\n",
       "    </tr>\n",
       "    <tr>\n",
       "      <th>1551</th>\n",
       "      <td>Stardust</td>\n",
       "      <td>2020-11-30</td>\n",
       "      <td>-42.2</td>\n",
       "      <td>-88.9</td>\n",
       "      <td>30.0</td>\n",
       "      <td>0.000000</td>\n",
       "      <td>7.285714</td>\n",
       "      <td>8.571429</td>\n",
       "      <td>1749.0</td>\n",
       "      <td>-42.2</td>\n",
       "      <td>-88.9</td>\n",
       "      <td>25.142857</td>\n",
       "      <td>5.285714</td>\n",
       "      <td>4.037571e+03</td>\n",
       "      <td>2020-12-07</td>\n",
       "      <td>0.0</td>\n",
       "    </tr>\n",
       "    <tr>\n",
       "      <th>1552</th>\n",
       "      <td>Embattled</td>\n",
       "      <td>2020-11-30</td>\n",
       "      <td>209.0</td>\n",
       "      <td>-262.6</td>\n",
       "      <td>50.0</td>\n",
       "      <td>0.000000</td>\n",
       "      <td>8.428571</td>\n",
       "      <td>9.714286</td>\n",
       "      <td>1197.0</td>\n",
       "      <td>209.0</td>\n",
       "      <td>-262.6</td>\n",
       "      <td>26.285714</td>\n",
       "      <td>3.428571</td>\n",
       "      <td>1.517814e+04</td>\n",
       "      <td>2020-12-07</td>\n",
       "      <td>0.0</td>\n",
       "    </tr>\n",
       "    <tr>\n",
       "      <th>1553</th>\n",
       "      <td>Let Him Go</td>\n",
       "      <td>2020-11-30</td>\n",
       "      <td>-45.0</td>\n",
       "      <td>-250.5</td>\n",
       "      <td>106.0</td>\n",
       "      <td>0.000000</td>\n",
       "      <td>1.714286</td>\n",
       "      <td>1.857143</td>\n",
       "      <td>109275.0</td>\n",
       "      <td>-45.0</td>\n",
       "      <td>-250.5</td>\n",
       "      <td>1089.714286</td>\n",
       "      <td>7.857143</td>\n",
       "      <td>5.014729e+06</td>\n",
       "      <td>2020-12-07</td>\n",
       "      <td>0.0</td>\n",
       "    </tr>\n",
       "    <tr>\n",
       "      <th>1554</th>\n",
       "      <td>Buddy Games</td>\n",
       "      <td>2020-11-30</td>\n",
       "      <td>-44.9</td>\n",
       "      <td>-167.6</td>\n",
       "      <td>50.0</td>\n",
       "      <td>0.000000</td>\n",
       "      <td>5.142857</td>\n",
       "      <td>6.000000</td>\n",
       "      <td>36914.0</td>\n",
       "      <td>-44.9</td>\n",
       "      <td>-167.6</td>\n",
       "      <td>226.857143</td>\n",
       "      <td>13.142857</td>\n",
       "      <td>1.984281e+05</td>\n",
       "      <td>2020-12-07</td>\n",
       "      <td>0.0</td>\n",
       "    </tr>\n",
       "  </tbody>\n",
       "</table>\n",
       "<p>1555 rows × 16 columns</p>\n",
       "</div>"
      ],
      "text/plain": [
       "                               Release        Date   %+-YD   %+-LW   Days  \\\n",
       "0                The Fighting Preacher  2019-12-02   197.0  -436.8  813.0   \n",
       "1                       Ford v Ferrari  2019-12-02   182.9  -338.7  129.0   \n",
       "2                          Dark Waters  2019-12-02  2583.5  2311.6   87.0   \n",
       "3                              Promare  2019-12-02     0.0     0.0   83.0   \n",
       "4     Once Upon a Time... In Hollywood  2019-12-02   118.8  -178.4  801.0   \n",
       "...                                ...         ...     ...     ...    ...   \n",
       "1550                   The New Mutants  2020-11-30   -92.9  -269.7  386.0   \n",
       "1551                          Stardust  2020-11-30   -42.2   -88.9   30.0   \n",
       "1552                         Embattled  2020-11-30   209.0  -262.6   50.0   \n",
       "1553                        Let Him Go  2020-11-30   -45.0  -250.5  106.0   \n",
       "1554                       Buddy Games  2020-11-30   -44.9  -167.6   50.0   \n",
       "\n",
       "      google trends     Avg TD     Avg YD     Weekly  Weekly %+-YD  \\\n",
       "0          0.004805  45.285714  44.857143      439.0         197.0   \n",
       "1          2.472222   3.428571   3.714286  9447970.0         182.9   \n",
       "2          4.126984  10.857143  12.857143  4168500.0        2583.5   \n",
       "3          1.176471   1.428571   0.000000   525543.0           0.0   \n",
       "4          0.034070  31.000000  30.142857    27109.0         118.8   \n",
       "...             ...        ...        ...        ...           ...   \n",
       "1550       0.000000   7.000000   8.142857     2128.0         -92.9   \n",
       "1551       0.000000   7.285714   8.571429     1749.0         -42.2   \n",
       "1552       0.000000   8.428571   9.714286     1197.0         209.0   \n",
       "1553       0.000000   1.714286   1.857143   109275.0         -45.0   \n",
       "1554       0.000000   5.142857   6.000000    36914.0         -44.9   \n",
       "\n",
       "      Weekly %+-LW  Avg Theatre  Avg per Theatre Avg   Avg To Date  \\\n",
       "0           -436.8     1.714286            37.142857  8.180209e+05   \n",
       "1           -338.7  3141.857143           364.571429  7.405716e+07   \n",
       "2           2311.6   902.571429           545.142857  2.188831e+06   \n",
       "3              0.0    87.428571           122.571429  2.777394e+05   \n",
       "4           -178.4    46.714286            73.571429  1.208696e+08   \n",
       "...            ...          ...                  ...           ...   \n",
       "1550        -269.7    22.857143             7.285714  1.361620e+07   \n",
       "1551         -88.9    25.142857             5.285714  4.037571e+03   \n",
       "1552        -262.6    26.285714             3.428571  1.517814e+04   \n",
       "1553        -250.5  1089.714286             7.857143  5.014729e+06   \n",
       "1554        -167.6   226.857143            13.142857  1.984281e+05   \n",
       "\n",
       "               Y   Week + 1  \n",
       "0     2019-12-09      145.0  \n",
       "1     2019-12-09  6957054.0  \n",
       "2     2019-12-09  3605800.0  \n",
       "3     2019-12-09   329380.0  \n",
       "4     2019-12-09    19063.0  \n",
       "...          ...        ...  \n",
       "1550  2020-12-07        0.0  \n",
       "1551  2020-12-07        0.0  \n",
       "1552  2020-12-07        0.0  \n",
       "1553  2020-12-07        0.0  \n",
       "1554  2020-12-07        0.0  \n",
       "\n",
       "[1555 rows x 16 columns]"
      ]
     },
     "execution_count": 13,
     "metadata": {},
     "output_type": "execute_result"
    }
   ],
   "source": [
    "pd.read_csv('1_year_weekly.csv', sep='\\t')"
   ]
  },
  {
   "cell_type": "code",
   "execution_count": 2,
   "metadata": {},
   "outputs": [
    {
     "data": {
      "text/html": [
       "<div>\n",
       "<style scoped>\n",
       "    .dataframe tbody tr th:only-of-type {\n",
       "        vertical-align: middle;\n",
       "    }\n",
       "\n",
       "    .dataframe tbody tr th {\n",
       "        vertical-align: top;\n",
       "    }\n",
       "\n",
       "    .dataframe thead th {\n",
       "        text-align: right;\n",
       "    }\n",
       "</style>\n",
       "<table border=\"1\" class=\"dataframe\">\n",
       "  <thead>\n",
       "    <tr style=\"text-align: right;\">\n",
       "      <th></th>\n",
       "      <th>Release</th>\n",
       "      <th>Date</th>\n",
       "      <th>%+-YD</th>\n",
       "      <th>%+-LW</th>\n",
       "      <th>Days</th>\n",
       "      <th>google trends</th>\n",
       "      <th>Avg TD</th>\n",
       "      <th>Avg YD</th>\n",
       "      <th>Weekly</th>\n",
       "      <th>Weekly %+-YD</th>\n",
       "      <th>Weekly %+-LW</th>\n",
       "      <th>Avg Theatre</th>\n",
       "      <th>Avg per Theatre Avg</th>\n",
       "      <th>Avg To Date</th>\n",
       "      <th>Y</th>\n",
       "      <th>Week + 1</th>\n",
       "    </tr>\n",
       "  </thead>\n",
       "  <tbody>\n",
       "    <tr>\n",
       "      <th>0</th>\n",
       "      <td>Tesla</td>\n",
       "      <td>2020-08-24</td>\n",
       "      <td>-39.4</td>\n",
       "      <td>-185.8</td>\n",
       "      <td>49.0</td>\n",
       "      <td>425.170068</td>\n",
       "      <td>7.857143</td>\n",
       "      <td>7.428571</td>\n",
       "      <td>34098.0</td>\n",
       "      <td>-39.4</td>\n",
       "      <td>-185.8</td>\n",
       "      <td>99.000000</td>\n",
       "      <td>49.571429</td>\n",
       "      <td>6.085743e+04</td>\n",
       "      <td>2020-08-31</td>\n",
       "      <td>4732.0</td>\n",
       "    </tr>\n",
       "    <tr>\n",
       "      <th>1</th>\n",
       "      <td>Bill &amp; Ted Face the Music</td>\n",
       "      <td>2020-08-24</td>\n",
       "      <td>-46.5</td>\n",
       "      <td>0.0</td>\n",
       "      <td>6.0</td>\n",
       "      <td>1.860000</td>\n",
       "      <td>1.285714</td>\n",
       "      <td>0.857143</td>\n",
       "      <td>1125007.0</td>\n",
       "      <td>-46.5</td>\n",
       "      <td>0.0</td>\n",
       "      <td>431.571429</td>\n",
       "      <td>159.428571</td>\n",
       "      <td>3.494943e+05</td>\n",
       "      <td>2020-08-31</td>\n",
       "      <td>1142565.0</td>\n",
       "    </tr>\n",
       "    <tr>\n",
       "      <th>2</th>\n",
       "      <td>Unhinged</td>\n",
       "      <td>2020-08-24</td>\n",
       "      <td>121.7</td>\n",
       "      <td>-106.2</td>\n",
       "      <td>98.0</td>\n",
       "      <td>22.619048</td>\n",
       "      <td>1.428571</td>\n",
       "      <td>1.285714</td>\n",
       "      <td>3819220.0</td>\n",
       "      <td>121.7</td>\n",
       "      <td>-106.2</td>\n",
       "      <td>2040.714286</td>\n",
       "      <td>254.142857</td>\n",
       "      <td>6.757881e+06</td>\n",
       "      <td>2020-08-31</td>\n",
       "      <td>2598055.0</td>\n",
       "    </tr>\n",
       "    <tr>\n",
       "      <th>3</th>\n",
       "      <td>Juvenile Delinquents</td>\n",
       "      <td>2020-08-24</td>\n",
       "      <td>0.0</td>\n",
       "      <td>0.0</td>\n",
       "      <td>354.0</td>\n",
       "      <td>0.000000</td>\n",
       "      <td>3.714286</td>\n",
       "      <td>0.000000</td>\n",
       "      <td>1260.0</td>\n",
       "      <td>0.0</td>\n",
       "      <td>0.0</td>\n",
       "      <td>0.285714</td>\n",
       "      <td>180.000000</td>\n",
       "      <td>9.700571e+03</td>\n",
       "      <td>2020-08-31</td>\n",
       "      <td>0.0</td>\n",
       "    </tr>\n",
       "    <tr>\n",
       "      <th>4</th>\n",
       "      <td>Words on Bathroom Walls</td>\n",
       "      <td>2020-08-24</td>\n",
       "      <td>159.3</td>\n",
       "      <td>9.3</td>\n",
       "      <td>49.0</td>\n",
       "      <td>4.040000</td>\n",
       "      <td>3.857143</td>\n",
       "      <td>3.571429</td>\n",
       "      <td>646438.0</td>\n",
       "      <td>159.3</td>\n",
       "      <td>9.3</td>\n",
       "      <td>1125.857143</td>\n",
       "      <td>75.857143</td>\n",
       "      <td>7.227500e+05</td>\n",
       "      <td>2020-08-31</td>\n",
       "      <td>455438.0</td>\n",
       "    </tr>\n",
       "    <tr>\n",
       "      <th>...</th>\n",
       "      <td>...</td>\n",
       "      <td>...</td>\n",
       "      <td>...</td>\n",
       "      <td>...</td>\n",
       "      <td>...</td>\n",
       "      <td>...</td>\n",
       "      <td>...</td>\n",
       "      <td>...</td>\n",
       "      <td>...</td>\n",
       "      <td>...</td>\n",
       "      <td>...</td>\n",
       "      <td>...</td>\n",
       "      <td>...</td>\n",
       "      <td>...</td>\n",
       "      <td>...</td>\n",
       "      <td>...</td>\n",
       "    </tr>\n",
       "    <tr>\n",
       "      <th>424</th>\n",
       "      <td>Come Away</td>\n",
       "      <td>2020-11-30</td>\n",
       "      <td>-82.3</td>\n",
       "      <td>-290.1</td>\n",
       "      <td>81.0</td>\n",
       "      <td>0.000000</td>\n",
       "      <td>8.857143</td>\n",
       "      <td>7.000000</td>\n",
       "      <td>1418.0</td>\n",
       "      <td>-82.3</td>\n",
       "      <td>-290.1</td>\n",
       "      <td>150.857143</td>\n",
       "      <td>0.571429</td>\n",
       "      <td>1.046537e+05</td>\n",
       "      <td>2020-12-07</td>\n",
       "      <td>0.0</td>\n",
       "    </tr>\n",
       "    <tr>\n",
       "      <th>425</th>\n",
       "      <td>Buddy Games</td>\n",
       "      <td>2020-11-30</td>\n",
       "      <td>-50.1</td>\n",
       "      <td>-370.3</td>\n",
       "      <td>98.0</td>\n",
       "      <td>0.000000</td>\n",
       "      <td>12.285714</td>\n",
       "      <td>12.000000</td>\n",
       "      <td>71914.0</td>\n",
       "      <td>-50.1</td>\n",
       "      <td>-370.3</td>\n",
       "      <td>312.142857</td>\n",
       "      <td>38.142857</td>\n",
       "      <td>3.641001e+05</td>\n",
       "      <td>2020-12-07</td>\n",
       "      <td>0.0</td>\n",
       "    </tr>\n",
       "    <tr>\n",
       "      <th>426</th>\n",
       "      <td>All My Life</td>\n",
       "      <td>2020-11-30</td>\n",
       "      <td>-50.0</td>\n",
       "      <td>0.0</td>\n",
       "      <td>6.0</td>\n",
       "      <td>0.000000</td>\n",
       "      <td>2.285714</td>\n",
       "      <td>1.428571</td>\n",
       "      <td>350000.0</td>\n",
       "      <td>-50.0</td>\n",
       "      <td>0.0</td>\n",
       "      <td>415.714286</td>\n",
       "      <td>51.428571</td>\n",
       "      <td>1.100000e+05</td>\n",
       "      <td>2020-12-07</td>\n",
       "      <td>0.0</td>\n",
       "    </tr>\n",
       "    <tr>\n",
       "      <th>427</th>\n",
       "      <td>True to the Game 2</td>\n",
       "      <td>2020-11-30</td>\n",
       "      <td>-3.0</td>\n",
       "      <td>-86.6</td>\n",
       "      <td>90.0</td>\n",
       "      <td>0.000000</td>\n",
       "      <td>4.714286</td>\n",
       "      <td>3.142857</td>\n",
       "      <td>83064.0</td>\n",
       "      <td>-3.0</td>\n",
       "      <td>-86.6</td>\n",
       "      <td>76.285714</td>\n",
       "      <td>66.571429</td>\n",
       "      <td>5.037743e+05</td>\n",
       "      <td>2020-12-07</td>\n",
       "      <td>0.0</td>\n",
       "    </tr>\n",
       "    <tr>\n",
       "      <th>428</th>\n",
       "      <td>Vanguard</td>\n",
       "      <td>2020-11-30</td>\n",
       "      <td>-41.1</td>\n",
       "      <td>-493.5</td>\n",
       "      <td>98.0</td>\n",
       "      <td>0.000000</td>\n",
       "      <td>11.428571</td>\n",
       "      <td>10.714286</td>\n",
       "      <td>84235.0</td>\n",
       "      <td>-41.1</td>\n",
       "      <td>-493.5</td>\n",
       "      <td>407.142857</td>\n",
       "      <td>29.571429</td>\n",
       "      <td>7.307664e+05</td>\n",
       "      <td>2020-12-07</td>\n",
       "      <td>0.0</td>\n",
       "    </tr>\n",
       "  </tbody>\n",
       "</table>\n",
       "<p>429 rows × 16 columns</p>\n",
       "</div>"
      ],
      "text/plain": [
       "                       Release        Date  %+-YD  %+-LW   Days  \\\n",
       "0                        Tesla  2020-08-24  -39.4 -185.8   49.0   \n",
       "1    Bill & Ted Face the Music  2020-08-24  -46.5    0.0    6.0   \n",
       "2                     Unhinged  2020-08-24  121.7 -106.2   98.0   \n",
       "3         Juvenile Delinquents  2020-08-24    0.0    0.0  354.0   \n",
       "4      Words on Bathroom Walls  2020-08-24  159.3    9.3   49.0   \n",
       "..                         ...         ...    ...    ...    ...   \n",
       "424                  Come Away  2020-11-30  -82.3 -290.1   81.0   \n",
       "425                Buddy Games  2020-11-30  -50.1 -370.3   98.0   \n",
       "426                All My Life  2020-11-30  -50.0    0.0    6.0   \n",
       "427         True to the Game 2  2020-11-30   -3.0  -86.6   90.0   \n",
       "428                   Vanguard  2020-11-30  -41.1 -493.5   98.0   \n",
       "\n",
       "     google trends     Avg TD     Avg YD     Weekly  Weekly %+-YD  \\\n",
       "0       425.170068   7.857143   7.428571    34098.0         -39.4   \n",
       "1         1.860000   1.285714   0.857143  1125007.0         -46.5   \n",
       "2        22.619048   1.428571   1.285714  3819220.0         121.7   \n",
       "3         0.000000   3.714286   0.000000     1260.0           0.0   \n",
       "4         4.040000   3.857143   3.571429   646438.0         159.3   \n",
       "..             ...        ...        ...        ...           ...   \n",
       "424       0.000000   8.857143   7.000000     1418.0         -82.3   \n",
       "425       0.000000  12.285714  12.000000    71914.0         -50.1   \n",
       "426       0.000000   2.285714   1.428571   350000.0         -50.0   \n",
       "427       0.000000   4.714286   3.142857    83064.0          -3.0   \n",
       "428       0.000000  11.428571  10.714286    84235.0         -41.1   \n",
       "\n",
       "     Weekly %+-LW  Avg Theatre  Avg per Theatre Avg   Avg To Date           Y  \\\n",
       "0          -185.8    99.000000            49.571429  6.085743e+04  2020-08-31   \n",
       "1             0.0   431.571429           159.428571  3.494943e+05  2020-08-31   \n",
       "2          -106.2  2040.714286           254.142857  6.757881e+06  2020-08-31   \n",
       "3             0.0     0.285714           180.000000  9.700571e+03  2020-08-31   \n",
       "4             9.3  1125.857143            75.857143  7.227500e+05  2020-08-31   \n",
       "..            ...          ...                  ...           ...         ...   \n",
       "424        -290.1   150.857143             0.571429  1.046537e+05  2020-12-07   \n",
       "425        -370.3   312.142857            38.142857  3.641001e+05  2020-12-07   \n",
       "426           0.0   415.714286            51.428571  1.100000e+05  2020-12-07   \n",
       "427         -86.6    76.285714            66.571429  5.037743e+05  2020-12-07   \n",
       "428        -493.5   407.142857            29.571429  7.307664e+05  2020-12-07   \n",
       "\n",
       "      Week + 1  \n",
       "0       4732.0  \n",
       "1    1142565.0  \n",
       "2    2598055.0  \n",
       "3          0.0  \n",
       "4     455438.0  \n",
       "..         ...  \n",
       "424        0.0  \n",
       "425        0.0  \n",
       "426        0.0  \n",
       "427        0.0  \n",
       "428        0.0  \n",
       "\n",
       "[429 rows x 16 columns]"
      ]
     },
     "execution_count": 2,
     "metadata": {},
     "output_type": "execute_result"
    }
   ],
   "source": [
    "import pandas as pd\n",
    "pd.read_csv('3_mo_weekly.csv', sep='\\t')\n",
    "#df_weekly[df_weekly['Release'] == 'Let Him Go']"
   ]
  }
 ],
 "metadata": {
  "kernelspec": {
   "display_name": "Python 3",
   "language": "python",
   "name": "python3"
  },
  "language_info": {
   "codemirror_mode": {
    "name": "ipython",
    "version": 3
   },
   "file_extension": ".py",
   "mimetype": "text/x-python",
   "name": "python",
   "nbconvert_exporter": "python",
   "pygments_lexer": "ipython3",
   "version": "3.8.3"
  }
 },
 "nbformat": 4,
 "nbformat_minor": 4
}
